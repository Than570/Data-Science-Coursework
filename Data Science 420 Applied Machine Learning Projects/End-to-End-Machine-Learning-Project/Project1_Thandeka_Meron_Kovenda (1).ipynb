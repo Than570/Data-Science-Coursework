{
 "cells": [
  {
   "cell_type": "code",
   "execution_count": 161,
   "id": "1bf0b806",
   "metadata": {},
   "outputs": [],
   "source": [
    "# To support both python 2 and python 3\n",
    "from __future__ import division, print_function, unicode_literals\n",
    "\n",
    "# Common imports\n",
    "import numpy as np\n",
    "import os\n",
    "import pandas as pd\n",
    "\n",
    "# to make this notebook's output stable across runs\n",
    "np.random.seed(42)\n",
    "\n",
    "# To plot pretty figures\n",
    "%matplotlib inline\n",
    "import matplotlib as mpl\n",
    "import matplotlib.pyplot as plt\n",
    "mpl.rc('axes', labelsize=14)\n",
    "mpl.rc('xtick', labelsize=12)\n",
    "mpl.rc('ytick', labelsize=12)\n",
    "\n"
   ]
  },
  {
   "cell_type": "code",
   "execution_count": 162,
   "id": "2756672d",
   "metadata": {},
   "outputs": [
    {
     "name": "stdout",
     "output_type": "stream",
     "text": [
      "(68330, 24)\n"
     ]
    },
    {
     "name": "stderr",
     "output_type": "stream",
     "text": [
      "/usr/local/share/anaconda3/envs/ds420/lib/python3.7/site-packages/IPython/core/interactiveshell.py:3156: DtypeWarning: Columns (13,14,17) have mixed types.Specify dtype option on import or set low_memory=False.\n",
      "  interactivity=interactivity, compiler=compiler, result=result)\n"
     ]
    },
    {
     "data": {
      "text/html": [
       "<div>\n",
       "<style scoped>\n",
       "    .dataframe tbody tr th:only-of-type {\n",
       "        vertical-align: middle;\n",
       "    }\n",
       "\n",
       "    .dataframe tbody tr th {\n",
       "        vertical-align: top;\n",
       "    }\n",
       "\n",
       "    .dataframe thead th {\n",
       "        text-align: right;\n",
       "    }\n",
       "</style>\n",
       "<table border=\"1\" class=\"dataframe\">\n",
       "  <thead>\n",
       "    <tr style=\"text-align: right;\">\n",
       "      <th></th>\n",
       "      <th>Stop Key</th>\n",
       "      <th>Type</th>\n",
       "      <th>TCOLE Sex</th>\n",
       "      <th>TCOLE RACE ETHNICITY</th>\n",
       "      <th>Standardized Race Known</th>\n",
       "      <th>Reason for Stop</th>\n",
       "      <th>Street_Type</th>\n",
       "      <th>Search Yes or No</th>\n",
       "      <th>TCOLE Search Based On</th>\n",
       "      <th>TCOLE Search Found</th>\n",
       "      <th>...</th>\n",
       "      <th>COUNTY</th>\n",
       "      <th>Custody</th>\n",
       "      <th>Location</th>\n",
       "      <th>Sector</th>\n",
       "      <th>Standardized Race</th>\n",
       "      <th>Stop Date</th>\n",
       "      <th>Stop Time</th>\n",
       "      <th>X_COORDINATE</th>\n",
       "      <th>Y_COORDINATE</th>\n",
       "      <th>Zip Code</th>\n",
       "    </tr>\n",
       "  </thead>\n",
       "  <tbody>\n",
       "    <tr>\n",
       "      <th>0</th>\n",
       "      <td>20201-459626502-25962</td>\n",
       "      <td>WARNING</td>\n",
       "      <td>Male</td>\n",
       "      <td>White</td>\n",
       "      <td>NO - RACE OR ETHNICITY WAS NOT KNOWN BEFORE STOP</td>\n",
       "      <td>Moving Traffic Violation</td>\n",
       "      <td>City Street</td>\n",
       "      <td>NO</td>\n",
       "      <td>N/A - No Search was conducted</td>\n",
       "      <td>N/A - No Search was conducted</td>\n",
       "      <td>...</td>\n",
       "      <td>TRAVIS COUNTY</td>\n",
       "      <td>NOT APPLICABLE</td>\n",
       "      <td>500 E 8TH ST</td>\n",
       "      <td>GEORGE</td>\n",
       "      <td>WHITE</td>\n",
       "      <td>12/23/20</td>\n",
       "      <td>2154</td>\n",
       "      <td>3116003.0</td>\n",
       "      <td>10071013.0</td>\n",
       "      <td>78701.0</td>\n",
       "    </tr>\n",
       "    <tr>\n",
       "      <th>1</th>\n",
       "      <td>20202-459626535-25972</td>\n",
       "      <td>WARNING</td>\n",
       "      <td>Female</td>\n",
       "      <td>White</td>\n",
       "      <td>NO - RACE OR ETHNICITY WAS NOT KNOWN BEFORE STOP</td>\n",
       "      <td>Moving Traffic Violation</td>\n",
       "      <td>City Street</td>\n",
       "      <td>NO</td>\n",
       "      <td>N/A - No Search was conducted</td>\n",
       "      <td>N/A - No Search was conducted</td>\n",
       "      <td>...</td>\n",
       "      <td>TRAVIS COUNTY</td>\n",
       "      <td>NOT APPLICABLE</td>\n",
       "      <td>1800 S LAMAR BLVD</td>\n",
       "      <td>DAVID</td>\n",
       "      <td>WHITE</td>\n",
       "      <td>12/23/20</td>\n",
       "      <td>2305</td>\n",
       "      <td>3106942.0</td>\n",
       "      <td>10064105.0</td>\n",
       "      <td>78704.0</td>\n",
       "    </tr>\n",
       "    <tr>\n",
       "      <th>2</th>\n",
       "      <td>20203-459887820-68511</td>\n",
       "      <td>WARNING</td>\n",
       "      <td>Female</td>\n",
       "      <td>White</td>\n",
       "      <td>NO - RACE OR ETHNICITY WAS NOT KNOWN BEFORE STOP</td>\n",
       "      <td>Violation of Law Other Than Traffic</td>\n",
       "      <td>City Street</td>\n",
       "      <td>NO</td>\n",
       "      <td>N/A - No Search was conducted</td>\n",
       "      <td>N/A - No Search was conducted</td>\n",
       "      <td>...</td>\n",
       "      <td>TRAVIS COUNTY</td>\n",
       "      <td>NOT APPLICABLE</td>\n",
       "      <td>S CONGRESS AVE / E OLTORF ST</td>\n",
       "      <td>DAVID</td>\n",
       "      <td>WHITE</td>\n",
       "      <td>1/1/20</td>\n",
       "      <td>NaN</td>\n",
       "      <td>3111177.0</td>\n",
       "      <td>10060019.0</td>\n",
       "      <td>78704.0</td>\n",
       "    </tr>\n",
       "    <tr>\n",
       "      <th>3</th>\n",
       "      <td>20204-459754277-68427</td>\n",
       "      <td>WARNING</td>\n",
       "      <td>Female</td>\n",
       "      <td>Hispanic/Latino</td>\n",
       "      <td>NO - RACE OR ETHNICITY WAS NOT KNOWN BEFORE STOP</td>\n",
       "      <td>Moving Traffic Violation</td>\n",
       "      <td>City Street</td>\n",
       "      <td>NO</td>\n",
       "      <td>N/A - No Search was conducted</td>\n",
       "      <td>N/A - No Search was conducted</td>\n",
       "      <td>...</td>\n",
       "      <td>TRAVIS COUNTY</td>\n",
       "      <td>NOT APPLICABLE</td>\n",
       "      <td>1900 RUTLAND DR</td>\n",
       "      <td>EDWARD</td>\n",
       "      <td>HISPANIC OR LATINO</td>\n",
       "      <td>1/1/20</td>\n",
       "      <td>1049</td>\n",
       "      <td>3123026.0</td>\n",
       "      <td>10111289.0</td>\n",
       "      <td>78758.0</td>\n",
       "    </tr>\n",
       "    <tr>\n",
       "      <th>4</th>\n",
       "      <td>20205-65602014-68425</td>\n",
       "      <td>WARNING</td>\n",
       "      <td>Male</td>\n",
       "      <td>White</td>\n",
       "      <td>NO - RACE OR ETHNICITY WAS NOT KNOWN BEFORE STOP</td>\n",
       "      <td>Moving Traffic Violation</td>\n",
       "      <td>City Street</td>\n",
       "      <td>NO</td>\n",
       "      <td>N/A - No Search was conducted</td>\n",
       "      <td>N/A - No Search was conducted</td>\n",
       "      <td>...</td>\n",
       "      <td>TRAVIS COUNTY</td>\n",
       "      <td>NOT APPLICABLE</td>\n",
       "      <td>11000 RESEARCH BLVD NB</td>\n",
       "      <td>ADAM</td>\n",
       "      <td>WHITE</td>\n",
       "      <td>1/1/20</td>\n",
       "      <td>1036</td>\n",
       "      <td>3112256.0</td>\n",
       "      <td>10119108.0</td>\n",
       "      <td>78759.0</td>\n",
       "    </tr>\n",
       "  </tbody>\n",
       "</table>\n",
       "<p>5 rows × 24 columns</p>\n",
       "</div>"
      ],
      "text/plain": [
       "                Stop Key     Type TCOLE Sex TCOLE RACE ETHNICITY  \\\n",
       "0  20201-459626502-25962  WARNING      Male                White   \n",
       "1  20202-459626535-25972  WARNING    Female                White   \n",
       "2  20203-459887820-68511  WARNING    Female                White   \n",
       "3  20204-459754277-68427  WARNING    Female      Hispanic/Latino   \n",
       "4   20205-65602014-68425  WARNING      Male                White   \n",
       "\n",
       "                            Standardized Race Known  \\\n",
       "0  NO - RACE OR ETHNICITY WAS NOT KNOWN BEFORE STOP   \n",
       "1  NO - RACE OR ETHNICITY WAS NOT KNOWN BEFORE STOP   \n",
       "2  NO - RACE OR ETHNICITY WAS NOT KNOWN BEFORE STOP   \n",
       "3  NO - RACE OR ETHNICITY WAS NOT KNOWN BEFORE STOP   \n",
       "4  NO - RACE OR ETHNICITY WAS NOT KNOWN BEFORE STOP   \n",
       "\n",
       "                       Reason for Stop  Street_Type Search Yes or No  \\\n",
       "0             Moving Traffic Violation  City Street               NO   \n",
       "1             Moving Traffic Violation  City Street               NO   \n",
       "2  Violation of Law Other Than Traffic  City Street               NO   \n",
       "3             Moving Traffic Violation  City Street               NO   \n",
       "4             Moving Traffic Violation  City Street               NO   \n",
       "\n",
       "           TCOLE Search Based On             TCOLE Search Found  ...  \\\n",
       "0  N/A - No Search was conducted  N/A - No Search was conducted  ...   \n",
       "1  N/A - No Search was conducted  N/A - No Search was conducted  ...   \n",
       "2  N/A - No Search was conducted  N/A - No Search was conducted  ...   \n",
       "3  N/A - No Search was conducted  N/A - No Search was conducted  ...   \n",
       "4  N/A - No Search was conducted  N/A - No Search was conducted  ...   \n",
       "\n",
       "          COUNTY         Custody                      Location  Sector  \\\n",
       "0  TRAVIS COUNTY  NOT APPLICABLE                  500 E 8TH ST  GEORGE   \n",
       "1  TRAVIS COUNTY  NOT APPLICABLE             1800 S LAMAR BLVD   DAVID   \n",
       "2  TRAVIS COUNTY  NOT APPLICABLE  S CONGRESS AVE / E OLTORF ST   DAVID   \n",
       "3  TRAVIS COUNTY  NOT APPLICABLE               1900 RUTLAND DR  EDWARD   \n",
       "4  TRAVIS COUNTY  NOT APPLICABLE        11000 RESEARCH BLVD NB    ADAM   \n",
       "\n",
       "    Standardized Race Stop Date Stop Time X_COORDINATE Y_COORDINATE Zip Code  \n",
       "0               WHITE  12/23/20      2154    3116003.0   10071013.0  78701.0  \n",
       "1               WHITE  12/23/20      2305    3106942.0   10064105.0  78704.0  \n",
       "2               WHITE    1/1/20       NaN    3111177.0   10060019.0  78704.0  \n",
       "3  HISPANIC OR LATINO    1/1/20      1049    3123026.0   10111289.0  78758.0  \n",
       "4               WHITE    1/1/20      1036    3112256.0   10119108.0  78759.0  \n",
       "\n",
       "[5 rows x 24 columns]"
      ]
     },
     "execution_count": 162,
     "metadata": {},
     "output_type": "execute_result"
    }
   ],
   "source": [
    "racialProfiling = pd.read_csv (\"2020_Racial_Profiling__RP__dataset.csv\")\n",
    "print (racialProfiling.shape)  # Shows number of rows and columns\n",
    "pd.DataFrame.head (racialProfiling)"
   ]
  },
  {
   "cell_type": "code",
   "execution_count": 163,
   "id": "21296039",
   "metadata": {},
   "outputs": [
    {
     "name": "stdout",
     "output_type": "stream",
     "text": [
      "<class 'pandas.core.frame.DataFrame'>\n",
      "RangeIndex: 68330 entries, 0 to 68329\n",
      "Data columns (total 24 columns):\n",
      " #   Column                   Non-Null Count  Dtype  \n",
      "---  ------                   --------------  -----  \n",
      " 0   Stop Key                 68330 non-null  object \n",
      " 1   Type                     68330 non-null  object \n",
      " 2   TCOLE Sex                68330 non-null  object \n",
      " 3   TCOLE RACE ETHNICITY     68330 non-null  object \n",
      " 4   Standardized Race Known  68330 non-null  object \n",
      " 5   Reason for Stop          68330 non-null  object \n",
      " 6   Street_Type              68330 non-null  object \n",
      " 7   Search Yes or No         68330 non-null  object \n",
      " 8   TCOLE Search Based On    68330 non-null  object \n",
      " 9   TCOLE Search Found       68330 non-null  object \n",
      " 10  TCOLE Result of Stop     68330 non-null  object \n",
      " 11  TCOLE Arrest Based On    68330 non-null  object \n",
      " 12  CENSUS_TRACT             861 non-null    float64\n",
      " 13  Council District         46702 non-null  object \n",
      " 14  COUNTY                   46702 non-null  object \n",
      " 15  Custody                  68330 non-null  object \n",
      " 16  Location                 68326 non-null  object \n",
      " 17  Sector                   46702 non-null  object \n",
      " 18  Standardized Race        68330 non-null  object \n",
      " 19  Stop Date                68330 non-null  object \n",
      " 20  Stop Time                67946 non-null  object \n",
      " 21  X_COORDINATE             45668 non-null  float64\n",
      " 22  Y_COORDINATE             45668 non-null  float64\n",
      " 23  Zip Code                 45648 non-null  float64\n",
      "dtypes: float64(4), object(20)\n",
      "memory usage: 12.5+ MB\n"
     ]
    }
   ],
   "source": [
    "racialProfiling.info()"
   ]
  },
  {
   "cell_type": "code",
   "execution_count": 164,
   "id": "502ee1f3",
   "metadata": {},
   "outputs": [
    {
     "data": {
      "text/html": [
       "<div>\n",
       "<style scoped>\n",
       "    .dataframe tbody tr th:only-of-type {\n",
       "        vertical-align: middle;\n",
       "    }\n",
       "\n",
       "    .dataframe tbody tr th {\n",
       "        vertical-align: top;\n",
       "    }\n",
       "\n",
       "    .dataframe thead th {\n",
       "        text-align: right;\n",
       "    }\n",
       "</style>\n",
       "<table border=\"1\" class=\"dataframe\">\n",
       "  <thead>\n",
       "    <tr style=\"text-align: right;\">\n",
       "      <th></th>\n",
       "      <th>Stop_Key</th>\n",
       "      <th>Type</th>\n",
       "      <th>TCOLE_Sex</th>\n",
       "      <th>TCOLE_RACE_ETHNICITY</th>\n",
       "      <th>Standardized_Race_Known</th>\n",
       "      <th>Reason_for_Stop</th>\n",
       "      <th>Street_Type</th>\n",
       "      <th>Search_Yes_or_No</th>\n",
       "      <th>TCOLE_Search_Based_On</th>\n",
       "      <th>TCOLE_Search_Found</th>\n",
       "      <th>...</th>\n",
       "      <th>COUNTY</th>\n",
       "      <th>Custody</th>\n",
       "      <th>Location</th>\n",
       "      <th>Sector</th>\n",
       "      <th>Standardized_Race</th>\n",
       "      <th>Stop_Date</th>\n",
       "      <th>Stop_Time</th>\n",
       "      <th>X_COORDINATE</th>\n",
       "      <th>Y_COORDINATE</th>\n",
       "      <th>Zip_Code</th>\n",
       "    </tr>\n",
       "  </thead>\n",
       "  <tbody>\n",
       "    <tr>\n",
       "      <th>0</th>\n",
       "      <td>20201-459626502-25962</td>\n",
       "      <td>WARNING</td>\n",
       "      <td>Male</td>\n",
       "      <td>White</td>\n",
       "      <td>NO - RACE OR ETHNICITY WAS NOT KNOWN BEFORE STOP</td>\n",
       "      <td>Moving Traffic Violation</td>\n",
       "      <td>City Street</td>\n",
       "      <td>NO</td>\n",
       "      <td>N/A - No Search was conducted</td>\n",
       "      <td>N/A - No Search was conducted</td>\n",
       "      <td>...</td>\n",
       "      <td>TRAVIS COUNTY</td>\n",
       "      <td>NOT APPLICABLE</td>\n",
       "      <td>500 E 8TH ST</td>\n",
       "      <td>GEORGE</td>\n",
       "      <td>WHITE</td>\n",
       "      <td>12/23/20</td>\n",
       "      <td>2154</td>\n",
       "      <td>3116003.0</td>\n",
       "      <td>10071013.0</td>\n",
       "      <td>78701.0</td>\n",
       "    </tr>\n",
       "    <tr>\n",
       "      <th>1</th>\n",
       "      <td>20202-459626535-25972</td>\n",
       "      <td>WARNING</td>\n",
       "      <td>Female</td>\n",
       "      <td>White</td>\n",
       "      <td>NO - RACE OR ETHNICITY WAS NOT KNOWN BEFORE STOP</td>\n",
       "      <td>Moving Traffic Violation</td>\n",
       "      <td>City Street</td>\n",
       "      <td>NO</td>\n",
       "      <td>N/A - No Search was conducted</td>\n",
       "      <td>N/A - No Search was conducted</td>\n",
       "      <td>...</td>\n",
       "      <td>TRAVIS COUNTY</td>\n",
       "      <td>NOT APPLICABLE</td>\n",
       "      <td>1800 S LAMAR BLVD</td>\n",
       "      <td>DAVID</td>\n",
       "      <td>WHITE</td>\n",
       "      <td>12/23/20</td>\n",
       "      <td>2305</td>\n",
       "      <td>3106942.0</td>\n",
       "      <td>10064105.0</td>\n",
       "      <td>78704.0</td>\n",
       "    </tr>\n",
       "    <tr>\n",
       "      <th>2</th>\n",
       "      <td>20203-459887820-68511</td>\n",
       "      <td>WARNING</td>\n",
       "      <td>Female</td>\n",
       "      <td>White</td>\n",
       "      <td>NO - RACE OR ETHNICITY WAS NOT KNOWN BEFORE STOP</td>\n",
       "      <td>Violation of Law Other Than Traffic</td>\n",
       "      <td>City Street</td>\n",
       "      <td>NO</td>\n",
       "      <td>N/A - No Search was conducted</td>\n",
       "      <td>N/A - No Search was conducted</td>\n",
       "      <td>...</td>\n",
       "      <td>TRAVIS COUNTY</td>\n",
       "      <td>NOT APPLICABLE</td>\n",
       "      <td>S CONGRESS AVE / E OLTORF ST</td>\n",
       "      <td>DAVID</td>\n",
       "      <td>WHITE</td>\n",
       "      <td>1/1/20</td>\n",
       "      <td>NaN</td>\n",
       "      <td>3111177.0</td>\n",
       "      <td>10060019.0</td>\n",
       "      <td>78704.0</td>\n",
       "    </tr>\n",
       "    <tr>\n",
       "      <th>3</th>\n",
       "      <td>20204-459754277-68427</td>\n",
       "      <td>WARNING</td>\n",
       "      <td>Female</td>\n",
       "      <td>Hispanic/Latino</td>\n",
       "      <td>NO - RACE OR ETHNICITY WAS NOT KNOWN BEFORE STOP</td>\n",
       "      <td>Moving Traffic Violation</td>\n",
       "      <td>City Street</td>\n",
       "      <td>NO</td>\n",
       "      <td>N/A - No Search was conducted</td>\n",
       "      <td>N/A - No Search was conducted</td>\n",
       "      <td>...</td>\n",
       "      <td>TRAVIS COUNTY</td>\n",
       "      <td>NOT APPLICABLE</td>\n",
       "      <td>1900 RUTLAND DR</td>\n",
       "      <td>EDWARD</td>\n",
       "      <td>HISPANIC OR LATINO</td>\n",
       "      <td>1/1/20</td>\n",
       "      <td>1049</td>\n",
       "      <td>3123026.0</td>\n",
       "      <td>10111289.0</td>\n",
       "      <td>78758.0</td>\n",
       "    </tr>\n",
       "    <tr>\n",
       "      <th>4</th>\n",
       "      <td>20205-65602014-68425</td>\n",
       "      <td>WARNING</td>\n",
       "      <td>Male</td>\n",
       "      <td>White</td>\n",
       "      <td>NO - RACE OR ETHNICITY WAS NOT KNOWN BEFORE STOP</td>\n",
       "      <td>Moving Traffic Violation</td>\n",
       "      <td>City Street</td>\n",
       "      <td>NO</td>\n",
       "      <td>N/A - No Search was conducted</td>\n",
       "      <td>N/A - No Search was conducted</td>\n",
       "      <td>...</td>\n",
       "      <td>TRAVIS COUNTY</td>\n",
       "      <td>NOT APPLICABLE</td>\n",
       "      <td>11000 RESEARCH BLVD NB</td>\n",
       "      <td>ADAM</td>\n",
       "      <td>WHITE</td>\n",
       "      <td>1/1/20</td>\n",
       "      <td>1036</td>\n",
       "      <td>3112256.0</td>\n",
       "      <td>10119108.0</td>\n",
       "      <td>78759.0</td>\n",
       "    </tr>\n",
       "  </tbody>\n",
       "</table>\n",
       "<p>5 rows × 24 columns</p>\n",
       "</div>"
      ],
      "text/plain": [
       "                Stop_Key     Type TCOLE_Sex TCOLE_RACE_ETHNICITY  \\\n",
       "0  20201-459626502-25962  WARNING      Male                White   \n",
       "1  20202-459626535-25972  WARNING    Female                White   \n",
       "2  20203-459887820-68511  WARNING    Female                White   \n",
       "3  20204-459754277-68427  WARNING    Female      Hispanic/Latino   \n",
       "4   20205-65602014-68425  WARNING      Male                White   \n",
       "\n",
       "                            Standardized_Race_Known  \\\n",
       "0  NO - RACE OR ETHNICITY WAS NOT KNOWN BEFORE STOP   \n",
       "1  NO - RACE OR ETHNICITY WAS NOT KNOWN BEFORE STOP   \n",
       "2  NO - RACE OR ETHNICITY WAS NOT KNOWN BEFORE STOP   \n",
       "3  NO - RACE OR ETHNICITY WAS NOT KNOWN BEFORE STOP   \n",
       "4  NO - RACE OR ETHNICITY WAS NOT KNOWN BEFORE STOP   \n",
       "\n",
       "                       Reason_for_Stop  Street_Type Search_Yes_or_No  \\\n",
       "0             Moving Traffic Violation  City Street               NO   \n",
       "1             Moving Traffic Violation  City Street               NO   \n",
       "2  Violation of Law Other Than Traffic  City Street               NO   \n",
       "3             Moving Traffic Violation  City Street               NO   \n",
       "4             Moving Traffic Violation  City Street               NO   \n",
       "\n",
       "           TCOLE_Search_Based_On             TCOLE_Search_Found  ...  \\\n",
       "0  N/A - No Search was conducted  N/A - No Search was conducted  ...   \n",
       "1  N/A - No Search was conducted  N/A - No Search was conducted  ...   \n",
       "2  N/A - No Search was conducted  N/A - No Search was conducted  ...   \n",
       "3  N/A - No Search was conducted  N/A - No Search was conducted  ...   \n",
       "4  N/A - No Search was conducted  N/A - No Search was conducted  ...   \n",
       "\n",
       "          COUNTY         Custody                      Location  Sector  \\\n",
       "0  TRAVIS COUNTY  NOT APPLICABLE                  500 E 8TH ST  GEORGE   \n",
       "1  TRAVIS COUNTY  NOT APPLICABLE             1800 S LAMAR BLVD   DAVID   \n",
       "2  TRAVIS COUNTY  NOT APPLICABLE  S CONGRESS AVE / E OLTORF ST   DAVID   \n",
       "3  TRAVIS COUNTY  NOT APPLICABLE               1900 RUTLAND DR  EDWARD   \n",
       "4  TRAVIS COUNTY  NOT APPLICABLE        11000 RESEARCH BLVD NB    ADAM   \n",
       "\n",
       "    Standardized_Race Stop_Date Stop_Time X_COORDINATE Y_COORDINATE Zip_Code  \n",
       "0               WHITE  12/23/20      2154    3116003.0   10071013.0  78701.0  \n",
       "1               WHITE  12/23/20      2305    3106942.0   10064105.0  78704.0  \n",
       "2               WHITE    1/1/20       NaN    3111177.0   10060019.0  78704.0  \n",
       "3  HISPANIC OR LATINO    1/1/20      1049    3123026.0   10111289.0  78758.0  \n",
       "4               WHITE    1/1/20      1036    3112256.0   10119108.0  78759.0  \n",
       "\n",
       "[5 rows x 24 columns]"
      ]
     },
     "execution_count": 164,
     "metadata": {},
     "output_type": "execute_result"
    }
   ],
   "source": [
    "## Renaming Columns for easier referencing\n",
    "\n",
    "racialProfiling = racialProfiling.rename(columns={\"Stop Key\": \"Stop_Key\", \n",
    "                              \"TCOLE Sex\": \"TCOLE_Sex\",\n",
    "                              \"TCOLE RACE ETHNICITY\": \"TCOLE_RACE_ETHNICITY\",\n",
    "                              \"Standardized Race Known\": \"Standardized_Race_Known\", \n",
    "                              \"Reason for Stop\": \"Reason_for_Stop\",\n",
    "                              \"Search Yes or No\": \"Search_Yes_or_No\",\n",
    "                              \"TCOLE Search Based On\": \"TCOLE_Search_Based_On\",\n",
    "                              \"TCOLE Search Found\": \"TCOLE_Search_Found\",\n",
    "                              \"TCOLE Result of Stop\": \"TCOLE_Result_of_Stop\", \n",
    "                              \"TCOLE Arrest Based On\": \"TCOLE_Arrest_Based_On\",\n",
    "                                                  \n",
    "                              \"Council District\": \"Council_District\",\n",
    "                              \"Standardized Race\": \"Standardized_Race\",\n",
    "                              \"Stop Date\": \"Stop_Date\",\n",
    "                                                  \n",
    "                              \"Stop Time\": \"Stop_Time\",\n",
    "                              \"Zip Code\": \"Zip_Code\", \n",
    "                              \n",
    "                                 })\n",
    "\n",
    "pd.DataFrame.head (racialProfiling)"
   ]
  },
  {
   "cell_type": "code",
   "execution_count": 165,
   "id": "0a36df30",
   "metadata": {},
   "outputs": [
    {
     "data": {
      "text/plain": [
       "{'Stop_Key': 0,\n",
       " 'TCOLE_Sex': 0,\n",
       " 'TCOLE_RACE_ETHNICITY': 0,\n",
       " 'Search_Yes_or_No': 0,\n",
       " 'Reason_for_Stop': 0,\n",
       " 'Standardized_Race_Known': 0,\n",
       " 'TCOLE_Search_Based_On': 0,\n",
       " 'TCOLE_Search_Found': 0,\n",
       " 'TCOLE_Result_of_Stop': 0,\n",
       " 'TCOLE_Arrest_Based_On': 0,\n",
       " 'Council_District': 21628,\n",
       " 'Standardized_Race': 0,\n",
       " 'Stop_Date': 0,\n",
       " 'Stop_Time': 384,\n",
       " 'Zip_Code': 22682,\n",
       " 'Type': 0,\n",
       " 'Street_Type': 0,\n",
       " 'CENSUS_TRACT': 67469,\n",
       " 'COUNTY': 21628,\n",
       " 'Custody': 0,\n",
       " 'Location': 4,\n",
       " 'Sector': 21628,\n",
       " 'X_COORDINATE': 22662,\n",
       " 'Y_COORDINATE': 22662}"
      ]
     },
     "execution_count": 165,
     "metadata": {},
     "output_type": "execute_result"
    }
   ],
   "source": [
    "# Total number of missing values per column.\n",
    "\n",
    "Column_NaN_Values = {\n",
    "                     \"Stop_Key\": racialProfiling[\"Stop_Key\"].isna().sum(), \n",
    "                     \"TCOLE_Sex\": racialProfiling[\"TCOLE_Sex\"].isna().sum(),\n",
    "                    \"TCOLE_RACE_ETHNICITY\": racialProfiling[\"TCOLE_RACE_ETHNICITY\"].isna().sum(),\n",
    "    \n",
    "                     \"Search_Yes_or_No\": racialProfiling[\"Search_Yes_or_No\"].isna().sum(), \n",
    "                     \"Reason_for_Stop\": racialProfiling[\"Reason_for_Stop\"].isna().sum(),\n",
    "                    \"Standardized_Race_Known\": racialProfiling[\"Standardized_Race_Known\"].isna().sum(),\n",
    "                     \n",
    "                    \"TCOLE_Search_Based_On\": racialProfiling[\"TCOLE_Search_Based_On\"].isna().sum(), \n",
    "                     \"TCOLE_Search_Found\": racialProfiling[\"TCOLE_Search_Found\"].isna().sum(),\n",
    "                    \"TCOLE_Result_of_Stop\": racialProfiling[\"TCOLE_Result_of_Stop\"].isna().sum(),\n",
    "    \n",
    "                    \"TCOLE_Arrest_Based_On\": racialProfiling[\"TCOLE_Arrest_Based_On\"].isna().sum(), \n",
    "                    \"Council_District\": racialProfiling[\"Council_District\"].isna().sum(),\n",
    "                    \"Standardized_Race\": racialProfiling[\"Standardized_Race\"].isna().sum(),\n",
    "                    \n",
    "                    \"Stop_Date\": racialProfiling[\"Stop_Date\"].isna().sum(), \n",
    "                    \"Stop_Time\": racialProfiling[\"Stop_Time\"].isna().sum(),\n",
    "                    \"Zip_Code\": racialProfiling[\"Zip_Code\"].isna().sum(),\n",
    "    \n",
    "    \n",
    "                    \"Type\": racialProfiling[\"Type\"].isna().sum(), \n",
    "                    \"Street_Type\": racialProfiling[\"Street_Type\"].isna().sum(),\n",
    "                    \"CENSUS_TRACT\": racialProfiling[\"CENSUS_TRACT\"].isna().sum(),\n",
    "    \n",
    "                    \"COUNTY\": racialProfiling[\"COUNTY\"].isna().sum(), \n",
    "                    \"Custody\": racialProfiling[\"Custody\"].isna().sum(),\n",
    "                    \"Location\": racialProfiling[\"Location\"].isna().sum(),\n",
    "                    \n",
    "                    \"Sector\": racialProfiling[\"Sector\"].isna().sum(), \n",
    "                    \"X_COORDINATE\": racialProfiling[\"X_COORDINATE\"].isna().sum(),\n",
    "                    \"Y_COORDINATE\": racialProfiling[\"Y_COORDINATE\"].isna().sum(),\n",
    "    \n",
    "     \n",
    "       }\n",
    "Column_NaN_Values"
   ]
  },
  {
   "cell_type": "code",
   "execution_count": 166,
   "id": "14cbd5c1",
   "metadata": {},
   "outputs": [
    {
     "data": {
      "text/plain": [
       "array(['Council District 9', 'Council District 5', 'Council District 4',\n",
       "       'Council District 10', 'Council District 6', 'Council District 7',\n",
       "       'Council District 3', 'Council District 2', 'unknown',\n",
       "       'Council District 1', 'Council District 8', nan], dtype=object)"
      ]
     },
     "execution_count": 166,
     "metadata": {},
     "output_type": "execute_result"
    }
   ],
   "source": [
    "# How many unique() values are in Agency Column\n",
    "racialProfiling.Council_District.unique()"
   ]
  },
  {
   "cell_type": "code",
   "execution_count": 167,
   "id": "659a44f3",
   "metadata": {},
   "outputs": [
    {
     "data": {
      "text/plain": [
       "array(['TRAVIS COUNTY', 'WILLIAMSON COUNTY', 'unknown', nan,\n",
       "       'HAYS COUNTY', 'BASTROP'], dtype=object)"
      ]
     },
     "execution_count": 167,
     "metadata": {},
     "output_type": "execute_result"
    }
   ],
   "source": [
    "racialProfiling.COUNTY.unique()"
   ]
  },
  {
   "cell_type": "code",
   "execution_count": 168,
   "id": "e7a88494",
   "metadata": {},
   "outputs": [
    {
     "data": {
      "text/plain": [
       "array(['GEORGE', 'DAVID', 'EDWARD', 'ADAM', 'BAKER', 'FRANK', 'HENRY',\n",
       "       'UNKNOWN', 'IDA', 'CHARLIE', 'OUT OF CITY', 'AIRPORT', nan],\n",
       "      dtype=object)"
      ]
     },
     "execution_count": 168,
     "metadata": {},
     "output_type": "execute_result"
    }
   ],
   "source": [
    "racialProfiling.Sector.unique()"
   ]
  },
  {
   "cell_type": "code",
   "execution_count": 169,
   "id": "8181c159",
   "metadata": {},
   "outputs": [],
   "source": [
    "# Drop the following columns:  because they are not necessary or important to the analysis.\n",
    "racialProfiling = racialProfiling.drop(\"CENSUS_TRACT\", axis=1)\n",
    "#racialProfiling = racialProfiling.drop(\"Zip_Code\", axis=1) zipcodes needed to get lat, long info"
   ]
  },
  {
   "cell_type": "code",
   "execution_count": 170,
   "id": "35d07734",
   "metadata": {},
   "outputs": [
    {
     "data": {
      "text/plain": [
       "(68330, 23)"
      ]
     },
     "execution_count": 170,
     "metadata": {},
     "output_type": "execute_result"
    }
   ],
   "source": [
    "racialProfiling.shape"
   ]
  },
  {
   "cell_type": "code",
   "execution_count": 171,
   "id": "b370e356",
   "metadata": {},
   "outputs": [
    {
     "data": {
      "text/plain": [
       "(45271, 23)"
      ]
     },
     "execution_count": 171,
     "metadata": {},
     "output_type": "execute_result"
    }
   ],
   "source": [
    "# Dropping the remaining NaN values \n",
    "racialProfiling = racialProfiling.dropna()\n",
    "racialProfiling.shape"
   ]
  },
  {
   "cell_type": "code",
   "execution_count": 172,
   "id": "5f86ddf5",
   "metadata": {},
   "outputs": [
    {
     "data": {
      "text/html": [
       "<div>\n",
       "<style scoped>\n",
       "    .dataframe tbody tr th:only-of-type {\n",
       "        vertical-align: middle;\n",
       "    }\n",
       "\n",
       "    .dataframe tbody tr th {\n",
       "        vertical-align: top;\n",
       "    }\n",
       "\n",
       "    .dataframe thead th {\n",
       "        text-align: right;\n",
       "    }\n",
       "</style>\n",
       "<table border=\"1\" class=\"dataframe\">\n",
       "  <thead>\n",
       "    <tr style=\"text-align: right;\">\n",
       "      <th></th>\n",
       "      <th>Stop_Key</th>\n",
       "      <th>Type</th>\n",
       "      <th>TCOLE_Sex</th>\n",
       "      <th>TCOLE_RACE_ETHNICITY</th>\n",
       "      <th>Standardized_Race_Known</th>\n",
       "      <th>Reason_for_Stop</th>\n",
       "      <th>Street_Type</th>\n",
       "      <th>Search_Yes_or_No</th>\n",
       "      <th>TCOLE_Search_Based_On</th>\n",
       "      <th>TCOLE_Search_Found</th>\n",
       "      <th>...</th>\n",
       "      <th>COUNTY</th>\n",
       "      <th>Custody</th>\n",
       "      <th>Location</th>\n",
       "      <th>Sector</th>\n",
       "      <th>Standardized_Race</th>\n",
       "      <th>Stop_Date</th>\n",
       "      <th>Stop_Time</th>\n",
       "      <th>X_COORDINATE</th>\n",
       "      <th>Y_COORDINATE</th>\n",
       "      <th>Zip_Code</th>\n",
       "    </tr>\n",
       "  </thead>\n",
       "  <tbody>\n",
       "    <tr>\n",
       "      <th>0</th>\n",
       "      <td>20201-459626502-25962</td>\n",
       "      <td>WARNING</td>\n",
       "      <td>Male</td>\n",
       "      <td>White</td>\n",
       "      <td>NO - RACE OR ETHNICITY WAS NOT KNOWN BEFORE STOP</td>\n",
       "      <td>Moving Traffic Violation</td>\n",
       "      <td>City Street</td>\n",
       "      <td>NO</td>\n",
       "      <td>N/A - No Search was conducted</td>\n",
       "      <td>N/A - No Search was conducted</td>\n",
       "      <td>...</td>\n",
       "      <td>TRAVIS COUNTY</td>\n",
       "      <td>NOT APPLICABLE</td>\n",
       "      <td>500 E 8TH ST</td>\n",
       "      <td>GEORGE</td>\n",
       "      <td>WHITE</td>\n",
       "      <td>12/23/20</td>\n",
       "      <td>2154</td>\n",
       "      <td>3116003.0</td>\n",
       "      <td>10071013.0</td>\n",
       "      <td>78701.0</td>\n",
       "    </tr>\n",
       "    <tr>\n",
       "      <th>1</th>\n",
       "      <td>20202-459626535-25972</td>\n",
       "      <td>WARNING</td>\n",
       "      <td>Female</td>\n",
       "      <td>White</td>\n",
       "      <td>NO - RACE OR ETHNICITY WAS NOT KNOWN BEFORE STOP</td>\n",
       "      <td>Moving Traffic Violation</td>\n",
       "      <td>City Street</td>\n",
       "      <td>NO</td>\n",
       "      <td>N/A - No Search was conducted</td>\n",
       "      <td>N/A - No Search was conducted</td>\n",
       "      <td>...</td>\n",
       "      <td>TRAVIS COUNTY</td>\n",
       "      <td>NOT APPLICABLE</td>\n",
       "      <td>1800 S LAMAR BLVD</td>\n",
       "      <td>DAVID</td>\n",
       "      <td>WHITE</td>\n",
       "      <td>12/23/20</td>\n",
       "      <td>2305</td>\n",
       "      <td>3106942.0</td>\n",
       "      <td>10064105.0</td>\n",
       "      <td>78704.0</td>\n",
       "    </tr>\n",
       "    <tr>\n",
       "      <th>3</th>\n",
       "      <td>20204-459754277-68427</td>\n",
       "      <td>WARNING</td>\n",
       "      <td>Female</td>\n",
       "      <td>Hispanic/Latino</td>\n",
       "      <td>NO - RACE OR ETHNICITY WAS NOT KNOWN BEFORE STOP</td>\n",
       "      <td>Moving Traffic Violation</td>\n",
       "      <td>City Street</td>\n",
       "      <td>NO</td>\n",
       "      <td>N/A - No Search was conducted</td>\n",
       "      <td>N/A - No Search was conducted</td>\n",
       "      <td>...</td>\n",
       "      <td>TRAVIS COUNTY</td>\n",
       "      <td>NOT APPLICABLE</td>\n",
       "      <td>1900 RUTLAND DR</td>\n",
       "      <td>EDWARD</td>\n",
       "      <td>HISPANIC OR LATINO</td>\n",
       "      <td>1/1/20</td>\n",
       "      <td>1049</td>\n",
       "      <td>3123026.0</td>\n",
       "      <td>10111289.0</td>\n",
       "      <td>78758.0</td>\n",
       "    </tr>\n",
       "    <tr>\n",
       "      <th>4</th>\n",
       "      <td>20205-65602014-68425</td>\n",
       "      <td>WARNING</td>\n",
       "      <td>Male</td>\n",
       "      <td>White</td>\n",
       "      <td>NO - RACE OR ETHNICITY WAS NOT KNOWN BEFORE STOP</td>\n",
       "      <td>Moving Traffic Violation</td>\n",
       "      <td>City Street</td>\n",
       "      <td>NO</td>\n",
       "      <td>N/A - No Search was conducted</td>\n",
       "      <td>N/A - No Search was conducted</td>\n",
       "      <td>...</td>\n",
       "      <td>TRAVIS COUNTY</td>\n",
       "      <td>NOT APPLICABLE</td>\n",
       "      <td>11000 RESEARCH BLVD NB</td>\n",
       "      <td>ADAM</td>\n",
       "      <td>WHITE</td>\n",
       "      <td>1/1/20</td>\n",
       "      <td>1036</td>\n",
       "      <td>3112256.0</td>\n",
       "      <td>10119108.0</td>\n",
       "      <td>78759.0</td>\n",
       "    </tr>\n",
       "    <tr>\n",
       "      <th>5</th>\n",
       "      <td>20206-459276358-68461</td>\n",
       "      <td>WARNING</td>\n",
       "      <td>Male</td>\n",
       "      <td>White</td>\n",
       "      <td>NO - RACE OR ETHNICITY WAS NOT KNOWN BEFORE STOP</td>\n",
       "      <td>Moving Traffic Violation</td>\n",
       "      <td>US Highway</td>\n",
       "      <td>NO</td>\n",
       "      <td>N/A - No Search was conducted</td>\n",
       "      <td>N/A - No Search was conducted</td>\n",
       "      <td>...</td>\n",
       "      <td>WILLIAMSON COUNTY</td>\n",
       "      <td>NOT APPLICABLE</td>\n",
       "      <td>LAKELINE MALL DR / N US 183 HWY SVRD SB</td>\n",
       "      <td>ADAM</td>\n",
       "      <td>WHITE</td>\n",
       "      <td>1/1/20</td>\n",
       "      <td>1356</td>\n",
       "      <td>3094826.0</td>\n",
       "      <td>10144782.0</td>\n",
       "      <td>78613.0</td>\n",
       "    </tr>\n",
       "  </tbody>\n",
       "</table>\n",
       "<p>5 rows × 23 columns</p>\n",
       "</div>"
      ],
      "text/plain": [
       "                Stop_Key     Type TCOLE_Sex TCOLE_RACE_ETHNICITY  \\\n",
       "0  20201-459626502-25962  WARNING      Male                White   \n",
       "1  20202-459626535-25972  WARNING    Female                White   \n",
       "3  20204-459754277-68427  WARNING    Female      Hispanic/Latino   \n",
       "4   20205-65602014-68425  WARNING      Male                White   \n",
       "5  20206-459276358-68461  WARNING      Male                White   \n",
       "\n",
       "                            Standardized_Race_Known           Reason_for_Stop  \\\n",
       "0  NO - RACE OR ETHNICITY WAS NOT KNOWN BEFORE STOP  Moving Traffic Violation   \n",
       "1  NO - RACE OR ETHNICITY WAS NOT KNOWN BEFORE STOP  Moving Traffic Violation   \n",
       "3  NO - RACE OR ETHNICITY WAS NOT KNOWN BEFORE STOP  Moving Traffic Violation   \n",
       "4  NO - RACE OR ETHNICITY WAS NOT KNOWN BEFORE STOP  Moving Traffic Violation   \n",
       "5  NO - RACE OR ETHNICITY WAS NOT KNOWN BEFORE STOP  Moving Traffic Violation   \n",
       "\n",
       "   Street_Type Search_Yes_or_No          TCOLE_Search_Based_On  \\\n",
       "0  City Street               NO  N/A - No Search was conducted   \n",
       "1  City Street               NO  N/A - No Search was conducted   \n",
       "3  City Street               NO  N/A - No Search was conducted   \n",
       "4  City Street               NO  N/A - No Search was conducted   \n",
       "5   US Highway               NO  N/A - No Search was conducted   \n",
       "\n",
       "              TCOLE_Search_Found  ...             COUNTY         Custody  \\\n",
       "0  N/A - No Search was conducted  ...      TRAVIS COUNTY  NOT APPLICABLE   \n",
       "1  N/A - No Search was conducted  ...      TRAVIS COUNTY  NOT APPLICABLE   \n",
       "3  N/A - No Search was conducted  ...      TRAVIS COUNTY  NOT APPLICABLE   \n",
       "4  N/A - No Search was conducted  ...      TRAVIS COUNTY  NOT APPLICABLE   \n",
       "5  N/A - No Search was conducted  ...  WILLIAMSON COUNTY  NOT APPLICABLE   \n",
       "\n",
       "                                  Location  Sector   Standardized_Race  \\\n",
       "0                             500 E 8TH ST  GEORGE               WHITE   \n",
       "1                        1800 S LAMAR BLVD   DAVID               WHITE   \n",
       "3                          1900 RUTLAND DR  EDWARD  HISPANIC OR LATINO   \n",
       "4                   11000 RESEARCH BLVD NB    ADAM               WHITE   \n",
       "5  LAKELINE MALL DR / N US 183 HWY SVRD SB    ADAM               WHITE   \n",
       "\n",
       "  Stop_Date Stop_Time X_COORDINATE Y_COORDINATE Zip_Code  \n",
       "0  12/23/20      2154    3116003.0   10071013.0  78701.0  \n",
       "1  12/23/20      2305    3106942.0   10064105.0  78704.0  \n",
       "3    1/1/20      1049    3123026.0   10111289.0  78758.0  \n",
       "4    1/1/20      1036    3112256.0   10119108.0  78759.0  \n",
       "5    1/1/20      1356    3094826.0   10144782.0  78613.0  \n",
       "\n",
       "[5 rows x 23 columns]"
      ]
     },
     "execution_count": 172,
     "metadata": {},
     "output_type": "execute_result"
    }
   ],
   "source": [
    "racialProfiling.head()"
   ]
  },
  {
   "cell_type": "code",
   "execution_count": 173,
   "id": "23b387bf",
   "metadata": {},
   "outputs": [
    {
     "data": {
      "text/plain": [
       "array(['Council District 9', 'Council District 5', 'Council District 4',\n",
       "       'Council District 10', 'Council District 6', 'Council District 7',\n",
       "       'Council District 3', 'Council District 2', 'Council District 1',\n",
       "       'Council District 8', 'unknown'], dtype=object)"
      ]
     },
     "execution_count": 173,
     "metadata": {},
     "output_type": "execute_result"
    }
   ],
   "source": [
    "# How many unique() values are in Agency Column\n",
    "Districts = racialProfiling.Council_District.unique()\n",
    "Districts"
   ]
  },
  {
   "cell_type": "code",
   "execution_count": 174,
   "id": "e814c253",
   "metadata": {},
   "outputs": [
    {
     "data": {
      "text/plain": [
       "<AxesSubplot:xlabel='Districts', ylabel='frequency'>"
      ]
     },
     "execution_count": 174,
     "metadata": {},
     "output_type": "execute_result"
    },
    {
     "data": {
      "image/png": "[encoded data removed]",
      "text/plain": [
       "<Figure size 432x288 with 1 Axes>"
      ]
     },
     "metadata": {
      "needs_background": "light"
     },
     "output_type": "display_data"
    }
   ],
   "source": [
    "fig, ax = plt.subplots()\n",
    "racialProfiling['Council_District'].value_counts().plot(ax=ax, kind='bar', \n",
    "                                                        xlabel='Districts', \n",
    "                                                        ylabel='frequency')"
   ]
  },
  {
   "cell_type": "code",
   "execution_count": 175,
   "id": "8b0829e8",
   "metadata": {},
   "outputs": [
    {
     "data": {
      "text/plain": [
       "<AxesSubplot:xlabel='Sex', ylabel='frequency'>"
      ]
     },
     "execution_count": 175,
     "metadata": {},
     "output_type": "execute_result"
    },
    {
     "data": {
      "image/png": "[encoded data removed]",
      "text/plain": [
       "<Figure size 432x288 with 1 Axes>"
      ]
     },
     "metadata": {
      "needs_background": "light"
     },
     "output_type": "display_data"
    }
   ],
   "source": [
    "fig, ax = plt.subplots()\n",
    "racialProfiling['TCOLE_Sex'].value_counts().plot(ax=ax, kind='bar', \n",
    "                                                        xlabel='Sex', \n",
    "                                                        ylabel='frequency')"
   ]
  },
  {
   "cell_type": "code",
   "execution_count": 176,
   "id": "9dabfa88",
   "metadata": {},
   "outputs": [
    {
     "data": {
      "text/plain": [
       "<AxesSubplot:xlabel='Type', ylabel='frequency'>"
      ]
     },
     "execution_count": 176,
     "metadata": {},
     "output_type": "execute_result"
    },
    {
     "data": {
      "image/png": "[encoded data removed]",
      "text/plain": [
       "<Figure size 432x288 with 1 Axes>"
      ]
     },
     "metadata": {
      "needs_background": "light"
     },
     "output_type": "display_data"
    }
   ],
   "source": [
    "fig, ax = plt.subplots()\n",
    "racialProfiling['Type'].value_counts().plot(ax=ax, kind='bar', \n",
    "                                                        xlabel='Type', \n",
    "                                                        ylabel='frequency')"
   ]
  },
  {
   "cell_type": "code",
   "execution_count": 177,
   "id": "c5c4f307",
   "metadata": {},
   "outputs": [
    {
     "data": {
      "text/plain": [
       "<AxesSubplot:xlabel='TCOLE_RACE_ETHNICITY', ylabel='frequency'>"
      ]
     },
     "execution_count": 177,
     "metadata": {},
     "output_type": "execute_result"
    },
    {
     "data": {
      "image/png": "[encoded data removed]",
      "text/plain": [
       "<Figure size 432x288 with 1 Axes>"
      ]
     },
     "metadata": {
      "needs_background": "light"
     },
     "output_type": "display_data"
    }
   ],
   "source": [
    "fig, ax = plt.subplots()\n",
    "racialProfiling['TCOLE_RACE_ETHNICITY'].value_counts().plot(ax=ax, kind='bar', \n",
    "                                                        xlabel='TCOLE_RACE_ETHNICITY', \n",
    "                                                        ylabel='frequency')"
   ]
  },
  {
   "cell_type": "code",
   "execution_count": 178,
   "id": "2a8e5e6f",
   "metadata": {},
   "outputs": [
    {
     "data": {
      "text/plain": [
       "<AxesSubplot:xlabel='Standardized_Race_Known', ylabel='frequency'>"
      ]
     },
     "execution_count": 178,
     "metadata": {},
     "output_type": "execute_result"
    },
    {
     "data": {
      "image/png": "[encoded data removed]",
      "text/plain": [
       "<Figure size 432x288 with 1 Axes>"
      ]
     },
     "metadata": {
      "needs_background": "light"
     },
     "output_type": "display_data"
    }
   ],
   "source": [
    "fig, ax = plt.subplots()\n",
    "racialProfiling['Standardized_Race_Known'].value_counts().plot(ax=ax, kind='bar', \n",
    "                                                        xlabel='Standardized_Race_Known', \n",
    "                                                        ylabel='frequency')"
   ]
  },
  {
   "cell_type": "code",
   "execution_count": 179,
   "id": "72beff39",
   "metadata": {},
   "outputs": [
    {
     "data": {
      "text/plain": [
       "<AxesSubplot:xlabel='Reason_for_Stop', ylabel='frequency'>"
      ]
     },
     "execution_count": 179,
     "metadata": {},
     "output_type": "execute_result"
    },
    {
     "data": {
      "image/png": "[encoded data removed]",
      "text/plain": [
       "<Figure size 432x288 with 1 Axes>"
      ]
     },
     "metadata": {
      "needs_background": "light"
     },
     "output_type": "display_data"
    }
   ],
   "source": [
    "fig, ax = plt.subplots()\n",
    "racialProfiling['Reason_for_Stop'].value_counts().plot(ax=ax, kind='bar', \n",
    "                                                        xlabel='Reason_for_Stop', \n",
    "                                                        ylabel='frequency')"
   ]
  },
  {
   "cell_type": "code",
   "execution_count": 180,
   "id": "3ef9beed",
   "metadata": {},
   "outputs": [
    {
     "data": {
      "text/plain": [
       "<AxesSubplot:xlabel='Street_Type', ylabel='frequency'>"
      ]
     },
     "execution_count": 180,
     "metadata": {},
     "output_type": "execute_result"
    },
    {
     "data": {
      "image/png": "[encoded data removed]",
      "text/plain": [
       "<Figure size 432x288 with 1 Axes>"
      ]
     },
     "metadata": {
      "needs_background": "light"
     },
     "output_type": "display_data"
    }
   ],
   "source": [
    "fig, ax = plt.subplots()\n",
    "racialProfiling['Street_Type'].value_counts().plot(ax=ax, kind='bar', \n",
    "                                                        xlabel='Street_Type', \n",
    "                                                        ylabel='frequency')"
   ]
  },
  {
   "cell_type": "code",
   "execution_count": 181,
   "id": "1395b1a1",
   "metadata": {},
   "outputs": [
    {
     "data": {
      "text/plain": [
       "<AxesSubplot:xlabel='Search_Yes_or_No', ylabel='frequency'>"
      ]
     },
     "execution_count": 181,
     "metadata": {},
     "output_type": "execute_result"
    },
    {
     "data": {
      "image/png": "[encoded data removed]",
      "text/plain": [
       "<Figure size 432x288 with 1 Axes>"
      ]
     },
     "metadata": {
      "needs_background": "light"
     },
     "output_type": "display_data"
    }
   ],
   "source": [
    "fig, ax = plt.subplots()\n",
    "racialProfiling['Search_Yes_or_No'].value_counts().plot(ax=ax, kind='bar', \n",
    "                                                        xlabel='Search_Yes_or_No', \n",
    "                                                        ylabel='frequency')"
   ]
  },
  {
   "cell_type": "code",
   "execution_count": 182,
   "id": "c6fcf5e6",
   "metadata": {},
   "outputs": [
    {
     "data": {
      "text/plain": [
       "<AxesSubplot:xlabel='TCOLE_Search_Based_On', ylabel='frequency'>"
      ]
     },
     "execution_count": 182,
     "metadata": {},
     "output_type": "execute_result"
    },
    {
     "data": {
      "image/png": "[encoded data removed]",
      "text/plain": [
       "<Figure size 432x288 with 1 Axes>"
      ]
     },
     "metadata": {
      "needs_background": "light"
     },
     "output_type": "display_data"
    }
   ],
   "source": [
    "fig, ax = plt.subplots()\n",
    "racialProfiling['TCOLE_Search_Based_On'].value_counts().plot(ax=ax, kind='bar', \n",
    "                                                        xlabel='TCOLE_Search_Based_On', \n",
    "                                                        ylabel='frequency')"
   ]
  },
  {
   "cell_type": "code",
   "execution_count": 183,
   "id": "befcd47f",
   "metadata": {},
   "outputs": [
    {
     "data": {
      "text/plain": [
       "<AxesSubplot:xlabel='TCOLE_Search_Found', ylabel='frequency'>"
      ]
     },
     "execution_count": 183,
     "metadata": {},
     "output_type": "execute_result"
    },
    {
     "data": {
      "image/png": "[encoded data removed]",
      "text/plain": [
       "<Figure size 432x288 with 1 Axes>"
      ]
     },
     "metadata": {
      "needs_background": "light"
     },
     "output_type": "display_data"
    }
   ],
   "source": [
    "fig, ax = plt.subplots()\n",
    "racialProfiling['TCOLE_Search_Found'].value_counts().plot(ax=ax, kind='bar', \n",
    "                                                        xlabel='TCOLE_Search_Found', \n",
    "                                                        ylabel='frequency')"
   ]
  },
  {
   "cell_type": "code",
   "execution_count": 184,
   "id": "9a708cbf",
   "metadata": {},
   "outputs": [
    {
     "data": {
      "text/plain": [
       "<AxesSubplot:xlabel='COUNTY', ylabel='frequency'>"
      ]
     },
     "execution_count": 184,
     "metadata": {},
     "output_type": "execute_result"
    },
    {
     "data": {
      "image/png": "[encoded data removed]",
      "text/plain": [
       "<Figure size 432x288 with 1 Axes>"
      ]
     },
     "metadata": {
      "needs_background": "light"
     },
     "output_type": "display_data"
    }
   ],
   "source": [
    "fig, ax = plt.subplots()\n",
    "racialProfiling['COUNTY'].value_counts().plot(ax=ax, kind='bar', \n",
    "                                                        xlabel='COUNTY', \n",
    "                                                        ylabel='frequency')"
   ]
  },
  {
   "cell_type": "code",
   "execution_count": 185,
   "id": "cdb3bdbf",
   "metadata": {},
   "outputs": [
    {
     "data": {
      "text/plain": [
       "<AxesSubplot:xlabel='Custody', ylabel='frequency'>"
      ]
     },
     "execution_count": 185,
     "metadata": {},
     "output_type": "execute_result"
    },
    {
     "data": {
      "image/png": "[encoded data removed]",
      "text/plain": [
       "<Figure size 432x288 with 1 Axes>"
      ]
     },
     "metadata": {
      "needs_background": "light"
     },
     "output_type": "display_data"
    }
   ],
   "source": [
    "fig, ax = plt.subplots()\n",
    "racialProfiling['Custody'].value_counts().plot(ax=ax, kind='bar', \n",
    "                                                        xlabel='Custody', \n",
    "                                                        ylabel='frequency')"
   ]
  },
  {
   "cell_type": "code",
   "execution_count": 186,
   "id": "f0f116f0",
   "metadata": {},
   "outputs": [
    {
     "data": {
      "text/plain": [
       "<AxesSubplot:xlabel='Sector', ylabel='frequency'>"
      ]
     },
     "execution_count": 186,
     "metadata": {},
     "output_type": "execute_result"
    },
    {
     "data": {
      "image/png": "[encoded data removed]",
      "text/plain": [
       "<Figure size 432x288 with 1 Axes>"
      ]
     },
     "metadata": {
      "needs_background": "light"
     },
     "output_type": "display_data"
    }
   ],
   "source": [
    "fig, ax = plt.subplots()\n",
    "racialProfiling['Sector'].value_counts().plot(ax=ax, kind='bar', \n",
    "                                                        xlabel='Sector', \n",
    "                                                        ylabel='frequency')"
   ]
  },
  {
   "cell_type": "code",
   "execution_count": 187,
   "id": "92dae68c",
   "metadata": {},
   "outputs": [
    {
     "data": {
      "text/plain": [
       "<AxesSubplot:xlabel='Standardized_Race', ylabel='frequency'>"
      ]
     },
     "execution_count": 187,
     "metadata": {},
     "output_type": "execute_result"
    },
    {
     "data": {
      "image/png": "[encoded data removed]",
      "text/plain": [
       "<Figure size 432x288 with 1 Axes>"
      ]
     },
     "metadata": {
      "needs_background": "light"
     },
     "output_type": "display_data"
    }
   ],
   "source": [
    "fig, ax = plt.subplots()\n",
    "racialProfiling['Standardized_Race'].value_counts().plot(ax=ax, kind='bar', \n",
    "                                                        xlabel='Standardized_Race', \n",
    "                                                        ylabel='frequency')"
   ]
  },
  {
   "cell_type": "code",
   "execution_count": 188,
   "id": "12dc0a53",
   "metadata": {},
   "outputs": [
    {
     "data": {
      "text/html": [
       "<div>\n",
       "<style scoped>\n",
       "    .dataframe tbody tr th:only-of-type {\n",
       "        vertical-align: middle;\n",
       "    }\n",
       "\n",
       "    .dataframe tbody tr th {\n",
       "        vertical-align: top;\n",
       "    }\n",
       "\n",
       "    .dataframe thead th {\n",
       "        text-align: right;\n",
       "    }\n",
       "</style>\n",
       "<table border=\"1\" class=\"dataframe\">\n",
       "  <thead>\n",
       "    <tr style=\"text-align: right;\">\n",
       "      <th></th>\n",
       "      <th>Stop_Key</th>\n",
       "      <th>Type</th>\n",
       "      <th>TCOLE_Sex</th>\n",
       "      <th>TCOLE_RACE_ETHNICITY</th>\n",
       "      <th>Standardized_Race_Known</th>\n",
       "      <th>Reason_for_Stop</th>\n",
       "      <th>Street_Type</th>\n",
       "      <th>Search_Yes_or_No</th>\n",
       "      <th>TCOLE_Search_Based_On</th>\n",
       "      <th>TCOLE_Search_Found</th>\n",
       "      <th>...</th>\n",
       "      <th>Sector</th>\n",
       "      <th>Standardized_Race</th>\n",
       "      <th>Stop_Date</th>\n",
       "      <th>Stop_Time</th>\n",
       "      <th>X_COORDINATE</th>\n",
       "      <th>Y_COORDINATE</th>\n",
       "      <th>Zip_Code</th>\n",
       "      <th>Stop_Month</th>\n",
       "      <th>Stop_Day</th>\n",
       "      <th>Stop_Year</th>\n",
       "    </tr>\n",
       "  </thead>\n",
       "  <tbody>\n",
       "    <tr>\n",
       "      <th>0</th>\n",
       "      <td>20201-459626502-25962</td>\n",
       "      <td>WARNING</td>\n",
       "      <td>Male</td>\n",
       "      <td>White</td>\n",
       "      <td>NO - RACE OR ETHNICITY WAS NOT KNOWN BEFORE STOP</td>\n",
       "      <td>Moving Traffic Violation</td>\n",
       "      <td>City Street</td>\n",
       "      <td>NO</td>\n",
       "      <td>N/A - No Search was conducted</td>\n",
       "      <td>N/A - No Search was conducted</td>\n",
       "      <td>...</td>\n",
       "      <td>GEORGE</td>\n",
       "      <td>WHITE</td>\n",
       "      <td>12/23/20</td>\n",
       "      <td>2154</td>\n",
       "      <td>3116003.0</td>\n",
       "      <td>10071013.0</td>\n",
       "      <td>78701.0</td>\n",
       "      <td>12</td>\n",
       "      <td>23</td>\n",
       "      <td>20</td>\n",
       "    </tr>\n",
       "    <tr>\n",
       "      <th>1</th>\n",
       "      <td>20202-459626535-25972</td>\n",
       "      <td>WARNING</td>\n",
       "      <td>Female</td>\n",
       "      <td>White</td>\n",
       "      <td>NO - RACE OR ETHNICITY WAS NOT KNOWN BEFORE STOP</td>\n",
       "      <td>Moving Traffic Violation</td>\n",
       "      <td>City Street</td>\n",
       "      <td>NO</td>\n",
       "      <td>N/A - No Search was conducted</td>\n",
       "      <td>N/A - No Search was conducted</td>\n",
       "      <td>...</td>\n",
       "      <td>DAVID</td>\n",
       "      <td>WHITE</td>\n",
       "      <td>12/23/20</td>\n",
       "      <td>2305</td>\n",
       "      <td>3106942.0</td>\n",
       "      <td>10064105.0</td>\n",
       "      <td>78704.0</td>\n",
       "      <td>12</td>\n",
       "      <td>23</td>\n",
       "      <td>20</td>\n",
       "    </tr>\n",
       "    <tr>\n",
       "      <th>3</th>\n",
       "      <td>20204-459754277-68427</td>\n",
       "      <td>WARNING</td>\n",
       "      <td>Female</td>\n",
       "      <td>Hispanic/Latino</td>\n",
       "      <td>NO - RACE OR ETHNICITY WAS NOT KNOWN BEFORE STOP</td>\n",
       "      <td>Moving Traffic Violation</td>\n",
       "      <td>City Street</td>\n",
       "      <td>NO</td>\n",
       "      <td>N/A - No Search was conducted</td>\n",
       "      <td>N/A - No Search was conducted</td>\n",
       "      <td>...</td>\n",
       "      <td>EDWARD</td>\n",
       "      <td>HISPANIC OR LATINO</td>\n",
       "      <td>1/1/20</td>\n",
       "      <td>1049</td>\n",
       "      <td>3123026.0</td>\n",
       "      <td>10111289.0</td>\n",
       "      <td>78758.0</td>\n",
       "      <td>1</td>\n",
       "      <td>1</td>\n",
       "      <td>20</td>\n",
       "    </tr>\n",
       "    <tr>\n",
       "      <th>4</th>\n",
       "      <td>20205-65602014-68425</td>\n",
       "      <td>WARNING</td>\n",
       "      <td>Male</td>\n",
       "      <td>White</td>\n",
       "      <td>NO - RACE OR ETHNICITY WAS NOT KNOWN BEFORE STOP</td>\n",
       "      <td>Moving Traffic Violation</td>\n",
       "      <td>City Street</td>\n",
       "      <td>NO</td>\n",
       "      <td>N/A - No Search was conducted</td>\n",
       "      <td>N/A - No Search was conducted</td>\n",
       "      <td>...</td>\n",
       "      <td>ADAM</td>\n",
       "      <td>WHITE</td>\n",
       "      <td>1/1/20</td>\n",
       "      <td>1036</td>\n",
       "      <td>3112256.0</td>\n",
       "      <td>10119108.0</td>\n",
       "      <td>78759.0</td>\n",
       "      <td>1</td>\n",
       "      <td>1</td>\n",
       "      <td>20</td>\n",
       "    </tr>\n",
       "    <tr>\n",
       "      <th>5</th>\n",
       "      <td>20206-459276358-68461</td>\n",
       "      <td>WARNING</td>\n",
       "      <td>Male</td>\n",
       "      <td>White</td>\n",
       "      <td>NO - RACE OR ETHNICITY WAS NOT KNOWN BEFORE STOP</td>\n",
       "      <td>Moving Traffic Violation</td>\n",
       "      <td>US Highway</td>\n",
       "      <td>NO</td>\n",
       "      <td>N/A - No Search was conducted</td>\n",
       "      <td>N/A - No Search was conducted</td>\n",
       "      <td>...</td>\n",
       "      <td>ADAM</td>\n",
       "      <td>WHITE</td>\n",
       "      <td>1/1/20</td>\n",
       "      <td>1356</td>\n",
       "      <td>3094826.0</td>\n",
       "      <td>10144782.0</td>\n",
       "      <td>78613.0</td>\n",
       "      <td>1</td>\n",
       "      <td>1</td>\n",
       "      <td>20</td>\n",
       "    </tr>\n",
       "  </tbody>\n",
       "</table>\n",
       "<p>5 rows × 26 columns</p>\n",
       "</div>"
      ],
      "text/plain": [
       "                Stop_Key     Type TCOLE_Sex TCOLE_RACE_ETHNICITY  \\\n",
       "0  20201-459626502-25962  WARNING      Male                White   \n",
       "1  20202-459626535-25972  WARNING    Female                White   \n",
       "3  20204-459754277-68427  WARNING    Female      Hispanic/Latino   \n",
       "4   20205-65602014-68425  WARNING      Male                White   \n",
       "5  20206-459276358-68461  WARNING      Male                White   \n",
       "\n",
       "                            Standardized_Race_Known           Reason_for_Stop  \\\n",
       "0  NO - RACE OR ETHNICITY WAS NOT KNOWN BEFORE STOP  Moving Traffic Violation   \n",
       "1  NO - RACE OR ETHNICITY WAS NOT KNOWN BEFORE STOP  Moving Traffic Violation   \n",
       "3  NO - RACE OR ETHNICITY WAS NOT KNOWN BEFORE STOP  Moving Traffic Violation   \n",
       "4  NO - RACE OR ETHNICITY WAS NOT KNOWN BEFORE STOP  Moving Traffic Violation   \n",
       "5  NO - RACE OR ETHNICITY WAS NOT KNOWN BEFORE STOP  Moving Traffic Violation   \n",
       "\n",
       "   Street_Type Search_Yes_or_No          TCOLE_Search_Based_On  \\\n",
       "0  City Street               NO  N/A - No Search was conducted   \n",
       "1  City Street               NO  N/A - No Search was conducted   \n",
       "3  City Street               NO  N/A - No Search was conducted   \n",
       "4  City Street               NO  N/A - No Search was conducted   \n",
       "5   US Highway               NO  N/A - No Search was conducted   \n",
       "\n",
       "              TCOLE_Search_Found  ...  Sector   Standardized_Race Stop_Date  \\\n",
       "0  N/A - No Search was conducted  ...  GEORGE               WHITE  12/23/20   \n",
       "1  N/A - No Search was conducted  ...   DAVID               WHITE  12/23/20   \n",
       "3  N/A - No Search was conducted  ...  EDWARD  HISPANIC OR LATINO    1/1/20   \n",
       "4  N/A - No Search was conducted  ...    ADAM               WHITE    1/1/20   \n",
       "5  N/A - No Search was conducted  ...    ADAM               WHITE    1/1/20   \n",
       "\n",
       "  Stop_Time X_COORDINATE Y_COORDINATE Zip_Code Stop_Month Stop_Day Stop_Year  \n",
       "0      2154    3116003.0   10071013.0  78701.0         12       23        20  \n",
       "1      2305    3106942.0   10064105.0  78704.0         12       23        20  \n",
       "3      1049    3123026.0   10111289.0  78758.0          1        1        20  \n",
       "4      1036    3112256.0   10119108.0  78759.0          1        1        20  \n",
       "5      1356    3094826.0   10144782.0  78613.0          1        1        20  \n",
       "\n",
       "[5 rows x 26 columns]"
      ]
     },
     "execution_count": 188,
     "metadata": {},
     "output_type": "execute_result"
    }
   ],
   "source": [
    "# Split Stop_Date in month, day and year\n",
    "\n",
    "# new data frame with split value columns\n",
    "new = racialProfiling[\"Stop_Date\"].str.split(\"/\", n = 2, expand = True)\n",
    "  \n",
    "# making separate first name column from new data frame\n",
    "racialProfiling[\"Stop_Month\"]= new[0]\n",
    "  \n",
    "# making separate last name column from new data frame\n",
    "racialProfiling[\"Stop_Day\"]= new[1]\n",
    "\n",
    "# making separate last name column from new data frame\n",
    "racialProfiling[\"Stop_Year\"]= new[2]\n",
    "  \n",
    "# Dropping old Name columns\n",
    "#racialProfiling.drop(columns =[\"Stop_Date\"], inplace = True)\n",
    "  \n",
    "# df display\n",
    "racialProfiling.head()"
   ]
  },
  {
   "cell_type": "code",
   "execution_count": 189,
   "id": "b3c03b0f",
   "metadata": {},
   "outputs": [
    {
     "data": {
      "text/plain": [
       "<AxesSubplot:xlabel='Stop_Month', ylabel='frequency'>"
      ]
     },
     "execution_count": 189,
     "metadata": {},
     "output_type": "execute_result"
    },
    {
     "data": {
      "image/png": "[encoded data removed]",
      "text/plain": [
       "<Figure size 432x288 with 1 Axes>"
      ]
     },
     "metadata": {
      "needs_background": "light"
     },
     "output_type": "display_data"
    }
   ],
   "source": [
    "fig, ax = plt.subplots()\n",
    "racialProfiling['Stop_Month'].value_counts().plot(ax=ax, kind='bar', \n",
    "                                                        xlabel='Stop_Month', \n",
    "                                                        ylabel='frequency')"
   ]
  },
  {
   "cell_type": "code",
   "execution_count": 190,
   "id": "ca5f229c",
   "metadata": {},
   "outputs": [
    {
     "data": {
      "text/plain": [
       "<AxesSubplot:xlabel='Stop_Day', ylabel='frequency'>"
      ]
     },
     "execution_count": 190,
     "metadata": {},
     "output_type": "execute_result"
    },
    {
     "data": {
      "image/png": "[encoded data removed]",
      "text/plain": [
       "<Figure size 432x288 with 1 Axes>"
      ]
     },
     "metadata": {
      "needs_background": "light"
     },
     "output_type": "display_data"
    }
   ],
   "source": [
    "fig, ax = plt.subplots()\n",
    "racialProfiling['Stop_Day'].value_counts().plot(ax=ax, kind='bar', \n",
    "                                                        xlabel='Stop_Day', \n",
    "                                                        ylabel='frequency')"
   ]
  },
  {
   "cell_type": "code",
   "execution_count": 191,
   "id": "3f1fe333",
   "metadata": {},
   "outputs": [
    {
     "data": {
      "image/png": "[encoded data removed]",
      "text/plain": [
       "<Figure size 720x360 with 4 Axes>"
      ]
     },
     "metadata": {
      "needs_background": "light"
     },
     "output_type": "display_data"
    }
   ],
   "source": [
    "%matplotlib inline\n",
    "import matplotlib.pyplot as plt\n",
    "import pandas as pd\n",
    "\n",
    "racialProfiling.hist(bins=50, figsize=(10,5))\n",
    "#save_fig(\"attribute_histogram_plots\")\n",
    "plt.show()"
   ]
  },
  {
   "cell_type": "code",
   "execution_count": 192,
   "id": "cd7808c0",
   "metadata": {},
   "outputs": [],
   "source": [
    "\n",
    "#arrests2.to_csv(index=False)\n",
    "#racialProfiling.to_csv('racialProfUpdated.csv', encoding='utf-8')"
   ]
  },
  {
   "cell_type": "code",
   "execution_count": null,
   "id": "49885b9d",
   "metadata": {},
   "outputs": [],
   "source": []
  },
  {
   "cell_type": "code",
   "execution_count": null,
   "id": "1c7b3731",
   "metadata": {},
   "outputs": [],
   "source": []
  },
  {
   "cell_type": "code",
   "execution_count": null,
   "id": "2374973f",
   "metadata": {},
   "outputs": [],
   "source": []
  }
 ],
 "metadata": {
  "kernelspec": {
   "display_name": "Python 3.7 (DS420)",
   "language": "python",
   "name": "python3.7.10"
  },
  "language_info": {
   "codemirror_mode": {
    "name": "ipython",
    "version": 3
   },
   "file_extension": ".py",
   "mimetype": "text/x-python",
   "name": "python",
   "nbconvert_exporter": "python",
   "pygments_lexer": "ipython3",
   "version": "3.7.10"
  }
 },
 "nbformat": 4,
 "nbformat_minor": 5
}
