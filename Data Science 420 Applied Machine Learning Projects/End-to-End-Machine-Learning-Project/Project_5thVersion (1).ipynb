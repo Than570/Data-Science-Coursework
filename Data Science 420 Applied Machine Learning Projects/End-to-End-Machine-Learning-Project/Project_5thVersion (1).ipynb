{
 "cells": [
  {
   "cell_type": "markdown",
   "id": "505e08bf",
   "metadata": {},
   "source": [
    "pip install mlxtend"
   ]
  },
  {
   "cell_type": "code",
   "execution_count": 1,
   "id": "03466c4f",
   "metadata": {},
   "outputs": [],
   "source": [
    "# To support both python 2 and python 3\n",
    "from __future__ import division, print_function, unicode_literals\n",
    "\n",
    "# Common imports\n",
    "import numpy as np\n",
    "import os\n",
    "import pandas as pd\n",
    "\n",
    "# to make this notebook's output stable across runs\n",
    "np.random.seed(42)\n",
    "\n",
    "# To plot pretty figures\n",
    "%matplotlib inline\n",
    "import matplotlib as mpl\n",
    "import matplotlib.pyplot as plt\n",
    "mpl.rc('axes', labelsize=14)\n",
    "mpl.rc('xtick', labelsize=12)\n",
    "mpl.rc('ytick', labelsize=12)\n"
   ]
  },
  {
   "cell_type": "code",
   "execution_count": null,
   "id": "51f91a35",
   "metadata": {},
   "outputs": [],
   "source": []
  },
  {
   "cell_type": "code",
   "execution_count": 2,
   "id": "78f4cfa3",
   "metadata": {},
   "outputs": [],
   "source": [
    "\n",
    "socioEcoZipCodesInfo = pd.read_csv (\"socioEcoZipCodesInfo.csv\")\n",
    "racialProfUpdated = pd.read_csv (\"racialProfUpdated.csv\")\n"
   ]
  },
  {
   "cell_type": "code",
   "execution_count": 3,
   "id": "151314fe",
   "metadata": {},
   "outputs": [
    {
     "name": "stdout",
     "output_type": "stream",
     "text": [
      "(48, 8)\n"
     ]
    },
    {
     "data": {
      "text/html": [
       "<div>\n",
       "<style scoped>\n",
       "    .dataframe tbody tr th:only-of-type {\n",
       "        vertical-align: middle;\n",
       "    }\n",
       "\n",
       "    .dataframe tbody tr th {\n",
       "        vertical-align: top;\n",
       "    }\n",
       "\n",
       "    .dataframe thead th {\n",
       "        text-align: right;\n",
       "    }\n",
       "</style>\n",
       "<table border=\"1\" class=\"dataframe\">\n",
       "  <thead>\n",
       "    <tr style=\"text-align: right;\">\n",
       "      <th></th>\n",
       "      <th>Zip_Code_1</th>\n",
       "      <th>Zip_Code</th>\n",
       "      <th>latitude</th>\n",
       "      <th>longitude</th>\n",
       "      <th>propertyTaxRate</th>\n",
       "      <th>numPriceChanges</th>\n",
       "      <th>avgSchoolRating</th>\n",
       "      <th>MedianStudentsPerTeacher</th>\n",
       "    </tr>\n",
       "  </thead>\n",
       "  <tbody>\n",
       "    <tr>\n",
       "      <th>0</th>\n",
       "      <td>78617</td>\n",
       "      <td>78617</td>\n",
       "      <td>30.164515</td>\n",
       "      <td>-97.634066</td>\n",
       "      <td>1.9800</td>\n",
       "      <td>2.558140</td>\n",
       "      <td>3.158915</td>\n",
       "      <td>13.965116</td>\n",
       "    </tr>\n",
       "    <tr>\n",
       "      <th>1</th>\n",
       "      <td>78619</td>\n",
       "      <td>78619</td>\n",
       "      <td>30.136291</td>\n",
       "      <td>-97.975780</td>\n",
       "      <td>2.0100</td>\n",
       "      <td>1.916667</td>\n",
       "      <td>7.388889</td>\n",
       "      <td>15.666667</td>\n",
       "    </tr>\n",
       "    <tr>\n",
       "      <th>2</th>\n",
       "      <td>78652</td>\n",
       "      <td>78652</td>\n",
       "      <td>30.147471</td>\n",
       "      <td>-97.846363</td>\n",
       "      <td>1.9875</td>\n",
       "      <td>1.500000</td>\n",
       "      <td>4.500000</td>\n",
       "      <td>14.250000</td>\n",
       "    </tr>\n",
       "    <tr>\n",
       "      <th>3</th>\n",
       "      <td>78653</td>\n",
       "      <td>78653</td>\n",
       "      <td>30.348232</td>\n",
       "      <td>-97.603903</td>\n",
       "      <td>1.9800</td>\n",
       "      <td>2.750000</td>\n",
       "      <td>4.250000</td>\n",
       "      <td>11.750000</td>\n",
       "    </tr>\n",
       "    <tr>\n",
       "      <th>4</th>\n",
       "      <td>78660</td>\n",
       "      <td>78660</td>\n",
       "      <td>30.423477</td>\n",
       "      <td>-97.651394</td>\n",
       "      <td>1.9800</td>\n",
       "      <td>2.250000</td>\n",
       "      <td>3.277778</td>\n",
       "      <td>13.305556</td>\n",
       "    </tr>\n",
       "  </tbody>\n",
       "</table>\n",
       "</div>"
      ],
      "text/plain": [
       "   Zip_Code_1  Zip_Code   latitude  longitude  propertyTaxRate  \\\n",
       "0       78617     78617  30.164515 -97.634066           1.9800   \n",
       "1       78619     78619  30.136291 -97.975780           2.0100   \n",
       "2       78652     78652  30.147471 -97.846363           1.9875   \n",
       "3       78653     78653  30.348232 -97.603903           1.9800   \n",
       "4       78660     78660  30.423477 -97.651394           1.9800   \n",
       "\n",
       "   numPriceChanges  avgSchoolRating  MedianStudentsPerTeacher  \n",
       "0         2.558140         3.158915                 13.965116  \n",
       "1         1.916667         7.388889                 15.666667  \n",
       "2         1.500000         4.500000                 14.250000  \n",
       "3         2.750000         4.250000                 11.750000  \n",
       "4         2.250000         3.277778                 13.305556  "
      ]
     },
     "execution_count": 3,
     "metadata": {},
     "output_type": "execute_result"
    }
   ],
   "source": [
    "print (socioEcoZipCodesInfo.shape)  # Shows number of rows and columns\n",
    "pd.DataFrame.head (socioEcoZipCodesInfo)"
   ]
  },
  {
   "cell_type": "code",
   "execution_count": 4,
   "id": "670e473b",
   "metadata": {},
   "outputs": [
    {
     "name": "stdout",
     "output_type": "stream",
     "text": [
      "(45271, 27)\n"
     ]
    },
    {
     "data": {
      "text/html": [
       "<div>\n",
       "<style scoped>\n",
       "    .dataframe tbody tr th:only-of-type {\n",
       "        vertical-align: middle;\n",
       "    }\n",
       "\n",
       "    .dataframe tbody tr th {\n",
       "        vertical-align: top;\n",
       "    }\n",
       "\n",
       "    .dataframe thead th {\n",
       "        text-align: right;\n",
       "    }\n",
       "</style>\n",
       "<table border=\"1\" class=\"dataframe\">\n",
       "  <thead>\n",
       "    <tr style=\"text-align: right;\">\n",
       "      <th></th>\n",
       "      <th>Unnamed: 0</th>\n",
       "      <th>Stop_Key</th>\n",
       "      <th>Type</th>\n",
       "      <th>TCOLE_Sex</th>\n",
       "      <th>TCOLE_RACE_ETHNICITY</th>\n",
       "      <th>Standardized_Race_Known</th>\n",
       "      <th>Reason_for_Stop</th>\n",
       "      <th>Street_Type</th>\n",
       "      <th>Search_Yes_or_No</th>\n",
       "      <th>TCOLE_Search_Based_On</th>\n",
       "      <th>...</th>\n",
       "      <th>Sector</th>\n",
       "      <th>Standardized_Race</th>\n",
       "      <th>Stop_Date</th>\n",
       "      <th>Stop_Time</th>\n",
       "      <th>X_COORDINATE</th>\n",
       "      <th>Y_COORDINATE</th>\n",
       "      <th>Zip_Code</th>\n",
       "      <th>Stop_Month</th>\n",
       "      <th>Stop_Day</th>\n",
       "      <th>Stop_Year</th>\n",
       "    </tr>\n",
       "  </thead>\n",
       "  <tbody>\n",
       "    <tr>\n",
       "      <th>0</th>\n",
       "      <td>0</td>\n",
       "      <td>20201-459626502-25962</td>\n",
       "      <td>WARNING</td>\n",
       "      <td>Male</td>\n",
       "      <td>White</td>\n",
       "      <td>NO - RACE OR ETHNICITY WAS NOT KNOWN BEFORE STOP</td>\n",
       "      <td>Moving Traffic Violation</td>\n",
       "      <td>City Street</td>\n",
       "      <td>NO</td>\n",
       "      <td>N/A - No Search was conducted</td>\n",
       "      <td>...</td>\n",
       "      <td>GEORGE</td>\n",
       "      <td>WHITE</td>\n",
       "      <td>12/23/20</td>\n",
       "      <td>2154</td>\n",
       "      <td>3116003.0</td>\n",
       "      <td>10071013.0</td>\n",
       "      <td>78701.0</td>\n",
       "      <td>12</td>\n",
       "      <td>23</td>\n",
       "      <td>20</td>\n",
       "    </tr>\n",
       "    <tr>\n",
       "      <th>1</th>\n",
       "      <td>1</td>\n",
       "      <td>20202-459626535-25972</td>\n",
       "      <td>WARNING</td>\n",
       "      <td>Female</td>\n",
       "      <td>White</td>\n",
       "      <td>NO - RACE OR ETHNICITY WAS NOT KNOWN BEFORE STOP</td>\n",
       "      <td>Moving Traffic Violation</td>\n",
       "      <td>City Street</td>\n",
       "      <td>NO</td>\n",
       "      <td>N/A - No Search was conducted</td>\n",
       "      <td>...</td>\n",
       "      <td>DAVID</td>\n",
       "      <td>WHITE</td>\n",
       "      <td>12/23/20</td>\n",
       "      <td>2305</td>\n",
       "      <td>3106942.0</td>\n",
       "      <td>10064105.0</td>\n",
       "      <td>78704.0</td>\n",
       "      <td>12</td>\n",
       "      <td>23</td>\n",
       "      <td>20</td>\n",
       "    </tr>\n",
       "    <tr>\n",
       "      <th>2</th>\n",
       "      <td>3</td>\n",
       "      <td>20204-459754277-68427</td>\n",
       "      <td>WARNING</td>\n",
       "      <td>Female</td>\n",
       "      <td>Hispanic/Latino</td>\n",
       "      <td>NO - RACE OR ETHNICITY WAS NOT KNOWN BEFORE STOP</td>\n",
       "      <td>Moving Traffic Violation</td>\n",
       "      <td>City Street</td>\n",
       "      <td>NO</td>\n",
       "      <td>N/A - No Search was conducted</td>\n",
       "      <td>...</td>\n",
       "      <td>EDWARD</td>\n",
       "      <td>HISPANIC OR LATINO</td>\n",
       "      <td>1/1/20</td>\n",
       "      <td>1049</td>\n",
       "      <td>3123026.0</td>\n",
       "      <td>10111289.0</td>\n",
       "      <td>78758.0</td>\n",
       "      <td>1</td>\n",
       "      <td>1</td>\n",
       "      <td>20</td>\n",
       "    </tr>\n",
       "    <tr>\n",
       "      <th>3</th>\n",
       "      <td>4</td>\n",
       "      <td>20205-65602014-68425</td>\n",
       "      <td>WARNING</td>\n",
       "      <td>Male</td>\n",
       "      <td>White</td>\n",
       "      <td>NO - RACE OR ETHNICITY WAS NOT KNOWN BEFORE STOP</td>\n",
       "      <td>Moving Traffic Violation</td>\n",
       "      <td>City Street</td>\n",
       "      <td>NO</td>\n",
       "      <td>N/A - No Search was conducted</td>\n",
       "      <td>...</td>\n",
       "      <td>ADAM</td>\n",
       "      <td>WHITE</td>\n",
       "      <td>1/1/20</td>\n",
       "      <td>1036</td>\n",
       "      <td>3112256.0</td>\n",
       "      <td>10119108.0</td>\n",
       "      <td>78759.0</td>\n",
       "      <td>1</td>\n",
       "      <td>1</td>\n",
       "      <td>20</td>\n",
       "    </tr>\n",
       "    <tr>\n",
       "      <th>4</th>\n",
       "      <td>5</td>\n",
       "      <td>20206-459276358-68461</td>\n",
       "      <td>WARNING</td>\n",
       "      <td>Male</td>\n",
       "      <td>White</td>\n",
       "      <td>NO - RACE OR ETHNICITY WAS NOT KNOWN BEFORE STOP</td>\n",
       "      <td>Moving Traffic Violation</td>\n",
       "      <td>US Highway</td>\n",
       "      <td>NO</td>\n",
       "      <td>N/A - No Search was conducted</td>\n",
       "      <td>...</td>\n",
       "      <td>ADAM</td>\n",
       "      <td>WHITE</td>\n",
       "      <td>1/1/20</td>\n",
       "      <td>1356</td>\n",
       "      <td>3094826.0</td>\n",
       "      <td>10144782.0</td>\n",
       "      <td>78613.0</td>\n",
       "      <td>1</td>\n",
       "      <td>1</td>\n",
       "      <td>20</td>\n",
       "    </tr>\n",
       "  </tbody>\n",
       "</table>\n",
       "<p>5 rows × 27 columns</p>\n",
       "</div>"
      ],
      "text/plain": [
       "   Unnamed: 0               Stop_Key     Type TCOLE_Sex TCOLE_RACE_ETHNICITY  \\\n",
       "0           0  20201-459626502-25962  WARNING      Male                White   \n",
       "1           1  20202-459626535-25972  WARNING    Female                White   \n",
       "2           3  20204-459754277-68427  WARNING    Female      Hispanic/Latino   \n",
       "3           4   20205-65602014-68425  WARNING      Male                White   \n",
       "4           5  20206-459276358-68461  WARNING      Male                White   \n",
       "\n",
       "                            Standardized_Race_Known           Reason_for_Stop  \\\n",
       "0  NO - RACE OR ETHNICITY WAS NOT KNOWN BEFORE STOP  Moving Traffic Violation   \n",
       "1  NO - RACE OR ETHNICITY WAS NOT KNOWN BEFORE STOP  Moving Traffic Violation   \n",
       "2  NO - RACE OR ETHNICITY WAS NOT KNOWN BEFORE STOP  Moving Traffic Violation   \n",
       "3  NO - RACE OR ETHNICITY WAS NOT KNOWN BEFORE STOP  Moving Traffic Violation   \n",
       "4  NO - RACE OR ETHNICITY WAS NOT KNOWN BEFORE STOP  Moving Traffic Violation   \n",
       "\n",
       "   Street_Type Search_Yes_or_No          TCOLE_Search_Based_On  ...  Sector  \\\n",
       "0  City Street               NO  N/A - No Search was conducted  ...  GEORGE   \n",
       "1  City Street               NO  N/A - No Search was conducted  ...   DAVID   \n",
       "2  City Street               NO  N/A - No Search was conducted  ...  EDWARD   \n",
       "3  City Street               NO  N/A - No Search was conducted  ...    ADAM   \n",
       "4   US Highway               NO  N/A - No Search was conducted  ...    ADAM   \n",
       "\n",
       "    Standardized_Race Stop_Date Stop_Time X_COORDINATE Y_COORDINATE Zip_Code  \\\n",
       "0               WHITE  12/23/20      2154    3116003.0   10071013.0  78701.0   \n",
       "1               WHITE  12/23/20      2305    3106942.0   10064105.0  78704.0   \n",
       "2  HISPANIC OR LATINO    1/1/20      1049    3123026.0   10111289.0  78758.0   \n",
       "3               WHITE    1/1/20      1036    3112256.0   10119108.0  78759.0   \n",
       "4               WHITE    1/1/20      1356    3094826.0   10144782.0  78613.0   \n",
       "\n",
       "  Stop_Month Stop_Day Stop_Year  \n",
       "0         12       23        20  \n",
       "1         12       23        20  \n",
       "2          1        1        20  \n",
       "3          1        1        20  \n",
       "4          1        1        20  \n",
       "\n",
       "[5 rows x 27 columns]"
      ]
     },
     "execution_count": 4,
     "metadata": {},
     "output_type": "execute_result"
    }
   ],
   "source": [
    "print (racialProfUpdated.shape)  # Shows number of rows and columns\n",
    "pd.DataFrame.head (racialProfUpdated)"
   ]
  },
  {
   "cell_type": "code",
   "execution_count": 5,
   "id": "f4ab06f3",
   "metadata": {},
   "outputs": [],
   "source": [
    "racialProf = racialProfUpdated.merge(socioEcoZipCodesInfo, on ='Zip_Code', how = 'outer')\n"
   ]
  },
  {
   "cell_type": "code",
   "execution_count": 6,
   "id": "265af473",
   "metadata": {},
   "outputs": [
    {
     "name": "stdout",
     "output_type": "stream",
     "text": [
      "<class 'pandas.core.frame.DataFrame'>\n",
      "Int64Index: 45274 entries, 0 to 45273\n",
      "Data columns (total 34 columns):\n",
      " #   Column                    Non-Null Count  Dtype  \n",
      "---  ------                    --------------  -----  \n",
      " 0   Unnamed: 0                45271 non-null  float64\n",
      " 1   Stop_Key                  45271 non-null  object \n",
      " 2   Type                      45271 non-null  object \n",
      " 3   TCOLE_Sex                 45271 non-null  object \n",
      " 4   TCOLE_RACE_ETHNICITY      45271 non-null  object \n",
      " 5   Standardized_Race_Known   45271 non-null  object \n",
      " 6   Reason_for_Stop           45271 non-null  object \n",
      " 7   Street_Type               45271 non-null  object \n",
      " 8   Search_Yes_or_No          45271 non-null  object \n",
      " 9   TCOLE_Search_Based_On     45271 non-null  object \n",
      " 10  TCOLE_Search_Found        45271 non-null  object \n",
      " 11  TCOLE_Result_of_Stop      45271 non-null  object \n",
      " 12  TCOLE_Arrest_Based_On     45271 non-null  object \n",
      " 13  Council_District          45271 non-null  object \n",
      " 14  COUNTY                    45271 non-null  object \n",
      " 15  Custody                   45271 non-null  object \n",
      " 16  Location                  45271 non-null  object \n",
      " 17  Sector                    45271 non-null  object \n",
      " 18  Standardized_Race         45271 non-null  object \n",
      " 19  Stop_Date                 45271 non-null  object \n",
      " 20  Stop_Time                 45271 non-null  object \n",
      " 21  X_COORDINATE              45271 non-null  float64\n",
      " 22  Y_COORDINATE              45271 non-null  float64\n",
      " 23  Zip_Code                  45274 non-null  float64\n",
      " 24  Stop_Month                45271 non-null  float64\n",
      " 25  Stop_Day                  45271 non-null  float64\n",
      " 26  Stop_Year                 45271 non-null  float64\n",
      " 27  Zip_Code_1                44952 non-null  float64\n",
      " 28  latitude                  44952 non-null  float64\n",
      " 29  longitude                 44952 non-null  float64\n",
      " 30  propertyTaxRate           44952 non-null  float64\n",
      " 31  numPriceChanges           44952 non-null  float64\n",
      " 32  avgSchoolRating           44952 non-null  float64\n",
      " 33  MedianStudentsPerTeacher  44952 non-null  float64\n",
      "dtypes: float64(14), object(20)\n",
      "memory usage: 12.1+ MB\n"
     ]
    }
   ],
   "source": [
    "racialProf.info()"
   ]
  },
  {
   "cell_type": "code",
   "execution_count": 7,
   "id": "c41fef43",
   "metadata": {},
   "outputs": [
    {
     "data": {
      "text/html": [
       "<div>\n",
       "<style scoped>\n",
       "    .dataframe tbody tr th:only-of-type {\n",
       "        vertical-align: middle;\n",
       "    }\n",
       "\n",
       "    .dataframe tbody tr th {\n",
       "        vertical-align: top;\n",
       "    }\n",
       "\n",
       "    .dataframe thead th {\n",
       "        text-align: right;\n",
       "    }\n",
       "</style>\n",
       "<table border=\"1\" class=\"dataframe\">\n",
       "  <thead>\n",
       "    <tr style=\"text-align: right;\">\n",
       "      <th></th>\n",
       "      <th>Unnamed: 0</th>\n",
       "      <th>Stop_Key</th>\n",
       "      <th>Type</th>\n",
       "      <th>TCOLE_Sex</th>\n",
       "      <th>TCOLE_RACE_ETHNICITY</th>\n",
       "      <th>Standardized_Race_Known</th>\n",
       "      <th>Reason_for_Stop</th>\n",
       "      <th>Street_Type</th>\n",
       "      <th>Search_Yes_or_No</th>\n",
       "      <th>TCOLE_Search_Based_On</th>\n",
       "      <th>...</th>\n",
       "      <th>Stop_Month</th>\n",
       "      <th>Stop_Day</th>\n",
       "      <th>Stop_Year</th>\n",
       "      <th>Zip_Code_1</th>\n",
       "      <th>latitude</th>\n",
       "      <th>longitude</th>\n",
       "      <th>propertyTaxRate</th>\n",
       "      <th>numPriceChanges</th>\n",
       "      <th>avgSchoolRating</th>\n",
       "      <th>MedianStudentsPerTeacher</th>\n",
       "    </tr>\n",
       "  </thead>\n",
       "  <tbody>\n",
       "    <tr>\n",
       "      <th>0</th>\n",
       "      <td>0.0</td>\n",
       "      <td>20201-459626502-25962</td>\n",
       "      <td>WARNING</td>\n",
       "      <td>Male</td>\n",
       "      <td>White</td>\n",
       "      <td>NO - RACE OR ETHNICITY WAS NOT KNOWN BEFORE STOP</td>\n",
       "      <td>Moving Traffic Violation</td>\n",
       "      <td>City Street</td>\n",
       "      <td>NO</td>\n",
       "      <td>N/A - No Search was conducted</td>\n",
       "      <td>...</td>\n",
       "      <td>12.0</td>\n",
       "      <td>23.0</td>\n",
       "      <td>20.0</td>\n",
       "      <td>78701.0</td>\n",
       "      <td>30.273001</td>\n",
       "      <td>-97.746111</td>\n",
       "      <td>1.98</td>\n",
       "      <td>4.375</td>\n",
       "      <td>6.0</td>\n",
       "      <td>16.0</td>\n",
       "    </tr>\n",
       "    <tr>\n",
       "      <th>1</th>\n",
       "      <td>173.0</td>\n",
       "      <td>2020222-459888916-68495</td>\n",
       "      <td>WARNING</td>\n",
       "      <td>Male</td>\n",
       "      <td>White</td>\n",
       "      <td>YES - RACE OR ETHNICITY WAS KNOWN BEFORE STOP</td>\n",
       "      <td>Moving Traffic Violation</td>\n",
       "      <td>City Street</td>\n",
       "      <td>NO</td>\n",
       "      <td>N/A - No Search was conducted</td>\n",
       "      <td>...</td>\n",
       "      <td>1.0</td>\n",
       "      <td>1.0</td>\n",
       "      <td>20.0</td>\n",
       "      <td>78701.0</td>\n",
       "      <td>30.273001</td>\n",
       "      <td>-97.746111</td>\n",
       "      <td>1.98</td>\n",
       "      <td>4.375</td>\n",
       "      <td>6.0</td>\n",
       "      <td>16.0</td>\n",
       "    </tr>\n",
       "    <tr>\n",
       "      <th>2</th>\n",
       "      <td>189.0</td>\n",
       "      <td>2020238-459888936-68379</td>\n",
       "      <td>WARNING</td>\n",
       "      <td>Male</td>\n",
       "      <td>White</td>\n",
       "      <td>NO - RACE OR ETHNICITY WAS NOT KNOWN BEFORE STOP</td>\n",
       "      <td>Moving Traffic Violation</td>\n",
       "      <td>City Street</td>\n",
       "      <td>NO</td>\n",
       "      <td>N/A - No Search was conducted</td>\n",
       "      <td>...</td>\n",
       "      <td>1.0</td>\n",
       "      <td>1.0</td>\n",
       "      <td>20.0</td>\n",
       "      <td>78701.0</td>\n",
       "      <td>30.273001</td>\n",
       "      <td>-97.746111</td>\n",
       "      <td>1.98</td>\n",
       "      <td>4.375</td>\n",
       "      <td>6.0</td>\n",
       "      <td>16.0</td>\n",
       "    </tr>\n",
       "    <tr>\n",
       "      <th>3</th>\n",
       "      <td>193.0</td>\n",
       "      <td>2020244-459639377-68384</td>\n",
       "      <td>WARNING</td>\n",
       "      <td>Male</td>\n",
       "      <td>Asian/Pacific Islander</td>\n",
       "      <td>NO - RACE OR ETHNICITY WAS NOT KNOWN BEFORE STOP</td>\n",
       "      <td>Moving Traffic Violation</td>\n",
       "      <td>City Street</td>\n",
       "      <td>NO</td>\n",
       "      <td>N/A - No Search was conducted</td>\n",
       "      <td>...</td>\n",
       "      <td>1.0</td>\n",
       "      <td>1.0</td>\n",
       "      <td>20.0</td>\n",
       "      <td>78701.0</td>\n",
       "      <td>30.273001</td>\n",
       "      <td>-97.746111</td>\n",
       "      <td>1.98</td>\n",
       "      <td>4.375</td>\n",
       "      <td>6.0</td>\n",
       "      <td>16.0</td>\n",
       "    </tr>\n",
       "    <tr>\n",
       "      <th>4</th>\n",
       "      <td>194.0</td>\n",
       "      <td>2020245-459888941-68382</td>\n",
       "      <td>WARNING</td>\n",
       "      <td>Female</td>\n",
       "      <td>Asian/Pacific Islander</td>\n",
       "      <td>NO - RACE OR ETHNICITY WAS NOT KNOWN BEFORE STOP</td>\n",
       "      <td>Moving Traffic Violation</td>\n",
       "      <td>City Street</td>\n",
       "      <td>NO</td>\n",
       "      <td>N/A - No Search was conducted</td>\n",
       "      <td>...</td>\n",
       "      <td>1.0</td>\n",
       "      <td>1.0</td>\n",
       "      <td>20.0</td>\n",
       "      <td>78701.0</td>\n",
       "      <td>30.273001</td>\n",
       "      <td>-97.746111</td>\n",
       "      <td>1.98</td>\n",
       "      <td>4.375</td>\n",
       "      <td>6.0</td>\n",
       "      <td>16.0</td>\n",
       "    </tr>\n",
       "  </tbody>\n",
       "</table>\n",
       "<p>5 rows × 34 columns</p>\n",
       "</div>"
      ],
      "text/plain": [
       "   Unnamed: 0                 Stop_Key     Type TCOLE_Sex  \\\n",
       "0         0.0    20201-459626502-25962  WARNING      Male   \n",
       "1       173.0  2020222-459888916-68495  WARNING      Male   \n",
       "2       189.0  2020238-459888936-68379  WARNING      Male   \n",
       "3       193.0  2020244-459639377-68384  WARNING      Male   \n",
       "4       194.0  2020245-459888941-68382  WARNING    Female   \n",
       "\n",
       "     TCOLE_RACE_ETHNICITY                           Standardized_Race_Known  \\\n",
       "0                   White  NO - RACE OR ETHNICITY WAS NOT KNOWN BEFORE STOP   \n",
       "1                   White     YES - RACE OR ETHNICITY WAS KNOWN BEFORE STOP   \n",
       "2                   White  NO - RACE OR ETHNICITY WAS NOT KNOWN BEFORE STOP   \n",
       "3  Asian/Pacific Islander  NO - RACE OR ETHNICITY WAS NOT KNOWN BEFORE STOP   \n",
       "4  Asian/Pacific Islander  NO - RACE OR ETHNICITY WAS NOT KNOWN BEFORE STOP   \n",
       "\n",
       "            Reason_for_Stop  Street_Type Search_Yes_or_No  \\\n",
       "0  Moving Traffic Violation  City Street               NO   \n",
       "1  Moving Traffic Violation  City Street               NO   \n",
       "2  Moving Traffic Violation  City Street               NO   \n",
       "3  Moving Traffic Violation  City Street               NO   \n",
       "4  Moving Traffic Violation  City Street               NO   \n",
       "\n",
       "           TCOLE_Search_Based_On  ... Stop_Month Stop_Day Stop_Year  \\\n",
       "0  N/A - No Search was conducted  ...       12.0     23.0      20.0   \n",
       "1  N/A - No Search was conducted  ...        1.0      1.0      20.0   \n",
       "2  N/A - No Search was conducted  ...        1.0      1.0      20.0   \n",
       "3  N/A - No Search was conducted  ...        1.0      1.0      20.0   \n",
       "4  N/A - No Search was conducted  ...        1.0      1.0      20.0   \n",
       "\n",
       "  Zip_Code_1   latitude  longitude propertyTaxRate numPriceChanges  \\\n",
       "0    78701.0  30.273001 -97.746111            1.98           4.375   \n",
       "1    78701.0  30.273001 -97.746111            1.98           4.375   \n",
       "2    78701.0  30.273001 -97.746111            1.98           4.375   \n",
       "3    78701.0  30.273001 -97.746111            1.98           4.375   \n",
       "4    78701.0  30.273001 -97.746111            1.98           4.375   \n",
       "\n",
       "  avgSchoolRating MedianStudentsPerTeacher  \n",
       "0             6.0                     16.0  \n",
       "1             6.0                     16.0  \n",
       "2             6.0                     16.0  \n",
       "3             6.0                     16.0  \n",
       "4             6.0                     16.0  \n",
       "\n",
       "[5 rows x 34 columns]"
      ]
     },
     "execution_count": 7,
     "metadata": {},
     "output_type": "execute_result"
    }
   ],
   "source": [
    "pd.DataFrame.head (racialProf)"
   ]
  },
  {
   "cell_type": "code",
   "execution_count": 8,
   "id": "483fd6da",
   "metadata": {},
   "outputs": [
    {
     "data": {
      "text/plain": [
       "(45274, 34)"
      ]
     },
     "execution_count": 8,
     "metadata": {},
     "output_type": "execute_result"
    }
   ],
   "source": [
    "racialProf.shape"
   ]
  },
  {
   "cell_type": "code",
   "execution_count": null,
   "id": "5ac14039",
   "metadata": {},
   "outputs": [],
   "source": []
  },
  {
   "cell_type": "code",
   "execution_count": 9,
   "id": "e17db6a2",
   "metadata": {},
   "outputs": [
    {
     "data": {
      "text/html": [
       "<div>\n",
       "<style scoped>\n",
       "    .dataframe tbody tr th:only-of-type {\n",
       "        vertical-align: middle;\n",
       "    }\n",
       "\n",
       "    .dataframe tbody tr th {\n",
       "        vertical-align: top;\n",
       "    }\n",
       "\n",
       "    .dataframe thead th {\n",
       "        text-align: right;\n",
       "    }\n",
       "</style>\n",
       "<table border=\"1\" class=\"dataframe\">\n",
       "  <thead>\n",
       "    <tr style=\"text-align: right;\">\n",
       "      <th></th>\n",
       "      <th>Unnamed: 0</th>\n",
       "      <th>X_COORDINATE</th>\n",
       "      <th>Y_COORDINATE</th>\n",
       "      <th>Zip_Code</th>\n",
       "      <th>Stop_Month</th>\n",
       "      <th>Stop_Day</th>\n",
       "      <th>Stop_Year</th>\n",
       "      <th>Zip_Code_1</th>\n",
       "      <th>latitude</th>\n",
       "      <th>longitude</th>\n",
       "      <th>propertyTaxRate</th>\n",
       "      <th>numPriceChanges</th>\n",
       "      <th>avgSchoolRating</th>\n",
       "      <th>MedianStudentsPerTeacher</th>\n",
       "    </tr>\n",
       "  </thead>\n",
       "  <tbody>\n",
       "    <tr>\n",
       "      <th>count</th>\n",
       "      <td>45271.000000</td>\n",
       "      <td>4.527100e+04</td>\n",
       "      <td>4.527100e+04</td>\n",
       "      <td>45274.000000</td>\n",
       "      <td>45271.000000</td>\n",
       "      <td>45271.000000</td>\n",
       "      <td>45271.0</td>\n",
       "      <td>44952.000000</td>\n",
       "      <td>44952.000000</td>\n",
       "      <td>44952.000000</td>\n",
       "      <td>44952.000000</td>\n",
       "      <td>44952.000000</td>\n",
       "      <td>44952.000000</td>\n",
       "      <td>44952.000000</td>\n",
       "    </tr>\n",
       "    <tr>\n",
       "      <th>mean</th>\n",
       "      <td>23261.161759</td>\n",
       "      <td>3.117086e+06</td>\n",
       "      <td>1.008820e+07</td>\n",
       "      <td>78735.520497</td>\n",
       "      <td>5.688078</td>\n",
       "      <td>15.923969</td>\n",
       "      <td>20.0</td>\n",
       "      <td>78736.364144</td>\n",
       "      <td>30.313401</td>\n",
       "      <td>-97.732976</td>\n",
       "      <td>1.987835</td>\n",
       "      <td>2.987814</td>\n",
       "      <td>5.192238</td>\n",
       "      <td>14.396843</td>\n",
       "    </tr>\n",
       "    <tr>\n",
       "      <th>std</th>\n",
       "      <td>13441.965456</td>\n",
       "      <td>1.282639e+04</td>\n",
       "      <td>3.129205e+04</td>\n",
       "      <td>27.334819</td>\n",
       "      <td>3.645757</td>\n",
       "      <td>8.635239</td>\n",
       "      <td>0.0</td>\n",
       "      <td>25.489993</td>\n",
       "      <td>0.085146</td>\n",
       "      <td>0.047007</td>\n",
       "      <td>0.039424</td>\n",
       "      <td>0.458303</td>\n",
       "      <td>1.477072</td>\n",
       "      <td>1.288777</td>\n",
       "    </tr>\n",
       "    <tr>\n",
       "      <th>min</th>\n",
       "      <td>0.000000</td>\n",
       "      <td>3.038957e+06</td>\n",
       "      <td>9.986460e+06</td>\n",
       "      <td>78610.000000</td>\n",
       "      <td>1.000000</td>\n",
       "      <td>1.000000</td>\n",
       "      <td>20.0</td>\n",
       "      <td>78617.000000</td>\n",
       "      <td>30.134763</td>\n",
       "      <td>-97.975780</td>\n",
       "      <td>1.980000</td>\n",
       "      <td>1.500000</td>\n",
       "      <td>3.020576</td>\n",
       "      <td>11.651399</td>\n",
       "    </tr>\n",
       "    <tr>\n",
       "      <th>25%</th>\n",
       "      <td>11598.500000</td>\n",
       "      <td>3.111177e+06</td>\n",
       "      <td>1.006279e+07</td>\n",
       "      <td>78721.000000</td>\n",
       "      <td>2.000000</td>\n",
       "      <td>9.000000</td>\n",
       "      <td>20.0</td>\n",
       "      <td>78721.000000</td>\n",
       "      <td>30.243964</td>\n",
       "      <td>-97.757920</td>\n",
       "      <td>1.980000</td>\n",
       "      <td>2.635747</td>\n",
       "      <td>3.932548</td>\n",
       "      <td>13.406160</td>\n",
       "    </tr>\n",
       "    <tr>\n",
       "      <th>50%</th>\n",
       "      <td>23262.000000</td>\n",
       "      <td>3.116921e+06</td>\n",
       "      <td>1.008638e+07</td>\n",
       "      <td>78745.000000</td>\n",
       "      <td>5.000000</td>\n",
       "      <td>16.000000</td>\n",
       "      <td>20.0</td>\n",
       "      <td>78745.000000</td>\n",
       "      <td>30.305856</td>\n",
       "      <td>-97.730877</td>\n",
       "      <td>1.980000</td>\n",
       "      <td>2.887597</td>\n",
       "      <td>4.711249</td>\n",
       "      <td>14.004525</td>\n",
       "    </tr>\n",
       "    <tr>\n",
       "      <th>75%</th>\n",
       "      <td>34903.500000</td>\n",
       "      <td>3.124585e+06</td>\n",
       "      <td>1.011512e+07</td>\n",
       "      <td>78757.000000</td>\n",
       "      <td>9.000000</td>\n",
       "      <td>23.000000</td>\n",
       "      <td>20.0</td>\n",
       "      <td>78757.000000</td>\n",
       "      <td>30.380373</td>\n",
       "      <td>-97.701526</td>\n",
       "      <td>1.980000</td>\n",
       "      <td>3.176322</td>\n",
       "      <td>6.657787</td>\n",
       "      <td>15.986755</td>\n",
       "    </tr>\n",
       "    <tr>\n",
       "      <th>max</th>\n",
       "      <td>46783.000000</td>\n",
       "      <td>3.186680e+06</td>\n",
       "      <td>1.016903e+07</td>\n",
       "      <td>78759.000000</td>\n",
       "      <td>12.000000</td>\n",
       "      <td>31.000000</td>\n",
       "      <td>20.0</td>\n",
       "      <td>78759.000000</td>\n",
       "      <td>30.496707</td>\n",
       "      <td>-97.603903</td>\n",
       "      <td>2.210000</td>\n",
       "      <td>4.777778</td>\n",
       "      <td>8.928205</td>\n",
       "      <td>17.788430</td>\n",
       "    </tr>\n",
       "  </tbody>\n",
       "</table>\n",
       "</div>"
      ],
      "text/plain": [
       "         Unnamed: 0  X_COORDINATE  Y_COORDINATE      Zip_Code    Stop_Month  \\\n",
       "count  45271.000000  4.527100e+04  4.527100e+04  45274.000000  45271.000000   \n",
       "mean   23261.161759  3.117086e+06  1.008820e+07  78735.520497      5.688078   \n",
       "std    13441.965456  1.282639e+04  3.129205e+04     27.334819      3.645757   \n",
       "min        0.000000  3.038957e+06  9.986460e+06  78610.000000      1.000000   \n",
       "25%    11598.500000  3.111177e+06  1.006279e+07  78721.000000      2.000000   \n",
       "50%    23262.000000  3.116921e+06  1.008638e+07  78745.000000      5.000000   \n",
       "75%    34903.500000  3.124585e+06  1.011512e+07  78757.000000      9.000000   \n",
       "max    46783.000000  3.186680e+06  1.016903e+07  78759.000000     12.000000   \n",
       "\n",
       "           Stop_Day  Stop_Year    Zip_Code_1      latitude     longitude  \\\n",
       "count  45271.000000    45271.0  44952.000000  44952.000000  44952.000000   \n",
       "mean      15.923969       20.0  78736.364144     30.313401    -97.732976   \n",
       "std        8.635239        0.0     25.489993      0.085146      0.047007   \n",
       "min        1.000000       20.0  78617.000000     30.134763    -97.975780   \n",
       "25%        9.000000       20.0  78721.000000     30.243964    -97.757920   \n",
       "50%       16.000000       20.0  78745.000000     30.305856    -97.730877   \n",
       "75%       23.000000       20.0  78757.000000     30.380373    -97.701526   \n",
       "max       31.000000       20.0  78759.000000     30.496707    -97.603903   \n",
       "\n",
       "       propertyTaxRate  numPriceChanges  avgSchoolRating  \\\n",
       "count     44952.000000     44952.000000     44952.000000   \n",
       "mean          1.987835         2.987814         5.192238   \n",
       "std           0.039424         0.458303         1.477072   \n",
       "min           1.980000         1.500000         3.020576   \n",
       "25%           1.980000         2.635747         3.932548   \n",
       "50%           1.980000         2.887597         4.711249   \n",
       "75%           1.980000         3.176322         6.657787   \n",
       "max           2.210000         4.777778         8.928205   \n",
       "\n",
       "       MedianStudentsPerTeacher  \n",
       "count              44952.000000  \n",
       "mean                  14.396843  \n",
       "std                    1.288777  \n",
       "min                   11.651399  \n",
       "25%                   13.406160  \n",
       "50%                   14.004525  \n",
       "75%                   15.986755  \n",
       "max                   17.788430  "
      ]
     },
     "execution_count": 9,
     "metadata": {},
     "output_type": "execute_result"
    }
   ],
   "source": [
    "racialProf.describe()"
   ]
  },
  {
   "cell_type": "code",
   "execution_count": null,
   "id": "c46d8ec9",
   "metadata": {},
   "outputs": [],
   "source": []
  },
  {
   "cell_type": "code",
   "execution_count": 10,
   "id": "f4af6266",
   "metadata": {},
   "outputs": [
    {
     "data": {
      "text/plain": [
       "{'Stop_Key': 3,\n",
       " 'TCOLE_Sex': 3,\n",
       " 'TCOLE_RACE_ETHNICITY': 3,\n",
       " 'Search_Yes_or_No': 3,\n",
       " 'Reason_for_Stop': 3,\n",
       " 'Standardized_Race_Known': 3,\n",
       " 'TCOLE_Search_Based_On': 3,\n",
       " 'TCOLE_Search_Found': 3,\n",
       " 'TCOLE_Result_of_Stop': 3,\n",
       " 'TCOLE_Arrest_Based_On': 3,\n",
       " 'Council_District': 3,\n",
       " 'Standardized_Race': 3,\n",
       " 'Stop_Time': 3,\n",
       " 'Zip_Code': 0,\n",
       " 'Type': 3,\n",
       " 'Street_Type': 3,\n",
       " 'COUNTY': 3,\n",
       " 'Custody': 3,\n",
       " 'Location': 3,\n",
       " 'Sector': 3,\n",
       " 'X_COORDINATE': 3,\n",
       " 'Y_COORDINATE': 3,\n",
       " 'latitude': 322,\n",
       " 'longitude': 322,\n",
       " 'propertyTaxRate': 322,\n",
       " 'numPriceChanges': 322,\n",
       " 'avgSchoolRating': 322,\n",
       " 'MedianStudentsPerTeacher': 322}"
      ]
     },
     "execution_count": 10,
     "metadata": {},
     "output_type": "execute_result"
    }
   ],
   "source": [
    "# Total number of missing values per column.\n",
    "\n",
    "Column_NaN_Values = {\n",
    "                   \"Stop_Key\": racialProf[\"Stop_Key\"].isna().sum(), \n",
    "                     \"TCOLE_Sex\": racialProf[\"TCOLE_Sex\"].isna().sum(),\n",
    "                    \"TCOLE_RACE_ETHNICITY\": racialProf[\"TCOLE_RACE_ETHNICITY\"].isna().sum(),\n",
    "    \n",
    "                     \"Search_Yes_or_No\": racialProf[\"Search_Yes_or_No\"].isna().sum(), \n",
    "                     \"Reason_for_Stop\": racialProf[\"Reason_for_Stop\"].isna().sum(),\n",
    "                    \"Standardized_Race_Known\": racialProf[\"Standardized_Race_Known\"].isna().sum(),\n",
    "                     \n",
    "                    \"TCOLE_Search_Based_On\": racialProf[\"TCOLE_Search_Based_On\"].isna().sum(), \n",
    "                     \"TCOLE_Search_Found\": racialProf[\"TCOLE_Search_Found\"].isna().sum(),\n",
    "                    \"TCOLE_Result_of_Stop\": racialProf[\"TCOLE_Result_of_Stop\"].isna().sum(),\n",
    "    \n",
    "                    \"TCOLE_Arrest_Based_On\": racialProf[\"TCOLE_Arrest_Based_On\"].isna().sum(), \n",
    "                    \"Council_District\": racialProf[\"Council_District\"].isna().sum(),\n",
    "                    \"Standardized_Race\": racialProf[\"Standardized_Race\"].isna().sum(),\n",
    "                    \n",
    "                \n",
    "                    \"Stop_Time\": racialProf[\"Stop_Time\"].isna().sum(),\n",
    "                    \"Zip_Code\": racialProf[\"Zip_Code\"].isna().sum(),\n",
    "    \n",
    "    \n",
    "                    \"Type\": racialProf[\"Type\"].isna().sum(), \n",
    "                    \"Street_Type\": racialProf[\"Street_Type\"].isna().sum(),\n",
    "                   \n",
    "    \n",
    "                    \"COUNTY\": racialProf[\"COUNTY\"].isna().sum(), \n",
    "                    \"Custody\": racialProf[\"Custody\"].isna().sum(),\n",
    "                    \"Location\": racialProf[\"Location\"].isna().sum(),\n",
    "                    \n",
    "                    \"Sector\": racialProf[\"Sector\"].isna().sum(), \n",
    "                    \"X_COORDINATE\": racialProf[\"X_COORDINATE\"].isna().sum(),\n",
    "                    \"Y_COORDINATE\": racialProf[\"Y_COORDINATE\"].isna().sum(),\n",
    "    \n",
    "    \n",
    "    \n",
    "    \n",
    "                         \"Zip_Code\": racialProf[\"Zip_Code\"].isna().sum(), \n",
    "                     \"latitude\": racialProf[\"latitude\"].isna().sum(),\n",
    "                     \"longitude\": racialProf[\"longitude\"].isna().sum(), \n",
    "                     \"propertyTaxRate\": racialProf[\"propertyTaxRate\"].isna().sum(),\n",
    "                    \"numPriceChanges\": racialProf[\"numPriceChanges\"].isna().sum(), \n",
    "                     \"avgSchoolRating\": racialProf[\"avgSchoolRating\"].isna().sum(),\n",
    "                        \"MedianStudentsPerTeacher\": racialProf[\"MedianStudentsPerTeacher\"].isna().sum(),\n",
    "                            \n",
    "                            \n",
    "                    \n",
    "     \n",
    "       }\n",
    "Column_NaN_Values"
   ]
  },
  {
   "cell_type": "code",
   "execution_count": 35,
   "id": "98687a29",
   "metadata": {},
   "outputs": [
    {
     "data": {
      "text/plain": [
       "(45271, 34)"
      ]
     },
     "execution_count": 35,
     "metadata": {},
     "output_type": "execute_result"
    }
   ],
   "source": [
    "racialProf = racialProf.dropna(subset =['TCOLE_RACE_ETHNICITY'])\n",
    "racialProf.shape"
   ]
  },
  {
   "cell_type": "code",
   "execution_count": 36,
   "id": "341fdf50",
   "metadata": {},
   "outputs": [
    {
     "data": {
      "text/plain": [
       "{'Stop_Key': 0,\n",
       " 'TCOLE_Sex': 0,\n",
       " 'TCOLE_RACE_ETHNICITY': 0,\n",
       " 'Search_Yes_or_No': 0,\n",
       " 'Reason_for_Stop': 0,\n",
       " 'Standardized_Race_Known': 0,\n",
       " 'TCOLE_Search_Based_On': 0,\n",
       " 'TCOLE_Search_Found': 0,\n",
       " 'TCOLE_Result_of_Stop': 0,\n",
       " 'TCOLE_Arrest_Based_On': 0,\n",
       " 'Council_District': 0,\n",
       " 'Standardized_Race': 0,\n",
       " 'Stop_Time': 0,\n",
       " 'Zip_Code': 0,\n",
       " 'Type': 0,\n",
       " 'Street_Type': 0,\n",
       " 'COUNTY': 0,\n",
       " 'Custody': 0,\n",
       " 'Location': 0,\n",
       " 'Sector': 0,\n",
       " 'X_COORDINATE': 0,\n",
       " 'Y_COORDINATE': 0,\n",
       " 'latitude': 322,\n",
       " 'longitude': 322,\n",
       " 'propertyTaxRate': 322,\n",
       " 'numPriceChanges': 322,\n",
       " 'avgSchoolRating': 322,\n",
       " 'MedianStudentsPerTeacher': 322}"
      ]
     },
     "execution_count": 36,
     "metadata": {},
     "output_type": "execute_result"
    }
   ],
   "source": [
    "\n",
    "# Total number of missing values per column.\n",
    "\n",
    "Column_NaN_Values = {\n",
    "                   \"Stop_Key\": racialProf[\"Stop_Key\"].isna().sum(), \n",
    "                     \"TCOLE_Sex\": racialProf[\"TCOLE_Sex\"].isna().sum(),\n",
    "                    \"TCOLE_RACE_ETHNICITY\": racialProf[\"TCOLE_RACE_ETHNICITY\"].isna().sum(),\n",
    "    \n",
    "                     \"Search_Yes_or_No\": racialProf[\"Search_Yes_or_No\"].isna().sum(), \n",
    "                     \"Reason_for_Stop\": racialProf[\"Reason_for_Stop\"].isna().sum(),\n",
    "                    \"Standardized_Race_Known\": racialProf[\"Standardized_Race_Known\"].isna().sum(),\n",
    "                     \n",
    "                    \"TCOLE_Search_Based_On\": racialProf[\"TCOLE_Search_Based_On\"].isna().sum(), \n",
    "                     \"TCOLE_Search_Found\": racialProf[\"TCOLE_Search_Found\"].isna().sum(),\n",
    "                    \"TCOLE_Result_of_Stop\": racialProf[\"TCOLE_Result_of_Stop\"].isna().sum(),\n",
    "    \n",
    "                    \"TCOLE_Arrest_Based_On\": racialProf[\"TCOLE_Arrest_Based_On\"].isna().sum(), \n",
    "                    \"Council_District\": racialProf[\"Council_District\"].isna().sum(),\n",
    "                    \"Standardized_Race\": racialProf[\"Standardized_Race\"].isna().sum(),\n",
    "                    \n",
    "                \n",
    "                    \"Stop_Time\": racialProf[\"Stop_Time\"].isna().sum(),\n",
    "                    \"Zip_Code\": racialProf[\"Zip_Code\"].isna().sum(),\n",
    "    \n",
    "    \n",
    "                    \"Type\": racialProf[\"Type\"].isna().sum(), \n",
    "                    \"Street_Type\": racialProf[\"Street_Type\"].isna().sum(),\n",
    "                   \n",
    "    \n",
    "                    \"COUNTY\": racialProf[\"COUNTY\"].isna().sum(), \n",
    "                    \"Custody\": racialProf[\"Custody\"].isna().sum(),\n",
    "                    \"Location\": racialProf[\"Location\"].isna().sum(),\n",
    "                    \n",
    "                    \"Sector\": racialProf[\"Sector\"].isna().sum(), \n",
    "                    \"X_COORDINATE\": racialProf[\"X_COORDINATE\"].isna().sum(),\n",
    "                    \"Y_COORDINATE\": racialProf[\"Y_COORDINATE\"].isna().sum(),\n",
    "    \n",
    "    \n",
    "    \n",
    "    \n",
    "                         \"Zip_Code\": racialProf[\"Zip_Code\"].isna().sum(), \n",
    "                     \"latitude\": racialProf[\"latitude\"].isna().sum(),\n",
    "                     \"longitude\": racialProf[\"longitude\"].isna().sum(), \n",
    "                     \"propertyTaxRate\": racialProf[\"propertyTaxRate\"].isna().sum(),\n",
    "                    \"numPriceChanges\": racialProf[\"numPriceChanges\"].isna().sum(), \n",
    "                     \"avgSchoolRating\": racialProf[\"avgSchoolRating\"].isna().sum(),\n",
    "                        \"MedianStudentsPerTeacher\": racialProf[\"MedianStudentsPerTeacher\"].isna().sum(),\n",
    "                            \n",
    "                            \n",
    "                    \n",
    "     \n",
    "       }\n",
    "Column_NaN_Values"
   ]
  },
  {
   "cell_type": "code",
   "execution_count": 37,
   "id": "576035a7",
   "metadata": {},
   "outputs": [
    {
     "data": {
      "text/plain": [
       "10252"
      ]
     },
     "execution_count": 37,
     "metadata": {},
     "output_type": "execute_result"
    }
   ],
   "source": [
    "# How many unique() values are in Agency Column\n",
    "uniqueZips = racialProf.Location.unique()\n",
    "len(uniqueZips)"
   ]
  },
  {
   "cell_type": "code",
   "execution_count": 38,
   "id": "cce6daab",
   "metadata": {},
   "outputs": [
    {
     "data": {
      "text/plain": [
       "2221"
      ]
     },
     "execution_count": 38,
     "metadata": {},
     "output_type": "execute_result"
    }
   ],
   "source": [
    "# How many unique() values are in Agency Column\n",
    "uniqueZips = racialProf.Stop_Time.unique()\n",
    "len(uniqueZips)"
   ]
  },
  {
   "cell_type": "code",
   "execution_count": 39,
   "id": "bc759385",
   "metadata": {},
   "outputs": [],
   "source": [
    "from sklearn.model_selection import train_test_split\n",
    "train, test, = train_test_split(racialProf,\n",
    "test_size=0.2)"
   ]
  },
  {
   "cell_type": "code",
   "execution_count": 40,
   "id": "8fbc776f",
   "metadata": {},
   "outputs": [
    {
     "data": {
      "text/html": [
       "<div>\n",
       "<style scoped>\n",
       "    .dataframe tbody tr th:only-of-type {\n",
       "        vertical-align: middle;\n",
       "    }\n",
       "\n",
       "    .dataframe tbody tr th {\n",
       "        vertical-align: top;\n",
       "    }\n",
       "\n",
       "    .dataframe thead th {\n",
       "        text-align: right;\n",
       "    }\n",
       "</style>\n",
       "<table border=\"1\" class=\"dataframe\">\n",
       "  <thead>\n",
       "    <tr style=\"text-align: right;\">\n",
       "      <th></th>\n",
       "      <th>Unnamed: 0</th>\n",
       "      <th>Stop_Key</th>\n",
       "      <th>Type</th>\n",
       "      <th>TCOLE_Sex</th>\n",
       "      <th>TCOLE_RACE_ETHNICITY</th>\n",
       "      <th>Standardized_Race_Known</th>\n",
       "      <th>Reason_for_Stop</th>\n",
       "      <th>Street_Type</th>\n",
       "      <th>Search_Yes_or_No</th>\n",
       "      <th>TCOLE_Search_Based_On</th>\n",
       "      <th>...</th>\n",
       "      <th>Stop_Month</th>\n",
       "      <th>Stop_Day</th>\n",
       "      <th>Stop_Year</th>\n",
       "      <th>Zip_Code_1</th>\n",
       "      <th>latitude</th>\n",
       "      <th>longitude</th>\n",
       "      <th>propertyTaxRate</th>\n",
       "      <th>numPriceChanges</th>\n",
       "      <th>avgSchoolRating</th>\n",
       "      <th>MedianStudentsPerTeacher</th>\n",
       "    </tr>\n",
       "  </thead>\n",
       "  <tbody>\n",
       "    <tr>\n",
       "      <th>35319</th>\n",
       "      <td>6612.0</td>\n",
       "      <td>20207082-459220271-61395</td>\n",
       "      <td>WARNING</td>\n",
       "      <td>Female</td>\n",
       "      <td>White</td>\n",
       "      <td>NO - RACE OR ETHNICITY WAS NOT KNOWN BEFORE STOP</td>\n",
       "      <td>Moving Traffic Violation</td>\n",
       "      <td>City Street</td>\n",
       "      <td>NO</td>\n",
       "      <td>N/A - No Search was conducted</td>\n",
       "      <td>...</td>\n",
       "      <td>2.0</td>\n",
       "      <td>6.0</td>\n",
       "      <td>20.0</td>\n",
       "      <td>78757.0</td>\n",
       "      <td>30.349227</td>\n",
       "      <td>-97.730877</td>\n",
       "      <td>1.98</td>\n",
       "      <td>3.053537</td>\n",
       "      <td>6.151699</td>\n",
       "      <td>15.246654</td>\n",
       "    </tr>\n",
       "    <tr>\n",
       "      <th>24781</th>\n",
       "      <td>6365.0</td>\n",
       "      <td>20206811-459899808-61702</td>\n",
       "      <td>WARNING</td>\n",
       "      <td>Male</td>\n",
       "      <td>Black</td>\n",
       "      <td>NO - RACE OR ETHNICITY WAS NOT KNOWN BEFORE STOP</td>\n",
       "      <td>Moving Traffic Violation</td>\n",
       "      <td>US Highway</td>\n",
       "      <td>NO</td>\n",
       "      <td>N/A - No Search was conducted</td>\n",
       "      <td>...</td>\n",
       "      <td>2.0</td>\n",
       "      <td>5.0</td>\n",
       "      <td>20.0</td>\n",
       "      <td>78753.0</td>\n",
       "      <td>30.376909</td>\n",
       "      <td>-97.670927</td>\n",
       "      <td>1.98</td>\n",
       "      <td>2.635747</td>\n",
       "      <td>3.922830</td>\n",
       "      <td>14.004525</td>\n",
       "    </tr>\n",
       "    <tr>\n",
       "      <th>6091</th>\n",
       "      <td>23870.0</td>\n",
       "      <td>202026277-459933900-44402</td>\n",
       "      <td>WARNING</td>\n",
       "      <td>Female</td>\n",
       "      <td>White</td>\n",
       "      <td>NO - RACE OR ETHNICITY WAS NOT KNOWN BEFORE STOP</td>\n",
       "      <td>Moving Traffic Violation</td>\n",
       "      <td>State Highway</td>\n",
       "      <td>NO</td>\n",
       "      <td>N/A - No Search was conducted</td>\n",
       "      <td>...</td>\n",
       "      <td>6.0</td>\n",
       "      <td>9.0</td>\n",
       "      <td>20.0</td>\n",
       "      <td>78758.0</td>\n",
       "      <td>30.380373</td>\n",
       "      <td>-97.701526</td>\n",
       "      <td>1.98</td>\n",
       "      <td>2.630380</td>\n",
       "      <td>4.081013</td>\n",
       "      <td>13.589873</td>\n",
       "    </tr>\n",
       "    <tr>\n",
       "      <th>6457</th>\n",
       "      <td>27004.0</td>\n",
       "      <td>202029948-459944580-41280</td>\n",
       "      <td>WARNING</td>\n",
       "      <td>Female</td>\n",
       "      <td>White</td>\n",
       "      <td>NO - RACE OR ETHNICITY WAS NOT KNOWN BEFORE STOP</td>\n",
       "      <td>Moving Traffic Violation</td>\n",
       "      <td>State Highway</td>\n",
       "      <td>NO</td>\n",
       "      <td>N/A - No Search was conducted</td>\n",
       "      <td>...</td>\n",
       "      <td>7.0</td>\n",
       "      <td>25.0</td>\n",
       "      <td>20.0</td>\n",
       "      <td>78758.0</td>\n",
       "      <td>30.380373</td>\n",
       "      <td>-97.701526</td>\n",
       "      <td>1.98</td>\n",
       "      <td>2.630380</td>\n",
       "      <td>4.081013</td>\n",
       "      <td>13.589873</td>\n",
       "    </tr>\n",
       "    <tr>\n",
       "      <th>25477</th>\n",
       "      <td>15095.0</td>\n",
       "      <td>202016485-384044327-53129</td>\n",
       "      <td>WARNING</td>\n",
       "      <td>Male</td>\n",
       "      <td>White</td>\n",
       "      <td>YES - RACE OR ETHNICITY WAS KNOWN BEFORE STOP</td>\n",
       "      <td>Moving Traffic Violation</td>\n",
       "      <td>US Highway</td>\n",
       "      <td>NO</td>\n",
       "      <td>N/A - No Search was conducted</td>\n",
       "      <td>...</td>\n",
       "      <td>3.0</td>\n",
       "      <td>26.0</td>\n",
       "      <td>20.0</td>\n",
       "      <td>78753.0</td>\n",
       "      <td>30.376909</td>\n",
       "      <td>-97.670927</td>\n",
       "      <td>1.98</td>\n",
       "      <td>2.635747</td>\n",
       "      <td>3.922830</td>\n",
       "      <td>14.004525</td>\n",
       "    </tr>\n",
       "  </tbody>\n",
       "</table>\n",
       "<p>5 rows × 34 columns</p>\n",
       "</div>"
      ],
      "text/plain": [
       "       Unnamed: 0                   Stop_Key     Type TCOLE_Sex  \\\n",
       "35319      6612.0   20207082-459220271-61395  WARNING    Female   \n",
       "24781      6365.0   20206811-459899808-61702  WARNING      Male   \n",
       "6091      23870.0  202026277-459933900-44402  WARNING    Female   \n",
       "6457      27004.0  202029948-459944580-41280  WARNING    Female   \n",
       "25477     15095.0  202016485-384044327-53129  WARNING      Male   \n",
       "\n",
       "      TCOLE_RACE_ETHNICITY                           Standardized_Race_Known  \\\n",
       "35319                White  NO - RACE OR ETHNICITY WAS NOT KNOWN BEFORE STOP   \n",
       "24781                Black  NO - RACE OR ETHNICITY WAS NOT KNOWN BEFORE STOP   \n",
       "6091                 White  NO - RACE OR ETHNICITY WAS NOT KNOWN BEFORE STOP   \n",
       "6457                 White  NO - RACE OR ETHNICITY WAS NOT KNOWN BEFORE STOP   \n",
       "25477                White     YES - RACE OR ETHNICITY WAS KNOWN BEFORE STOP   \n",
       "\n",
       "                Reason_for_Stop    Street_Type Search_Yes_or_No  \\\n",
       "35319  Moving Traffic Violation    City Street               NO   \n",
       "24781  Moving Traffic Violation     US Highway               NO   \n",
       "6091   Moving Traffic Violation  State Highway               NO   \n",
       "6457   Moving Traffic Violation  State Highway               NO   \n",
       "25477  Moving Traffic Violation     US Highway               NO   \n",
       "\n",
       "               TCOLE_Search_Based_On  ... Stop_Month Stop_Day Stop_Year  \\\n",
       "35319  N/A - No Search was conducted  ...        2.0      6.0      20.0   \n",
       "24781  N/A - No Search was conducted  ...        2.0      5.0      20.0   \n",
       "6091   N/A - No Search was conducted  ...        6.0      9.0      20.0   \n",
       "6457   N/A - No Search was conducted  ...        7.0     25.0      20.0   \n",
       "25477  N/A - No Search was conducted  ...        3.0     26.0      20.0   \n",
       "\n",
       "      Zip_Code_1   latitude  longitude propertyTaxRate numPriceChanges  \\\n",
       "35319    78757.0  30.349227 -97.730877            1.98        3.053537   \n",
       "24781    78753.0  30.376909 -97.670927            1.98        2.635747   \n",
       "6091     78758.0  30.380373 -97.701526            1.98        2.630380   \n",
       "6457     78758.0  30.380373 -97.701526            1.98        2.630380   \n",
       "25477    78753.0  30.376909 -97.670927            1.98        2.635747   \n",
       "\n",
       "      avgSchoolRating MedianStudentsPerTeacher  \n",
       "35319        6.151699                15.246654  \n",
       "24781        3.922830                14.004525  \n",
       "6091         4.081013                13.589873  \n",
       "6457         4.081013                13.589873  \n",
       "25477        3.922830                14.004525  \n",
       "\n",
       "[5 rows x 34 columns]"
      ]
     },
     "execution_count": 40,
     "metadata": {},
     "output_type": "execute_result"
    }
   ],
   "source": [
    "train.head()"
   ]
  },
  {
   "cell_type": "code",
   "execution_count": 41,
   "id": "fea077e0",
   "metadata": {},
   "outputs": [
    {
     "data": {
      "text/plain": [
       "36216"
      ]
     },
     "execution_count": 41,
     "metadata": {},
     "output_type": "execute_result"
    }
   ],
   "source": [
    "len(train)"
   ]
  },
  {
   "cell_type": "code",
   "execution_count": 42,
   "id": "cba080ce",
   "metadata": {},
   "outputs": [
    {
     "data": {
      "text/plain": [
       "9055"
      ]
     },
     "execution_count": 42,
     "metadata": {},
     "output_type": "execute_result"
    }
   ],
   "source": [
    "len(test)"
   ]
  },
  {
   "cell_type": "code",
   "execution_count": 43,
   "id": "c8392499",
   "metadata": {},
   "outputs": [
    {
     "data": {
      "text/plain": [
       "Unnamed: 0                  float64\n",
       "Stop_Key                     object\n",
       "Type                         object\n",
       "TCOLE_Sex                    object\n",
       "TCOLE_RACE_ETHNICITY         object\n",
       "Standardized_Race_Known      object\n",
       "Reason_for_Stop              object\n",
       "Street_Type                  object\n",
       "Search_Yes_or_No             object\n",
       "TCOLE_Search_Based_On        object\n",
       "TCOLE_Search_Found           object\n",
       "TCOLE_Result_of_Stop         object\n",
       "TCOLE_Arrest_Based_On        object\n",
       "Council_District             object\n",
       "COUNTY                       object\n",
       "Custody                      object\n",
       "Location                     object\n",
       "Sector                       object\n",
       "Standardized_Race            object\n",
       "Stop_Date                    object\n",
       "Stop_Time                    object\n",
       "X_COORDINATE                float64\n",
       "Y_COORDINATE                float64\n",
       "Zip_Code                    float64\n",
       "Stop_Month                  float64\n",
       "Stop_Day                    float64\n",
       "Stop_Year                   float64\n",
       "Zip_Code_1                  float64\n",
       "latitude                    float64\n",
       "longitude                   float64\n",
       "propertyTaxRate             float64\n",
       "numPriceChanges             float64\n",
       "avgSchoolRating             float64\n",
       "MedianStudentsPerTeacher    float64\n",
       "dtype: object"
      ]
     },
     "execution_count": 43,
     "metadata": {},
     "output_type": "execute_result"
    }
   ],
   "source": [
    "train.dtypes"
   ]
  },
  {
   "cell_type": "code",
   "execution_count": 44,
   "id": "3ef860e3",
   "metadata": {},
   "outputs": [
    {
     "data": {
      "text/plain": [
       "Type                         object\n",
       "TCOLE_Sex                    object\n",
       "TCOLE_RACE_ETHNICITY         object\n",
       "Standardized_Race_Known      object\n",
       "Reason_for_Stop              object\n",
       "Street_Type                  object\n",
       "Search_Yes_or_No             object\n",
       "TCOLE_Search_Based_On        object\n",
       "TCOLE_Search_Found           object\n",
       "TCOLE_Result_of_Stop         object\n",
       "TCOLE_Arrest_Based_On        object\n",
       "Council_District             object\n",
       "COUNTY                       object\n",
       "Custody                      object\n",
       "Sector                       object\n",
       "Standardized_Race            object\n",
       "Stop_Date                    object\n",
       "Stop_Time                    object\n",
       "X_COORDINATE                float64\n",
       "Y_COORDINATE                float64\n",
       "Zip_Code                    float64\n",
       "Stop_Month                  float64\n",
       "Stop_Day                    float64\n",
       "Stop_Year                   float64\n",
       "Zip_Code_1                  float64\n",
       "latitude                    float64\n",
       "longitude                   float64\n",
       "propertyTaxRate             float64\n",
       "numPriceChanges             float64\n",
       "avgSchoolRating             float64\n",
       "MedianStudentsPerTeacher    float64\n",
       "dtype: object"
      ]
     },
     "execution_count": 44,
     "metadata": {},
     "output_type": "execute_result"
    }
   ],
   "source": [
    "train = train.drop('Unnamed: 0', axis=1)\n",
    "train = train.drop('Stop_Key', axis=1)\n",
    "train = train.drop('Location', axis=1)\n",
    "train.dtypes"
   ]
  },
  {
   "cell_type": "code",
   "execution_count": 45,
   "id": "2d03d7d9",
   "metadata": {},
   "outputs": [],
   "source": [
    "train = train.drop('Zip_Code_1', axis=1)"
   ]
  },
  {
   "cell_type": "code",
   "execution_count": 46,
   "id": "e8326db7",
   "metadata": {},
   "outputs": [],
   "source": [
    "X = train.drop('TCOLE_RACE_ETHNICITY', axis=1)\n",
    "y = train['TCOLE_RACE_ETHNICITY']\n",
    "from sklearn.model_selection import train_test_split\n",
    "X_train, X_test, y_train, y_test = train_test_split(X, y,\n",
    "test_size=0.2)"
   ]
  },
  {
   "cell_type": "code",
   "execution_count": 47,
   "id": "d1d19b84",
   "metadata": {},
   "outputs": [],
   "source": [
    "from sklearn.pipeline import Pipeline\n",
    "from sklearn.impute import SimpleImputer\n",
    "from sklearn.preprocessing import StandardScaler, OneHotEncoder\n",
    "\n",
    "numeric_transformer = Pipeline(steps=[('imputer', SimpleImputer(strategy='median')),('scaler', StandardScaler())])\n",
    "\n",
    "categorical_transformer = Pipeline(steps=[('imputer', SimpleImputer(strategy='constant',fill_value='missing')),\n",
    "                                          ('onehot', OneHotEncoder(handle_unknown='ignore'))])\n"
   ]
  },
  {
   "cell_type": "code",
   "execution_count": 48,
   "id": "18ecc1de",
   "metadata": {},
   "outputs": [],
   "source": [
    "numeric_features = train.select_dtypes(include=['int64','float64']).columns\n",
    "\n",
    "categorical_features = train.select_dtypes(include=['object']).drop(['TCOLE_RACE_ETHNICITY'], axis=1).columns\n",
    "\n",
    "from sklearn.compose import ColumnTransformer\n",
    "\n",
    "preprocessor = ColumnTransformer( transformers=[('num', numeric_transformer, numeric_features),\n",
    "                                                ('cat', categorical_transformer, categorical_features)])"
   ]
  },
  {
   "cell_type": "code",
   "execution_count": 49,
   "id": "3382a6ff",
   "metadata": {},
   "outputs": [
    {
     "data": {
      "text/plain": [
       "Index(['X_COORDINATE', 'Y_COORDINATE', 'Zip_Code', 'Stop_Month', 'Stop_Day',\n",
       "       'Stop_Year', 'latitude', 'longitude', 'propertyTaxRate',\n",
       "       'numPriceChanges', 'avgSchoolRating', 'MedianStudentsPerTeacher'],\n",
       "      dtype='object')"
      ]
     },
     "execution_count": 49,
     "metadata": {},
     "output_type": "execute_result"
    }
   ],
   "source": [
    "numeric_features"
   ]
  },
  {
   "cell_type": "code",
   "execution_count": 50,
   "id": "5eb23ae9",
   "metadata": {},
   "outputs": [
    {
     "data": {
      "text/plain": [
       "Index(['Type', 'TCOLE_Sex', 'Standardized_Race_Known', 'Reason_for_Stop',\n",
       "       'Street_Type', 'Search_Yes_or_No', 'TCOLE_Search_Based_On',\n",
       "       'TCOLE_Search_Found', 'TCOLE_Result_of_Stop', 'TCOLE_Arrest_Based_On',\n",
       "       'Council_District', 'COUNTY', 'Custody', 'Sector', 'Standardized_Race',\n",
       "       'Stop_Date', 'Stop_Time'],\n",
       "      dtype='object')"
      ]
     },
     "execution_count": 50,
     "metadata": {},
     "output_type": "execute_result"
    }
   ],
   "source": [
    "categorical_features"
   ]
  },
  {
   "cell_type": "code",
   "execution_count": 51,
   "id": "91614912",
   "metadata": {},
   "outputs": [
    {
     "data": {
      "text/plain": [
       "scipy.sparse.csr.csr_matrix"
      ]
     },
     "execution_count": 51,
     "metadata": {},
     "output_type": "execute_result"
    }
   ],
   "source": [
    "post = preprocessor.fit_transform(train)\n",
    "type(post)\n",
    "#post_pd = pd.DataFrame(post)\n",
    "#post_pd.describe()"
   ]
  },
  {
   "cell_type": "markdown",
   "id": "ff6297c8",
   "metadata": {},
   "source": [
    "post_pd = pd.DataFrame(post.toarray())\n",
    "post_pd.describe()"
   ]
  },
  {
   "cell_type": "markdown",
   "id": "47179452",
   "metadata": {},
   "source": [
    "np.unique(train['TCOLE_RACE_ETHNICITY'], return_counts = True)"
   ]
  },
  {
   "cell_type": "markdown",
   "id": "73e8e322",
   "metadata": {},
   "source": [
    "## Fitting the Random Forest Classifier\n",
    "The next step is to create a pipeline that combines the preprocessor created above with a\n",
    "classifier. In this case I have used a simple RandomForestClassifier to start with."
   ]
  },
  {
   "cell_type": "code",
   "execution_count": 81,
   "id": "de1907d9",
   "metadata": {},
   "outputs": [],
   "source": [
    "from sklearn.ensemble import RandomForestClassifier\n",
    "rf = Pipeline(steps=[('preprocessor', preprocessor),\n",
    "('classifier', RandomForestClassifier(n_estimators = 13, max_depth=10))])"
   ]
  },
  {
   "cell_type": "markdown",
   "id": "0e6a7739",
   "metadata": {},
   "source": [
    "You can then simply call the fit method on the raw data and the preprocessing steps will\n",
    "be applied followed by training the classifier."
   ]
  },
  {
   "cell_type": "code",
   "execution_count": 82,
   "id": "34f95da4",
   "metadata": {},
   "outputs": [
    {
     "data": {
      "text/plain": [
       "Pipeline(steps=[('preprocessor',\n",
       "                 ColumnTransformer(transformers=[('num',\n",
       "                                                  Pipeline(steps=[('imputer',\n",
       "                                                                   SimpleImputer(strategy='median')),\n",
       "                                                                  ('scaler',\n",
       "                                                                   StandardScaler())]),\n",
       "                                                  Index(['X_COORDINATE', 'Y_COORDINATE', 'Zip_Code', 'Stop_Month', 'Stop_Day',\n",
       "       'Stop_Year', 'latitude', 'longitude', 'propertyTaxRate',\n",
       "       'numPriceChanges', 'avgSchoolRating', 'MedianStudentsPerTeacher']...\n",
       "                                                  Index(['Type', 'TCOLE_Sex', 'Standardized_Race_Known', 'Reason_for_Stop',\n",
       "       'Street_Type', 'Search_Yes_or_No', 'TCOLE_Search_Based_On',\n",
       "       'TCOLE_Search_Found', 'TCOLE_Result_of_Stop', 'TCOLE_Arrest_Based_On',\n",
       "       'Council_District', 'COUNTY', 'Custody', 'Sector', 'Standardized_Race',\n",
       "       'Stop_Date', 'Stop_Time'],\n",
       "      dtype='object'))])),\n",
       "                ('classifier',\n",
       "                 RandomForestClassifier(max_depth=8, n_estimators=13))])"
      ]
     },
     "execution_count": 82,
     "metadata": {},
     "output_type": "execute_result"
    }
   ],
   "source": [
    "rf.fit(X_train, y_train)"
   ]
  },
  {
   "cell_type": "markdown",
   "id": "e43f3bcb",
   "metadata": {},
   "source": [
    "To predict on new data it is as simple as calling the predict method and the\n",
    "preprocessing steps will be applied followed by the prediction."
   ]
  },
  {
   "cell_type": "code",
   "execution_count": 55,
   "id": "1852657d",
   "metadata": {},
   "outputs": [
    {
     "name": "stderr",
     "output_type": "stream",
     "text": [
      "/usr/local/share/anaconda3/envs/ds420/lib/python3.7/site-packages/sklearn/metrics/_classification.py:1248: UndefinedMetricWarning: Precision is ill-defined and being set to 0.0 in labels with no predicted samples. Use `zero_division` parameter to control this behavior.\n",
      "  _warn_prf(average, modifier, msg_start, len(result))\n",
      "/usr/local/share/anaconda3/envs/ds420/lib/python3.7/site-packages/sklearn/model_selection/_split.py:668: UserWarning: The least populated class in y has only 5 members, which is less than n_splits=8.\n",
      "  % (min_groups, self.n_splits)), UserWarning)\n",
      "/usr/local/share/anaconda3/envs/ds420/lib/python3.7/site-packages/sklearn/metrics/_classification.py:1248: UndefinedMetricWarning: Precision is ill-defined and being set to 0.0 in labels with no predicted samples. Use `zero_division` parameter to control this behavior.\n",
      "  _warn_prf(average, modifier, msg_start, len(result))\n"
     ]
    }
   ],
   "source": [
    "from sklearn.model_selection import train_test_split\n",
    "from sklearn.metrics import accuracy_score\n",
    "import matplotlib.pyplot as plt\n",
    "from sklearn.metrics import confusion_matrix, accuracy_score, precision_score, recall_score\n",
    "from sklearn.model_selection import cross_val_predict\n",
    "\n",
    "\n",
    "train_pred = rf.predict (X_train)\n",
    "train_precn = precision_score (y_train, train_pred, average='macro')\n",
    "train_recal = recall_score (y_train, train_pred, average='macro')\n",
    "\n",
    "cv_pred = cross_val_predict (rf, X_train, y_train, cv=8)\n",
    "cv_precn = precision_score (y_train, cv_pred, average='macro')\n",
    "cv_recal = recall_score (y_train, cv_pred, average='macro')\n",
    "\n",
    "\n",
    "\n"
   ]
  },
  {
   "cell_type": "code",
   "execution_count": 56,
   "id": "08210f83",
   "metadata": {},
   "outputs": [
    {
     "data": {
      "image/png": "[encoded data removed]",
      "text/plain": [
       "<Figure size 432x432 with 1 Axes>"
      ]
     },
     "metadata": {
      "needs_background": "light"
     },
     "output_type": "display_data"
    },
    {
     "name": "stdout",
     "output_type": "stream",
     "text": [
      "Training precision 0.7306\n",
      "Training recall 0.4015\n"
     ]
    }
   ],
   "source": [
    "from mlxtend.plotting import plot_confusion_matrix\n",
    "\n",
    "conf_matrix = confusion_matrix (y_train, train_pred)\n",
    "fig, ax = plot_confusion_matrix(conf_mat=conf_matrix, figsize=(6, 6), cmap=plt.cm.Greens)\n",
    "plt.xlabel('Predictions', fontsize=18)\n",
    "plt.ylabel('Actuals', fontsize=18)\n",
    "plt.title('Confusion Matrix', fontsize=18)\n",
    "plt.show()\n",
    "\n",
    "print (\"Training precision\", np.round (train_precn, 4))\n",
    "print (\"Training recall\", np.round (train_recal, 4))\n",
    "\n"
   ]
  },
  {
   "cell_type": "code",
   "execution_count": 57,
   "id": "31b6f6f9",
   "metadata": {},
   "outputs": [
    {
     "data": {
      "image/png": "[encoded data removed]",
      "text/plain": [
       "<Figure size 432x432 with 1 Axes>"
      ]
     },
     "metadata": {
      "needs_background": "light"
     },
     "output_type": "display_data"
    },
    {
     "name": "stdout",
     "output_type": "stream",
     "text": [
      "Cross-Val precision 0.7381\n",
      "Cross-Val recall 0.5077\n"
     ]
    }
   ],
   "source": [
    "from mlxtend.plotting import plot_confusion_matrix\n",
    "\n",
    "conf_matrix = confusion_matrix (y_train, cv_pred)\n",
    "\n",
    "fig, ax = plot_confusion_matrix(conf_mat=conf_matrix, figsize=(6, 6), cmap=plt.cm.Greens)\n",
    "plt.xlabel('Predictions', fontsize=18)\n",
    "plt.ylabel('Actuals', fontsize=18)\n",
    "plt.title('Confusion Matrix', fontsize=18)\n",
    "plt.show()\n",
    "\n",
    "print (\"Cross-Val precision\", np.round (cv_precn, 4))\n",
    "print (\"Cross-Val recall\", np.round (cv_recal, 4))"
   ]
  },
  {
   "cell_type": "markdown",
   "id": "77a141e6",
   "metadata": {},
   "source": [
    "## Cross Validation on the training Set"
   ]
  },
  {
   "cell_type": "code",
   "execution_count": 58,
   "id": "a8471f11",
   "metadata": {},
   "outputs": [
    {
     "name": "stdout",
     "output_type": "stream",
     "text": [
      "nobs= 999\n"
     ]
    },
    {
     "name": "stderr",
     "output_type": "stream",
     "text": [
      "/usr/local/share/anaconda3/envs/ds420/lib/python3.7/site-packages/sklearn/metrics/_classification.py:1248: UndefinedMetricWarning: Precision is ill-defined and being set to 0.0 in labels with no predicted samples. Use `zero_division` parameter to control this behavior.\n",
      "  _warn_prf(average, modifier, msg_start, len(result))\n"
     ]
    },
    {
     "name": "stdout",
     "output_type": "stream",
     "text": [
      "nobs= 1999\n"
     ]
    },
    {
     "name": "stderr",
     "output_type": "stream",
     "text": [
      "/usr/local/share/anaconda3/envs/ds420/lib/python3.7/site-packages/sklearn/metrics/_classification.py:1248: UndefinedMetricWarning: Precision is ill-defined and being set to 0.0 in labels with no predicted samples. Use `zero_division` parameter to control this behavior.\n",
      "  _warn_prf(average, modifier, msg_start, len(result))\n"
     ]
    },
    {
     "name": "stdout",
     "output_type": "stream",
     "text": [
      "nobs= 2999\n"
     ]
    },
    {
     "name": "stderr",
     "output_type": "stream",
     "text": [
      "/usr/local/share/anaconda3/envs/ds420/lib/python3.7/site-packages/sklearn/metrics/_classification.py:1248: UndefinedMetricWarning: Precision is ill-defined and being set to 0.0 in labels with no predicted samples. Use `zero_division` parameter to control this behavior.\n",
      "  _warn_prf(average, modifier, msg_start, len(result))\n"
     ]
    },
    {
     "name": "stdout",
     "output_type": "stream",
     "text": [
      "nobs= 3999\n"
     ]
    },
    {
     "name": "stderr",
     "output_type": "stream",
     "text": [
      "/usr/local/share/anaconda3/envs/ds420/lib/python3.7/site-packages/sklearn/metrics/_classification.py:1248: UndefinedMetricWarning: Precision is ill-defined and being set to 0.0 in labels with no predicted samples. Use `zero_division` parameter to control this behavior.\n",
      "  _warn_prf(average, modifier, msg_start, len(result))\n"
     ]
    },
    {
     "name": "stdout",
     "output_type": "stream",
     "text": [
      "nobs= 4999\n"
     ]
    },
    {
     "name": "stderr",
     "output_type": "stream",
     "text": [
      "/usr/local/share/anaconda3/envs/ds420/lib/python3.7/site-packages/sklearn/metrics/_classification.py:1248: UndefinedMetricWarning: Precision is ill-defined and being set to 0.0 in labels with no predicted samples. Use `zero_division` parameter to control this behavior.\n",
      "  _warn_prf(average, modifier, msg_start, len(result))\n"
     ]
    },
    {
     "name": "stdout",
     "output_type": "stream",
     "text": [
      "nobs= 5999\n"
     ]
    },
    {
     "name": "stderr",
     "output_type": "stream",
     "text": [
      "/usr/local/share/anaconda3/envs/ds420/lib/python3.7/site-packages/sklearn/metrics/_classification.py:1248: UndefinedMetricWarning: Precision is ill-defined and being set to 0.0 in labels with no predicted samples. Use `zero_division` parameter to control this behavior.\n",
      "  _warn_prf(average, modifier, msg_start, len(result))\n"
     ]
    },
    {
     "name": "stdout",
     "output_type": "stream",
     "text": [
      "nobs= 6999\n"
     ]
    },
    {
     "name": "stderr",
     "output_type": "stream",
     "text": [
      "/usr/local/share/anaconda3/envs/ds420/lib/python3.7/site-packages/sklearn/metrics/_classification.py:1248: UndefinedMetricWarning: Precision is ill-defined and being set to 0.0 in labels with no predicted samples. Use `zero_division` parameter to control this behavior.\n",
      "  _warn_prf(average, modifier, msg_start, len(result))\n",
      "/usr/local/share/anaconda3/envs/ds420/lib/python3.7/site-packages/sklearn/metrics/_classification.py:1248: UndefinedMetricWarning: Precision is ill-defined and being set to 0.0 in labels with no predicted samples. Use `zero_division` parameter to control this behavior.\n",
      "  _warn_prf(average, modifier, msg_start, len(result))\n"
     ]
    },
    {
     "name": "stdout",
     "output_type": "stream",
     "text": [
      "nobs= 7999\n"
     ]
    },
    {
     "name": "stderr",
     "output_type": "stream",
     "text": [
      "/usr/local/share/anaconda3/envs/ds420/lib/python3.7/site-packages/sklearn/metrics/_classification.py:1248: UndefinedMetricWarning: Precision is ill-defined and being set to 0.0 in labels with no predicted samples. Use `zero_division` parameter to control this behavior.\n",
      "  _warn_prf(average, modifier, msg_start, len(result))\n",
      "/usr/local/share/anaconda3/envs/ds420/lib/python3.7/site-packages/sklearn/metrics/_classification.py:1248: UndefinedMetricWarning: Precision is ill-defined and being set to 0.0 in labels with no predicted samples. Use `zero_division` parameter to control this behavior.\n",
      "  _warn_prf(average, modifier, msg_start, len(result))\n"
     ]
    },
    {
     "name": "stdout",
     "output_type": "stream",
     "text": [
      "nobs= 8999\n"
     ]
    },
    {
     "name": "stderr",
     "output_type": "stream",
     "text": [
      "/usr/local/share/anaconda3/envs/ds420/lib/python3.7/site-packages/sklearn/metrics/_classification.py:1248: UndefinedMetricWarning: Precision is ill-defined and being set to 0.0 in labels with no predicted samples. Use `zero_division` parameter to control this behavior.\n",
      "  _warn_prf(average, modifier, msg_start, len(result))\n",
      "/usr/local/share/anaconda3/envs/ds420/lib/python3.7/site-packages/sklearn/metrics/_classification.py:1248: UndefinedMetricWarning: Precision is ill-defined and being set to 0.0 in labels with no predicted samples. Use `zero_division` parameter to control this behavior.\n",
      "  _warn_prf(average, modifier, msg_start, len(result))\n"
     ]
    },
    {
     "name": "stdout",
     "output_type": "stream",
     "text": [
      "nobs= 9999\n"
     ]
    },
    {
     "name": "stderr",
     "output_type": "stream",
     "text": [
      "/usr/local/share/anaconda3/envs/ds420/lib/python3.7/site-packages/sklearn/metrics/_classification.py:1248: UndefinedMetricWarning: Precision is ill-defined and being set to 0.0 in labels with no predicted samples. Use `zero_division` parameter to control this behavior.\n",
      "  _warn_prf(average, modifier, msg_start, len(result))\n",
      "/usr/local/share/anaconda3/envs/ds420/lib/python3.7/site-packages/sklearn/metrics/_classification.py:1248: UndefinedMetricWarning: Precision is ill-defined and being set to 0.0 in labels with no predicted samples. Use `zero_division` parameter to control this behavior.\n",
      "  _warn_prf(average, modifier, msg_start, len(result))\n"
     ]
    },
    {
     "name": "stdout",
     "output_type": "stream",
     "text": [
      "nobs= 10999\n"
     ]
    },
    {
     "name": "stderr",
     "output_type": "stream",
     "text": [
      "/usr/local/share/anaconda3/envs/ds420/lib/python3.7/site-packages/sklearn/metrics/_classification.py:1248: UndefinedMetricWarning: Precision is ill-defined and being set to 0.0 in labels with no predicted samples. Use `zero_division` parameter to control this behavior.\n",
      "  _warn_prf(average, modifier, msg_start, len(result))\n",
      "/usr/local/share/anaconda3/envs/ds420/lib/python3.7/site-packages/sklearn/metrics/_classification.py:1248: UndefinedMetricWarning: Precision is ill-defined and being set to 0.0 in labels with no predicted samples. Use `zero_division` parameter to control this behavior.\n",
      "  _warn_prf(average, modifier, msg_start, len(result))\n"
     ]
    },
    {
     "name": "stdout",
     "output_type": "stream",
     "text": [
      "nobs= 11999\n"
     ]
    },
    {
     "name": "stderr",
     "output_type": "stream",
     "text": [
      "/usr/local/share/anaconda3/envs/ds420/lib/python3.7/site-packages/sklearn/metrics/_classification.py:1248: UndefinedMetricWarning: Precision is ill-defined and being set to 0.0 in labels with no predicted samples. Use `zero_division` parameter to control this behavior.\n",
      "  _warn_prf(average, modifier, msg_start, len(result))\n",
      "/usr/local/share/anaconda3/envs/ds420/lib/python3.7/site-packages/sklearn/metrics/_classification.py:1248: UndefinedMetricWarning: Precision is ill-defined and being set to 0.0 in labels with no predicted samples. Use `zero_division` parameter to control this behavior.\n",
      "  _warn_prf(average, modifier, msg_start, len(result))\n"
     ]
    },
    {
     "name": "stdout",
     "output_type": "stream",
     "text": [
      "nobs= 12999\n"
     ]
    },
    {
     "name": "stderr",
     "output_type": "stream",
     "text": [
      "/usr/local/share/anaconda3/envs/ds420/lib/python3.7/site-packages/sklearn/metrics/_classification.py:1248: UndefinedMetricWarning: Precision is ill-defined and being set to 0.0 in labels with no predicted samples. Use `zero_division` parameter to control this behavior.\n",
      "  _warn_prf(average, modifier, msg_start, len(result))\n",
      "/usr/local/share/anaconda3/envs/ds420/lib/python3.7/site-packages/sklearn/metrics/_classification.py:1248: UndefinedMetricWarning: Precision is ill-defined and being set to 0.0 in labels with no predicted samples. Use `zero_division` parameter to control this behavior.\n",
      "  _warn_prf(average, modifier, msg_start, len(result))\n"
     ]
    },
    {
     "name": "stdout",
     "output_type": "stream",
     "text": [
      "nobs= 13999\n"
     ]
    },
    {
     "name": "stderr",
     "output_type": "stream",
     "text": [
      "/usr/local/share/anaconda3/envs/ds420/lib/python3.7/site-packages/sklearn/metrics/_classification.py:1248: UndefinedMetricWarning: Precision is ill-defined and being set to 0.0 in labels with no predicted samples. Use `zero_division` parameter to control this behavior.\n",
      "  _warn_prf(average, modifier, msg_start, len(result))\n",
      "/usr/local/share/anaconda3/envs/ds420/lib/python3.7/site-packages/sklearn/metrics/_classification.py:1248: UndefinedMetricWarning: Precision is ill-defined and being set to 0.0 in labels with no predicted samples. Use `zero_division` parameter to control this behavior.\n",
      "  _warn_prf(average, modifier, msg_start, len(result))\n"
     ]
    },
    {
     "name": "stdout",
     "output_type": "stream",
     "text": [
      "nobs= 14999\n"
     ]
    },
    {
     "name": "stderr",
     "output_type": "stream",
     "text": [
      "/usr/local/share/anaconda3/envs/ds420/lib/python3.7/site-packages/sklearn/metrics/_classification.py:1248: UndefinedMetricWarning: Precision is ill-defined and being set to 0.0 in labels with no predicted samples. Use `zero_division` parameter to control this behavior.\n",
      "  _warn_prf(average, modifier, msg_start, len(result))\n",
      "/usr/local/share/anaconda3/envs/ds420/lib/python3.7/site-packages/sklearn/metrics/_classification.py:1248: UndefinedMetricWarning: Precision is ill-defined and being set to 0.0 in labels with no predicted samples. Use `zero_division` parameter to control this behavior.\n",
      "  _warn_prf(average, modifier, msg_start, len(result))\n"
     ]
    },
    {
     "name": "stdout",
     "output_type": "stream",
     "text": [
      "nobs= 15999\n"
     ]
    },
    {
     "name": "stderr",
     "output_type": "stream",
     "text": [
      "/usr/local/share/anaconda3/envs/ds420/lib/python3.7/site-packages/sklearn/metrics/_classification.py:1248: UndefinedMetricWarning: Precision is ill-defined and being set to 0.0 in labels with no predicted samples. Use `zero_division` parameter to control this behavior.\n",
      "  _warn_prf(average, modifier, msg_start, len(result))\n",
      "/usr/local/share/anaconda3/envs/ds420/lib/python3.7/site-packages/sklearn/metrics/_classification.py:1248: UndefinedMetricWarning: Precision is ill-defined and being set to 0.0 in labels with no predicted samples. Use `zero_division` parameter to control this behavior.\n",
      "  _warn_prf(average, modifier, msg_start, len(result))\n"
     ]
    },
    {
     "name": "stdout",
     "output_type": "stream",
     "text": [
      "nobs= 16999\n"
     ]
    },
    {
     "name": "stderr",
     "output_type": "stream",
     "text": [
      "/usr/local/share/anaconda3/envs/ds420/lib/python3.7/site-packages/sklearn/metrics/_classification.py:1248: UndefinedMetricWarning: Precision is ill-defined and being set to 0.0 in labels with no predicted samples. Use `zero_division` parameter to control this behavior.\n",
      "  _warn_prf(average, modifier, msg_start, len(result))\n",
      "/usr/local/share/anaconda3/envs/ds420/lib/python3.7/site-packages/sklearn/metrics/_classification.py:1248: UndefinedMetricWarning: Precision is ill-defined and being set to 0.0 in labels with no predicted samples. Use `zero_division` parameter to control this behavior.\n",
      "  _warn_prf(average, modifier, msg_start, len(result))\n"
     ]
    },
    {
     "name": "stdout",
     "output_type": "stream",
     "text": [
      "nobs= 17999\n"
     ]
    },
    {
     "name": "stderr",
     "output_type": "stream",
     "text": [
      "/usr/local/share/anaconda3/envs/ds420/lib/python3.7/site-packages/sklearn/metrics/_classification.py:1248: UndefinedMetricWarning: Precision is ill-defined and being set to 0.0 in labels with no predicted samples. Use `zero_division` parameter to control this behavior.\n",
      "  _warn_prf(average, modifier, msg_start, len(result))\n",
      "/usr/local/share/anaconda3/envs/ds420/lib/python3.7/site-packages/sklearn/metrics/_classification.py:1248: UndefinedMetricWarning: Precision is ill-defined and being set to 0.0 in labels with no predicted samples. Use `zero_division` parameter to control this behavior.\n",
      "  _warn_prf(average, modifier, msg_start, len(result))\n"
     ]
    },
    {
     "name": "stdout",
     "output_type": "stream",
     "text": [
      "nobs= 18999\n"
     ]
    },
    {
     "name": "stderr",
     "output_type": "stream",
     "text": [
      "/usr/local/share/anaconda3/envs/ds420/lib/python3.7/site-packages/sklearn/metrics/_classification.py:1248: UndefinedMetricWarning: Precision is ill-defined and being set to 0.0 in labels with no predicted samples. Use `zero_division` parameter to control this behavior.\n",
      "  _warn_prf(average, modifier, msg_start, len(result))\n",
      "/usr/local/share/anaconda3/envs/ds420/lib/python3.7/site-packages/sklearn/metrics/_classification.py:1248: UndefinedMetricWarning: Precision is ill-defined and being set to 0.0 in labels with no predicted samples. Use `zero_division` parameter to control this behavior.\n",
      "  _warn_prf(average, modifier, msg_start, len(result))\n"
     ]
    },
    {
     "name": "stdout",
     "output_type": "stream",
     "text": [
      "nobs= 19999\n"
     ]
    },
    {
     "name": "stderr",
     "output_type": "stream",
     "text": [
      "/usr/local/share/anaconda3/envs/ds420/lib/python3.7/site-packages/sklearn/metrics/_classification.py:1248: UndefinedMetricWarning: Precision is ill-defined and being set to 0.0 in labels with no predicted samples. Use `zero_division` parameter to control this behavior.\n",
      "  _warn_prf(average, modifier, msg_start, len(result))\n",
      "/usr/local/share/anaconda3/envs/ds420/lib/python3.7/site-packages/sklearn/metrics/_classification.py:1248: UndefinedMetricWarning: Precision is ill-defined and being set to 0.0 in labels with no predicted samples. Use `zero_division` parameter to control this behavior.\n",
      "  _warn_prf(average, modifier, msg_start, len(result))\n"
     ]
    },
    {
     "name": "stdout",
     "output_type": "stream",
     "text": [
      "nobs= 20999\n"
     ]
    },
    {
     "name": "stderr",
     "output_type": "stream",
     "text": [
      "/usr/local/share/anaconda3/envs/ds420/lib/python3.7/site-packages/sklearn/metrics/_classification.py:1248: UndefinedMetricWarning: Precision is ill-defined and being set to 0.0 in labels with no predicted samples. Use `zero_division` parameter to control this behavior.\n",
      "  _warn_prf(average, modifier, msg_start, len(result))\n",
      "/usr/local/share/anaconda3/envs/ds420/lib/python3.7/site-packages/sklearn/metrics/_classification.py:1248: UndefinedMetricWarning: Precision is ill-defined and being set to 0.0 in labels with no predicted samples. Use `zero_division` parameter to control this behavior.\n",
      "  _warn_prf(average, modifier, msg_start, len(result))\n"
     ]
    },
    {
     "name": "stdout",
     "output_type": "stream",
     "text": [
      "nobs= 21999\n"
     ]
    },
    {
     "name": "stderr",
     "output_type": "stream",
     "text": [
      "/usr/local/share/anaconda3/envs/ds420/lib/python3.7/site-packages/sklearn/metrics/_classification.py:1248: UndefinedMetricWarning: Precision is ill-defined and being set to 0.0 in labels with no predicted samples. Use `zero_division` parameter to control this behavior.\n",
      "  _warn_prf(average, modifier, msg_start, len(result))\n",
      "/usr/local/share/anaconda3/envs/ds420/lib/python3.7/site-packages/sklearn/metrics/_classification.py:1248: UndefinedMetricWarning: Precision is ill-defined and being set to 0.0 in labels with no predicted samples. Use `zero_division` parameter to control this behavior.\n",
      "  _warn_prf(average, modifier, msg_start, len(result))\n"
     ]
    },
    {
     "name": "stdout",
     "output_type": "stream",
     "text": [
      "nobs= 22999\n"
     ]
    },
    {
     "name": "stderr",
     "output_type": "stream",
     "text": [
      "/usr/local/share/anaconda3/envs/ds420/lib/python3.7/site-packages/sklearn/metrics/_classification.py:1248: UndefinedMetricWarning: Precision is ill-defined and being set to 0.0 in labels with no predicted samples. Use `zero_division` parameter to control this behavior.\n",
      "  _warn_prf(average, modifier, msg_start, len(result))\n",
      "/usr/local/share/anaconda3/envs/ds420/lib/python3.7/site-packages/sklearn/metrics/_classification.py:1248: UndefinedMetricWarning: Precision is ill-defined and being set to 0.0 in labels with no predicted samples. Use `zero_division` parameter to control this behavior.\n",
      "  _warn_prf(average, modifier, msg_start, len(result))\n"
     ]
    },
    {
     "name": "stdout",
     "output_type": "stream",
     "text": [
      "nobs= 23999\n"
     ]
    },
    {
     "name": "stderr",
     "output_type": "stream",
     "text": [
      "/usr/local/share/anaconda3/envs/ds420/lib/python3.7/site-packages/sklearn/metrics/_classification.py:1248: UndefinedMetricWarning: Precision is ill-defined and being set to 0.0 in labels with no predicted samples. Use `zero_division` parameter to control this behavior.\n",
      "  _warn_prf(average, modifier, msg_start, len(result))\n",
      "/usr/local/share/anaconda3/envs/ds420/lib/python3.7/site-packages/sklearn/metrics/_classification.py:1248: UndefinedMetricWarning: Precision is ill-defined and being set to 0.0 in labels with no predicted samples. Use `zero_division` parameter to control this behavior.\n",
      "  _warn_prf(average, modifier, msg_start, len(result))\n"
     ]
    },
    {
     "name": "stdout",
     "output_type": "stream",
     "text": [
      "nobs= 24999\n"
     ]
    },
    {
     "name": "stderr",
     "output_type": "stream",
     "text": [
      "/usr/local/share/anaconda3/envs/ds420/lib/python3.7/site-packages/sklearn/metrics/_classification.py:1248: UndefinedMetricWarning: Precision is ill-defined and being set to 0.0 in labels with no predicted samples. Use `zero_division` parameter to control this behavior.\n",
      "  _warn_prf(average, modifier, msg_start, len(result))\n",
      "/usr/local/share/anaconda3/envs/ds420/lib/python3.7/site-packages/sklearn/metrics/_classification.py:1248: UndefinedMetricWarning: Precision is ill-defined and being set to 0.0 in labels with no predicted samples. Use `zero_division` parameter to control this behavior.\n",
      "  _warn_prf(average, modifier, msg_start, len(result))\n"
     ]
    },
    {
     "name": "stdout",
     "output_type": "stream",
     "text": [
      "nobs= 25999\n"
     ]
    },
    {
     "name": "stderr",
     "output_type": "stream",
     "text": [
      "/usr/local/share/anaconda3/envs/ds420/lib/python3.7/site-packages/sklearn/metrics/_classification.py:1248: UndefinedMetricWarning: Precision is ill-defined and being set to 0.0 in labels with no predicted samples. Use `zero_division` parameter to control this behavior.\n",
      "  _warn_prf(average, modifier, msg_start, len(result))\n",
      "/usr/local/share/anaconda3/envs/ds420/lib/python3.7/site-packages/sklearn/metrics/_classification.py:1248: UndefinedMetricWarning: Precision is ill-defined and being set to 0.0 in labels with no predicted samples. Use `zero_division` parameter to control this behavior.\n",
      "  _warn_prf(average, modifier, msg_start, len(result))\n"
     ]
    },
    {
     "name": "stdout",
     "output_type": "stream",
     "text": [
      "nobs= 26999\n"
     ]
    },
    {
     "name": "stderr",
     "output_type": "stream",
     "text": [
      "/usr/local/share/anaconda3/envs/ds420/lib/python3.7/site-packages/sklearn/metrics/_classification.py:1248: UndefinedMetricWarning: Precision is ill-defined and being set to 0.0 in labels with no predicted samples. Use `zero_division` parameter to control this behavior.\n",
      "  _warn_prf(average, modifier, msg_start, len(result))\n",
      "/usr/local/share/anaconda3/envs/ds420/lib/python3.7/site-packages/sklearn/metrics/_classification.py:1248: UndefinedMetricWarning: Precision is ill-defined and being set to 0.0 in labels with no predicted samples. Use `zero_division` parameter to control this behavior.\n",
      "  _warn_prf(average, modifier, msg_start, len(result))\n"
     ]
    },
    {
     "name": "stdout",
     "output_type": "stream",
     "text": [
      "nobs= 27999\n"
     ]
    },
    {
     "name": "stderr",
     "output_type": "stream",
     "text": [
      "/usr/local/share/anaconda3/envs/ds420/lib/python3.7/site-packages/sklearn/metrics/_classification.py:1248: UndefinedMetricWarning: Precision is ill-defined and being set to 0.0 in labels with no predicted samples. Use `zero_division` parameter to control this behavior.\n",
      "  _warn_prf(average, modifier, msg_start, len(result))\n",
      "/usr/local/share/anaconda3/envs/ds420/lib/python3.7/site-packages/sklearn/metrics/_classification.py:1248: UndefinedMetricWarning: Precision is ill-defined and being set to 0.0 in labels with no predicted samples. Use `zero_division` parameter to control this behavior.\n",
      "  _warn_prf(average, modifier, msg_start, len(result))\n"
     ]
    },
    {
     "data": {
      "image/png": "[encoded data removed]",
      "text/plain": [
       "<Figure size 1080x360 with 3 Axes>"
      ]
     },
     "metadata": {
      "needs_background": "light"
     },
     "output_type": "display_data"
    }
   ],
   "source": [
    "# Learning curve for RandomForest classifier\n",
    "\n",
    "from sklearn.model_selection import train_test_split\n",
    "from sklearn.metrics import accuracy_score\n",
    "import matplotlib.pyplot as plt\n",
    "\n",
    "startobs = 999\n",
    "increment = 1000\n",
    "\n",
    "test_img = X_test\n",
    "\n",
    "def plot_curve (pltid, x, y1, y2, ylab):\n",
    "    pltid.plot(x, y1, \"r-+\", linewidth=2, label=\"train\")\n",
    "    pltid.plot(x, y2, \"b-\", linewidth=3, label=\"val\")\n",
    "    pltid.legend()\n",
    "    pltid.set_title (ylab) \n",
    "\n",
    "def plot_learning_curves(model, X, y):\n",
    "    #X_train, X_val, y_train, y_val = train_test_split(X, y, test_size=0.2, random_state=42)\n",
    "    #print (\"Validation set labels:\", y_val)\n",
    "    train_accur, val_accur, train_precn, val_precn, train_recall, val_recall, n_obs = [], [], [], [], [], [], []\n",
    "    for m in range(startobs, len(X_train), increment):\n",
    "        print (\"nobs=\", m)\n",
    "        model.fit (X[:m], y[:m])\n",
    "        \n",
    "        y_train_predict = model.predict (X[:m])\n",
    "        y_val_predict = model.predict (X)\n",
    "        \n",
    "        train_accur.append (accuracy_score(y [:m], y_train_predict))\n",
    "        train_precn.append (precision_score(y [:m], y_train_predict, average='macro'))\n",
    "        train_recall.append (recall_score(y [:m], y_train_predict, average='macro'))\n",
    "        \n",
    "        val_accur.append (accuracy_score(y, y_val_predict))\n",
    "        val_precn.append (precision_score(y, y_val_predict, average='macro'))\n",
    "        val_recall.append (recall_score(y, y_val_predict, average='macro'))\n",
    "        n_obs.append (m)\n",
    "\n",
    "    fig, axs = plt.subplots(1,3, figsize=(15,5))\n",
    "    plot_curve (axs[0], n_obs, train_accur, val_accur, \"Accuracy\")\n",
    "    plot_curve (axs[1], n_obs, train_precn, val_precn, \"Precision\")\n",
    "    plot_curve (axs[2], n_obs, train_recall, val_recall, \"Recall\")\n",
    "    \n",
    "plot_learning_curves(rf, X_train, y_train)"
   ]
  },
  {
   "cell_type": "markdown",
   "id": "8b22e687",
   "metadata": {},
   "source": [
    "## Test Set Validation"
   ]
  },
  {
   "cell_type": "code",
   "execution_count": 59,
   "id": "eb9e3e19",
   "metadata": {},
   "outputs": [
    {
     "name": "stderr",
     "output_type": "stream",
     "text": [
      "/usr/local/share/anaconda3/envs/ds420/lib/python3.7/site-packages/sklearn/metrics/_classification.py:1248: UndefinedMetricWarning: Precision is ill-defined and being set to 0.0 in labels with no predicted samples. Use `zero_division` parameter to control this behavior.\n",
      "  _warn_prf(average, modifier, msg_start, len(result))\n"
     ]
    }
   ],
   "source": [
    "test_pred = rf.predict (X_test)\n",
    "test_precn = precision_score (y_test, test_pred, average='macro')\n",
    "test_recal = recall_score (y_test, test_pred, average='macro')"
   ]
  },
  {
   "cell_type": "code",
   "execution_count": 60,
   "id": "2493e439",
   "metadata": {},
   "outputs": [
    {
     "data": {
      "image/png": "[encoded data removed]",
      "text/plain": [
       "<Figure size 432x432 with 1 Axes>"
      ]
     },
     "metadata": {
      "needs_background": "light"
     },
     "output_type": "display_data"
    },
    {
     "name": "stdout",
     "output_type": "stream",
     "text": [
      "Test precision 0.7551\n",
      "Test recall 0.5789\n"
     ]
    }
   ],
   "source": [
    "from mlxtend.plotting import plot_confusion_matrix\n",
    "\n",
    "conf_matrix = confusion_matrix (y_test, test_pred)\n",
    "fig, ax = plot_confusion_matrix(conf_mat=conf_matrix, figsize=(6, 6), cmap=plt.cm.Greens)\n",
    "plt.xlabel('Predictions', fontsize=18)\n",
    "plt.ylabel('Actuals', fontsize=18)\n",
    "plt.title('Confusion Matrix', fontsize=18)\n",
    "plt.show()\n",
    "\n",
    "print (\"Test precision\", np.round (test_precn, 4))\n",
    "print (\"Test recall\", np.round (test_recal, 4))"
   ]
  },
  {
   "cell_type": "code",
   "execution_count": 61,
   "id": "a0adb4d3",
   "metadata": {},
   "outputs": [
    {
     "name": "stdout",
     "output_type": "stream",
     "text": [
      "nobs= 999\n"
     ]
    },
    {
     "name": "stderr",
     "output_type": "stream",
     "text": [
      "/usr/local/share/anaconda3/envs/ds420/lib/python3.7/site-packages/sklearn/metrics/_classification.py:1248: UndefinedMetricWarning: Precision is ill-defined and being set to 0.0 in labels with no predicted samples. Use `zero_division` parameter to control this behavior.\n",
      "  _warn_prf(average, modifier, msg_start, len(result))\n"
     ]
    },
    {
     "name": "stdout",
     "output_type": "stream",
     "text": [
      "nobs= 1999\n"
     ]
    },
    {
     "name": "stderr",
     "output_type": "stream",
     "text": [
      "/usr/local/share/anaconda3/envs/ds420/lib/python3.7/site-packages/sklearn/metrics/_classification.py:1248: UndefinedMetricWarning: Precision is ill-defined and being set to 0.0 in labels with no predicted samples. Use `zero_division` parameter to control this behavior.\n",
      "  _warn_prf(average, modifier, msg_start, len(result))\n"
     ]
    },
    {
     "name": "stdout",
     "output_type": "stream",
     "text": [
      "nobs= 2999\n"
     ]
    },
    {
     "name": "stderr",
     "output_type": "stream",
     "text": [
      "/usr/local/share/anaconda3/envs/ds420/lib/python3.7/site-packages/sklearn/metrics/_classification.py:1248: UndefinedMetricWarning: Precision is ill-defined and being set to 0.0 in labels with no predicted samples. Use `zero_division` parameter to control this behavior.\n",
      "  _warn_prf(average, modifier, msg_start, len(result))\n"
     ]
    },
    {
     "name": "stdout",
     "output_type": "stream",
     "text": [
      "nobs= 3999\n"
     ]
    },
    {
     "name": "stderr",
     "output_type": "stream",
     "text": [
      "/usr/local/share/anaconda3/envs/ds420/lib/python3.7/site-packages/sklearn/metrics/_classification.py:1248: UndefinedMetricWarning: Precision is ill-defined and being set to 0.0 in labels with no predicted samples. Use `zero_division` parameter to control this behavior.\n",
      "  _warn_prf(average, modifier, msg_start, len(result))\n"
     ]
    },
    {
     "name": "stdout",
     "output_type": "stream",
     "text": [
      "nobs= 4999\n"
     ]
    },
    {
     "name": "stderr",
     "output_type": "stream",
     "text": [
      "/usr/local/share/anaconda3/envs/ds420/lib/python3.7/site-packages/sklearn/metrics/_classification.py:1248: UndefinedMetricWarning: Precision is ill-defined and being set to 0.0 in labels with no predicted samples. Use `zero_division` parameter to control this behavior.\n",
      "  _warn_prf(average, modifier, msg_start, len(result))\n"
     ]
    },
    {
     "name": "stdout",
     "output_type": "stream",
     "text": [
      "nobs= 5999\n"
     ]
    },
    {
     "name": "stderr",
     "output_type": "stream",
     "text": [
      "/usr/local/share/anaconda3/envs/ds420/lib/python3.7/site-packages/sklearn/metrics/_classification.py:1248: UndefinedMetricWarning: Precision is ill-defined and being set to 0.0 in labels with no predicted samples. Use `zero_division` parameter to control this behavior.\n",
      "  _warn_prf(average, modifier, msg_start, len(result))\n"
     ]
    },
    {
     "name": "stdout",
     "output_type": "stream",
     "text": [
      "nobs= 6999\n"
     ]
    },
    {
     "name": "stderr",
     "output_type": "stream",
     "text": [
      "/usr/local/share/anaconda3/envs/ds420/lib/python3.7/site-packages/sklearn/metrics/_classification.py:1248: UndefinedMetricWarning: Precision is ill-defined and being set to 0.0 in labels with no predicted samples. Use `zero_division` parameter to control this behavior.\n",
      "  _warn_prf(average, modifier, msg_start, len(result))\n",
      "/usr/local/share/anaconda3/envs/ds420/lib/python3.7/site-packages/sklearn/metrics/_classification.py:1248: UndefinedMetricWarning: Precision is ill-defined and being set to 0.0 in labels with no predicted samples. Use `zero_division` parameter to control this behavior.\n",
      "  _warn_prf(average, modifier, msg_start, len(result))\n"
     ]
    },
    {
     "name": "stdout",
     "output_type": "stream",
     "text": [
      "nobs= 7999\n"
     ]
    },
    {
     "name": "stderr",
     "output_type": "stream",
     "text": [
      "/usr/local/share/anaconda3/envs/ds420/lib/python3.7/site-packages/sklearn/metrics/_classification.py:1248: UndefinedMetricWarning: Precision is ill-defined and being set to 0.0 in labels with no predicted samples. Use `zero_division` parameter to control this behavior.\n",
      "  _warn_prf(average, modifier, msg_start, len(result))\n",
      "/usr/local/share/anaconda3/envs/ds420/lib/python3.7/site-packages/sklearn/metrics/_classification.py:1248: UndefinedMetricWarning: Precision is ill-defined and being set to 0.0 in labels with no predicted samples. Use `zero_division` parameter to control this behavior.\n",
      "  _warn_prf(average, modifier, msg_start, len(result))\n"
     ]
    },
    {
     "name": "stdout",
     "output_type": "stream",
     "text": [
      "nobs= 8999\n"
     ]
    },
    {
     "name": "stderr",
     "output_type": "stream",
     "text": [
      "/usr/local/share/anaconda3/envs/ds420/lib/python3.7/site-packages/sklearn/metrics/_classification.py:1248: UndefinedMetricWarning: Precision is ill-defined and being set to 0.0 in labels with no predicted samples. Use `zero_division` parameter to control this behavior.\n",
      "  _warn_prf(average, modifier, msg_start, len(result))\n",
      "/usr/local/share/anaconda3/envs/ds420/lib/python3.7/site-packages/sklearn/metrics/_classification.py:1248: UndefinedMetricWarning: Precision is ill-defined and being set to 0.0 in labels with no predicted samples. Use `zero_division` parameter to control this behavior.\n",
      "  _warn_prf(average, modifier, msg_start, len(result))\n"
     ]
    },
    {
     "name": "stdout",
     "output_type": "stream",
     "text": [
      "nobs= 9999\n"
     ]
    },
    {
     "name": "stderr",
     "output_type": "stream",
     "text": [
      "/usr/local/share/anaconda3/envs/ds420/lib/python3.7/site-packages/sklearn/metrics/_classification.py:1248: UndefinedMetricWarning: Precision is ill-defined and being set to 0.0 in labels with no predicted samples. Use `zero_division` parameter to control this behavior.\n",
      "  _warn_prf(average, modifier, msg_start, len(result))\n",
      "/usr/local/share/anaconda3/envs/ds420/lib/python3.7/site-packages/sklearn/metrics/_classification.py:1248: UndefinedMetricWarning: Precision is ill-defined and being set to 0.0 in labels with no predicted samples. Use `zero_division` parameter to control this behavior.\n",
      "  _warn_prf(average, modifier, msg_start, len(result))\n"
     ]
    },
    {
     "name": "stdout",
     "output_type": "stream",
     "text": [
      "nobs= 10999\n"
     ]
    },
    {
     "name": "stderr",
     "output_type": "stream",
     "text": [
      "/usr/local/share/anaconda3/envs/ds420/lib/python3.7/site-packages/sklearn/metrics/_classification.py:1248: UndefinedMetricWarning: Precision is ill-defined and being set to 0.0 in labels with no predicted samples. Use `zero_division` parameter to control this behavior.\n",
      "  _warn_prf(average, modifier, msg_start, len(result))\n",
      "/usr/local/share/anaconda3/envs/ds420/lib/python3.7/site-packages/sklearn/metrics/_classification.py:1248: UndefinedMetricWarning: Precision is ill-defined and being set to 0.0 in labels with no predicted samples. Use `zero_division` parameter to control this behavior.\n",
      "  _warn_prf(average, modifier, msg_start, len(result))\n"
     ]
    },
    {
     "name": "stdout",
     "output_type": "stream",
     "text": [
      "nobs= 11999\n"
     ]
    },
    {
     "name": "stderr",
     "output_type": "stream",
     "text": [
      "/usr/local/share/anaconda3/envs/ds420/lib/python3.7/site-packages/sklearn/metrics/_classification.py:1248: UndefinedMetricWarning: Precision is ill-defined and being set to 0.0 in labels with no predicted samples. Use `zero_division` parameter to control this behavior.\n",
      "  _warn_prf(average, modifier, msg_start, len(result))\n",
      "/usr/local/share/anaconda3/envs/ds420/lib/python3.7/site-packages/sklearn/metrics/_classification.py:1248: UndefinedMetricWarning: Precision is ill-defined and being set to 0.0 in labels with no predicted samples. Use `zero_division` parameter to control this behavior.\n",
      "  _warn_prf(average, modifier, msg_start, len(result))\n"
     ]
    },
    {
     "name": "stdout",
     "output_type": "stream",
     "text": [
      "nobs= 12999\n"
     ]
    },
    {
     "name": "stderr",
     "output_type": "stream",
     "text": [
      "/usr/local/share/anaconda3/envs/ds420/lib/python3.7/site-packages/sklearn/metrics/_classification.py:1248: UndefinedMetricWarning: Precision is ill-defined and being set to 0.0 in labels with no predicted samples. Use `zero_division` parameter to control this behavior.\n",
      "  _warn_prf(average, modifier, msg_start, len(result))\n",
      "/usr/local/share/anaconda3/envs/ds420/lib/python3.7/site-packages/sklearn/metrics/_classification.py:1248: UndefinedMetricWarning: Precision is ill-defined and being set to 0.0 in labels with no predicted samples. Use `zero_division` parameter to control this behavior.\n",
      "  _warn_prf(average, modifier, msg_start, len(result))\n"
     ]
    },
    {
     "name": "stdout",
     "output_type": "stream",
     "text": [
      "nobs= 13999\n"
     ]
    },
    {
     "name": "stderr",
     "output_type": "stream",
     "text": [
      "/usr/local/share/anaconda3/envs/ds420/lib/python3.7/site-packages/sklearn/metrics/_classification.py:1248: UndefinedMetricWarning: Precision is ill-defined and being set to 0.0 in labels with no predicted samples. Use `zero_division` parameter to control this behavior.\n",
      "  _warn_prf(average, modifier, msg_start, len(result))\n",
      "/usr/local/share/anaconda3/envs/ds420/lib/python3.7/site-packages/sklearn/metrics/_classification.py:1248: UndefinedMetricWarning: Precision is ill-defined and being set to 0.0 in labels with no predicted samples. Use `zero_division` parameter to control this behavior.\n",
      "  _warn_prf(average, modifier, msg_start, len(result))\n"
     ]
    },
    {
     "name": "stdout",
     "output_type": "stream",
     "text": [
      "nobs= 14999\n"
     ]
    },
    {
     "name": "stderr",
     "output_type": "stream",
     "text": [
      "/usr/local/share/anaconda3/envs/ds420/lib/python3.7/site-packages/sklearn/metrics/_classification.py:1248: UndefinedMetricWarning: Precision is ill-defined and being set to 0.0 in labels with no predicted samples. Use `zero_division` parameter to control this behavior.\n",
      "  _warn_prf(average, modifier, msg_start, len(result))\n",
      "/usr/local/share/anaconda3/envs/ds420/lib/python3.7/site-packages/sklearn/metrics/_classification.py:1248: UndefinedMetricWarning: Precision is ill-defined and being set to 0.0 in labels with no predicted samples. Use `zero_division` parameter to control this behavior.\n",
      "  _warn_prf(average, modifier, msg_start, len(result))\n"
     ]
    },
    {
     "name": "stdout",
     "output_type": "stream",
     "text": [
      "nobs= 15999\n"
     ]
    },
    {
     "name": "stderr",
     "output_type": "stream",
     "text": [
      "/usr/local/share/anaconda3/envs/ds420/lib/python3.7/site-packages/sklearn/metrics/_classification.py:1248: UndefinedMetricWarning: Precision is ill-defined and being set to 0.0 in labels with no predicted samples. Use `zero_division` parameter to control this behavior.\n",
      "  _warn_prf(average, modifier, msg_start, len(result))\n",
      "/usr/local/share/anaconda3/envs/ds420/lib/python3.7/site-packages/sklearn/metrics/_classification.py:1248: UndefinedMetricWarning: Precision is ill-defined and being set to 0.0 in labels with no predicted samples. Use `zero_division` parameter to control this behavior.\n",
      "  _warn_prf(average, modifier, msg_start, len(result))\n"
     ]
    },
    {
     "name": "stdout",
     "output_type": "stream",
     "text": [
      "nobs= 16999\n"
     ]
    },
    {
     "name": "stderr",
     "output_type": "stream",
     "text": [
      "/usr/local/share/anaconda3/envs/ds420/lib/python3.7/site-packages/sklearn/metrics/_classification.py:1248: UndefinedMetricWarning: Precision is ill-defined and being set to 0.0 in labels with no predicted samples. Use `zero_division` parameter to control this behavior.\n",
      "  _warn_prf(average, modifier, msg_start, len(result))\n",
      "/usr/local/share/anaconda3/envs/ds420/lib/python3.7/site-packages/sklearn/metrics/_classification.py:1248: UndefinedMetricWarning: Precision is ill-defined and being set to 0.0 in labels with no predicted samples. Use `zero_division` parameter to control this behavior.\n",
      "  _warn_prf(average, modifier, msg_start, len(result))\n"
     ]
    },
    {
     "name": "stdout",
     "output_type": "stream",
     "text": [
      "nobs= 17999\n"
     ]
    },
    {
     "name": "stderr",
     "output_type": "stream",
     "text": [
      "/usr/local/share/anaconda3/envs/ds420/lib/python3.7/site-packages/sklearn/metrics/_classification.py:1248: UndefinedMetricWarning: Precision is ill-defined and being set to 0.0 in labels with no predicted samples. Use `zero_division` parameter to control this behavior.\n",
      "  _warn_prf(average, modifier, msg_start, len(result))\n",
      "/usr/local/share/anaconda3/envs/ds420/lib/python3.7/site-packages/sklearn/metrics/_classification.py:1248: UndefinedMetricWarning: Precision is ill-defined and being set to 0.0 in labels with no predicted samples. Use `zero_division` parameter to control this behavior.\n",
      "  _warn_prf(average, modifier, msg_start, len(result))\n"
     ]
    },
    {
     "name": "stdout",
     "output_type": "stream",
     "text": [
      "nobs= 18999\n"
     ]
    },
    {
     "name": "stderr",
     "output_type": "stream",
     "text": [
      "/usr/local/share/anaconda3/envs/ds420/lib/python3.7/site-packages/sklearn/metrics/_classification.py:1248: UndefinedMetricWarning: Precision is ill-defined and being set to 0.0 in labels with no predicted samples. Use `zero_division` parameter to control this behavior.\n",
      "  _warn_prf(average, modifier, msg_start, len(result))\n",
      "/usr/local/share/anaconda3/envs/ds420/lib/python3.7/site-packages/sklearn/metrics/_classification.py:1248: UndefinedMetricWarning: Precision is ill-defined and being set to 0.0 in labels with no predicted samples. Use `zero_division` parameter to control this behavior.\n",
      "  _warn_prf(average, modifier, msg_start, len(result))\n"
     ]
    },
    {
     "name": "stdout",
     "output_type": "stream",
     "text": [
      "nobs= 19999\n"
     ]
    },
    {
     "name": "stderr",
     "output_type": "stream",
     "text": [
      "/usr/local/share/anaconda3/envs/ds420/lib/python3.7/site-packages/sklearn/metrics/_classification.py:1248: UndefinedMetricWarning: Precision is ill-defined and being set to 0.0 in labels with no predicted samples. Use `zero_division` parameter to control this behavior.\n",
      "  _warn_prf(average, modifier, msg_start, len(result))\n",
      "/usr/local/share/anaconda3/envs/ds420/lib/python3.7/site-packages/sklearn/metrics/_classification.py:1248: UndefinedMetricWarning: Precision is ill-defined and being set to 0.0 in labels with no predicted samples. Use `zero_division` parameter to control this behavior.\n",
      "  _warn_prf(average, modifier, msg_start, len(result))\n"
     ]
    },
    {
     "name": "stdout",
     "output_type": "stream",
     "text": [
      "nobs= 20999\n"
     ]
    },
    {
     "name": "stderr",
     "output_type": "stream",
     "text": [
      "/usr/local/share/anaconda3/envs/ds420/lib/python3.7/site-packages/sklearn/metrics/_classification.py:1248: UndefinedMetricWarning: Precision is ill-defined and being set to 0.0 in labels with no predicted samples. Use `zero_division` parameter to control this behavior.\n",
      "  _warn_prf(average, modifier, msg_start, len(result))\n",
      "/usr/local/share/anaconda3/envs/ds420/lib/python3.7/site-packages/sklearn/metrics/_classification.py:1248: UndefinedMetricWarning: Precision is ill-defined and being set to 0.0 in labels with no predicted samples. Use `zero_division` parameter to control this behavior.\n",
      "  _warn_prf(average, modifier, msg_start, len(result))\n"
     ]
    },
    {
     "name": "stdout",
     "output_type": "stream",
     "text": [
      "nobs= 21999\n"
     ]
    },
    {
     "name": "stderr",
     "output_type": "stream",
     "text": [
      "/usr/local/share/anaconda3/envs/ds420/lib/python3.7/site-packages/sklearn/metrics/_classification.py:1248: UndefinedMetricWarning: Precision is ill-defined and being set to 0.0 in labels with no predicted samples. Use `zero_division` parameter to control this behavior.\n",
      "  _warn_prf(average, modifier, msg_start, len(result))\n",
      "/usr/local/share/anaconda3/envs/ds420/lib/python3.7/site-packages/sklearn/metrics/_classification.py:1248: UndefinedMetricWarning: Precision is ill-defined and being set to 0.0 in labels with no predicted samples. Use `zero_division` parameter to control this behavior.\n",
      "  _warn_prf(average, modifier, msg_start, len(result))\n"
     ]
    },
    {
     "name": "stdout",
     "output_type": "stream",
     "text": [
      "nobs= 22999\n"
     ]
    },
    {
     "name": "stderr",
     "output_type": "stream",
     "text": [
      "/usr/local/share/anaconda3/envs/ds420/lib/python3.7/site-packages/sklearn/metrics/_classification.py:1248: UndefinedMetricWarning: Precision is ill-defined and being set to 0.0 in labels with no predicted samples. Use `zero_division` parameter to control this behavior.\n",
      "  _warn_prf(average, modifier, msg_start, len(result))\n",
      "/usr/local/share/anaconda3/envs/ds420/lib/python3.7/site-packages/sklearn/metrics/_classification.py:1248: UndefinedMetricWarning: Precision is ill-defined and being set to 0.0 in labels with no predicted samples. Use `zero_division` parameter to control this behavior.\n",
      "  _warn_prf(average, modifier, msg_start, len(result))\n"
     ]
    },
    {
     "name": "stdout",
     "output_type": "stream",
     "text": [
      "nobs= 23999\n"
     ]
    },
    {
     "name": "stderr",
     "output_type": "stream",
     "text": [
      "/usr/local/share/anaconda3/envs/ds420/lib/python3.7/site-packages/sklearn/metrics/_classification.py:1248: UndefinedMetricWarning: Precision is ill-defined and being set to 0.0 in labels with no predicted samples. Use `zero_division` parameter to control this behavior.\n",
      "  _warn_prf(average, modifier, msg_start, len(result))\n",
      "/usr/local/share/anaconda3/envs/ds420/lib/python3.7/site-packages/sklearn/metrics/_classification.py:1248: UndefinedMetricWarning: Precision is ill-defined and being set to 0.0 in labels with no predicted samples. Use `zero_division` parameter to control this behavior.\n",
      "  _warn_prf(average, modifier, msg_start, len(result))\n"
     ]
    },
    {
     "name": "stdout",
     "output_type": "stream",
     "text": [
      "nobs= 24999\n"
     ]
    },
    {
     "name": "stderr",
     "output_type": "stream",
     "text": [
      "/usr/local/share/anaconda3/envs/ds420/lib/python3.7/site-packages/sklearn/metrics/_classification.py:1248: UndefinedMetricWarning: Precision is ill-defined and being set to 0.0 in labels with no predicted samples. Use `zero_division` parameter to control this behavior.\n",
      "  _warn_prf(average, modifier, msg_start, len(result))\n",
      "/usr/local/share/anaconda3/envs/ds420/lib/python3.7/site-packages/sklearn/metrics/_classification.py:1248: UndefinedMetricWarning: Precision is ill-defined and being set to 0.0 in labels with no predicted samples. Use `zero_division` parameter to control this behavior.\n",
      "  _warn_prf(average, modifier, msg_start, len(result))\n"
     ]
    },
    {
     "name": "stdout",
     "output_type": "stream",
     "text": [
      "nobs= 25999\n"
     ]
    },
    {
     "name": "stderr",
     "output_type": "stream",
     "text": [
      "/usr/local/share/anaconda3/envs/ds420/lib/python3.7/site-packages/sklearn/metrics/_classification.py:1248: UndefinedMetricWarning: Precision is ill-defined and being set to 0.0 in labels with no predicted samples. Use `zero_division` parameter to control this behavior.\n",
      "  _warn_prf(average, modifier, msg_start, len(result))\n",
      "/usr/local/share/anaconda3/envs/ds420/lib/python3.7/site-packages/sklearn/metrics/_classification.py:1248: UndefinedMetricWarning: Precision is ill-defined and being set to 0.0 in labels with no predicted samples. Use `zero_division` parameter to control this behavior.\n",
      "  _warn_prf(average, modifier, msg_start, len(result))\n"
     ]
    },
    {
     "name": "stdout",
     "output_type": "stream",
     "text": [
      "nobs= 26999\n"
     ]
    },
    {
     "name": "stderr",
     "output_type": "stream",
     "text": [
      "/usr/local/share/anaconda3/envs/ds420/lib/python3.7/site-packages/sklearn/metrics/_classification.py:1248: UndefinedMetricWarning: Precision is ill-defined and being set to 0.0 in labels with no predicted samples. Use `zero_division` parameter to control this behavior.\n",
      "  _warn_prf(average, modifier, msg_start, len(result))\n",
      "/usr/local/share/anaconda3/envs/ds420/lib/python3.7/site-packages/sklearn/metrics/_classification.py:1248: UndefinedMetricWarning: Precision is ill-defined and being set to 0.0 in labels with no predicted samples. Use `zero_division` parameter to control this behavior.\n",
      "  _warn_prf(average, modifier, msg_start, len(result))\n"
     ]
    },
    {
     "name": "stdout",
     "output_type": "stream",
     "text": [
      "nobs= 27999\n"
     ]
    },
    {
     "name": "stderr",
     "output_type": "stream",
     "text": [
      "/usr/local/share/anaconda3/envs/ds420/lib/python3.7/site-packages/sklearn/metrics/_classification.py:1248: UndefinedMetricWarning: Precision is ill-defined and being set to 0.0 in labels with no predicted samples. Use `zero_division` parameter to control this behavior.\n",
      "  _warn_prf(average, modifier, msg_start, len(result))\n",
      "/usr/local/share/anaconda3/envs/ds420/lib/python3.7/site-packages/sklearn/metrics/_classification.py:1248: UndefinedMetricWarning: Precision is ill-defined and being set to 0.0 in labels with no predicted samples. Use `zero_division` parameter to control this behavior.\n",
      "  _warn_prf(average, modifier, msg_start, len(result))\n"
     ]
    },
    {
     "data": {
      "image/png": "[encoded data removed]",
      "text/plain": [
       "<Figure size 1080x360 with 3 Axes>"
      ]
     },
     "metadata": {
      "needs_background": "light"
     },
     "output_type": "display_data"
    }
   ],
   "source": [
    "# Learning curve for RandomForest classifier\n",
    "\n",
    "from sklearn.model_selection import train_test_split\n",
    "from sklearn.metrics import accuracy_score\n",
    "import matplotlib.pyplot as plt\n",
    "\n",
    "startobs = 999\n",
    "increment = 1000\n",
    "\n",
    "test_img = X_test\n",
    "\n",
    "def plot_curve (pltid, x, y1, y2, ylab):\n",
    "    pltid.plot(x, y1, \"r-+\", linewidth=2, label=\"train\")\n",
    "    pltid.plot(x, y2, \"b-\", linewidth=3, label=\"val\")\n",
    "    pltid.legend()\n",
    "    pltid.set_title (ylab) \n",
    "\n",
    "def plot_learning_curves(model, X, y):\n",
    "    #X_train, X_val, y_train, y_val = train_test_split(X, y, test_size=0.2, random_state=42)\n",
    "    #print (\"Validation set labels:\", y_val)\n",
    "    train_accur, val_accur, train_precn, val_precn, train_recall, val_recall, n_obs = [], [], [], [], [], [], []\n",
    "    for m in range(startobs, len(X_train), increment):\n",
    "        print (\"nobs=\", m)\n",
    "        model.fit (X[:m], y[:m])\n",
    "        \n",
    "        y_train_predict = model.predict (X[:m])\n",
    "        y_val_predict = model.predict (test_img)\n",
    "        \n",
    "        train_accur.append (accuracy_score(y [:m], y_train_predict))\n",
    "        train_precn.append (precision_score(y [:m], y_train_predict, average='macro'))\n",
    "        train_recall.append (recall_score(y [:m], y_train_predict, average='macro'))\n",
    "        \n",
    "        val_accur.append (accuracy_score(y_test, y_val_predict))\n",
    "        val_precn.append (precision_score(y_test, y_val_predict, average='macro'))\n",
    "        val_recall.append (recall_score(y_test, y_val_predict, average='macro'))\n",
    "        n_obs.append (m)\n",
    "\n",
    "    fig, axs = plt.subplots(1,3, figsize=(15,5))\n",
    "    plot_curve (axs[0], n_obs, train_accur, val_accur, \"Accuracy\")\n",
    "    plot_curve (axs[1], n_obs, train_precn, val_precn, \"Precision\")\n",
    "    plot_curve (axs[2], n_obs, train_recall, val_recall, \"Recall\")\n",
    "    \n",
    "plot_learning_curves(rf, X_train, y_train)"
   ]
  },
  {
   "cell_type": "code",
   "execution_count": 85,
   "id": "1400e473",
   "metadata": {},
   "outputs": [],
   "source": [
    "from sklearn.svm import SVC\n",
    "svm_classifier = Pipeline(steps=[('preprocessor', preprocessor),\n",
    "('classifier', SVC(kernel=\"poly\", degree=3))])"
   ]
  },
  {
   "cell_type": "code",
   "execution_count": 86,
   "id": "2866b78b",
   "metadata": {},
   "outputs": [
    {
     "data": {
      "text/plain": [
       "Pipeline(steps=[('preprocessor',\n",
       "                 ColumnTransformer(transformers=[('num',\n",
       "                                                  Pipeline(steps=[('imputer',\n",
       "                                                                   SimpleImputer(strategy='median')),\n",
       "                                                                  ('scaler',\n",
       "                                                                   StandardScaler())]),\n",
       "                                                  Index(['X_COORDINATE', 'Y_COORDINATE', 'Zip_Code', 'Stop_Month', 'Stop_Day',\n",
       "       'Stop_Year', 'latitude', 'longitude', 'propertyTaxRate',\n",
       "       'numPriceChanges', 'avgSchoolRating', 'MedianStudentsPerTeacher']...\n",
       "                                                                   OneHotEncoder(handle_unknown='ignore'))]),\n",
       "                                                  Index(['Type', 'TCOLE_Sex', 'Standardized_Race_Known', 'Reason_for_Stop',\n",
       "       'Street_Type', 'Search_Yes_or_No', 'TCOLE_Search_Based_On',\n",
       "       'TCOLE_Search_Found', 'TCOLE_Result_of_Stop', 'TCOLE_Arrest_Based_On',\n",
       "       'Council_District', 'COUNTY', 'Custody', 'Sector', 'Standardized_Race',\n",
       "       'Stop_Date', 'Stop_Time'],\n",
       "      dtype='object'))])),\n",
       "                ('classifier', SVC(kernel='poly'))])"
      ]
     },
     "execution_count": 86,
     "metadata": {},
     "output_type": "execute_result"
    }
   ],
   "source": [
    "svm_classifier.fit(X_train, y_train)"
   ]
  },
  {
   "cell_type": "code",
   "execution_count": 87,
   "id": "9c69c096",
   "metadata": {},
   "outputs": [
    {
     "name": "stderr",
     "output_type": "stream",
     "text": [
      "/usr/local/share/anaconda3/envs/ds420/lib/python3.7/site-packages/sklearn/metrics/_classification.py:1248: UndefinedMetricWarning: Precision is ill-defined and being set to 0.0 in labels with no predicted samples. Use `zero_division` parameter to control this behavior.\n",
      "  _warn_prf(average, modifier, msg_start, len(result))\n",
      "/usr/local/share/anaconda3/envs/ds420/lib/python3.7/site-packages/sklearn/model_selection/_split.py:668: UserWarning: The least populated class in y has only 5 members, which is less than n_splits=8.\n",
      "  % (min_groups, self.n_splits)), UserWarning)\n",
      "/usr/local/share/anaconda3/envs/ds420/lib/python3.7/site-packages/sklearn/metrics/_classification.py:1248: UndefinedMetricWarning: Precision is ill-defined and being set to 0.0 in labels with no predicted samples. Use `zero_division` parameter to control this behavior.\n",
      "  _warn_prf(average, modifier, msg_start, len(result))\n"
     ]
    }
   ],
   "source": [
    "from sklearn.model_selection import train_test_split\n",
    "from sklearn.metrics import accuracy_score\n",
    "import matplotlib.pyplot as plt\n",
    "from sklearn.metrics import confusion_matrix, accuracy_score, precision_score, recall_score\n",
    "from sklearn.model_selection import cross_val_predict\n",
    "\n",
    "\n",
    "train_pred1 =svm_classifier.predict (X_train)\n",
    "train_precn1 = precision_score (y_train, train_pred1, average='macro')\n",
    "train_recal1 = recall_score (y_train, train_pred1, average='macro')\n",
    "\n",
    "cv_pred1 = cross_val_predict (svm_classifier, X_train, y_train, cv=8)\n",
    "cv_precn1 = precision_score (y_train, cv_pred1, average='macro')\n",
    "cv_recal1 = recall_score (y_train, cv_pred1, average='macro')\n",
    "\n"
   ]
  },
  {
   "cell_type": "code",
   "execution_count": 88,
   "id": "3f529dd3",
   "metadata": {},
   "outputs": [
    {
     "data": {
      "image/png": "[encoded data removed]",
      "text/plain": [
       "<Figure size 432x432 with 1 Axes>"
      ]
     },
     "metadata": {
      "needs_background": "light"
     },
     "output_type": "display_data"
    },
    {
     "name": "stdout",
     "output_type": "stream",
     "text": [
      "Training precision 0.7995\n",
      "Training recall 0.8\n"
     ]
    }
   ],
   "source": [
    "from mlxtend.plotting import plot_confusion_matrix\n",
    "\n",
    "conf_matrix1 = confusion_matrix (y_train, train_pred1)\n",
    "fig, ax = plot_confusion_matrix(conf_mat=conf_matrix1, figsize=(6, 6), cmap=plt.cm.Greens)\n",
    "plt.xlabel('Predictions', fontsize=18)\n",
    "plt.ylabel('Actuals', fontsize=18)\n",
    "plt.title('Confusion Matrix', fontsize=18)\n",
    "plt.show()\n",
    "\n",
    "print (\"Training precision\", np.round (train_precn1, 4))\n",
    "print (\"Training recall\", np.round (train_recal1, 4))\n"
   ]
  },
  {
   "cell_type": "code",
   "execution_count": 89,
   "id": "06d349b0",
   "metadata": {},
   "outputs": [
    {
     "data": {
      "image/png": "[encoded data removed]",
      "text/plain": [
       "<Figure size 432x432 with 1 Axes>"
      ]
     },
     "metadata": {
      "needs_background": "light"
     },
     "output_type": "display_data"
    },
    {
     "name": "stdout",
     "output_type": "stream",
     "text": [
      "Cross-Val precision 0.7992\n",
      "Cross-Val recall 0.799\n"
     ]
    }
   ],
   "source": [
    "from mlxtend.plotting import plot_confusion_matrix\n",
    "\n",
    "conf_matrix1 = confusion_matrix (y_train, cv_pred1)\n",
    "\n",
    "fig, ax = plot_confusion_matrix(conf_mat=conf_matrix1, figsize=(6, 6), cmap=plt.cm.Greens)\n",
    "plt.xlabel('Predictions', fontsize=18)\n",
    "plt.ylabel('Actuals', fontsize=18)\n",
    "plt.title('Confusion Matrix', fontsize=18)\n",
    "plt.show()\n",
    "\n",
    "print (\"Cross-Val precision\", np.round (cv_precn1, 4))\n",
    "print (\"Cross-Val recall\", np.round (cv_recal1, 4))"
   ]
  },
  {
   "cell_type": "markdown",
   "id": "f1ff0279",
   "metadata": {},
   "source": [
    "## Cross Validation on Training Set"
   ]
  },
  {
   "cell_type": "code",
   "execution_count": 90,
   "id": "5a7b33b8",
   "metadata": {},
   "outputs": [
    {
     "name": "stdout",
     "output_type": "stream",
     "text": [
      "nobs= 999\n"
     ]
    },
    {
     "name": "stderr",
     "output_type": "stream",
     "text": [
      "/usr/local/share/anaconda3/envs/ds420/lib/python3.7/site-packages/sklearn/metrics/_classification.py:1248: UndefinedMetricWarning: Precision is ill-defined and being set to 0.0 in labels with no predicted samples. Use `zero_division` parameter to control this behavior.\n",
      "  _warn_prf(average, modifier, msg_start, len(result))\n"
     ]
    },
    {
     "name": "stdout",
     "output_type": "stream",
     "text": [
      "nobs= 1999\n"
     ]
    },
    {
     "name": "stderr",
     "output_type": "stream",
     "text": [
      "/usr/local/share/anaconda3/envs/ds420/lib/python3.7/site-packages/sklearn/metrics/_classification.py:1248: UndefinedMetricWarning: Precision is ill-defined and being set to 0.0 in labels with no predicted samples. Use `zero_division` parameter to control this behavior.\n",
      "  _warn_prf(average, modifier, msg_start, len(result))\n"
     ]
    },
    {
     "name": "stdout",
     "output_type": "stream",
     "text": [
      "nobs= 2999\n"
     ]
    },
    {
     "name": "stderr",
     "output_type": "stream",
     "text": [
      "/usr/local/share/anaconda3/envs/ds420/lib/python3.7/site-packages/sklearn/metrics/_classification.py:1248: UndefinedMetricWarning: Precision is ill-defined and being set to 0.0 in labels with no predicted samples. Use `zero_division` parameter to control this behavior.\n",
      "  _warn_prf(average, modifier, msg_start, len(result))\n"
     ]
    },
    {
     "name": "stdout",
     "output_type": "stream",
     "text": [
      "nobs= 3999\n"
     ]
    },
    {
     "name": "stderr",
     "output_type": "stream",
     "text": [
      "/usr/local/share/anaconda3/envs/ds420/lib/python3.7/site-packages/sklearn/metrics/_classification.py:1248: UndefinedMetricWarning: Precision is ill-defined and being set to 0.0 in labels with no predicted samples. Use `zero_division` parameter to control this behavior.\n",
      "  _warn_prf(average, modifier, msg_start, len(result))\n"
     ]
    },
    {
     "name": "stdout",
     "output_type": "stream",
     "text": [
      "nobs= 4999\n"
     ]
    },
    {
     "name": "stderr",
     "output_type": "stream",
     "text": [
      "/usr/local/share/anaconda3/envs/ds420/lib/python3.7/site-packages/sklearn/metrics/_classification.py:1248: UndefinedMetricWarning: Precision is ill-defined and being set to 0.0 in labels with no predicted samples. Use `zero_division` parameter to control this behavior.\n",
      "  _warn_prf(average, modifier, msg_start, len(result))\n"
     ]
    },
    {
     "name": "stdout",
     "output_type": "stream",
     "text": [
      "nobs= 5999\n"
     ]
    },
    {
     "name": "stderr",
     "output_type": "stream",
     "text": [
      "/usr/local/share/anaconda3/envs/ds420/lib/python3.7/site-packages/sklearn/metrics/_classification.py:1248: UndefinedMetricWarning: Precision is ill-defined and being set to 0.0 in labels with no predicted samples. Use `zero_division` parameter to control this behavior.\n",
      "  _warn_prf(average, modifier, msg_start, len(result))\n"
     ]
    },
    {
     "name": "stdout",
     "output_type": "stream",
     "text": [
      "nobs= 6999\n"
     ]
    },
    {
     "name": "stderr",
     "output_type": "stream",
     "text": [
      "/usr/local/share/anaconda3/envs/ds420/lib/python3.7/site-packages/sklearn/metrics/_classification.py:1248: UndefinedMetricWarning: Precision is ill-defined and being set to 0.0 in labels with no predicted samples. Use `zero_division` parameter to control this behavior.\n",
      "  _warn_prf(average, modifier, msg_start, len(result))\n",
      "/usr/local/share/anaconda3/envs/ds420/lib/python3.7/site-packages/sklearn/metrics/_classification.py:1248: UndefinedMetricWarning: Precision is ill-defined and being set to 0.0 in labels with no predicted samples. Use `zero_division` parameter to control this behavior.\n",
      "  _warn_prf(average, modifier, msg_start, len(result))\n"
     ]
    },
    {
     "name": "stdout",
     "output_type": "stream",
     "text": [
      "nobs= 7999\n"
     ]
    },
    {
     "name": "stderr",
     "output_type": "stream",
     "text": [
      "/usr/local/share/anaconda3/envs/ds420/lib/python3.7/site-packages/sklearn/metrics/_classification.py:1248: UndefinedMetricWarning: Precision is ill-defined and being set to 0.0 in labels with no predicted samples. Use `zero_division` parameter to control this behavior.\n",
      "  _warn_prf(average, modifier, msg_start, len(result))\n",
      "/usr/local/share/anaconda3/envs/ds420/lib/python3.7/site-packages/sklearn/metrics/_classification.py:1248: UndefinedMetricWarning: Precision is ill-defined and being set to 0.0 in labels with no predicted samples. Use `zero_division` parameter to control this behavior.\n",
      "  _warn_prf(average, modifier, msg_start, len(result))\n"
     ]
    },
    {
     "name": "stdout",
     "output_type": "stream",
     "text": [
      "nobs= 8999\n"
     ]
    },
    {
     "name": "stderr",
     "output_type": "stream",
     "text": [
      "/usr/local/share/anaconda3/envs/ds420/lib/python3.7/site-packages/sklearn/metrics/_classification.py:1248: UndefinedMetricWarning: Precision is ill-defined and being set to 0.0 in labels with no predicted samples. Use `zero_division` parameter to control this behavior.\n",
      "  _warn_prf(average, modifier, msg_start, len(result))\n",
      "/usr/local/share/anaconda3/envs/ds420/lib/python3.7/site-packages/sklearn/metrics/_classification.py:1248: UndefinedMetricWarning: Precision is ill-defined and being set to 0.0 in labels with no predicted samples. Use `zero_division` parameter to control this behavior.\n",
      "  _warn_prf(average, modifier, msg_start, len(result))\n"
     ]
    },
    {
     "name": "stdout",
     "output_type": "stream",
     "text": [
      "nobs= 9999\n"
     ]
    },
    {
     "name": "stderr",
     "output_type": "stream",
     "text": [
      "/usr/local/share/anaconda3/envs/ds420/lib/python3.7/site-packages/sklearn/metrics/_classification.py:1248: UndefinedMetricWarning: Precision is ill-defined and being set to 0.0 in labels with no predicted samples. Use `zero_division` parameter to control this behavior.\n",
      "  _warn_prf(average, modifier, msg_start, len(result))\n",
      "/usr/local/share/anaconda3/envs/ds420/lib/python3.7/site-packages/sklearn/metrics/_classification.py:1248: UndefinedMetricWarning: Precision is ill-defined and being set to 0.0 in labels with no predicted samples. Use `zero_division` parameter to control this behavior.\n",
      "  _warn_prf(average, modifier, msg_start, len(result))\n"
     ]
    },
    {
     "name": "stdout",
     "output_type": "stream",
     "text": [
      "nobs= 10999\n"
     ]
    },
    {
     "name": "stderr",
     "output_type": "stream",
     "text": [
      "/usr/local/share/anaconda3/envs/ds420/lib/python3.7/site-packages/sklearn/metrics/_classification.py:1248: UndefinedMetricWarning: Precision is ill-defined and being set to 0.0 in labels with no predicted samples. Use `zero_division` parameter to control this behavior.\n",
      "  _warn_prf(average, modifier, msg_start, len(result))\n",
      "/usr/local/share/anaconda3/envs/ds420/lib/python3.7/site-packages/sklearn/metrics/_classification.py:1248: UndefinedMetricWarning: Precision is ill-defined and being set to 0.0 in labels with no predicted samples. Use `zero_division` parameter to control this behavior.\n",
      "  _warn_prf(average, modifier, msg_start, len(result))\n"
     ]
    },
    {
     "name": "stdout",
     "output_type": "stream",
     "text": [
      "nobs= 11999\n"
     ]
    },
    {
     "name": "stderr",
     "output_type": "stream",
     "text": [
      "/usr/local/share/anaconda3/envs/ds420/lib/python3.7/site-packages/sklearn/metrics/_classification.py:1248: UndefinedMetricWarning: Precision is ill-defined and being set to 0.0 in labels with no predicted samples. Use `zero_division` parameter to control this behavior.\n",
      "  _warn_prf(average, modifier, msg_start, len(result))\n",
      "/usr/local/share/anaconda3/envs/ds420/lib/python3.7/site-packages/sklearn/metrics/_classification.py:1248: UndefinedMetricWarning: Precision is ill-defined and being set to 0.0 in labels with no predicted samples. Use `zero_division` parameter to control this behavior.\n",
      "  _warn_prf(average, modifier, msg_start, len(result))\n"
     ]
    },
    {
     "name": "stdout",
     "output_type": "stream",
     "text": [
      "nobs= 12999\n"
     ]
    },
    {
     "name": "stderr",
     "output_type": "stream",
     "text": [
      "/usr/local/share/anaconda3/envs/ds420/lib/python3.7/site-packages/sklearn/metrics/_classification.py:1248: UndefinedMetricWarning: Precision is ill-defined and being set to 0.0 in labels with no predicted samples. Use `zero_division` parameter to control this behavior.\n",
      "  _warn_prf(average, modifier, msg_start, len(result))\n",
      "/usr/local/share/anaconda3/envs/ds420/lib/python3.7/site-packages/sklearn/metrics/_classification.py:1248: UndefinedMetricWarning: Precision is ill-defined and being set to 0.0 in labels with no predicted samples. Use `zero_division` parameter to control this behavior.\n",
      "  _warn_prf(average, modifier, msg_start, len(result))\n"
     ]
    },
    {
     "name": "stdout",
     "output_type": "stream",
     "text": [
      "nobs= 13999\n"
     ]
    },
    {
     "name": "stderr",
     "output_type": "stream",
     "text": [
      "/usr/local/share/anaconda3/envs/ds420/lib/python3.7/site-packages/sklearn/metrics/_classification.py:1248: UndefinedMetricWarning: Precision is ill-defined and being set to 0.0 in labels with no predicted samples. Use `zero_division` parameter to control this behavior.\n",
      "  _warn_prf(average, modifier, msg_start, len(result))\n",
      "/usr/local/share/anaconda3/envs/ds420/lib/python3.7/site-packages/sklearn/metrics/_classification.py:1248: UndefinedMetricWarning: Precision is ill-defined and being set to 0.0 in labels with no predicted samples. Use `zero_division` parameter to control this behavior.\n",
      "  _warn_prf(average, modifier, msg_start, len(result))\n"
     ]
    },
    {
     "name": "stdout",
     "output_type": "stream",
     "text": [
      "nobs= 14999\n"
     ]
    },
    {
     "name": "stderr",
     "output_type": "stream",
     "text": [
      "/usr/local/share/anaconda3/envs/ds420/lib/python3.7/site-packages/sklearn/metrics/_classification.py:1248: UndefinedMetricWarning: Precision is ill-defined and being set to 0.0 in labels with no predicted samples. Use `zero_division` parameter to control this behavior.\n",
      "  _warn_prf(average, modifier, msg_start, len(result))\n",
      "/usr/local/share/anaconda3/envs/ds420/lib/python3.7/site-packages/sklearn/metrics/_classification.py:1248: UndefinedMetricWarning: Precision is ill-defined and being set to 0.0 in labels with no predicted samples. Use `zero_division` parameter to control this behavior.\n",
      "  _warn_prf(average, modifier, msg_start, len(result))\n"
     ]
    },
    {
     "name": "stdout",
     "output_type": "stream",
     "text": [
      "nobs= 15999\n"
     ]
    },
    {
     "name": "stderr",
     "output_type": "stream",
     "text": [
      "/usr/local/share/anaconda3/envs/ds420/lib/python3.7/site-packages/sklearn/metrics/_classification.py:1248: UndefinedMetricWarning: Precision is ill-defined and being set to 0.0 in labels with no predicted samples. Use `zero_division` parameter to control this behavior.\n",
      "  _warn_prf(average, modifier, msg_start, len(result))\n",
      "/usr/local/share/anaconda3/envs/ds420/lib/python3.7/site-packages/sklearn/metrics/_classification.py:1248: UndefinedMetricWarning: Precision is ill-defined and being set to 0.0 in labels with no predicted samples. Use `zero_division` parameter to control this behavior.\n",
      "  _warn_prf(average, modifier, msg_start, len(result))\n"
     ]
    },
    {
     "name": "stdout",
     "output_type": "stream",
     "text": [
      "nobs= 16999\n"
     ]
    },
    {
     "name": "stderr",
     "output_type": "stream",
     "text": [
      "/usr/local/share/anaconda3/envs/ds420/lib/python3.7/site-packages/sklearn/metrics/_classification.py:1248: UndefinedMetricWarning: Precision is ill-defined and being set to 0.0 in labels with no predicted samples. Use `zero_division` parameter to control this behavior.\n",
      "  _warn_prf(average, modifier, msg_start, len(result))\n",
      "/usr/local/share/anaconda3/envs/ds420/lib/python3.7/site-packages/sklearn/metrics/_classification.py:1248: UndefinedMetricWarning: Precision is ill-defined and being set to 0.0 in labels with no predicted samples. Use `zero_division` parameter to control this behavior.\n",
      "  _warn_prf(average, modifier, msg_start, len(result))\n"
     ]
    },
    {
     "name": "stdout",
     "output_type": "stream",
     "text": [
      "nobs= 17999\n"
     ]
    },
    {
     "name": "stderr",
     "output_type": "stream",
     "text": [
      "/usr/local/share/anaconda3/envs/ds420/lib/python3.7/site-packages/sklearn/metrics/_classification.py:1248: UndefinedMetricWarning: Precision is ill-defined and being set to 0.0 in labels with no predicted samples. Use `zero_division` parameter to control this behavior.\n",
      "  _warn_prf(average, modifier, msg_start, len(result))\n",
      "/usr/local/share/anaconda3/envs/ds420/lib/python3.7/site-packages/sklearn/metrics/_classification.py:1248: UndefinedMetricWarning: Precision is ill-defined and being set to 0.0 in labels with no predicted samples. Use `zero_division` parameter to control this behavior.\n",
      "  _warn_prf(average, modifier, msg_start, len(result))\n"
     ]
    },
    {
     "name": "stdout",
     "output_type": "stream",
     "text": [
      "nobs= 18999\n"
     ]
    },
    {
     "name": "stderr",
     "output_type": "stream",
     "text": [
      "/usr/local/share/anaconda3/envs/ds420/lib/python3.7/site-packages/sklearn/metrics/_classification.py:1248: UndefinedMetricWarning: Precision is ill-defined and being set to 0.0 in labels with no predicted samples. Use `zero_division` parameter to control this behavior.\n",
      "  _warn_prf(average, modifier, msg_start, len(result))\n",
      "/usr/local/share/anaconda3/envs/ds420/lib/python3.7/site-packages/sklearn/metrics/_classification.py:1248: UndefinedMetricWarning: Precision is ill-defined and being set to 0.0 in labels with no predicted samples. Use `zero_division` parameter to control this behavior.\n",
      "  _warn_prf(average, modifier, msg_start, len(result))\n"
     ]
    },
    {
     "name": "stdout",
     "output_type": "stream",
     "text": [
      "nobs= 19999\n"
     ]
    },
    {
     "name": "stderr",
     "output_type": "stream",
     "text": [
      "/usr/local/share/anaconda3/envs/ds420/lib/python3.7/site-packages/sklearn/metrics/_classification.py:1248: UndefinedMetricWarning: Precision is ill-defined and being set to 0.0 in labels with no predicted samples. Use `zero_division` parameter to control this behavior.\n",
      "  _warn_prf(average, modifier, msg_start, len(result))\n",
      "/usr/local/share/anaconda3/envs/ds420/lib/python3.7/site-packages/sklearn/metrics/_classification.py:1248: UndefinedMetricWarning: Precision is ill-defined and being set to 0.0 in labels with no predicted samples. Use `zero_division` parameter to control this behavior.\n",
      "  _warn_prf(average, modifier, msg_start, len(result))\n"
     ]
    },
    {
     "name": "stdout",
     "output_type": "stream",
     "text": [
      "nobs= 20999\n"
     ]
    },
    {
     "name": "stderr",
     "output_type": "stream",
     "text": [
      "/usr/local/share/anaconda3/envs/ds420/lib/python3.7/site-packages/sklearn/metrics/_classification.py:1248: UndefinedMetricWarning: Precision is ill-defined and being set to 0.0 in labels with no predicted samples. Use `zero_division` parameter to control this behavior.\n",
      "  _warn_prf(average, modifier, msg_start, len(result))\n",
      "/usr/local/share/anaconda3/envs/ds420/lib/python3.7/site-packages/sklearn/metrics/_classification.py:1248: UndefinedMetricWarning: Precision is ill-defined and being set to 0.0 in labels with no predicted samples. Use `zero_division` parameter to control this behavior.\n",
      "  _warn_prf(average, modifier, msg_start, len(result))\n"
     ]
    },
    {
     "name": "stdout",
     "output_type": "stream",
     "text": [
      "nobs= 21999\n"
     ]
    },
    {
     "name": "stderr",
     "output_type": "stream",
     "text": [
      "/usr/local/share/anaconda3/envs/ds420/lib/python3.7/site-packages/sklearn/metrics/_classification.py:1248: UndefinedMetricWarning: Precision is ill-defined and being set to 0.0 in labels with no predicted samples. Use `zero_division` parameter to control this behavior.\n",
      "  _warn_prf(average, modifier, msg_start, len(result))\n",
      "/usr/local/share/anaconda3/envs/ds420/lib/python3.7/site-packages/sklearn/metrics/_classification.py:1248: UndefinedMetricWarning: Precision is ill-defined and being set to 0.0 in labels with no predicted samples. Use `zero_division` parameter to control this behavior.\n",
      "  _warn_prf(average, modifier, msg_start, len(result))\n"
     ]
    },
    {
     "name": "stdout",
     "output_type": "stream",
     "text": [
      "nobs= 22999\n"
     ]
    },
    {
     "name": "stderr",
     "output_type": "stream",
     "text": [
      "/usr/local/share/anaconda3/envs/ds420/lib/python3.7/site-packages/sklearn/metrics/_classification.py:1248: UndefinedMetricWarning: Precision is ill-defined and being set to 0.0 in labels with no predicted samples. Use `zero_division` parameter to control this behavior.\n",
      "  _warn_prf(average, modifier, msg_start, len(result))\n",
      "/usr/local/share/anaconda3/envs/ds420/lib/python3.7/site-packages/sklearn/metrics/_classification.py:1248: UndefinedMetricWarning: Precision is ill-defined and being set to 0.0 in labels with no predicted samples. Use `zero_division` parameter to control this behavior.\n",
      "  _warn_prf(average, modifier, msg_start, len(result))\n"
     ]
    },
    {
     "name": "stdout",
     "output_type": "stream",
     "text": [
      "nobs= 23999\n"
     ]
    },
    {
     "name": "stderr",
     "output_type": "stream",
     "text": [
      "/usr/local/share/anaconda3/envs/ds420/lib/python3.7/site-packages/sklearn/metrics/_classification.py:1248: UndefinedMetricWarning: Precision is ill-defined and being set to 0.0 in labels with no predicted samples. Use `zero_division` parameter to control this behavior.\n",
      "  _warn_prf(average, modifier, msg_start, len(result))\n",
      "/usr/local/share/anaconda3/envs/ds420/lib/python3.7/site-packages/sklearn/metrics/_classification.py:1248: UndefinedMetricWarning: Precision is ill-defined and being set to 0.0 in labels with no predicted samples. Use `zero_division` parameter to control this behavior.\n",
      "  _warn_prf(average, modifier, msg_start, len(result))\n"
     ]
    },
    {
     "name": "stdout",
     "output_type": "stream",
     "text": [
      "nobs= 24999\n"
     ]
    },
    {
     "name": "stderr",
     "output_type": "stream",
     "text": [
      "/usr/local/share/anaconda3/envs/ds420/lib/python3.7/site-packages/sklearn/metrics/_classification.py:1248: UndefinedMetricWarning: Precision is ill-defined and being set to 0.0 in labels with no predicted samples. Use `zero_division` parameter to control this behavior.\n",
      "  _warn_prf(average, modifier, msg_start, len(result))\n",
      "/usr/local/share/anaconda3/envs/ds420/lib/python3.7/site-packages/sklearn/metrics/_classification.py:1248: UndefinedMetricWarning: Precision is ill-defined and being set to 0.0 in labels with no predicted samples. Use `zero_division` parameter to control this behavior.\n",
      "  _warn_prf(average, modifier, msg_start, len(result))\n"
     ]
    },
    {
     "name": "stdout",
     "output_type": "stream",
     "text": [
      "nobs= 25999\n"
     ]
    },
    {
     "name": "stderr",
     "output_type": "stream",
     "text": [
      "/usr/local/share/anaconda3/envs/ds420/lib/python3.7/site-packages/sklearn/metrics/_classification.py:1248: UndefinedMetricWarning: Precision is ill-defined and being set to 0.0 in labels with no predicted samples. Use `zero_division` parameter to control this behavior.\n",
      "  _warn_prf(average, modifier, msg_start, len(result))\n",
      "/usr/local/share/anaconda3/envs/ds420/lib/python3.7/site-packages/sklearn/metrics/_classification.py:1248: UndefinedMetricWarning: Precision is ill-defined and being set to 0.0 in labels with no predicted samples. Use `zero_division` parameter to control this behavior.\n",
      "  _warn_prf(average, modifier, msg_start, len(result))\n"
     ]
    },
    {
     "name": "stdout",
     "output_type": "stream",
     "text": [
      "nobs= 26999\n"
     ]
    },
    {
     "name": "stderr",
     "output_type": "stream",
     "text": [
      "/usr/local/share/anaconda3/envs/ds420/lib/python3.7/site-packages/sklearn/metrics/_classification.py:1248: UndefinedMetricWarning: Precision is ill-defined and being set to 0.0 in labels with no predicted samples. Use `zero_division` parameter to control this behavior.\n",
      "  _warn_prf(average, modifier, msg_start, len(result))\n",
      "/usr/local/share/anaconda3/envs/ds420/lib/python3.7/site-packages/sklearn/metrics/_classification.py:1248: UndefinedMetricWarning: Precision is ill-defined and being set to 0.0 in labels with no predicted samples. Use `zero_division` parameter to control this behavior.\n",
      "  _warn_prf(average, modifier, msg_start, len(result))\n"
     ]
    },
    {
     "name": "stdout",
     "output_type": "stream",
     "text": [
      "nobs= 27999\n"
     ]
    },
    {
     "name": "stderr",
     "output_type": "stream",
     "text": [
      "/usr/local/share/anaconda3/envs/ds420/lib/python3.7/site-packages/sklearn/metrics/_classification.py:1248: UndefinedMetricWarning: Precision is ill-defined and being set to 0.0 in labels with no predicted samples. Use `zero_division` parameter to control this behavior.\n",
      "  _warn_prf(average, modifier, msg_start, len(result))\n",
      "/usr/local/share/anaconda3/envs/ds420/lib/python3.7/site-packages/sklearn/metrics/_classification.py:1248: UndefinedMetricWarning: Precision is ill-defined and being set to 0.0 in labels with no predicted samples. Use `zero_division` parameter to control this behavior.\n",
      "  _warn_prf(average, modifier, msg_start, len(result))\n"
     ]
    },
    {
     "data": {
      "image/png": "[encoded data removed]",
      "text/plain": [
       "<Figure size 1080x360 with 3 Axes>"
      ]
     },
     "metadata": {
      "needs_background": "light"
     },
     "output_type": "display_data"
    }
   ],
   "source": [
    "# Learning curve for SVM  classifier\n",
    "\n",
    "from sklearn.model_selection import train_test_split\n",
    "from sklearn.metrics import accuracy_score\n",
    "import matplotlib.pyplot as plt\n",
    "\n",
    "startobs = 999\n",
    "increment = 1000\n",
    "\n",
    "test_img = X_test\n",
    "\n",
    "def plot_curve (pltid, x, y1, y2, ylab):\n",
    "    pltid.plot(x, y1, \"r-+\", linewidth=2, label=\"train\")\n",
    "    pltid.plot(x, y2, \"b-\", linewidth=3, label=\"val\")\n",
    "    pltid.legend()\n",
    "    pltid.set_title (ylab) \n",
    "\n",
    "def plot_learning_curves(model, X, y):\n",
    "    #X_train, X_val, y_train, y_val = train_test_split(X, y, test_size=0.2, random_state=42)\n",
    "    #print (\"Validation set labels:\", y_val)\n",
    "    train_accur, val_accur, train_precn, val_precn, train_recall, val_recall, n_obs = [], [], [], [], [], [], []\n",
    "    for m in range(startobs, len(X_train), increment):\n",
    "        print (\"nobs=\", m)\n",
    "        model.fit (X[:m], y[:m])\n",
    "        \n",
    "        y_train_predict = model.predict (X[:m])\n",
    "        y_val_predict = model.predict (X)\n",
    "        \n",
    "        train_accur.append (accuracy_score(y [:m], y_train_predict))\n",
    "        train_precn.append (precision_score(y [:m], y_train_predict, average='macro'))\n",
    "        train_recall.append (recall_score(y [:m], y_train_predict, average='macro'))\n",
    "        \n",
    "        val_accur.append (accuracy_score(y, y_val_predict))\n",
    "        val_precn.append (precision_score(y, y_val_predict, average='macro'))\n",
    "        val_recall.append (recall_score(y, y_val_predict, average='macro'))\n",
    "        n_obs.append (m)\n",
    "\n",
    "    fig, axs = plt.subplots(1,3, figsize=(15,5))\n",
    "    plot_curve (axs[0], n_obs, train_accur, val_accur, \"Accuracy\")\n",
    "    plot_curve (axs[1], n_obs, train_precn, val_precn, \"Precision\")\n",
    "    plot_curve (axs[2], n_obs, train_recall, val_recall, \"Recall\")\n",
    "    \n",
    "plot_learning_curves(svm_classifier, X_train, y_train)"
   ]
  },
  {
   "cell_type": "markdown",
   "id": "2eb92551",
   "metadata": {},
   "source": [
    "## Test Set validation"
   ]
  },
  {
   "cell_type": "code",
   "execution_count": 91,
   "id": "27f411ac",
   "metadata": {},
   "outputs": [
    {
     "name": "stderr",
     "output_type": "stream",
     "text": [
      "/usr/local/share/anaconda3/envs/ds420/lib/python3.7/site-packages/sklearn/metrics/_classification.py:1248: UndefinedMetricWarning: Precision is ill-defined and being set to 0.0 in labels with no predicted samples. Use `zero_division` parameter to control this behavior.\n",
      "  _warn_prf(average, modifier, msg_start, len(result))\n"
     ]
    }
   ],
   "source": [
    "test_pred1 = svm_classifier.predict (X_test)\n",
    "test_precn1 = precision_score (y_test, test_pred1, average='macro')\n",
    "test_recal1 = recall_score (y_test, test_pred1, average='macro')"
   ]
  },
  {
   "cell_type": "code",
   "execution_count": 92,
   "id": "9b9eab29",
   "metadata": {},
   "outputs": [
    {
     "data": {
      "image/png": "[encoded data removed]",
      "text/plain": [
       "<Figure size 432x432 with 1 Axes>"
      ]
     },
     "metadata": {
      "needs_background": "light"
     },
     "output_type": "display_data"
    },
    {
     "name": "stdout",
     "output_type": "stream",
     "text": [
      "Test precision 0.7985\n",
      "Test recall 0.7995\n"
     ]
    }
   ],
   "source": [
    "from mlxtend.plotting import plot_confusion_matrix\n",
    "\n",
    "conf_matrix1 = confusion_matrix (y_test, test_pred)\n",
    "fig, ax = plot_confusion_matrix(conf_mat=conf_matrix1, figsize=(6, 6), cmap=plt.cm.Greens)\n",
    "plt.xlabel('Predictions', fontsize=18)\n",
    "plt.ylabel('Actuals', fontsize=18)\n",
    "plt.title('Confusion Matrix', fontsize=18)\n",
    "plt.show()\n",
    "\n",
    "print (\"Test precision\", np.round (test_precn1, 4))\n",
    "print (\"Test recall\", np.round (test_recal1, 4))"
   ]
  },
  {
   "cell_type": "code",
   "execution_count": 93,
   "id": "eac6e1ec",
   "metadata": {},
   "outputs": [
    {
     "name": "stdout",
     "output_type": "stream",
     "text": [
      "nobs= 999\n"
     ]
    },
    {
     "name": "stderr",
     "output_type": "stream",
     "text": [
      "/usr/local/share/anaconda3/envs/ds420/lib/python3.7/site-packages/sklearn/metrics/_classification.py:1248: UndefinedMetricWarning: Precision is ill-defined and being set to 0.0 in labels with no predicted samples. Use `zero_division` parameter to control this behavior.\n",
      "  _warn_prf(average, modifier, msg_start, len(result))\n"
     ]
    },
    {
     "name": "stdout",
     "output_type": "stream",
     "text": [
      "nobs= 1999\n"
     ]
    },
    {
     "name": "stderr",
     "output_type": "stream",
     "text": [
      "/usr/local/share/anaconda3/envs/ds420/lib/python3.7/site-packages/sklearn/metrics/_classification.py:1248: UndefinedMetricWarning: Precision is ill-defined and being set to 0.0 in labels with no predicted samples. Use `zero_division` parameter to control this behavior.\n",
      "  _warn_prf(average, modifier, msg_start, len(result))\n"
     ]
    },
    {
     "name": "stdout",
     "output_type": "stream",
     "text": [
      "nobs= 2999\n"
     ]
    },
    {
     "name": "stderr",
     "output_type": "stream",
     "text": [
      "/usr/local/share/anaconda3/envs/ds420/lib/python3.7/site-packages/sklearn/metrics/_classification.py:1248: UndefinedMetricWarning: Precision is ill-defined and being set to 0.0 in labels with no predicted samples. Use `zero_division` parameter to control this behavior.\n",
      "  _warn_prf(average, modifier, msg_start, len(result))\n"
     ]
    },
    {
     "name": "stdout",
     "output_type": "stream",
     "text": [
      "nobs= 3999\n"
     ]
    },
    {
     "name": "stderr",
     "output_type": "stream",
     "text": [
      "/usr/local/share/anaconda3/envs/ds420/lib/python3.7/site-packages/sklearn/metrics/_classification.py:1248: UndefinedMetricWarning: Precision is ill-defined and being set to 0.0 in labels with no predicted samples. Use `zero_division` parameter to control this behavior.\n",
      "  _warn_prf(average, modifier, msg_start, len(result))\n"
     ]
    },
    {
     "name": "stdout",
     "output_type": "stream",
     "text": [
      "nobs= 4999\n"
     ]
    },
    {
     "name": "stderr",
     "output_type": "stream",
     "text": [
      "/usr/local/share/anaconda3/envs/ds420/lib/python3.7/site-packages/sklearn/metrics/_classification.py:1248: UndefinedMetricWarning: Precision is ill-defined and being set to 0.0 in labels with no predicted samples. Use `zero_division` parameter to control this behavior.\n",
      "  _warn_prf(average, modifier, msg_start, len(result))\n"
     ]
    },
    {
     "name": "stdout",
     "output_type": "stream",
     "text": [
      "nobs= 5999\n"
     ]
    },
    {
     "name": "stderr",
     "output_type": "stream",
     "text": [
      "/usr/local/share/anaconda3/envs/ds420/lib/python3.7/site-packages/sklearn/metrics/_classification.py:1248: UndefinedMetricWarning: Precision is ill-defined and being set to 0.0 in labels with no predicted samples. Use `zero_division` parameter to control this behavior.\n",
      "  _warn_prf(average, modifier, msg_start, len(result))\n"
     ]
    },
    {
     "name": "stdout",
     "output_type": "stream",
     "text": [
      "nobs= 6999\n"
     ]
    },
    {
     "name": "stderr",
     "output_type": "stream",
     "text": [
      "/usr/local/share/anaconda3/envs/ds420/lib/python3.7/site-packages/sklearn/metrics/_classification.py:1248: UndefinedMetricWarning: Precision is ill-defined and being set to 0.0 in labels with no predicted samples. Use `zero_division` parameter to control this behavior.\n",
      "  _warn_prf(average, modifier, msg_start, len(result))\n",
      "/usr/local/share/anaconda3/envs/ds420/lib/python3.7/site-packages/sklearn/metrics/_classification.py:1248: UndefinedMetricWarning: Precision is ill-defined and being set to 0.0 in labels with no predicted samples. Use `zero_division` parameter to control this behavior.\n",
      "  _warn_prf(average, modifier, msg_start, len(result))\n"
     ]
    },
    {
     "name": "stdout",
     "output_type": "stream",
     "text": [
      "nobs= 7999\n"
     ]
    },
    {
     "name": "stderr",
     "output_type": "stream",
     "text": [
      "/usr/local/share/anaconda3/envs/ds420/lib/python3.7/site-packages/sklearn/metrics/_classification.py:1248: UndefinedMetricWarning: Precision is ill-defined and being set to 0.0 in labels with no predicted samples. Use `zero_division` parameter to control this behavior.\n",
      "  _warn_prf(average, modifier, msg_start, len(result))\n",
      "/usr/local/share/anaconda3/envs/ds420/lib/python3.7/site-packages/sklearn/metrics/_classification.py:1248: UndefinedMetricWarning: Precision is ill-defined and being set to 0.0 in labels with no predicted samples. Use `zero_division` parameter to control this behavior.\n",
      "  _warn_prf(average, modifier, msg_start, len(result))\n"
     ]
    },
    {
     "name": "stdout",
     "output_type": "stream",
     "text": [
      "nobs= 8999\n"
     ]
    },
    {
     "name": "stderr",
     "output_type": "stream",
     "text": [
      "/usr/local/share/anaconda3/envs/ds420/lib/python3.7/site-packages/sklearn/metrics/_classification.py:1248: UndefinedMetricWarning: Precision is ill-defined and being set to 0.0 in labels with no predicted samples. Use `zero_division` parameter to control this behavior.\n",
      "  _warn_prf(average, modifier, msg_start, len(result))\n",
      "/usr/local/share/anaconda3/envs/ds420/lib/python3.7/site-packages/sklearn/metrics/_classification.py:1248: UndefinedMetricWarning: Precision is ill-defined and being set to 0.0 in labels with no predicted samples. Use `zero_division` parameter to control this behavior.\n",
      "  _warn_prf(average, modifier, msg_start, len(result))\n"
     ]
    },
    {
     "name": "stdout",
     "output_type": "stream",
     "text": [
      "nobs= 9999\n"
     ]
    },
    {
     "name": "stderr",
     "output_type": "stream",
     "text": [
      "/usr/local/share/anaconda3/envs/ds420/lib/python3.7/site-packages/sklearn/metrics/_classification.py:1248: UndefinedMetricWarning: Precision is ill-defined and being set to 0.0 in labels with no predicted samples. Use `zero_division` parameter to control this behavior.\n",
      "  _warn_prf(average, modifier, msg_start, len(result))\n",
      "/usr/local/share/anaconda3/envs/ds420/lib/python3.7/site-packages/sklearn/metrics/_classification.py:1248: UndefinedMetricWarning: Precision is ill-defined and being set to 0.0 in labels with no predicted samples. Use `zero_division` parameter to control this behavior.\n",
      "  _warn_prf(average, modifier, msg_start, len(result))\n"
     ]
    },
    {
     "name": "stdout",
     "output_type": "stream",
     "text": [
      "nobs= 10999\n"
     ]
    },
    {
     "name": "stderr",
     "output_type": "stream",
     "text": [
      "/usr/local/share/anaconda3/envs/ds420/lib/python3.7/site-packages/sklearn/metrics/_classification.py:1248: UndefinedMetricWarning: Precision is ill-defined and being set to 0.0 in labels with no predicted samples. Use `zero_division` parameter to control this behavior.\n",
      "  _warn_prf(average, modifier, msg_start, len(result))\n",
      "/usr/local/share/anaconda3/envs/ds420/lib/python3.7/site-packages/sklearn/metrics/_classification.py:1248: UndefinedMetricWarning: Precision is ill-defined and being set to 0.0 in labels with no predicted samples. Use `zero_division` parameter to control this behavior.\n",
      "  _warn_prf(average, modifier, msg_start, len(result))\n"
     ]
    },
    {
     "name": "stdout",
     "output_type": "stream",
     "text": [
      "nobs= 11999\n"
     ]
    },
    {
     "name": "stderr",
     "output_type": "stream",
     "text": [
      "/usr/local/share/anaconda3/envs/ds420/lib/python3.7/site-packages/sklearn/metrics/_classification.py:1248: UndefinedMetricWarning: Precision is ill-defined and being set to 0.0 in labels with no predicted samples. Use `zero_division` parameter to control this behavior.\n",
      "  _warn_prf(average, modifier, msg_start, len(result))\n",
      "/usr/local/share/anaconda3/envs/ds420/lib/python3.7/site-packages/sklearn/metrics/_classification.py:1248: UndefinedMetricWarning: Precision is ill-defined and being set to 0.0 in labels with no predicted samples. Use `zero_division` parameter to control this behavior.\n",
      "  _warn_prf(average, modifier, msg_start, len(result))\n"
     ]
    },
    {
     "name": "stdout",
     "output_type": "stream",
     "text": [
      "nobs= 12999\n"
     ]
    },
    {
     "name": "stderr",
     "output_type": "stream",
     "text": [
      "/usr/local/share/anaconda3/envs/ds420/lib/python3.7/site-packages/sklearn/metrics/_classification.py:1248: UndefinedMetricWarning: Precision is ill-defined and being set to 0.0 in labels with no predicted samples. Use `zero_division` parameter to control this behavior.\n",
      "  _warn_prf(average, modifier, msg_start, len(result))\n",
      "/usr/local/share/anaconda3/envs/ds420/lib/python3.7/site-packages/sklearn/metrics/_classification.py:1248: UndefinedMetricWarning: Precision is ill-defined and being set to 0.0 in labels with no predicted samples. Use `zero_division` parameter to control this behavior.\n",
      "  _warn_prf(average, modifier, msg_start, len(result))\n"
     ]
    },
    {
     "name": "stdout",
     "output_type": "stream",
     "text": [
      "nobs= 13999\n"
     ]
    },
    {
     "name": "stderr",
     "output_type": "stream",
     "text": [
      "/usr/local/share/anaconda3/envs/ds420/lib/python3.7/site-packages/sklearn/metrics/_classification.py:1248: UndefinedMetricWarning: Precision is ill-defined and being set to 0.0 in labels with no predicted samples. Use `zero_division` parameter to control this behavior.\n",
      "  _warn_prf(average, modifier, msg_start, len(result))\n",
      "/usr/local/share/anaconda3/envs/ds420/lib/python3.7/site-packages/sklearn/metrics/_classification.py:1248: UndefinedMetricWarning: Precision is ill-defined and being set to 0.0 in labels with no predicted samples. Use `zero_division` parameter to control this behavior.\n",
      "  _warn_prf(average, modifier, msg_start, len(result))\n"
     ]
    },
    {
     "name": "stdout",
     "output_type": "stream",
     "text": [
      "nobs= 14999\n"
     ]
    },
    {
     "name": "stderr",
     "output_type": "stream",
     "text": [
      "/usr/local/share/anaconda3/envs/ds420/lib/python3.7/site-packages/sklearn/metrics/_classification.py:1248: UndefinedMetricWarning: Precision is ill-defined and being set to 0.0 in labels with no predicted samples. Use `zero_division` parameter to control this behavior.\n",
      "  _warn_prf(average, modifier, msg_start, len(result))\n",
      "/usr/local/share/anaconda3/envs/ds420/lib/python3.7/site-packages/sklearn/metrics/_classification.py:1248: UndefinedMetricWarning: Precision is ill-defined and being set to 0.0 in labels with no predicted samples. Use `zero_division` parameter to control this behavior.\n",
      "  _warn_prf(average, modifier, msg_start, len(result))\n"
     ]
    },
    {
     "name": "stdout",
     "output_type": "stream",
     "text": [
      "nobs= 15999\n"
     ]
    },
    {
     "name": "stderr",
     "output_type": "stream",
     "text": [
      "/usr/local/share/anaconda3/envs/ds420/lib/python3.7/site-packages/sklearn/metrics/_classification.py:1248: UndefinedMetricWarning: Precision is ill-defined and being set to 0.0 in labels with no predicted samples. Use `zero_division` parameter to control this behavior.\n",
      "  _warn_prf(average, modifier, msg_start, len(result))\n",
      "/usr/local/share/anaconda3/envs/ds420/lib/python3.7/site-packages/sklearn/metrics/_classification.py:1248: UndefinedMetricWarning: Precision is ill-defined and being set to 0.0 in labels with no predicted samples. Use `zero_division` parameter to control this behavior.\n",
      "  _warn_prf(average, modifier, msg_start, len(result))\n"
     ]
    },
    {
     "name": "stdout",
     "output_type": "stream",
     "text": [
      "nobs= 16999\n"
     ]
    },
    {
     "name": "stderr",
     "output_type": "stream",
     "text": [
      "/usr/local/share/anaconda3/envs/ds420/lib/python3.7/site-packages/sklearn/metrics/_classification.py:1248: UndefinedMetricWarning: Precision is ill-defined and being set to 0.0 in labels with no predicted samples. Use `zero_division` parameter to control this behavior.\n",
      "  _warn_prf(average, modifier, msg_start, len(result))\n",
      "/usr/local/share/anaconda3/envs/ds420/lib/python3.7/site-packages/sklearn/metrics/_classification.py:1248: UndefinedMetricWarning: Precision is ill-defined and being set to 0.0 in labels with no predicted samples. Use `zero_division` parameter to control this behavior.\n",
      "  _warn_prf(average, modifier, msg_start, len(result))\n"
     ]
    },
    {
     "name": "stdout",
     "output_type": "stream",
     "text": [
      "nobs= 17999\n"
     ]
    },
    {
     "name": "stderr",
     "output_type": "stream",
     "text": [
      "/usr/local/share/anaconda3/envs/ds420/lib/python3.7/site-packages/sklearn/metrics/_classification.py:1248: UndefinedMetricWarning: Precision is ill-defined and being set to 0.0 in labels with no predicted samples. Use `zero_division` parameter to control this behavior.\n",
      "  _warn_prf(average, modifier, msg_start, len(result))\n",
      "/usr/local/share/anaconda3/envs/ds420/lib/python3.7/site-packages/sklearn/metrics/_classification.py:1248: UndefinedMetricWarning: Precision is ill-defined and being set to 0.0 in labels with no predicted samples. Use `zero_division` parameter to control this behavior.\n",
      "  _warn_prf(average, modifier, msg_start, len(result))\n"
     ]
    },
    {
     "name": "stdout",
     "output_type": "stream",
     "text": [
      "nobs= 18999\n"
     ]
    },
    {
     "name": "stderr",
     "output_type": "stream",
     "text": [
      "/usr/local/share/anaconda3/envs/ds420/lib/python3.7/site-packages/sklearn/metrics/_classification.py:1248: UndefinedMetricWarning: Precision is ill-defined and being set to 0.0 in labels with no predicted samples. Use `zero_division` parameter to control this behavior.\n",
      "  _warn_prf(average, modifier, msg_start, len(result))\n",
      "/usr/local/share/anaconda3/envs/ds420/lib/python3.7/site-packages/sklearn/metrics/_classification.py:1248: UndefinedMetricWarning: Precision is ill-defined and being set to 0.0 in labels with no predicted samples. Use `zero_division` parameter to control this behavior.\n",
      "  _warn_prf(average, modifier, msg_start, len(result))\n"
     ]
    },
    {
     "name": "stdout",
     "output_type": "stream",
     "text": [
      "nobs= 19999\n"
     ]
    },
    {
     "name": "stderr",
     "output_type": "stream",
     "text": [
      "/usr/local/share/anaconda3/envs/ds420/lib/python3.7/site-packages/sklearn/metrics/_classification.py:1248: UndefinedMetricWarning: Precision is ill-defined and being set to 0.0 in labels with no predicted samples. Use `zero_division` parameter to control this behavior.\n",
      "  _warn_prf(average, modifier, msg_start, len(result))\n",
      "/usr/local/share/anaconda3/envs/ds420/lib/python3.7/site-packages/sklearn/metrics/_classification.py:1248: UndefinedMetricWarning: Precision is ill-defined and being set to 0.0 in labels with no predicted samples. Use `zero_division` parameter to control this behavior.\n",
      "  _warn_prf(average, modifier, msg_start, len(result))\n"
     ]
    },
    {
     "name": "stdout",
     "output_type": "stream",
     "text": [
      "nobs= 20999\n"
     ]
    },
    {
     "name": "stderr",
     "output_type": "stream",
     "text": [
      "/usr/local/share/anaconda3/envs/ds420/lib/python3.7/site-packages/sklearn/metrics/_classification.py:1248: UndefinedMetricWarning: Precision is ill-defined and being set to 0.0 in labels with no predicted samples. Use `zero_division` parameter to control this behavior.\n",
      "  _warn_prf(average, modifier, msg_start, len(result))\n",
      "/usr/local/share/anaconda3/envs/ds420/lib/python3.7/site-packages/sklearn/metrics/_classification.py:1248: UndefinedMetricWarning: Precision is ill-defined and being set to 0.0 in labels with no predicted samples. Use `zero_division` parameter to control this behavior.\n",
      "  _warn_prf(average, modifier, msg_start, len(result))\n"
     ]
    },
    {
     "name": "stdout",
     "output_type": "stream",
     "text": [
      "nobs= 21999\n"
     ]
    },
    {
     "name": "stderr",
     "output_type": "stream",
     "text": [
      "/usr/local/share/anaconda3/envs/ds420/lib/python3.7/site-packages/sklearn/metrics/_classification.py:1248: UndefinedMetricWarning: Precision is ill-defined and being set to 0.0 in labels with no predicted samples. Use `zero_division` parameter to control this behavior.\n",
      "  _warn_prf(average, modifier, msg_start, len(result))\n",
      "/usr/local/share/anaconda3/envs/ds420/lib/python3.7/site-packages/sklearn/metrics/_classification.py:1248: UndefinedMetricWarning: Precision is ill-defined and being set to 0.0 in labels with no predicted samples. Use `zero_division` parameter to control this behavior.\n",
      "  _warn_prf(average, modifier, msg_start, len(result))\n"
     ]
    },
    {
     "name": "stdout",
     "output_type": "stream",
     "text": [
      "nobs= 22999\n"
     ]
    },
    {
     "name": "stderr",
     "output_type": "stream",
     "text": [
      "/usr/local/share/anaconda3/envs/ds420/lib/python3.7/site-packages/sklearn/metrics/_classification.py:1248: UndefinedMetricWarning: Precision is ill-defined and being set to 0.0 in labels with no predicted samples. Use `zero_division` parameter to control this behavior.\n",
      "  _warn_prf(average, modifier, msg_start, len(result))\n",
      "/usr/local/share/anaconda3/envs/ds420/lib/python3.7/site-packages/sklearn/metrics/_classification.py:1248: UndefinedMetricWarning: Precision is ill-defined and being set to 0.0 in labels with no predicted samples. Use `zero_division` parameter to control this behavior.\n",
      "  _warn_prf(average, modifier, msg_start, len(result))\n"
     ]
    },
    {
     "name": "stdout",
     "output_type": "stream",
     "text": [
      "nobs= 23999\n"
     ]
    },
    {
     "name": "stderr",
     "output_type": "stream",
     "text": [
      "/usr/local/share/anaconda3/envs/ds420/lib/python3.7/site-packages/sklearn/metrics/_classification.py:1248: UndefinedMetricWarning: Precision is ill-defined and being set to 0.0 in labels with no predicted samples. Use `zero_division` parameter to control this behavior.\n",
      "  _warn_prf(average, modifier, msg_start, len(result))\n",
      "/usr/local/share/anaconda3/envs/ds420/lib/python3.7/site-packages/sklearn/metrics/_classification.py:1248: UndefinedMetricWarning: Precision is ill-defined and being set to 0.0 in labels with no predicted samples. Use `zero_division` parameter to control this behavior.\n",
      "  _warn_prf(average, modifier, msg_start, len(result))\n"
     ]
    },
    {
     "name": "stdout",
     "output_type": "stream",
     "text": [
      "nobs= 24999\n"
     ]
    },
    {
     "name": "stderr",
     "output_type": "stream",
     "text": [
      "/usr/local/share/anaconda3/envs/ds420/lib/python3.7/site-packages/sklearn/metrics/_classification.py:1248: UndefinedMetricWarning: Precision is ill-defined and being set to 0.0 in labels with no predicted samples. Use `zero_division` parameter to control this behavior.\n",
      "  _warn_prf(average, modifier, msg_start, len(result))\n",
      "/usr/local/share/anaconda3/envs/ds420/lib/python3.7/site-packages/sklearn/metrics/_classification.py:1248: UndefinedMetricWarning: Precision is ill-defined and being set to 0.0 in labels with no predicted samples. Use `zero_division` parameter to control this behavior.\n",
      "  _warn_prf(average, modifier, msg_start, len(result))\n"
     ]
    },
    {
     "name": "stdout",
     "output_type": "stream",
     "text": [
      "nobs= 25999\n"
     ]
    },
    {
     "name": "stderr",
     "output_type": "stream",
     "text": [
      "/usr/local/share/anaconda3/envs/ds420/lib/python3.7/site-packages/sklearn/metrics/_classification.py:1248: UndefinedMetricWarning: Precision is ill-defined and being set to 0.0 in labels with no predicted samples. Use `zero_division` parameter to control this behavior.\n",
      "  _warn_prf(average, modifier, msg_start, len(result))\n",
      "/usr/local/share/anaconda3/envs/ds420/lib/python3.7/site-packages/sklearn/metrics/_classification.py:1248: UndefinedMetricWarning: Precision is ill-defined and being set to 0.0 in labels with no predicted samples. Use `zero_division` parameter to control this behavior.\n",
      "  _warn_prf(average, modifier, msg_start, len(result))\n"
     ]
    },
    {
     "name": "stdout",
     "output_type": "stream",
     "text": [
      "nobs= 26999\n"
     ]
    },
    {
     "name": "stderr",
     "output_type": "stream",
     "text": [
      "/usr/local/share/anaconda3/envs/ds420/lib/python3.7/site-packages/sklearn/metrics/_classification.py:1248: UndefinedMetricWarning: Precision is ill-defined and being set to 0.0 in labels with no predicted samples. Use `zero_division` parameter to control this behavior.\n",
      "  _warn_prf(average, modifier, msg_start, len(result))\n",
      "/usr/local/share/anaconda3/envs/ds420/lib/python3.7/site-packages/sklearn/metrics/_classification.py:1248: UndefinedMetricWarning: Precision is ill-defined and being set to 0.0 in labels with no predicted samples. Use `zero_division` parameter to control this behavior.\n",
      "  _warn_prf(average, modifier, msg_start, len(result))\n"
     ]
    },
    {
     "name": "stdout",
     "output_type": "stream",
     "text": [
      "nobs= 27999\n"
     ]
    },
    {
     "name": "stderr",
     "output_type": "stream",
     "text": [
      "/usr/local/share/anaconda3/envs/ds420/lib/python3.7/site-packages/sklearn/metrics/_classification.py:1248: UndefinedMetricWarning: Precision is ill-defined and being set to 0.0 in labels with no predicted samples. Use `zero_division` parameter to control this behavior.\n",
      "  _warn_prf(average, modifier, msg_start, len(result))\n",
      "/usr/local/share/anaconda3/envs/ds420/lib/python3.7/site-packages/sklearn/metrics/_classification.py:1248: UndefinedMetricWarning: Precision is ill-defined and being set to 0.0 in labels with no predicted samples. Use `zero_division` parameter to control this behavior.\n",
      "  _warn_prf(average, modifier, msg_start, len(result))\n"
     ]
    },
    {
     "data": {
      "image/png": "[encoded data removed]",
      "text/plain": [
       "<Figure size 1080x360 with 3 Axes>"
      ]
     },
     "metadata": {
      "needs_background": "light"
     },
     "output_type": "display_data"
    }
   ],
   "source": [
    "# Learning curve for SVM classifier\n",
    "\n",
    "from sklearn.model_selection import train_test_split\n",
    "from sklearn.metrics import accuracy_score\n",
    "import matplotlib.pyplot as plt\n",
    "\n",
    "startobs = 999\n",
    "increment = 1000\n",
    "\n",
    "test_img1 = X_test\n",
    "\n",
    "def plot_curve (pltid, x, y1, y2, ylab):\n",
    "    pltid.plot(x, y1, \"r-+\", linewidth=2, label=\"train\")\n",
    "    pltid.plot(x, y2, \"b-\", linewidth=3, label=\"val\")\n",
    "    pltid.legend()\n",
    "    pltid.set_title (ylab) \n",
    "\n",
    "def plot_learning_curves(model, X, y):\n",
    "    #X_train, X_val, y_train, y_val = train_test_split(X, y, test_size=0.2, random_state=42)\n",
    "    #print (\"Validation set labels:\", y_val)\n",
    "    train_accur, val_accur, train_precn, val_precn, train_recall, val_recall, n_obs = [], [], [], [], [], [], []\n",
    "    for m in range(startobs, len(X_train), increment):\n",
    "        print (\"nobs=\", m)\n",
    "        model.fit (X[:m], y[:m])\n",
    "        \n",
    "        y_train_predict = model.predict (X[:m])\n",
    "        y_val_predict = model.predict (test_img)\n",
    "        \n",
    "        train_accur.append (accuracy_score(y [:m], y_train_predict))\n",
    "        train_precn.append (precision_score(y [:m], y_train_predict, average='macro'))\n",
    "        train_recall.append (recall_score(y [:m], y_train_predict, average='macro'))\n",
    "        \n",
    "        val_accur.append (accuracy_score(y_test, y_val_predict))\n",
    "        val_precn.append (precision_score(y_test, y_val_predict, average='macro'))\n",
    "        val_recall.append (recall_score(y_test, y_val_predict, average='macro'))\n",
    "        n_obs.append (m)\n",
    "\n",
    "    fig, axs = plt.subplots(1,3, figsize=(15,5))\n",
    "    plot_curve (axs[0], n_obs, train_accur, val_accur, \"Accuracy\")\n",
    "    plot_curve (axs[1], n_obs, train_precn, val_precn, \"Precision\")\n",
    "    plot_curve (axs[2], n_obs, train_recall, val_recall, \"Recall\")\n",
    "    \n",
    "plot_learning_curves(svm_classifier, X_train, y_train)"
   ]
  },
  {
   "cell_type": "code",
   "execution_count": null,
   "id": "0d46460c",
   "metadata": {},
   "outputs": [],
   "source": []
  },
  {
   "cell_type": "code",
   "execution_count": null,
   "id": "858c497c",
   "metadata": {},
   "outputs": [],
   "source": []
  },
  {
   "cell_type": "markdown",
   "id": "912772a3",
   "metadata": {},
   "source": [
    "## Model selection"
   ]
  },
  {
   "cell_type": "markdown",
   "id": "6417dcac",
   "metadata": {},
   "source": [
    "A pipeline can also be used during the model selection process. The following example\n",
    "code loops through a number of scikit-learn classifiers applying the transformations and\n",
    "training the model."
   ]
  },
  {
   "cell_type": "markdown",
   "id": "4f1b4c8b",
   "metadata": {},
   "source": [
    "from sklearn.metrics import accuracy_score, log_loss\n",
    "from sklearn.linear_model import SGDClassifier\n",
    "from sklearn.multiclass import OneVsOneClassifier\n",
    "from sklearn.tree import DecisionTreeClassifier\n",
    "from sklearn.ensemble import RandomForestClassifier, AdaBoostClassifier, GradientBoostingClassifier\n",
    "from sklearn.discriminant_analysis import LinearDiscriminantAnalysis\n",
    "from sklearn.discriminant_analysis import QuadraticDiscriminantAnalysis\n",
    "\n",
    "\n",
    "classifiers = [\n",
    "    SVC(kernel=\"rbf\", C=0.025, probability=True),\n",
    "    DecisionTreeClassifier(),\n",
    "    RandomForestClassifier(),\n",
    "    \n",
    "]\n",
    "\n",
    "classifiers1 = [\n",
    "    \n",
    "    OneVsOneClassifier(SGDClassifier (max_iter=5, tol=-np.infty, random_state = 42)),\n",
    "    SGDClassifier (max_iter=5, tol=-np.infty, random_state = 42),\n",
    "    SVC(kernel=\"poly\", degree=1),\n",
    "    \n",
    "]"
   ]
  },
  {
   "cell_type": "markdown",
   "id": "bc6de0f5",
   "metadata": {},
   "source": [
    "for classifier in classifiers: \n",
    "    pipe = Pipeline(steps=[('preprocessor', preprocessor),('classifier', classifier)])\n",
    "    pipe.fit(X_train, y_train)\n",
    "    print(classifier)\n",
    "    print(\"model score: %.3f\" % pipe.score(X_test, y_test))"
   ]
  },
  {
   "cell_type": "markdown",
   "id": "4e2e1e24",
   "metadata": {},
   "source": [
    "for classifier in classifiers1: \n",
    "    pipe = Pipeline(steps=[('preprocessor', preprocessor),('classifier', classifier)])\n",
    "    pipe.fit(X_train, y_train)\n",
    "    print(classifier)\n",
    "    print(\"model score: %.3f\" % pipe.score(X_test, y_test))"
   ]
  },
  {
   "cell_type": "code",
   "execution_count": null,
   "id": "ff701141",
   "metadata": {},
   "outputs": [],
   "source": []
  },
  {
   "cell_type": "code",
   "execution_count": null,
   "id": "6beeab22",
   "metadata": {},
   "outputs": [],
   "source": []
  }
 ],
 "metadata": {
  "kernelspec": {
   "display_name": "Python 3.7 (DS420)",
   "language": "python",
   "name": "python3.7.10"
  },
  "language_info": {
   "codemirror_mode": {
    "name": "ipython",
    "version": 3
   },
   "file_extension": ".py",
   "mimetype": "text/x-python",
   "name": "python",
   "nbconvert_exporter": "python",
   "pygments_lexer": "ipython3",
   "version": "3.7.10"
  }
 },
 "nbformat": 4,
 "nbformat_minor": 5
}
