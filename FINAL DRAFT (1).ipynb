{
 "cells": [
  {
   "cell_type": "code",
   "execution_count": 7,
   "id": "66ea58e4",
   "metadata": {
    "id": "66ea58e4"
   },
   "outputs": [],
   "source": [
    "import pandas as pd\n",
    "import numpy as np\n",
    "import matplotlib.pyplot as plt\n",
    "import seaborn as sb\n",
    "import scipy.stats as stat"
   ]
  },
  {
   "cell_type": "markdown",
   "id": "68eee7cd",
   "metadata": {
    "id": "68eee7cd"
   },
   "source": [
    "## Exploratory Analysis And Data Cleaning"
   ]
  },
  {
   "cell_type": "markdown",
   "id": "102b4df9",
   "metadata": {
    "id": "102b4df9"
   },
   "source": [
    "Read in the data:"
   ]
  },
  {
   "cell_type": "code",
   "execution_count": 8,
   "id": "1c0191f9",
   "metadata": {
    "id": "1c0191f9"
   },
   "outputs": [],
   "source": [
    "hr = pd.read_csv(\"HR.csv\")\n",
    "#hr = hrdata.sample(frac=0.66, random_state=25)\n",
    "#hrtest = hrdata.drop(hr.index)\n",
    "\n",
    "#print(f\"No. of training examples: {hr.shape[0]}\")\n",
    "#print(f\"No. of testing examples: {hrtest.shape[0]}\")\n"
   ]
  },
  {
   "cell_type": "code",
   "execution_count": 9,
   "id": "d1ad61d2",
   "metadata": {
    "id": "d1ad61d2",
    "outputId": "0b069bfa-1fae-4d44-ecb2-0ec4be7dc121"
   },
   "outputs": [
    {
     "data": {
      "text/plain": [
       "(1470, 35)"
      ]
     },
     "execution_count": 9,
     "metadata": {},
     "output_type": "execute_result"
    }
   ],
   "source": [
    "hr.shape"
   ]
  },
  {
   "cell_type": "code",
   "execution_count": 10,
   "id": "a7b56e7a",
   "metadata": {
    "id": "a7b56e7a",
    "outputId": "7a2a5722-cdfb-4ee4-cf17-88bc594aba71"
   },
   "outputs": [
    {
     "data": {
      "text/plain": [
       "<bound method NDFrame.describe of       Age Attrition     BusinessTravel  DailyRate              Department  \\\n",
       "0      41       Yes      Travel_Rarely       1102                   Sales   \n",
       "1      49        No  Travel_Frequently        279  Research & Development   \n",
       "2      37       Yes      Travel_Rarely       1373  Research & Development   \n",
       "3      33        No  Travel_Frequently       1392  Research & Development   \n",
       "4      27        No      Travel_Rarely        591  Research & Development   \n",
       "...   ...       ...                ...        ...                     ...   \n",
       "1465   36        No  Travel_Frequently        884  Research & Development   \n",
       "1466   39        No      Travel_Rarely        613  Research & Development   \n",
       "1467   27        No      Travel_Rarely        155  Research & Development   \n",
       "1468   49        No  Travel_Frequently       1023                   Sales   \n",
       "1469   34        No      Travel_Rarely        628  Research & Development   \n",
       "\n",
       "      DistanceFromHome  Education EducationField  EmployeeCount  \\\n",
       "0                    1          2  Life Sciences              1   \n",
       "1                    8          1  Life Sciences              1   \n",
       "2                    2          2          Other              1   \n",
       "3                    3          4  Life Sciences              1   \n",
       "4                    2          1        Medical              1   \n",
       "...                ...        ...            ...            ...   \n",
       "1465                23          2        Medical              1   \n",
       "1466                 6          1        Medical              1   \n",
       "1467                 4          3  Life Sciences              1   \n",
       "1468                 2          3        Medical              1   \n",
       "1469                 8          3        Medical              1   \n",
       "\n",
       "      EmployeeNumber  ...  RelationshipSatisfaction StandardHours  \\\n",
       "0                  1  ...                         1            80   \n",
       "1                  2  ...                         4            80   \n",
       "2                  4  ...                         2            80   \n",
       "3                  5  ...                         3            80   \n",
       "4                  7  ...                         4            80   \n",
       "...              ...  ...                       ...           ...   \n",
       "1465            2061  ...                         3            80   \n",
       "1466            2062  ...                         1            80   \n",
       "1467            2064  ...                         2            80   \n",
       "1468            2065  ...                         4            80   \n",
       "1469            2068  ...                         1            80   \n",
       "\n",
       "      StockOptionLevel  TotalWorkingYears  TrainingTimesLastYear  \\\n",
       "0                    0                  8                      0   \n",
       "1                    1                 10                      3   \n",
       "2                    0                  7                      3   \n",
       "3                    0                  8                      3   \n",
       "4                    1                  6                      3   \n",
       "...                ...                ...                    ...   \n",
       "1465                 1                 17                      3   \n",
       "1466                 1                  9                      5   \n",
       "1467                 1                  6                      0   \n",
       "1468                 0                 17                      3   \n",
       "1469                 0                  6                      3   \n",
       "\n",
       "     WorkLifeBalance  YearsAtCompany YearsInCurrentRole  \\\n",
       "0                  1               6                  4   \n",
       "1                  3              10                  7   \n",
       "2                  3               0                  0   \n",
       "3                  3               8                  7   \n",
       "4                  3               2                  2   \n",
       "...              ...             ...                ...   \n",
       "1465               3               5                  2   \n",
       "1466               3               7                  7   \n",
       "1467               3               6                  2   \n",
       "1468               2               9                  6   \n",
       "1469               4               4                  3   \n",
       "\n",
       "      YearsSinceLastPromotion  YearsWithCurrManager  \n",
       "0                           0                     5  \n",
       "1                           1                     7  \n",
       "2                           0                     0  \n",
       "3                           3                     0  \n",
       "4                           2                     2  \n",
       "...                       ...                   ...  \n",
       "1465                        0                     3  \n",
       "1466                        1                     7  \n",
       "1467                        0                     3  \n",
       "1468                        0                     8  \n",
       "1469                        1                     2  \n",
       "\n",
       "[1470 rows x 35 columns]>"
      ]
     },
     "execution_count": 10,
     "metadata": {},
     "output_type": "execute_result"
    }
   ],
   "source": [
    "hr.describe"
   ]
  },
  {
   "cell_type": "code",
   "execution_count": 11,
   "id": "e121d3ba",
   "metadata": {
    "id": "e121d3ba"
   },
   "outputs": [],
   "source": [
    "# One-hot encode \"Attrition\"\n",
    "dummy = pd.get_dummies(hr['Attrition'])\n",
    "dummy = dummy.drop(\"No\", axis = 1)\n",
    "dummy.columns = [\"Attrition\"]\n",
    "hr = hr.drop('Attrition',axis = 1)\n",
    "hr = hr.join(dummy)\n",
    "\n",
    "#dummy2 = pd.get_dummies(hrtest['Attrition'])\n",
    "#dummy2\n",
    "#dummy2 = dummy.drop(\"1\", axis = 1)\n",
    "#dummy2.columns = [\"Attrition\"]\n",
    "#hrtest = hrtest.drop('Attrition',axis = 1)\n",
    "#hrtest = hrtest.join(dummy2)"
   ]
  },
  {
   "cell_type": "code",
   "execution_count": 12,
   "id": "5a55996f",
   "metadata": {
    "id": "5a55996f"
   },
   "outputs": [],
   "source": [
    "# Create subset of dataframe with variables were are interested in\n",
    "hr = hr[[\"Attrition\", \"Age\", \"MonthlyRate\", \"EnvironmentSatisfaction\", \"PerformanceRating\", \"JobLevel\"]]"
   ]
  },
  {
   "cell_type": "markdown",
   "id": "f8d29957",
   "metadata": {
    "id": "f8d29957"
   },
   "source": [
    "We decided to one-hot encode our categorical variables. The drawback to doing this is that it makes the exploratory analysis even harder to do since the variables are so divided up. The scatterplot matrix you will see at the end of the exploratory analysis is illustrative of this. We have decided to still include the exploratory analysis we did before the one-hot encoding for this reason. \n",
    "\n"
   ]
  },
  {
   "cell_type": "markdown",
   "id": "d3fc350e",
   "metadata": {
    "id": "d3fc350e"
   },
   "source": [
    "Here is the full set of histograms: "
   ]
  },
  {
   "cell_type": "code",
   "execution_count": 13,
   "id": "0d6a0067",
   "metadata": {
    "id": "0d6a0067",
    "outputId": "f63cc38a-0905-41db-a838-5e0488b44d1a"
   },
   "outputs": [
    {
     "data": {
      "text/plain": [
       "array([[<AxesSubplot:title={'center':'Attrition'}>,\n",
       "        <AxesSubplot:title={'center':'Age'}>],\n",
       "       [<AxesSubplot:title={'center':'MonthlyRate'}>,\n",
       "        <AxesSubplot:title={'center':'EnvironmentSatisfaction'}>],\n",
       "       [<AxesSubplot:title={'center':'PerformanceRating'}>,\n",
       "        <AxesSubplot:title={'center':'JobLevel'}>]], dtype=object)"
      ]
     },
     "execution_count": 13,
     "metadata": {},
     "output_type": "execute_result"
    },
    {
     "data": {
      "image/png": "[encoded data removed]",
      "text/plain": [
       "<Figure size 432x288 with 6 Axes>"
      ]
     },
     "metadata": {
      "needs_background": "light"
     },
     "output_type": "display_data"
    }
   ],
   "source": [
    "hr.mean()\n",
    "hr.hist()"
   ]
  },
  {
   "cell_type": "markdown",
   "id": "b5a816ae",
   "metadata": {
    "id": "b5a816ae"
   },
   "source": [
    "Here is the histogram for our response variable, Attrition. "
   ]
  },
  {
   "cell_type": "code",
   "execution_count": 14,
   "id": "eebc5ae5",
   "metadata": {
    "id": "eebc5ae5",
    "outputId": "5a32f832-c246-4753-d50d-6b89d2371f29"
   },
   "outputs": [
    {
     "data": {
      "text/plain": [
       "<AxesSubplot:>"
      ]
     },
     "execution_count": 14,
     "metadata": {},
     "output_type": "execute_result"
    },
    {
     "data": {
      "image/png": "[encoded data removed]",
      "text/plain": [
       "<Figure size 432x288 with 1 Axes>"
      ]
     },
     "metadata": {
      "needs_background": "light"
     },
     "output_type": "display_data"
    }
   ],
   "source": [
    "hr[\"Attrition\"].hist()"
   ]
  },
  {
   "cell_type": "markdown",
   "id": "655c999a",
   "metadata": {
    "id": "655c999a"
   },
   "source": [
    "Because Attrition has so few 1s (examples of attrition) we have chosen to weight our logistic regression. "
   ]
  },
  {
   "cell_type": "markdown",
   "id": "6e1ebdca",
   "metadata": {
    "id": "6e1ebdca"
   },
   "source": [
    "Here is the histogram of Environmental Satisfaction:"
   ]
  },
  {
   "cell_type": "code",
   "execution_count": 15,
   "id": "e26b7126",
   "metadata": {
    "id": "e26b7126",
    "outputId": "0de9b16f-268d-48d3-b19b-40e872895ec7"
   },
   "outputs": [
    {
     "data": {
      "text/plain": [
       "<AxesSubplot:>"
      ]
     },
     "execution_count": 15,
     "metadata": {},
     "output_type": "execute_result"
    },
    {
     "data": {
      "image/png": "[encoded data removed]",
      "text/plain": [
       "<Figure size 432x288 with 1 Axes>"
      ]
     },
     "metadata": {
      "needs_background": "light"
     },
     "output_type": "display_data"
    }
   ],
   "source": [
    "hr[\"EnvironmentSatisfaction\"].hist()"
   ]
  },
  {
   "cell_type": "markdown",
   "id": "01284c27",
   "metadata": {
    "id": "01284c27"
   },
   "source": [
    "We can see that the environment is right skewed. This doesn't matter much, however, as we are planning to one-hot anyways. For our exploratory analysis, however, here is a boxplot of environment vs attrition: "
   ]
  },
  {
   "cell_type": "code",
   "execution_count": 16,
   "id": "e44ed1f1",
   "metadata": {
    "id": "e44ed1f1"
   },
   "outputs": [
    {
     "data": {
      "image/png": "[encoded data removed]",
      "text/plain": [
       "<Figure size 1008x288 with 1 Axes>"
      ]
     },
     "metadata": {
      "needs_background": "light"
     },
     "output_type": "display_data"
    }
   ],
   "source": [
    "hr.boxplot (column=\"MonthlyRate\", by=\"Attrition\", figsize=(14,4), rot=60)\n",
    "plt.show()"
   ]
  },
  {
   "cell_type": "markdown",
   "id": "b20971b1",
   "metadata": {
    "id": "b20971b1"
   },
   "source": [
    "This plot does suggest that there are higher levels of attrition with lower environmental level. So is the distrubution of attrition different when the environmental satisfaction is very low? "
   ]
  },
  {
   "cell_type": "code",
   "execution_count": 17,
   "id": "a7f3cd68",
   "metadata": {
    "id": "a7f3cd68"
   },
   "outputs": [
    {
     "data": {
      "text/plain": [
       "array([[<AxesSubplot:title={'center':'EnvironmentSatisfaction'}>]],\n",
       "      dtype=object)"
      ]
     },
     "execution_count": 17,
     "metadata": {},
     "output_type": "execute_result"
    },
    {
     "data": {
      "image/png": "[encoded data removed]",
      "text/plain": [
       "<Figure size 432x288 with 1 Axes>"
      ]
     },
     "metadata": {
      "needs_background": "light"
     },
     "output_type": "display_data"
    }
   ],
   "source": [
    "yesattrition = hr[hr[\"Attrition\"] == 1]\n",
    "environmentwithattrition = yesattrition[[\"EnvironmentSatisfaction\"]]\n",
    "environmentwithattrition.hist()"
   ]
  },
  {
   "cell_type": "markdown",
   "id": "0cd253db",
   "metadata": {
    "id": "0cd253db"
   },
   "source": [
    "The percentage rate of attrition seems to be higher, but there's not a huge difference. Likewise, we can ask if we see less environmental satisfaction when there is attrition: "
   ]
  },
  {
   "cell_type": "code",
   "execution_count": 18,
   "id": "d8364e15",
   "metadata": {
    "id": "d8364e15"
   },
   "outputs": [
    {
     "data": {
      "text/plain": [
       "array([[<AxesSubplot:title={'center':'EnvironmentSatisfaction'}>]],\n",
       "      dtype=object)"
      ]
     },
     "execution_count": 18,
     "metadata": {},
     "output_type": "execute_result"
    },
    {
     "data": {
      "image/png": "[encoded data removed]",
      "text/plain": [
       "<Figure size 432x288 with 1 Axes>"
      ]
     },
     "metadata": {
      "needs_background": "light"
     },
     "output_type": "display_data"
    }
   ],
   "source": [
    "yesattrition = hr[hr[\"Attrition\"] == 1]\n",
    "environmentwithattrition = yesattrition[[\"EnvironmentSatisfaction\"]]\n",
    "environmentwithattrition.hist()"
   ]
  },
  {
   "cell_type": "markdown",
   "id": "9ee7bf1a",
   "metadata": {
    "id": "9ee7bf1a"
   },
   "source": [
    "We see a skew towards a lower distribution, but there is not a huge difference. "
   ]
  },
  {
   "cell_type": "markdown",
   "id": "c102576b",
   "metadata": {
    "id": "c102576b"
   },
   "source": [
    "Now that we have done some exploratory analysis, we will one-hot encode the rest of the catagorical variables:"
   ]
  },
  {
   "cell_type": "code",
   "execution_count": 19,
   "id": "8ef0a095",
   "metadata": {
    "id": "8ef0a095"
   },
   "outputs": [],
   "source": [
    "# One-hot encode \"Environment Satisfaction\"\n",
    "dummy = pd.get_dummies(hr['EnvironmentSatisfaction'])\n",
    "dummy.columns = [\"EnvSatis1\", \"EnvSatis2\", \"EnvSatis3\", \"EnvSatis4\"]\n",
    "hr = hr.drop('EnvironmentSatisfaction',axis = 1)\n",
    "hr = hr.join(dummy)"
   ]
  },
  {
   "cell_type": "code",
   "execution_count": 20,
   "id": "7d59c6e8",
   "metadata": {
    "id": "7d59c6e8"
   },
   "outputs": [],
   "source": [
    "# One-hot encode \"JobLevel\"\n",
    "dummy = pd.get_dummies(hr['JobLevel'])\n",
    "#dummy\n",
    "dummy.columns = [\"JobLevel1\", \"JobLevel2\", \"JobLevel3\", \"JobLevel4\", \"JobLevel5\"]\n",
    "hr = hr.drop('JobLevel',axis = 1)\n",
    "hr = hr.join(dummy)"
   ]
  },
  {
   "cell_type": "code",
   "execution_count": 21,
   "id": "d2da0149",
   "metadata": {
    "id": "d2da0149",
    "outputId": "3b123a32-11a4-4391-d8c7-d53dc228e7af"
   },
   "outputs": [],
   "source": [
    "# One-hot encode \"PerformanceRating\"\n",
    "dummy = pd.get_dummies(hr['PerformanceRating'])\n",
    "dummy.columns = [\"PerformanceRating3\", \"PerformanceRating4\"]\n",
    "hr = hr.drop('PerformanceRating',axis = 1)\n",
    "hr = hr.join(dummy)"
   ]
  },
  {
   "cell_type": "markdown",
   "id": "1d5edfae",
   "metadata": {
    "id": "1d5edfae"
   },
   "source": [
    "Here is the scatterplot matrix for the data. The fact that many of the varibles are one-hot encoded means that among those catagorical variables it is not very helpful."
   ]
  },
  {
   "cell_type": "code",
   "execution_count": 22,
   "id": "05711073",
   "metadata": {
    "id": "05711073",
    "outputId": "03702fc7-a91e-4724-ca7c-6a583ac5942f"
   },
   "outputs": [
    {
     "data": {
      "image/png": "[encoded data removed]",
      "text/plain": [
       "<Figure size 1008x1008 with 196 Axes>"
      ]
     },
     "metadata": {
      "needs_background": "light"
     },
     "output_type": "display_data"
    }
   ],
   "source": [
    "pd.plotting.scatter_matrix (hr, figsize=(14,14))\n",
    "plt.show()"
   ]
  },
  {
   "cell_type": "markdown",
   "id": "6c3375e2",
   "metadata": {
    "id": "6c3375e2"
   },
   "source": [
    "## Decision Tree"
   ]
  },
  {
   "cell_type": "code",
   "execution_count": 23,
   "id": "e0a10033",
   "metadata": {},
   "outputs": [
    {
     "name": "stdout",
     "output_type": "stream",
     "text": [
      "(1470, 35)\n"
     ]
    }
   ],
   "source": [
    "## Re read the data again before cleaning and manipulation\n",
    "hr = pd.read_csv (\"HR.csv\")\n",
    "print (hr.shape)\n",
    "hr\n",
    "# One-hot encode \"Attrition\"\n",
    "dummy = pd.get_dummies(hr['Attrition'])\n",
    "dummy = dummy.drop(\"No\", axis = 1)\n",
    "dummy.columns = [\"Attrition\"]\n",
    "hr = hr.drop('Attrition',axis = 1)\n",
    "hr = hr.join(dummy)\n",
    "hr = hr[[\"Attrition\", \"Age\", \"MonthlyRate\", \"EnvironmentSatisfaction\", \"PerformanceRating\", \"JobLevel\"]]"
   ]
  },
  {
   "cell_type": "code",
   "execution_count": 24,
   "id": "569bcae4",
   "metadata": {},
   "outputs": [
    {
     "name": "stdout",
     "output_type": "stream",
     "text": [
      "<class 'pandas.core.frame.DataFrame'>\n",
      "RangeIndex: 1470 entries, 0 to 1469\n",
      "Data columns (total 6 columns):\n",
      " #   Column                   Non-Null Count  Dtype\n",
      "---  ------                   --------------  -----\n",
      " 0   Attrition                1470 non-null   uint8\n",
      " 1   Age                      1470 non-null   int64\n",
      " 2   MonthlyRate              1470 non-null   int64\n",
      " 3   EnvironmentSatisfaction  1470 non-null   int64\n",
      " 4   PerformanceRating        1470 non-null   int64\n",
      " 5   JobLevel                 1470 non-null   int64\n",
      "dtypes: int64(5), uint8(1)\n",
      "memory usage: 59.0 KB\n"
     ]
    }
   ],
   "source": [
    "hr.info()"
   ]
  },
  {
   "cell_type": "code",
   "execution_count": 25,
   "id": "12bbc493",
   "metadata": {},
   "outputs": [],
   "source": [
    "#split dataset in features and target variable\n",
    "feature_cols = [\"Age\", \"MonthlyRate\", \"EnvironmentSatisfaction\", \"PerformanceRating\", \"JobLevel\"]\n",
    "X = hr[feature_cols] # Features\n",
    "y = hr.Attrition # Target variable"
   ]
  },
  {
   "cell_type": "code",
   "execution_count": 26,
   "id": "ac522348",
   "metadata": {},
   "outputs": [
    {
     "data": {
      "text/plain": [
       "DecisionTreeClassifier(max_depth=2)"
      ]
     },
     "execution_count": 26,
     "metadata": {},
     "output_type": "execute_result"
    }
   ],
   "source": [
    "from sklearn.tree import DecisionTreeClassifier\n",
    "dectree = DecisionTreeClassifier(max_depth=2)\n",
    "dectree.fit (X, y)"
   ]
  },
  {
   "cell_type": "code",
   "execution_count": 27,
   "id": "2a02ea94",
   "metadata": {},
   "outputs": [
    {
     "data": {
      "text/plain": [
       "array([0, 1], dtype=uint8)"
      ]
     },
     "execution_count": 27,
     "metadata": {},
     "output_type": "execute_result"
    }
   ],
   "source": [
    "type (y[1])\n",
    "np.unique (y)"
   ]
  },
  {
   "cell_type": "code",
   "execution_count": 28,
   "id": "2808fc43",
   "metadata": {},
   "outputs": [],
   "source": [
    "from sklearn.model_selection import train_test_split # Import train_test_split function\n",
    "# Split dataset into training set and test set\n",
    "X_train, X_test, y_train, y_test = train_test_split(X, y, test_size=0.2, random_state=42) # 80% training and 20% test"
   ]
  },
  {
   "cell_type": "code",
   "execution_count": 29,
   "id": "d1281198",
   "metadata": {},
   "outputs": [],
   "source": [
    "# Create Decision Tree classifer object\n",
    "clf = DecisionTreeClassifier()\n",
    "\n",
    "# Train Decision Tree Classifer\n",
    "clf = clf.fit(X_train,y_train)\n",
    "\n",
    "#Predict the response for test dataset\n",
    "y_pred = clf.predict(X_test)"
   ]
  },
  {
   "cell_type": "code",
   "execution_count": 30,
   "id": "7db43ee7",
   "metadata": {
    "id": "7db43ee7"
   },
   "outputs": [
    {
     "data": {
      "image/png": "[encoded data removed]",
      "text/plain": [
       "<Figure size 1440x1080 with 1 Axes>"
      ]
     },
     "metadata": {
      "needs_background": "light"
     },
     "output_type": "display_data"
    }
   ],
   "source": [
    "import matplotlib.pyplot as plt\n",
    "import sklearn.tree as tree\n",
    "fig, ax = plt.subplots(figsize=(20, 15))\n",
    "tree.plot_tree(clf, fontsize=10)\n",
    "plt.show()"
   ]
  },
  {
   "cell_type": "code",
   "execution_count": 31,
   "id": "f3e241b4",
   "metadata": {
    "id": "f3e241b4"
   },
   "outputs": [
    {
     "name": "stdout",
     "output_type": "stream",
     "text": [
      "Accuracy: 0.7551020408163265\n",
      "Precision: 0.16326530612244897\n",
      "Recall: 0.20512820512820512\n"
     ]
    }
   ],
   "source": [
    "from sklearn import metrics #Import scikit-learn metrics module for accuracy calculation\n",
    "# Model Accuracy, how often is the classifier correct?\n",
    "print(\"Accuracy:\",metrics.accuracy_score(y_test, y_pred))\n",
    "print(\"Precision:\",metrics.precision_score(y_test, y_pred))\n",
    "print(\"Recall:\",metrics.recall_score(y_test, y_pred))"
   ]
  },
  {
   "cell_type": "code",
   "execution_count": null,
   "id": "f3257d28",
   "metadata": {},
   "outputs": [],
   "source": []
  },
  {
   "cell_type": "markdown",
   "id": "1ed2bea6",
   "metadata": {},
   "source": [
    "The accuracy is 0.755 which is fairly high, but the precision and recall are both very los at 0.16 and 0.2. This likely reflects the low rate of attrition (overall accuracy is good but ability to identify attrition is not because it tends to just assume no attrition)."
   ]
  },
  {
   "cell_type": "code",
   "execution_count": 32,
   "id": "1e476ba4",
   "metadata": {},
   "outputs": [
    {
     "data": {
      "text/html": [
       "<div>\n",
       "<style scoped>\n",
       "    .dataframe tbody tr th:only-of-type {\n",
       "        vertical-align: middle;\n",
       "    }\n",
       "\n",
       "    .dataframe tbody tr th {\n",
       "        vertical-align: top;\n",
       "    }\n",
       "\n",
       "    .dataframe thead th {\n",
       "        text-align: right;\n",
       "    }\n",
       "</style>\n",
       "<table border=\"1\" class=\"dataframe\">\n",
       "  <thead>\n",
       "    <tr style=\"text-align: right;\">\n",
       "      <th></th>\n",
       "      <th>0</th>\n",
       "    </tr>\n",
       "  </thead>\n",
       "  <tbody>\n",
       "    <tr>\n",
       "      <th>Age</th>\n",
       "      <td>0.250265</td>\n",
       "    </tr>\n",
       "    <tr>\n",
       "      <th>MonthlyRate</th>\n",
       "      <td>0.527315</td>\n",
       "    </tr>\n",
       "    <tr>\n",
       "      <th>EnvironmentSatisfaction</th>\n",
       "      <td>0.104574</td>\n",
       "    </tr>\n",
       "    <tr>\n",
       "      <th>PerformanceRating</th>\n",
       "      <td>0.040886</td>\n",
       "    </tr>\n",
       "    <tr>\n",
       "      <th>JobLevel</th>\n",
       "      <td>0.076960</td>\n",
       "    </tr>\n",
       "  </tbody>\n",
       "</table>\n",
       "</div>"
      ],
      "text/plain": [
       "                                0\n",
       "Age                      0.250265\n",
       "MonthlyRate              0.527315\n",
       "EnvironmentSatisfaction  0.104574\n",
       "PerformanceRating        0.040886\n",
       "JobLevel                 0.076960"
      ]
     },
     "execution_count": 32,
     "metadata": {},
     "output_type": "execute_result"
    }
   ],
   "source": [
    "feature_imp = pd.DataFrame(clf.feature_importances_)\n",
    "feature_imp.rename (columns={0: \"Importance\"})\n",
    "feature_imp.set_index (X.columns)"
   ]
  },
  {
   "cell_type": "code",
   "execution_count": 105,
   "id": "9c04d77c",
   "metadata": {
    "id": "9c04d77c"
   },
   "outputs": [
    {
     "name": "stdout",
     "output_type": "stream",
     "text": [
      "Accuracy: 0.8707482993197279\n",
      "Precision: 0.5714285714285714\n",
      "Recall: 0.10256410256410256\n"
     ]
    }
   ],
   "source": [
    "# Create Decision Tree classifer object\n",
    "clf = DecisionTreeClassifier(criterion=\"entropy\", max_depth=3)\n",
    "\n",
    "# Train Decision Tree Classifer\n",
    "clf = clf.fit(X_train,y_train)\n",
    "\n",
    "#Predict the response for test dataset\n",
    "y_pred = clf.predict(X_test)\n",
    "\n",
    "# Model Accuracy, how often is the classifier correct?\n",
    "print(\"Accuracy:\",metrics.accuracy_score(y_test, y_pred))\n",
    "print(\"Precision:\",metrics.precision_score(y_test, y_pred))\n",
    "print(\"Recall:\",metrics.recall_score(y_test, y_pred))"
   ]
  },
  {
   "cell_type": "markdown",
   "id": "920057b7",
   "metadata": {},
   "source": [
    "The accuracy and precision are now both above 50%, and the accuracy score of 0.8707 is quite good. The recall score, however, is abysmal at 0.1025. The model really struggles to classify positive samples. "
   ]
  },
  {
   "cell_type": "code",
   "execution_count": 33,
   "id": "0d0fd0e5",
   "metadata": {},
   "outputs": [
    {
     "name": "stdout",
     "output_type": "stream",
     "text": [
      "DecisionTreeClassifier(max_depth=7, min_samples_leaf=2, random_state=42)\n",
      "Best parameters: {'max_depth': 7, 'min_samples_leaf': 2}\n"
     ]
    },
    {
     "data": {
      "text/html": [
       "<div>\n",
       "<style scoped>\n",
       "    .dataframe tbody tr th:only-of-type {\n",
       "        vertical-align: middle;\n",
       "    }\n",
       "\n",
       "    .dataframe tbody tr th {\n",
       "        vertical-align: top;\n",
       "    }\n",
       "\n",
       "    .dataframe thead th {\n",
       "        text-align: right;\n",
       "    }\n",
       "</style>\n",
       "<table border=\"1\" class=\"dataframe\">\n",
       "  <thead>\n",
       "    <tr style=\"text-align: right;\">\n",
       "      <th></th>\n",
       "      <th>mean_fit_time</th>\n",
       "      <th>std_fit_time</th>\n",
       "      <th>mean_score_time</th>\n",
       "      <th>std_score_time</th>\n",
       "      <th>param_max_depth</th>\n",
       "      <th>param_min_samples_leaf</th>\n",
       "      <th>params</th>\n",
       "      <th>split0_test_score</th>\n",
       "      <th>split1_test_score</th>\n",
       "      <th>split2_test_score</th>\n",
       "      <th>split3_test_score</th>\n",
       "      <th>split4_test_score</th>\n",
       "      <th>mean_test_score</th>\n",
       "      <th>std_test_score</th>\n",
       "      <th>rank_test_score</th>\n",
       "    </tr>\n",
       "  </thead>\n",
       "  <tbody>\n",
       "    <tr>\n",
       "      <th>0</th>\n",
       "      <td>0.003448</td>\n",
       "      <td>0.000369</td>\n",
       "      <td>0.003035</td>\n",
       "      <td>0.000092</td>\n",
       "      <td>2</td>\n",
       "      <td>1</td>\n",
       "      <td>{'max_depth': 2, 'min_samples_leaf': 1}</td>\n",
       "      <td>0.000000</td>\n",
       "      <td>0.000000</td>\n",
       "      <td>0.000000</td>\n",
       "      <td>0.075472</td>\n",
       "      <td>0.000000</td>\n",
       "      <td>0.015094</td>\n",
       "      <td>0.030189</td>\n",
       "      <td>26</td>\n",
       "    </tr>\n",
       "    <tr>\n",
       "      <th>1</th>\n",
       "      <td>0.003191</td>\n",
       "      <td>0.000065</td>\n",
       "      <td>0.002965</td>\n",
       "      <td>0.000117</td>\n",
       "      <td>2</td>\n",
       "      <td>2</td>\n",
       "      <td>{'max_depth': 2, 'min_samples_leaf': 2}</td>\n",
       "      <td>0.000000</td>\n",
       "      <td>0.000000</td>\n",
       "      <td>0.000000</td>\n",
       "      <td>0.075472</td>\n",
       "      <td>0.000000</td>\n",
       "      <td>0.015094</td>\n",
       "      <td>0.030189</td>\n",
       "      <td>26</td>\n",
       "    </tr>\n",
       "    <tr>\n",
       "      <th>2</th>\n",
       "      <td>0.003130</td>\n",
       "      <td>0.000023</td>\n",
       "      <td>0.002979</td>\n",
       "      <td>0.000062</td>\n",
       "      <td>2</td>\n",
       "      <td>3</td>\n",
       "      <td>{'max_depth': 2, 'min_samples_leaf': 3}</td>\n",
       "      <td>0.000000</td>\n",
       "      <td>0.000000</td>\n",
       "      <td>0.000000</td>\n",
       "      <td>0.075472</td>\n",
       "      <td>0.000000</td>\n",
       "      <td>0.015094</td>\n",
       "      <td>0.030189</td>\n",
       "      <td>26</td>\n",
       "    </tr>\n",
       "    <tr>\n",
       "      <th>3</th>\n",
       "      <td>0.003126</td>\n",
       "      <td>0.000026</td>\n",
       "      <td>0.002905</td>\n",
       "      <td>0.000034</td>\n",
       "      <td>2</td>\n",
       "      <td>4</td>\n",
       "      <td>{'max_depth': 2, 'min_samples_leaf': 4}</td>\n",
       "      <td>0.000000</td>\n",
       "      <td>0.000000</td>\n",
       "      <td>0.000000</td>\n",
       "      <td>0.075472</td>\n",
       "      <td>0.000000</td>\n",
       "      <td>0.015094</td>\n",
       "      <td>0.030189</td>\n",
       "      <td>26</td>\n",
       "    </tr>\n",
       "    <tr>\n",
       "      <th>4</th>\n",
       "      <td>0.003188</td>\n",
       "      <td>0.000062</td>\n",
       "      <td>0.002924</td>\n",
       "      <td>0.000036</td>\n",
       "      <td>2</td>\n",
       "      <td>5</td>\n",
       "      <td>{'max_depth': 2, 'min_samples_leaf': 5}</td>\n",
       "      <td>0.000000</td>\n",
       "      <td>0.000000</td>\n",
       "      <td>0.000000</td>\n",
       "      <td>0.075472</td>\n",
       "      <td>0.000000</td>\n",
       "      <td>0.015094</td>\n",
       "      <td>0.030189</td>\n",
       "      <td>26</td>\n",
       "    </tr>\n",
       "    <tr>\n",
       "      <th>5</th>\n",
       "      <td>0.003367</td>\n",
       "      <td>0.000024</td>\n",
       "      <td>0.002950</td>\n",
       "      <td>0.000043</td>\n",
       "      <td>3</td>\n",
       "      <td>1</td>\n",
       "      <td>{'max_depth': 3, 'min_samples_leaf': 1}</td>\n",
       "      <td>0.037037</td>\n",
       "      <td>0.175439</td>\n",
       "      <td>0.037037</td>\n",
       "      <td>0.037736</td>\n",
       "      <td>0.076923</td>\n",
       "      <td>0.072834</td>\n",
       "      <td>0.053552</td>\n",
       "      <td>16</td>\n",
       "    </tr>\n",
       "    <tr>\n",
       "      <th>6</th>\n",
       "      <td>0.003346</td>\n",
       "      <td>0.000015</td>\n",
       "      <td>0.002935</td>\n",
       "      <td>0.000032</td>\n",
       "      <td>3</td>\n",
       "      <td>2</td>\n",
       "      <td>{'max_depth': 3, 'min_samples_leaf': 2}</td>\n",
       "      <td>0.037037</td>\n",
       "      <td>0.175439</td>\n",
       "      <td>0.037037</td>\n",
       "      <td>0.038462</td>\n",
       "      <td>0.076923</td>\n",
       "      <td>0.072979</td>\n",
       "      <td>0.053458</td>\n",
       "      <td>12</td>\n",
       "    </tr>\n",
       "    <tr>\n",
       "      <th>7</th>\n",
       "      <td>0.003345</td>\n",
       "      <td>0.000057</td>\n",
       "      <td>0.002916</td>\n",
       "      <td>0.000005</td>\n",
       "      <td>3</td>\n",
       "      <td>3</td>\n",
       "      <td>{'max_depth': 3, 'min_samples_leaf': 3}</td>\n",
       "      <td>0.037037</td>\n",
       "      <td>0.175439</td>\n",
       "      <td>0.037037</td>\n",
       "      <td>0.038462</td>\n",
       "      <td>0.076923</td>\n",
       "      <td>0.072979</td>\n",
       "      <td>0.053458</td>\n",
       "      <td>12</td>\n",
       "    </tr>\n",
       "    <tr>\n",
       "      <th>8</th>\n",
       "      <td>0.003341</td>\n",
       "      <td>0.000020</td>\n",
       "      <td>0.002931</td>\n",
       "      <td>0.000042</td>\n",
       "      <td>3</td>\n",
       "      <td>4</td>\n",
       "      <td>{'max_depth': 3, 'min_samples_leaf': 4}</td>\n",
       "      <td>0.037037</td>\n",
       "      <td>0.175439</td>\n",
       "      <td>0.037037</td>\n",
       "      <td>0.038462</td>\n",
       "      <td>0.076923</td>\n",
       "      <td>0.072979</td>\n",
       "      <td>0.053458</td>\n",
       "      <td>12</td>\n",
       "    </tr>\n",
       "    <tr>\n",
       "      <th>9</th>\n",
       "      <td>0.003396</td>\n",
       "      <td>0.000074</td>\n",
       "      <td>0.002920</td>\n",
       "      <td>0.000027</td>\n",
       "      <td>3</td>\n",
       "      <td>5</td>\n",
       "      <td>{'max_depth': 3, 'min_samples_leaf': 5}</td>\n",
       "      <td>0.037037</td>\n",
       "      <td>0.175439</td>\n",
       "      <td>0.037037</td>\n",
       "      <td>0.038462</td>\n",
       "      <td>0.076923</td>\n",
       "      <td>0.072979</td>\n",
       "      <td>0.053458</td>\n",
       "      <td>12</td>\n",
       "    </tr>\n",
       "    <tr>\n",
       "      <th>10</th>\n",
       "      <td>0.003561</td>\n",
       "      <td>0.000011</td>\n",
       "      <td>0.002959</td>\n",
       "      <td>0.000048</td>\n",
       "      <td>4</td>\n",
       "      <td>1</td>\n",
       "      <td>{'max_depth': 4, 'min_samples_leaf': 1}</td>\n",
       "      <td>0.038462</td>\n",
       "      <td>0.000000</td>\n",
       "      <td>0.000000</td>\n",
       "      <td>0.037736</td>\n",
       "      <td>0.037037</td>\n",
       "      <td>0.022647</td>\n",
       "      <td>0.018497</td>\n",
       "      <td>25</td>\n",
       "    </tr>\n",
       "    <tr>\n",
       "      <th>11</th>\n",
       "      <td>0.003914</td>\n",
       "      <td>0.000331</td>\n",
       "      <td>0.002998</td>\n",
       "      <td>0.000045</td>\n",
       "      <td>4</td>\n",
       "      <td>2</td>\n",
       "      <td>{'max_depth': 4, 'min_samples_leaf': 2}</td>\n",
       "      <td>0.038462</td>\n",
       "      <td>0.000000</td>\n",
       "      <td>0.000000</td>\n",
       "      <td>0.038462</td>\n",
       "      <td>0.036364</td>\n",
       "      <td>0.022657</td>\n",
       "      <td>0.018515</td>\n",
       "      <td>24</td>\n",
       "    </tr>\n",
       "    <tr>\n",
       "      <th>12</th>\n",
       "      <td>0.003740</td>\n",
       "      <td>0.000342</td>\n",
       "      <td>0.002949</td>\n",
       "      <td>0.000049</td>\n",
       "      <td>4</td>\n",
       "      <td>3</td>\n",
       "      <td>{'max_depth': 4, 'min_samples_leaf': 3}</td>\n",
       "      <td>0.035088</td>\n",
       "      <td>0.039216</td>\n",
       "      <td>0.000000</td>\n",
       "      <td>0.038462</td>\n",
       "      <td>0.035714</td>\n",
       "      <td>0.029696</td>\n",
       "      <td>0.014931</td>\n",
       "      <td>22</td>\n",
       "    </tr>\n",
       "    <tr>\n",
       "      <th>13</th>\n",
       "      <td>0.003564</td>\n",
       "      <td>0.000036</td>\n",
       "      <td>0.002936</td>\n",
       "      <td>0.000029</td>\n",
       "      <td>4</td>\n",
       "      <td>4</td>\n",
       "      <td>{'max_depth': 4, 'min_samples_leaf': 4}</td>\n",
       "      <td>0.066667</td>\n",
       "      <td>0.039216</td>\n",
       "      <td>0.000000</td>\n",
       "      <td>0.038462</td>\n",
       "      <td>0.037736</td>\n",
       "      <td>0.036416</td>\n",
       "      <td>0.021237</td>\n",
       "      <td>21</td>\n",
       "    </tr>\n",
       "    <tr>\n",
       "      <th>14</th>\n",
       "      <td>0.003578</td>\n",
       "      <td>0.000052</td>\n",
       "      <td>0.003001</td>\n",
       "      <td>0.000109</td>\n",
       "      <td>4</td>\n",
       "      <td>5</td>\n",
       "      <td>{'max_depth': 4, 'min_samples_leaf': 5}</td>\n",
       "      <td>0.066667</td>\n",
       "      <td>0.039216</td>\n",
       "      <td>0.000000</td>\n",
       "      <td>0.000000</td>\n",
       "      <td>0.037736</td>\n",
       "      <td>0.028724</td>\n",
       "      <td>0.025617</td>\n",
       "      <td>23</td>\n",
       "    </tr>\n",
       "    <tr>\n",
       "      <th>15</th>\n",
       "      <td>0.003793</td>\n",
       "      <td>0.000035</td>\n",
       "      <td>0.002990</td>\n",
       "      <td>0.000121</td>\n",
       "      <td>5</td>\n",
       "      <td>1</td>\n",
       "      <td>{'max_depth': 5, 'min_samples_leaf': 1}</td>\n",
       "      <td>0.173913</td>\n",
       "      <td>0.039216</td>\n",
       "      <td>0.037736</td>\n",
       "      <td>0.037736</td>\n",
       "      <td>0.037736</td>\n",
       "      <td>0.065267</td>\n",
       "      <td>0.054326</td>\n",
       "      <td>19</td>\n",
       "    </tr>\n",
       "    <tr>\n",
       "      <th>16</th>\n",
       "      <td>0.003744</td>\n",
       "      <td>0.000009</td>\n",
       "      <td>0.002936</td>\n",
       "      <td>0.000015</td>\n",
       "      <td>5</td>\n",
       "      <td>2</td>\n",
       "      <td>{'max_depth': 5, 'min_samples_leaf': 2}</td>\n",
       "      <td>0.164384</td>\n",
       "      <td>0.135593</td>\n",
       "      <td>0.000000</td>\n",
       "      <td>0.037736</td>\n",
       "      <td>0.036364</td>\n",
       "      <td>0.074815</td>\n",
       "      <td>0.063509</td>\n",
       "      <td>10</td>\n",
       "    </tr>\n",
       "    <tr>\n",
       "      <th>17</th>\n",
       "      <td>0.003742</td>\n",
       "      <td>0.000007</td>\n",
       "      <td>0.002934</td>\n",
       "      <td>0.000031</td>\n",
       "      <td>5</td>\n",
       "      <td>3</td>\n",
       "      <td>{'max_depth': 5, 'min_samples_leaf': 3}</td>\n",
       "      <td>0.119403</td>\n",
       "      <td>0.158730</td>\n",
       "      <td>0.000000</td>\n",
       "      <td>0.036364</td>\n",
       "      <td>0.067797</td>\n",
       "      <td>0.076459</td>\n",
       "      <td>0.056818</td>\n",
       "      <td>9</td>\n",
       "    </tr>\n",
       "    <tr>\n",
       "      <th>18</th>\n",
       "      <td>0.003737</td>\n",
       "      <td>0.000012</td>\n",
       "      <td>0.002927</td>\n",
       "      <td>0.000023</td>\n",
       "      <td>5</td>\n",
       "      <td>4</td>\n",
       "      <td>{'max_depth': 5, 'min_samples_leaf': 4}</td>\n",
       "      <td>0.200000</td>\n",
       "      <td>0.126984</td>\n",
       "      <td>0.000000</td>\n",
       "      <td>0.035714</td>\n",
       "      <td>0.071429</td>\n",
       "      <td>0.086825</td>\n",
       "      <td>0.070440</td>\n",
       "      <td>6</td>\n",
       "    </tr>\n",
       "    <tr>\n",
       "      <th>19</th>\n",
       "      <td>0.003741</td>\n",
       "      <td>0.000009</td>\n",
       "      <td>0.002933</td>\n",
       "      <td>0.000018</td>\n",
       "      <td>5</td>\n",
       "      <td>5</td>\n",
       "      <td>{'max_depth': 5, 'min_samples_leaf': 5}</td>\n",
       "      <td>0.181818</td>\n",
       "      <td>0.156250</td>\n",
       "      <td>0.000000</td>\n",
       "      <td>0.000000</td>\n",
       "      <td>0.071429</td>\n",
       "      <td>0.081899</td>\n",
       "      <td>0.076206</td>\n",
       "      <td>7</td>\n",
       "    </tr>\n",
       "    <tr>\n",
       "      <th>20</th>\n",
       "      <td>0.003994</td>\n",
       "      <td>0.000061</td>\n",
       "      <td>0.002917</td>\n",
       "      <td>0.000008</td>\n",
       "      <td>6</td>\n",
       "      <td>1</td>\n",
       "      <td>{'max_depth': 6, 'min_samples_leaf': 1}</td>\n",
       "      <td>0.135593</td>\n",
       "      <td>0.070175</td>\n",
       "      <td>0.038462</td>\n",
       "      <td>0.035088</td>\n",
       "      <td>0.072727</td>\n",
       "      <td>0.070409</td>\n",
       "      <td>0.036118</td>\n",
       "      <td>17</td>\n",
       "    </tr>\n",
       "    <tr>\n",
       "      <th>21</th>\n",
       "      <td>0.003944</td>\n",
       "      <td>0.000010</td>\n",
       "      <td>0.002929</td>\n",
       "      <td>0.000016</td>\n",
       "      <td>6</td>\n",
       "      <td>2</td>\n",
       "      <td>{'max_depth': 6, 'min_samples_leaf': 2}</td>\n",
       "      <td>0.036364</td>\n",
       "      <td>0.140351</td>\n",
       "      <td>0.000000</td>\n",
       "      <td>0.066667</td>\n",
       "      <td>0.126984</td>\n",
       "      <td>0.074073</td>\n",
       "      <td>0.053209</td>\n",
       "      <td>11</td>\n",
       "    </tr>\n",
       "    <tr>\n",
       "      <th>22</th>\n",
       "      <td>0.003931</td>\n",
       "      <td>0.000014</td>\n",
       "      <td>0.002924</td>\n",
       "      <td>0.000014</td>\n",
       "      <td>6</td>\n",
       "      <td>3</td>\n",
       "      <td>{'max_depth': 6, 'min_samples_leaf': 3}</td>\n",
       "      <td>0.103448</td>\n",
       "      <td>0.129032</td>\n",
       "      <td>0.000000</td>\n",
       "      <td>0.035088</td>\n",
       "      <td>0.034483</td>\n",
       "      <td>0.060410</td>\n",
       "      <td>0.048009</td>\n",
       "      <td>20</td>\n",
       "    </tr>\n",
       "    <tr>\n",
       "      <th>23</th>\n",
       "      <td>0.003975</td>\n",
       "      <td>0.000049</td>\n",
       "      <td>0.003090</td>\n",
       "      <td>0.000307</td>\n",
       "      <td>6</td>\n",
       "      <td>4</td>\n",
       "      <td>{'max_depth': 6, 'min_samples_leaf': 4}</td>\n",
       "      <td>0.133333</td>\n",
       "      <td>0.131148</td>\n",
       "      <td>0.033898</td>\n",
       "      <td>0.000000</td>\n",
       "      <td>0.036364</td>\n",
       "      <td>0.066949</td>\n",
       "      <td>0.054842</td>\n",
       "      <td>18</td>\n",
       "    </tr>\n",
       "    <tr>\n",
       "      <th>24</th>\n",
       "      <td>0.004100</td>\n",
       "      <td>0.000316</td>\n",
       "      <td>0.002960</td>\n",
       "      <td>0.000028</td>\n",
       "      <td>6</td>\n",
       "      <td>5</td>\n",
       "      <td>{'max_depth': 6, 'min_samples_leaf': 5}</td>\n",
       "      <td>0.205882</td>\n",
       "      <td>0.126984</td>\n",
       "      <td>0.033898</td>\n",
       "      <td>0.000000</td>\n",
       "      <td>0.037037</td>\n",
       "      <td>0.080760</td>\n",
       "      <td>0.075395</td>\n",
       "      <td>8</td>\n",
       "    </tr>\n",
       "    <tr>\n",
       "      <th>25</th>\n",
       "      <td>0.004173</td>\n",
       "      <td>0.000041</td>\n",
       "      <td>0.002949</td>\n",
       "      <td>0.000023</td>\n",
       "      <td>7</td>\n",
       "      <td>1</td>\n",
       "      <td>{'max_depth': 7, 'min_samples_leaf': 1}</td>\n",
       "      <td>0.227848</td>\n",
       "      <td>0.093750</td>\n",
       "      <td>0.068966</td>\n",
       "      <td>0.101695</td>\n",
       "      <td>0.140845</td>\n",
       "      <td>0.126621</td>\n",
       "      <td>0.055633</td>\n",
       "      <td>3</td>\n",
       "    </tr>\n",
       "    <tr>\n",
       "      <th>26</th>\n",
       "      <td>0.004125</td>\n",
       "      <td>0.000021</td>\n",
       "      <td>0.002946</td>\n",
       "      <td>0.000008</td>\n",
       "      <td>7</td>\n",
       "      <td>2</td>\n",
       "      <td>{'max_depth': 7, 'min_samples_leaf': 2}</td>\n",
       "      <td>0.166667</td>\n",
       "      <td>0.196721</td>\n",
       "      <td>0.103448</td>\n",
       "      <td>0.070175</td>\n",
       "      <td>0.121212</td>\n",
       "      <td>0.131645</td>\n",
       "      <td>0.045042</td>\n",
       "      <td>1</td>\n",
       "    </tr>\n",
       "    <tr>\n",
       "      <th>27</th>\n",
       "      <td>0.004158</td>\n",
       "      <td>0.000075</td>\n",
       "      <td>0.002927</td>\n",
       "      <td>0.000020</td>\n",
       "      <td>7</td>\n",
       "      <td>3</td>\n",
       "      <td>{'max_depth': 7, 'min_samples_leaf': 3}</td>\n",
       "      <td>0.169014</td>\n",
       "      <td>0.202899</td>\n",
       "      <td>0.065574</td>\n",
       "      <td>0.105263</td>\n",
       "      <td>0.061538</td>\n",
       "      <td>0.120858</td>\n",
       "      <td>0.056335</td>\n",
       "      <td>4</td>\n",
       "    </tr>\n",
       "    <tr>\n",
       "      <th>28</th>\n",
       "      <td>0.004158</td>\n",
       "      <td>0.000100</td>\n",
       "      <td>0.002972</td>\n",
       "      <td>0.000023</td>\n",
       "      <td>7</td>\n",
       "      <td>4</td>\n",
       "      <td>{'max_depth': 7, 'min_samples_leaf': 4}</td>\n",
       "      <td>0.222222</td>\n",
       "      <td>0.173913</td>\n",
       "      <td>0.083333</td>\n",
       "      <td>0.071429</td>\n",
       "      <td>0.092308</td>\n",
       "      <td>0.128641</td>\n",
       "      <td>0.059082</td>\n",
       "      <td>2</td>\n",
       "    </tr>\n",
       "    <tr>\n",
       "      <th>29</th>\n",
       "      <td>0.004132</td>\n",
       "      <td>0.000092</td>\n",
       "      <td>0.002932</td>\n",
       "      <td>0.000025</td>\n",
       "      <td>7</td>\n",
       "      <td>5</td>\n",
       "      <td>{'max_depth': 7, 'min_samples_leaf': 5}</td>\n",
       "      <td>0.176471</td>\n",
       "      <td>0.173913</td>\n",
       "      <td>0.083333</td>\n",
       "      <td>0.126984</td>\n",
       "      <td>0.035714</td>\n",
       "      <td>0.119283</td>\n",
       "      <td>0.054019</td>\n",
       "      <td>5</td>\n",
       "    </tr>\n",
       "  </tbody>\n",
       "</table>\n",
       "</div>"
      ],
      "text/plain": [
       "    mean_fit_time  std_fit_time  mean_score_time  std_score_time  \\\n",
       "0        0.003448      0.000369         0.003035        0.000092   \n",
       "1        0.003191      0.000065         0.002965        0.000117   \n",
       "2        0.003130      0.000023         0.002979        0.000062   \n",
       "3        0.003126      0.000026         0.002905        0.000034   \n",
       "4        0.003188      0.000062         0.002924        0.000036   \n",
       "5        0.003367      0.000024         0.002950        0.000043   \n",
       "6        0.003346      0.000015         0.002935        0.000032   \n",
       "7        0.003345      0.000057         0.002916        0.000005   \n",
       "8        0.003341      0.000020         0.002931        0.000042   \n",
       "9        0.003396      0.000074         0.002920        0.000027   \n",
       "10       0.003561      0.000011         0.002959        0.000048   \n",
       "11       0.003914      0.000331         0.002998        0.000045   \n",
       "12       0.003740      0.000342         0.002949        0.000049   \n",
       "13       0.003564      0.000036         0.002936        0.000029   \n",
       "14       0.003578      0.000052         0.003001        0.000109   \n",
       "15       0.003793      0.000035         0.002990        0.000121   \n",
       "16       0.003744      0.000009         0.002936        0.000015   \n",
       "17       0.003742      0.000007         0.002934        0.000031   \n",
       "18       0.003737      0.000012         0.002927        0.000023   \n",
       "19       0.003741      0.000009         0.002933        0.000018   \n",
       "20       0.003994      0.000061         0.002917        0.000008   \n",
       "21       0.003944      0.000010         0.002929        0.000016   \n",
       "22       0.003931      0.000014         0.002924        0.000014   \n",
       "23       0.003975      0.000049         0.003090        0.000307   \n",
       "24       0.004100      0.000316         0.002960        0.000028   \n",
       "25       0.004173      0.000041         0.002949        0.000023   \n",
       "26       0.004125      0.000021         0.002946        0.000008   \n",
       "27       0.004158      0.000075         0.002927        0.000020   \n",
       "28       0.004158      0.000100         0.002972        0.000023   \n",
       "29       0.004132      0.000092         0.002932        0.000025   \n",
       "\n",
       "   param_max_depth param_min_samples_leaf  \\\n",
       "0                2                      1   \n",
       "1                2                      2   \n",
       "2                2                      3   \n",
       "3                2                      4   \n",
       "4                2                      5   \n",
       "5                3                      1   \n",
       "6                3                      2   \n",
       "7                3                      3   \n",
       "8                3                      4   \n",
       "9                3                      5   \n",
       "10               4                      1   \n",
       "11               4                      2   \n",
       "12               4                      3   \n",
       "13               4                      4   \n",
       "14               4                      5   \n",
       "15               5                      1   \n",
       "16               5                      2   \n",
       "17               5                      3   \n",
       "18               5                      4   \n",
       "19               5                      5   \n",
       "20               6                      1   \n",
       "21               6                      2   \n",
       "22               6                      3   \n",
       "23               6                      4   \n",
       "24               6                      5   \n",
       "25               7                      1   \n",
       "26               7                      2   \n",
       "27               7                      3   \n",
       "28               7                      4   \n",
       "29               7                      5   \n",
       "\n",
       "                                     params  split0_test_score  \\\n",
       "0   {'max_depth': 2, 'min_samples_leaf': 1}           0.000000   \n",
       "1   {'max_depth': 2, 'min_samples_leaf': 2}           0.000000   \n",
       "2   {'max_depth': 2, 'min_samples_leaf': 3}           0.000000   \n",
       "3   {'max_depth': 2, 'min_samples_leaf': 4}           0.000000   \n",
       "4   {'max_depth': 2, 'min_samples_leaf': 5}           0.000000   \n",
       "5   {'max_depth': 3, 'min_samples_leaf': 1}           0.037037   \n",
       "6   {'max_depth': 3, 'min_samples_leaf': 2}           0.037037   \n",
       "7   {'max_depth': 3, 'min_samples_leaf': 3}           0.037037   \n",
       "8   {'max_depth': 3, 'min_samples_leaf': 4}           0.037037   \n",
       "9   {'max_depth': 3, 'min_samples_leaf': 5}           0.037037   \n",
       "10  {'max_depth': 4, 'min_samples_leaf': 1}           0.038462   \n",
       "11  {'max_depth': 4, 'min_samples_leaf': 2}           0.038462   \n",
       "12  {'max_depth': 4, 'min_samples_leaf': 3}           0.035088   \n",
       "13  {'max_depth': 4, 'min_samples_leaf': 4}           0.066667   \n",
       "14  {'max_depth': 4, 'min_samples_leaf': 5}           0.066667   \n",
       "15  {'max_depth': 5, 'min_samples_leaf': 1}           0.173913   \n",
       "16  {'max_depth': 5, 'min_samples_leaf': 2}           0.164384   \n",
       "17  {'max_depth': 5, 'min_samples_leaf': 3}           0.119403   \n",
       "18  {'max_depth': 5, 'min_samples_leaf': 4}           0.200000   \n",
       "19  {'max_depth': 5, 'min_samples_leaf': 5}           0.181818   \n",
       "20  {'max_depth': 6, 'min_samples_leaf': 1}           0.135593   \n",
       "21  {'max_depth': 6, 'min_samples_leaf': 2}           0.036364   \n",
       "22  {'max_depth': 6, 'min_samples_leaf': 3}           0.103448   \n",
       "23  {'max_depth': 6, 'min_samples_leaf': 4}           0.133333   \n",
       "24  {'max_depth': 6, 'min_samples_leaf': 5}           0.205882   \n",
       "25  {'max_depth': 7, 'min_samples_leaf': 1}           0.227848   \n",
       "26  {'max_depth': 7, 'min_samples_leaf': 2}           0.166667   \n",
       "27  {'max_depth': 7, 'min_samples_leaf': 3}           0.169014   \n",
       "28  {'max_depth': 7, 'min_samples_leaf': 4}           0.222222   \n",
       "29  {'max_depth': 7, 'min_samples_leaf': 5}           0.176471   \n",
       "\n",
       "    split1_test_score  split2_test_score  split3_test_score  \\\n",
       "0            0.000000           0.000000           0.075472   \n",
       "1            0.000000           0.000000           0.075472   \n",
       "2            0.000000           0.000000           0.075472   \n",
       "3            0.000000           0.000000           0.075472   \n",
       "4            0.000000           0.000000           0.075472   \n",
       "5            0.175439           0.037037           0.037736   \n",
       "6            0.175439           0.037037           0.038462   \n",
       "7            0.175439           0.037037           0.038462   \n",
       "8            0.175439           0.037037           0.038462   \n",
       "9            0.175439           0.037037           0.038462   \n",
       "10           0.000000           0.000000           0.037736   \n",
       "11           0.000000           0.000000           0.038462   \n",
       "12           0.039216           0.000000           0.038462   \n",
       "13           0.039216           0.000000           0.038462   \n",
       "14           0.039216           0.000000           0.000000   \n",
       "15           0.039216           0.037736           0.037736   \n",
       "16           0.135593           0.000000           0.037736   \n",
       "17           0.158730           0.000000           0.036364   \n",
       "18           0.126984           0.000000           0.035714   \n",
       "19           0.156250           0.000000           0.000000   \n",
       "20           0.070175           0.038462           0.035088   \n",
       "21           0.140351           0.000000           0.066667   \n",
       "22           0.129032           0.000000           0.035088   \n",
       "23           0.131148           0.033898           0.000000   \n",
       "24           0.126984           0.033898           0.000000   \n",
       "25           0.093750           0.068966           0.101695   \n",
       "26           0.196721           0.103448           0.070175   \n",
       "27           0.202899           0.065574           0.105263   \n",
       "28           0.173913           0.083333           0.071429   \n",
       "29           0.173913           0.083333           0.126984   \n",
       "\n",
       "    split4_test_score  mean_test_score  std_test_score  rank_test_score  \n",
       "0            0.000000         0.015094        0.030189               26  \n",
       "1            0.000000         0.015094        0.030189               26  \n",
       "2            0.000000         0.015094        0.030189               26  \n",
       "3            0.000000         0.015094        0.030189               26  \n",
       "4            0.000000         0.015094        0.030189               26  \n",
       "5            0.076923         0.072834        0.053552               16  \n",
       "6            0.076923         0.072979        0.053458               12  \n",
       "7            0.076923         0.072979        0.053458               12  \n",
       "8            0.076923         0.072979        0.053458               12  \n",
       "9            0.076923         0.072979        0.053458               12  \n",
       "10           0.037037         0.022647        0.018497               25  \n",
       "11           0.036364         0.022657        0.018515               24  \n",
       "12           0.035714         0.029696        0.014931               22  \n",
       "13           0.037736         0.036416        0.021237               21  \n",
       "14           0.037736         0.028724        0.025617               23  \n",
       "15           0.037736         0.065267        0.054326               19  \n",
       "16           0.036364         0.074815        0.063509               10  \n",
       "17           0.067797         0.076459        0.056818                9  \n",
       "18           0.071429         0.086825        0.070440                6  \n",
       "19           0.071429         0.081899        0.076206                7  \n",
       "20           0.072727         0.070409        0.036118               17  \n",
       "21           0.126984         0.074073        0.053209               11  \n",
       "22           0.034483         0.060410        0.048009               20  \n",
       "23           0.036364         0.066949        0.054842               18  \n",
       "24           0.037037         0.080760        0.075395                8  \n",
       "25           0.140845         0.126621        0.055633                3  \n",
       "26           0.121212         0.131645        0.045042                1  \n",
       "27           0.061538         0.120858        0.056335                4  \n",
       "28           0.092308         0.128641        0.059082                2  \n",
       "29           0.035714         0.119283        0.054019                5  "
      ]
     },
     "execution_count": 33,
     "metadata": {},
     "output_type": "execute_result"
    }
   ],
   "source": [
    "##Use GridSearchCV to evaluate different settings for max depth and min leaf size. \n",
    "from sklearn.model_selection import GridSearchCV\n",
    "parameters = {'max_depth':(2, 3, 4, 5, 6, 7), 'min_samples_leaf':(1, 2, 3, 4, 5)}\n",
    "clf = DecisionTreeClassifier (random_state=42)\n",
    "clf_gs = GridSearchCV (clf, parameters, scoring='f1')\n",
    "clf_gs.fit (X, y)\n",
    "gs_results = pd.DataFrame (clf_gs.cv_results_)\n",
    "print (clf_gs.best_estimator_)\n",
    "print (\"Best parameters:\", clf_gs.best_params_)\n",
    "gs_results"
   ]
  },
  {
   "cell_type": "code",
   "execution_count": 34,
   "id": "26cd2956",
   "metadata": {},
   "outputs": [
    {
     "data": {
      "image/png": "[encoded data removed]",
      "text/plain": [
       "<Figure size 494.375x360 with 1 Axes>"
      ]
     },
     "metadata": {
      "needs_background": "light"
     },
     "output_type": "display_data"
    }
   ],
   "source": [
    "import seaborn as sb\n",
    "sb.relplot (kind='line', x=gs_results.param_max_depth, y=gs_results.mean_test_score, \n",
    "             hue=gs_results.param_min_samples_leaf, style=gs_results.param_min_samples_leaf)\n",
    "plt.show()"
   ]
  },
  {
   "cell_type": "markdown",
   "id": "b8754017",
   "metadata": {},
   "source": [
    "The results point to max_depth = 6 and min_samples_leaf = 5.The data is a fictional data set that we are training our models on therefore the model is a little bit biased in terms of maximizing the accuracy. However according to the Grid search using the decision tree we made ,max_depth=7, min_samples_leaf=2 and those are the best parameters."
   ]
  },
  {
   "cell_type": "markdown",
   "id": "c9aa17ac",
   "metadata": {},
   "source": [
    "## The Total impurity of leaves vs effective alphas of pruned tree"
   ]
  },
  {
   "cell_type": "markdown",
   "id": "8641e5e1",
   "metadata": {},
   "source": [
    "The minimum cost complexity pruning process finds the node with the weakest link.The weakest link is characterized by an effective alpha, where the nodes with the smallest effective alpha are pruned first. As alpha increases, more of the tree is pruned, which increases the total impurity of its leaves."
   ]
  },
  {
   "cell_type": "code",
   "execution_count": 35,
   "id": "5a4de552",
   "metadata": {},
   "outputs": [
    {
     "data": {
      "text/plain": [
       "Text(0.5, 1.0, 'Total Impurity vs effective alpha for training set')"
      ]
     },
     "execution_count": 35,
     "metadata": {},
     "output_type": "execute_result"
    },
    {
     "data": {
      "image/png": "[encoded data removed]",
      "text/plain": [
       "<Figure size 432x288 with 1 Axes>"
      ]
     },
     "metadata": {
      "needs_background": "light"
     },
     "output_type": "display_data"
    }
   ],
   "source": [
    "import matplotlib.pyplot as plt\n",
    "from sklearn.model_selection import train_test_split\n",
    "X_train, X_test, y_train, y_test = train_test_split(X, y, test_size=0.2, random_state=42) # 80% training and 20% test\n",
    "path = clf.cost_complexity_pruning_path(X_train, y_train)\n",
    "ccp_alphas, impurities = path.ccp_alphas, path.impurities\n",
    "fig, ax = plt.subplots()\n",
    "ax.plot(ccp_alphas[:-1], impurities[:-1], marker=\"o\", drawstyle=\"steps-post\")\n",
    "ax.set_xlabel(\"effective alpha\")\n",
    "ax.set_ylabel(\"total impurity of leaves\")\n",
    "ax.set_title(\"Total Impurity vs effective alpha for training set\")"
   ]
  },
  {
   "cell_type": "markdown",
   "id": "0fc42020",
   "metadata": {},
   "source": [
    "Instead of a two stacked bar charts of the leaf node results, one with relative percentage of the positive and negative outcomes, and one with the actual counts of positive and negative outcomes, we decided to do a minimum cost pruning process that identifies the weakest link. This was so that the model effectively represent our dataset given the unpredictability with working with a data sets that predicts human behavior. The strongest feature was the monthly rate which went against our intiution that attrition was contributed by job level or age but we were also cautious of the context of the data being fictional, therefore reported appropriately. Therefore, the wekest link from the above process woukd have been from the perfomance rating. "
   ]
  },
  {
   "cell_type": "markdown",
   "id": "ff616556",
   "metadata": {
    "id": "ff616556"
   },
   "source": [
    "## Logistic Regression"
   ]
  },
  {
   "cell_type": "code",
   "execution_count": 124,
   "id": "6baa1da2",
   "metadata": {
    "id": "6baa1da2"
   },
   "outputs": [
    {
     "name": "stdout",
     "output_type": "stream",
     "text": [
      "No. of training examples: 970\n",
      "No. of testing examples: 500\n"
     ]
    }
   ],
   "source": [
    "# Split data into training and test data\n",
    "# Split data into training and test data\n",
    "hrdata = hr.copy()\n",
    "hr = hrdata.sample(frac=0.66, random_state=25)\n",
    "hrtest = hrdata.drop(hr.index)\n",
    "print(f\"No. of training examples: {hr.shape[0]}\")\n",
    "print(f\"No. of testing examples: {hrtest.shape[0]}\")"
   ]
  },
  {
   "cell_type": "code",
   "execution_count": 125,
   "id": "5857d111",
   "metadata": {
    "id": "5857d111",
    "outputId": "483ea15f-f201-451e-8dfe-cc21eb31d698"
   },
   "outputs": [
    {
     "data": {
      "text/html": [
       "<div>\n",
       "<style scoped>\n",
       "    .dataframe tbody tr th:only-of-type {\n",
       "        vertical-align: middle;\n",
       "    }\n",
       "\n",
       "    .dataframe tbody tr th {\n",
       "        vertical-align: top;\n",
       "    }\n",
       "\n",
       "    .dataframe thead th {\n",
       "        text-align: right;\n",
       "    }\n",
       "</style>\n",
       "<table border=\"1\" class=\"dataframe\">\n",
       "  <thead>\n",
       "    <tr style=\"text-align: right;\">\n",
       "      <th>pred</th>\n",
       "      <th>0</th>\n",
       "      <th>1</th>\n",
       "    </tr>\n",
       "    <tr>\n",
       "      <th>Attrition</th>\n",
       "      <th></th>\n",
       "      <th></th>\n",
       "    </tr>\n",
       "  </thead>\n",
       "  <tbody>\n",
       "    <tr>\n",
       "      <th>0</th>\n",
       "      <td>540</td>\n",
       "      <td>282</td>\n",
       "    </tr>\n",
       "    <tr>\n",
       "      <th>1</th>\n",
       "      <td>51</td>\n",
       "      <td>97</td>\n",
       "    </tr>\n",
       "  </tbody>\n",
       "</table>\n",
       "</div>"
      ],
      "text/plain": [
       "pred         0    1\n",
       "Attrition          \n",
       "0          540  282\n",
       "1           51   97"
      ]
     },
     "execution_count": 125,
     "metadata": {},
     "output_type": "execute_result"
    }
   ],
   "source": [
    "from sklearn.linear_model import LogisticRegression\n",
    "clf = LogisticRegression (class_weight='balanced')\n",
    "X = hr.iloc [:, 1:14]\n",
    "y = hr.Attrition\n",
    "clf.fit (X=X, y=y)\n",
    "hr[\"pred\"] = clf.predict (X)\n",
    "pd.crosstab (y, hr.pred)"
   ]
  },
  {
   "cell_type": "markdown",
   "id": "78210f3d",
   "metadata": {
    "id": "78210f3d"
   },
   "source": [
    "Our first try at logistic regression has a high number of false positives. This is a trade-off for the relatively low number of false negative we want to see, as we care more about identifying cases of attrition than we do overall accuracy. Still, there are about 140 cases of attrition and the model only identifies half of them. This is concerning. "
   ]
  },
  {
   "cell_type": "markdown",
   "id": "24416d0f",
   "metadata": {
    "id": "24416d0f"
   },
   "source": [
    "We move onto scalining and standardizing: "
   ]
  },
  {
   "cell_type": "code",
   "execution_count": 126,
   "id": "0af3c62b",
   "metadata": {
    "id": "0af3c62b",
    "outputId": "57c0280b-a637-410b-9dfe-2bde9d0b1c10"
   },
   "outputs": [
    {
     "name": "stdout",
     "output_type": "stream",
     "text": [
      "                    count          mean          std     min      25%  \\\n",
      "Age                 970.0     37.136082     9.155803    18.0    30.25   \n",
      "MonthlyRate         970.0  14132.162887  7116.472873  2094.0  7797.00   \n",
      "EnvSatis1           970.0      0.192784     0.394688     0.0     0.00   \n",
      "EnvSatis2           970.0      0.195876     0.397078     0.0     0.00   \n",
      "EnvSatis3           970.0      0.307216     0.461578     0.0     0.00   \n",
      "EnvSatis4           970.0      0.304124     0.460273     0.0     0.00   \n",
      "JobLevel1           970.0      0.364948     0.481664     0.0     0.00   \n",
      "JobLevel2           970.0      0.371134     0.483357     0.0     0.00   \n",
      "JobLevel3           970.0      0.140206     0.347380     0.0     0.00   \n",
      "JobLevel4           970.0      0.074227     0.262275     0.0     0.00   \n",
      "JobLevel5           970.0      0.049485     0.216989     0.0     0.00   \n",
      "PerformanceRating3  970.0      0.844330     0.362729     0.0     1.00   \n",
      "PerformanceRating4  970.0      0.155670     0.362729     0.0     0.00   \n",
      "\n",
      "                        50%       75%      max  \n",
      "Age                    36.0     43.00     60.0  \n",
      "MonthlyRate         13961.5  20438.75  26999.0  \n",
      "EnvSatis1               0.0      0.00      1.0  \n",
      "EnvSatis2               0.0      0.00      1.0  \n",
      "EnvSatis3               0.0      1.00      1.0  \n",
      "EnvSatis4               0.0      1.00      1.0  \n",
      "JobLevel1               0.0      1.00      1.0  \n",
      "JobLevel2               0.0      1.00      1.0  \n",
      "JobLevel3               0.0      0.00      1.0  \n",
      "JobLevel4               0.0      0.00      1.0  \n",
      "JobLevel5               0.0      0.00      1.0  \n",
      "PerformanceRating3      1.0      1.00      1.0  \n",
      "PerformanceRating4      0.0      0.00      1.0  \n",
      "<class 'pandas.core.frame.DataFrame'>\n",
      "                    count          mean       std       min       25%  \\\n",
      "Age                 970.0  1.085615e-16  1.000516 -2.091128 -0.752488   \n",
      "MonthlyRate         970.0 -5.036063e-18  1.000516 -1.692464 -0.890670   \n",
      "EnvSatis1           970.0 -3.720964e-16  1.000516 -0.488697 -0.488697   \n",
      "EnvSatis2           970.0  5.665571e-17  1.000516 -0.493548 -0.493548   \n",
      "EnvSatis3           970.0 -8.355287e-17  1.000516 -0.665922 -0.665922   \n",
      "EnvSatis4           970.0 -1.991534e-17  1.000516 -0.661088 -0.661088   \n",
      "JobLevel1           970.0 -2.456225e-16  1.000516 -0.758073 -0.758073   \n",
      "JobLevel2           970.0 -3.630544e-16  1.000516 -0.768221 -0.768221   \n",
      "JobLevel3           970.0 -1.534855e-16  1.000516 -0.403819 -0.403819   \n",
      "JobLevel4           970.0 -3.576749e-16  1.000516 -0.283158 -0.283158   \n",
      "JobLevel5           970.0  2.148911e-16  1.000516 -0.228168 -0.228168   \n",
      "PerformanceRating3  970.0  1.867922e-16  1.000516 -2.328914  0.429385   \n",
      "PerformanceRating4  970.0 -1.867922e-16  1.000516 -0.429385 -0.429385   \n",
      "\n",
      "                         50%       75%       max  \n",
      "Age                -0.124147  0.640790  2.498493  \n",
      "MonthlyRate        -0.023994  0.886653  1.808968  \n",
      "EnvSatis1          -0.488697 -0.488697  2.046257  \n",
      "EnvSatis2          -0.493548 -0.493548  2.026145  \n",
      "EnvSatis3          -0.665922  1.501677  1.501677  \n",
      "EnvSatis4          -0.661088  1.512658  1.512658  \n",
      "JobLevel1          -0.758073  1.319133  1.319133  \n",
      "JobLevel2          -0.768221  1.301708  1.301708  \n",
      "JobLevel3          -0.403819 -0.403819  2.476359  \n",
      "JobLevel4          -0.283158 -0.283158  3.531603  \n",
      "JobLevel5          -0.228168 -0.228168  4.382731  \n",
      "PerformanceRating3  0.429385  0.429385  0.429385  \n",
      "PerformanceRating4 -0.429385 -0.429385  2.328914  \n"
     ]
    }
   ],
   "source": [
    "from sklearn.preprocessing import StandardScaler\n",
    "scaler = StandardScaler().fit(X)\n",
    "X_scaled = pd.DataFrame (scaler.transform(X))\n",
    "print (X.describe().T)\n",
    "print (type (X_scaled))\n",
    "X_scaled.columns = X.columns\n",
    "print (X_scaled.describe().T)"
   ]
  },
  {
   "cell_type": "code",
   "execution_count": null,
   "id": "0b001512",
   "metadata": {
    "id": "0b001512",
    "outputId": "1a1ed29e-be73-476d-aa2b-ccf79466e49b"
   },
   "outputs": [],
   "source": []
  },
  {
   "cell_type": "code",
   "execution_count": 127,
   "id": "c721ad01",
   "metadata": {
    "id": "c721ad01",
    "outputId": "6f5e2767-f19c-45f6-bcad-eccd494a6a99"
   },
   "outputs": [
    {
     "data": {
      "text/html": [
       "<div>\n",
       "<style scoped>\n",
       "    .dataframe tbody tr th:only-of-type {\n",
       "        vertical-align: middle;\n",
       "    }\n",
       "\n",
       "    .dataframe tbody tr th {\n",
       "        vertical-align: top;\n",
       "    }\n",
       "\n",
       "    .dataframe thead th {\n",
       "        text-align: right;\n",
       "    }\n",
       "</style>\n",
       "<table border=\"1\" class=\"dataframe\">\n",
       "  <thead>\n",
       "    <tr style=\"text-align: right;\">\n",
       "      <th>pred</th>\n",
       "      <th>0</th>\n",
       "      <th>1</th>\n",
       "    </tr>\n",
       "    <tr>\n",
       "      <th>Attrition</th>\n",
       "      <th></th>\n",
       "      <th></th>\n",
       "    </tr>\n",
       "  </thead>\n",
       "  <tbody>\n",
       "    <tr>\n",
       "      <th>0</th>\n",
       "      <td>522</td>\n",
       "      <td>300</td>\n",
       "    </tr>\n",
       "    <tr>\n",
       "      <th>1</th>\n",
       "      <td>46</td>\n",
       "      <td>102</td>\n",
       "    </tr>\n",
       "  </tbody>\n",
       "</table>\n",
       "</div>"
      ],
      "text/plain": [
       "pred         0    1\n",
       "Attrition          \n",
       "0          522  300\n",
       "1           46  102"
      ]
     },
     "execution_count": 127,
     "metadata": {},
     "output_type": "execute_result"
    }
   ],
   "source": [
    "clf = LogisticRegression(class_weight='balanced')\n",
    "clf.fit (X=X_scaled, y=y)\n",
    "hr[\"pred\"] = clf.predict (X_scaled)\n",
    "pd.crosstab (y, hr.pred)"
   ]
  },
  {
   "cell_type": "markdown",
   "id": "a707ae8a",
   "metadata": {
    "id": "a707ae8a"
   },
   "source": [
    "Scaling has improved the model, as we are now identifying a larger percentage of the true attrition cases than we were before. The number of false positives, however, has gone up. Still concerning. "
   ]
  },
  {
   "cell_type": "markdown",
   "id": "6d5cc3ba",
   "metadata": {},
   "source": [
    "We will add polynomial features: "
   ]
  },
  {
   "cell_type": "code",
   "execution_count": 128,
   "id": "d17bba39",
   "metadata": {
    "id": "d17bba39",
    "outputId": "6922a601-07c2-4601-caeb-d577192551f1"
   },
   "outputs": [
    {
     "name": "stdout",
     "output_type": "stream",
     "text": [
      "      Age  MonthlyRate  EnvSatis1  EnvSatis2  EnvSatis3  EnvSatis4  JobLevel1  \\\n",
      "942    36         5747          0          0          0          1          0   \n",
      "415    34        12253          0          0          0          1          1   \n",
      "1259   30         9128          0          0          1          0          0   \n",
      "466    41         5626          0          1          0          0          0   \n",
      "424    57        22102          1          0          0          0          0   \n",
      "...   ...          ...        ...        ...        ...        ...        ...   \n",
      "661    43        23814          1          0          0          0          0   \n",
      "1212   34        20338          0          1          0          0          1   \n",
      "1312   31        21495          0          0          0          1          1   \n",
      "834    34         5829          0          1          0          0          0   \n",
      "509    33         5335          0          0          1          0          0   \n",
      "\n",
      "      JobLevel2  JobLevel3  JobLevel4  JobLevel5  PerformanceRating3  \\\n",
      "942           0          1          0          0                   1   \n",
      "415           0          0          0          0                   1   \n",
      "1259          1          0          0          0                   1   \n",
      "466           0          0          1          0                   1   \n",
      "424           0          0          1          0                   1   \n",
      "...         ...        ...        ...        ...                 ...   \n",
      "661           1          0          0          0                   0   \n",
      "1212          0          0          0          0                   1   \n",
      "1312          0          0          0          0                   1   \n",
      "834           1          0          0          0                   0   \n",
      "509           1          0          0          0                   0   \n",
      "\n",
      "      PerformanceRating4  \n",
      "942                    0  \n",
      "415                    0  \n",
      "1259                   0  \n",
      "466                    0  \n",
      "424                    0  \n",
      "...                  ...  \n",
      "661                    1  \n",
      "1212                   0  \n",
      "1312                   0  \n",
      "834                    1  \n",
      "509                    1  \n",
      "\n",
      "[970 rows x 13 columns]\n"
     ]
    }
   ],
   "source": [
    "Xlog = X.copy()\n",
    "print (Xlog)"
   ]
  },
  {
   "cell_type": "code",
   "execution_count": 129,
   "id": "26684e70",
   "metadata": {
    "id": "26684e70",
    "outputId": "8fa0df43-aecd-4856-cb0c-69b93e0a3d79"
   },
   "outputs": [
    {
     "data": {
      "text/html": [
       "<div>\n",
       "<style scoped>\n",
       "    .dataframe tbody tr th:only-of-type {\n",
       "        vertical-align: middle;\n",
       "    }\n",
       "\n",
       "    .dataframe tbody tr th {\n",
       "        vertical-align: top;\n",
       "    }\n",
       "\n",
       "    .dataframe thead th {\n",
       "        text-align: right;\n",
       "    }\n",
       "</style>\n",
       "<table border=\"1\" class=\"dataframe\">\n",
       "  <thead>\n",
       "    <tr style=\"text-align: right;\">\n",
       "      <th></th>\n",
       "      <th>count</th>\n",
       "      <th>mean</th>\n",
       "      <th>std</th>\n",
       "      <th>min</th>\n",
       "      <th>25%</th>\n",
       "      <th>50%</th>\n",
       "      <th>75%</th>\n",
       "      <th>max</th>\n",
       "    </tr>\n",
       "  </thead>\n",
       "  <tbody>\n",
       "    <tr>\n",
       "      <th>0</th>\n",
       "      <td>970.0</td>\n",
       "      <td>1.085615e-16</td>\n",
       "      <td>1.000516</td>\n",
       "      <td>-2.091128</td>\n",
       "      <td>-0.752488</td>\n",
       "      <td>-0.124147</td>\n",
       "      <td>0.640790</td>\n",
       "      <td>2.498493</td>\n",
       "    </tr>\n",
       "    <tr>\n",
       "      <th>1</th>\n",
       "      <td>970.0</td>\n",
       "      <td>-5.036063e-18</td>\n",
       "      <td>1.000516</td>\n",
       "      <td>-1.692464</td>\n",
       "      <td>-0.890670</td>\n",
       "      <td>-0.023994</td>\n",
       "      <td>0.886653</td>\n",
       "      <td>1.808968</td>\n",
       "    </tr>\n",
       "    <tr>\n",
       "      <th>2</th>\n",
       "      <td>970.0</td>\n",
       "      <td>-3.720964e-16</td>\n",
       "      <td>1.000516</td>\n",
       "      <td>-0.488697</td>\n",
       "      <td>-0.488697</td>\n",
       "      <td>-0.488697</td>\n",
       "      <td>-0.488697</td>\n",
       "      <td>2.046257</td>\n",
       "    </tr>\n",
       "    <tr>\n",
       "      <th>3</th>\n",
       "      <td>970.0</td>\n",
       "      <td>5.665571e-17</td>\n",
       "      <td>1.000516</td>\n",
       "      <td>-0.493548</td>\n",
       "      <td>-0.493548</td>\n",
       "      <td>-0.493548</td>\n",
       "      <td>-0.493548</td>\n",
       "      <td>2.026145</td>\n",
       "    </tr>\n",
       "    <tr>\n",
       "      <th>4</th>\n",
       "      <td>970.0</td>\n",
       "      <td>-8.355287e-17</td>\n",
       "      <td>1.000516</td>\n",
       "      <td>-0.665922</td>\n",
       "      <td>-0.665922</td>\n",
       "      <td>-0.665922</td>\n",
       "      <td>1.501677</td>\n",
       "      <td>1.501677</td>\n",
       "    </tr>\n",
       "    <tr>\n",
       "      <th>5</th>\n",
       "      <td>970.0</td>\n",
       "      <td>-1.991534e-17</td>\n",
       "      <td>1.000516</td>\n",
       "      <td>-0.661088</td>\n",
       "      <td>-0.661088</td>\n",
       "      <td>-0.661088</td>\n",
       "      <td>1.512658</td>\n",
       "      <td>1.512658</td>\n",
       "    </tr>\n",
       "    <tr>\n",
       "      <th>6</th>\n",
       "      <td>970.0</td>\n",
       "      <td>-2.456225e-16</td>\n",
       "      <td>1.000516</td>\n",
       "      <td>-0.758073</td>\n",
       "      <td>-0.758073</td>\n",
       "      <td>-0.758073</td>\n",
       "      <td>1.319133</td>\n",
       "      <td>1.319133</td>\n",
       "    </tr>\n",
       "    <tr>\n",
       "      <th>7</th>\n",
       "      <td>970.0</td>\n",
       "      <td>-3.630544e-16</td>\n",
       "      <td>1.000516</td>\n",
       "      <td>-0.768221</td>\n",
       "      <td>-0.768221</td>\n",
       "      <td>-0.768221</td>\n",
       "      <td>1.301708</td>\n",
       "      <td>1.301708</td>\n",
       "    </tr>\n",
       "    <tr>\n",
       "      <th>8</th>\n",
       "      <td>970.0</td>\n",
       "      <td>-1.534855e-16</td>\n",
       "      <td>1.000516</td>\n",
       "      <td>-0.403819</td>\n",
       "      <td>-0.403819</td>\n",
       "      <td>-0.403819</td>\n",
       "      <td>-0.403819</td>\n",
       "      <td>2.476359</td>\n",
       "    </tr>\n",
       "    <tr>\n",
       "      <th>9</th>\n",
       "      <td>970.0</td>\n",
       "      <td>-3.576749e-16</td>\n",
       "      <td>1.000516</td>\n",
       "      <td>-0.283158</td>\n",
       "      <td>-0.283158</td>\n",
       "      <td>-0.283158</td>\n",
       "      <td>-0.283158</td>\n",
       "      <td>3.531603</td>\n",
       "    </tr>\n",
       "    <tr>\n",
       "      <th>10</th>\n",
       "      <td>970.0</td>\n",
       "      <td>2.148911e-16</td>\n",
       "      <td>1.000516</td>\n",
       "      <td>-0.228168</td>\n",
       "      <td>-0.228168</td>\n",
       "      <td>-0.228168</td>\n",
       "      <td>-0.228168</td>\n",
       "      <td>4.382731</td>\n",
       "    </tr>\n",
       "    <tr>\n",
       "      <th>11</th>\n",
       "      <td>970.0</td>\n",
       "      <td>1.867922e-16</td>\n",
       "      <td>1.000516</td>\n",
       "      <td>-2.328914</td>\n",
       "      <td>0.429385</td>\n",
       "      <td>0.429385</td>\n",
       "      <td>0.429385</td>\n",
       "      <td>0.429385</td>\n",
       "    </tr>\n",
       "    <tr>\n",
       "      <th>12</th>\n",
       "      <td>970.0</td>\n",
       "      <td>-1.867922e-16</td>\n",
       "      <td>1.000516</td>\n",
       "      <td>-0.429385</td>\n",
       "      <td>-0.429385</td>\n",
       "      <td>-0.429385</td>\n",
       "      <td>-0.429385</td>\n",
       "      <td>2.328914</td>\n",
       "    </tr>\n",
       "  </tbody>\n",
       "</table>\n",
       "</div>"
      ],
      "text/plain": [
       "    count          mean       std       min       25%       50%       75%  \\\n",
       "0   970.0  1.085615e-16  1.000516 -2.091128 -0.752488 -0.124147  0.640790   \n",
       "1   970.0 -5.036063e-18  1.000516 -1.692464 -0.890670 -0.023994  0.886653   \n",
       "2   970.0 -3.720964e-16  1.000516 -0.488697 -0.488697 -0.488697 -0.488697   \n",
       "3   970.0  5.665571e-17  1.000516 -0.493548 -0.493548 -0.493548 -0.493548   \n",
       "4   970.0 -8.355287e-17  1.000516 -0.665922 -0.665922 -0.665922  1.501677   \n",
       "5   970.0 -1.991534e-17  1.000516 -0.661088 -0.661088 -0.661088  1.512658   \n",
       "6   970.0 -2.456225e-16  1.000516 -0.758073 -0.758073 -0.758073  1.319133   \n",
       "7   970.0 -3.630544e-16  1.000516 -0.768221 -0.768221 -0.768221  1.301708   \n",
       "8   970.0 -1.534855e-16  1.000516 -0.403819 -0.403819 -0.403819 -0.403819   \n",
       "9   970.0 -3.576749e-16  1.000516 -0.283158 -0.283158 -0.283158 -0.283158   \n",
       "10  970.0  2.148911e-16  1.000516 -0.228168 -0.228168 -0.228168 -0.228168   \n",
       "11  970.0  1.867922e-16  1.000516 -2.328914  0.429385  0.429385  0.429385   \n",
       "12  970.0 -1.867922e-16  1.000516 -0.429385 -0.429385 -0.429385 -0.429385   \n",
       "\n",
       "         max  \n",
       "0   2.498493  \n",
       "1   1.808968  \n",
       "2   2.046257  \n",
       "3   2.026145  \n",
       "4   1.501677  \n",
       "5   1.512658  \n",
       "6   1.319133  \n",
       "7   1.301708  \n",
       "8   2.476359  \n",
       "9   3.531603  \n",
       "10  4.382731  \n",
       "11  0.429385  \n",
       "12  2.328914  "
      ]
     },
     "execution_count": 129,
     "metadata": {},
     "output_type": "execute_result"
    }
   ],
   "source": [
    "Xlog.describe().T\n",
    "scaler = StandardScaler().fit(Xlog)\n",
    "Xlog = pd.DataFrame (scaler.transform (Xlog))\n",
    "Xlog.describe().T"
   ]
  },
  {
   "cell_type": "markdown",
   "id": "047fd67e",
   "metadata": {},
   "source": [
    "Here are the more specific stats for the scaled logistic regression before we move on to recall:"
   ]
  },
  {
   "cell_type": "code",
   "execution_count": 130,
   "id": "2b6f3f9a",
   "metadata": {
    "id": "2b6f3f9a",
    "outputId": "9afdf55e-407b-4003-98d7-860bb2e1fda9"
   },
   "outputs": [
    {
     "name": "stdout",
     "output_type": "stream",
     "text": [
      "precision: 0.2537\n",
      "recall:    0.6892\n",
      "F1 score:  0.3709\n"
     ]
    }
   ],
   "source": [
    "from sklearn.metrics import *\n",
    "print (\"precision:\", round (precision_score (y, hr.pred), 4))\n",
    "print (\"recall:   \", round (recall_score (y, hr.pred), 4))\n",
    "print (\"F1 score: \", round (f1_score (y, hr.pred), 4))"
   ]
  },
  {
   "cell_type": "markdown",
   "id": "6608d11f",
   "metadata": {},
   "source": [
    "We have a precision of 0.2537, which is way under the .5 threshold we would be looking for (better than random chance). The recall score is pretty good at 0.6892 is about our best score, and does represent the fact that we prioritized finding cases of attrition. "
   ]
  },
  {
   "cell_type": "code",
   "execution_count": 131,
   "id": "e3f847d4",
   "metadata": {
    "id": "e3f847d4",
    "outputId": "e527b822-bd96-45d1-9cbe-a0260d6ccbd9"
   },
   "outputs": [
    {
     "name": "stdout",
     "output_type": "stream",
     "text": [
      "(970, 13)\n",
      "(970, 105)\n",
      "   0         1         2         3         4         5         6         7    \\\n",
      "0  1.0 -0.124147 -1.178883 -0.488697 -0.493548 -0.665922  1.512658 -0.758073   \n",
      "1  1.0 -0.342701 -0.264194 -0.488697 -0.493548 -0.665922  1.512658  1.319133   \n",
      "2  1.0 -0.779807 -0.703543 -0.488697 -0.493548  1.501677 -0.661088 -0.758073   \n",
      "3  1.0  0.422236 -1.195895 -0.488697  2.026145 -0.665922 -0.661088 -0.758073   \n",
      "4  1.0  2.170663  1.120492  2.046257 -0.493548 -0.665922 -0.661088 -0.758073   \n",
      "5  1.0 -0.670531  0.266960  2.046257 -0.493548 -0.665922 -0.661088  1.319133   \n",
      "6  1.0  0.422236  0.936598 -0.488697 -0.493548  1.501677 -0.661088 -0.758073   \n",
      "7  1.0  0.312959  1.136660 -0.488697 -0.493548  1.501677 -0.661088 -0.758073   \n",
      "8  1.0 -0.342701  0.640231 -0.488697 -0.493548 -0.665922  1.512658 -0.758073   \n",
      "9  1.0 -0.670531 -0.813486 -0.488697  2.026145 -0.665922 -0.661088 -0.758073   \n",
      "\n",
      "        8         9    ...        95        96        97        98        99   \\\n",
      "0 -0.768221  2.476359  ...   0.080178  0.064608 -0.121583  0.121583  0.052061   \n",
      "1 -0.768221 -0.403819  ...   0.080178  0.064608 -0.121583  0.121583  0.052061   \n",
      "2  1.301708 -0.403819  ...   0.080178  0.064608 -0.121583  0.121583  0.052061   \n",
      "3 -0.768221 -0.403819  ...  12.472222 -0.805800  1.516416 -1.516416  0.052061   \n",
      "4 -0.768221 -0.403819  ...  12.472222 -0.805800  1.516416 -1.516416  0.052061   \n",
      "5 -0.768221 -0.403819  ...   0.080178  0.064608 -0.121583  0.121583  0.052061   \n",
      "6  1.301708 -0.403819  ...   0.080178  0.064608 -0.121583  0.121583  0.052061   \n",
      "7  1.301708 -0.403819  ...   0.080178  0.064608 -0.121583  0.121583  0.052061   \n",
      "8  1.301708 -0.403819  ...   0.080178  0.064608  0.659450 -0.659450  0.052061   \n",
      "9  1.301708 -0.403819  ...   0.080178  0.064608 -0.121583  0.121583  0.052061   \n",
      "\n",
      "        100       101       102       103       104  \n",
      "0 -0.097972  0.097972  0.184371 -0.184371  0.184371  \n",
      "1 -0.097972  0.097972  0.184371 -0.184371  0.184371  \n",
      "2 -0.097972  0.097972  0.184371 -0.184371  0.184371  \n",
      "3 -0.097972  0.097972  0.184371 -0.184371  0.184371  \n",
      "4 -0.097972  0.097972  0.184371 -0.184371  0.184371  \n",
      "5 -0.097972  0.097972  0.184371 -0.184371  0.184371  \n",
      "6 -0.097972  0.097972  0.184371 -0.184371  0.184371  \n",
      "7 -0.097972  0.097972  0.184371 -0.184371  0.184371  \n",
      "8  0.531384 -0.531384  5.423841 -5.423841  5.423841  \n",
      "9 -0.097972  0.097972  0.184371 -0.184371  0.184371  \n",
      "\n",
      "[10 rows x 105 columns]\n"
     ]
    }
   ],
   "source": [
    "from sklearn.preprocessing import PolynomialFeatures\n",
    "poly = PolynomialFeatures (degree = 2)\n",
    "X_poly = pd.DataFrame (poly.fit_transform (Xlog))\n",
    "print (Xlog.shape)\n",
    "print (X_poly.shape)\n",
    "print (X_poly.head(10))"
   ]
  },
  {
   "cell_type": "markdown",
   "id": "cd9bdf08",
   "metadata": {},
   "source": [
    "Here is a quick plot showing our coefficients: "
   ]
  },
  {
   "cell_type": "code",
   "execution_count": 132,
   "id": "f63da6a8",
   "metadata": {
    "id": "f63da6a8",
    "outputId": "dc036ebc-5b95-4d9d-94dd-a27e3cef74d4"
   },
   "outputs": [
    {
     "data": {
      "image/png": "[encoded data removed]",
      "text/plain": [
       "<Figure size 432x288 with 1 Axes>"
      ]
     },
     "metadata": {
      "needs_background": "light"
     },
     "output_type": "display_data"
    }
   ],
   "source": [
    "coeffs = pd.DataFrame (clf.coef_.T)\n",
    "coeffs.columns = [\"Coef_Est\"]\n",
    "plt.plot (np.arange (13), coeffs.Coef_Est)\n",
    "plt.plot ([0,13], [0,0])\n",
    "plt.title (\"Polynomial Coefficient Estimates\")\n",
    "plt.xlabel (\"Coefficient Order\")\n",
    "plt.ylabel (\"Coefficient Estimate\")\n",
    "plt.show()"
   ]
  },
  {
   "cell_type": "markdown",
   "id": "9cb5c0ec",
   "metadata": {},
   "source": [
    "We see coefficient 6 and 2 have higher estimates. We will not explore this too much further, however, given that our model is so poor. The logistic regression is not a good enough representation of the data for the coefficients to be a good representation of the relationships within the data. "
   ]
  },
  {
   "cell_type": "markdown",
   "id": "0f6f1271",
   "metadata": {},
   "source": [
    "Finally, the test with poly features:"
   ]
  },
  {
   "cell_type": "code",
   "execution_count": 133,
   "id": "ecdab677",
   "metadata": {},
   "outputs": [
    {
     "data": {
      "text/html": [
       "<div>\n",
       "<style scoped>\n",
       "    .dataframe tbody tr th:only-of-type {\n",
       "        vertical-align: middle;\n",
       "    }\n",
       "\n",
       "    .dataframe tbody tr th {\n",
       "        vertical-align: top;\n",
       "    }\n",
       "\n",
       "    .dataframe thead th {\n",
       "        text-align: right;\n",
       "    }\n",
       "</style>\n",
       "<table border=\"1\" class=\"dataframe\">\n",
       "  <thead>\n",
       "    <tr style=\"text-align: right;\">\n",
       "      <th>LR2pred</th>\n",
       "      <th>0</th>\n",
       "      <th>1</th>\n",
       "    </tr>\n",
       "    <tr>\n",
       "      <th>Attrition</th>\n",
       "      <th></th>\n",
       "      <th></th>\n",
       "    </tr>\n",
       "  </thead>\n",
       "  <tbody>\n",
       "    <tr>\n",
       "      <th>0</th>\n",
       "      <td>553</td>\n",
       "      <td>269</td>\n",
       "    </tr>\n",
       "    <tr>\n",
       "      <th>1</th>\n",
       "      <td>38</td>\n",
       "      <td>110</td>\n",
       "    </tr>\n",
       "  </tbody>\n",
       "</table>\n",
       "</div>"
      ],
      "text/plain": [
       "LR2pred      0    1\n",
       "Attrition          \n",
       "0          553  269\n",
       "1           38  110"
      ]
     },
     "execution_count": 133,
     "metadata": {},
     "output_type": "execute_result"
    }
   ],
   "source": [
    "LR2clf = LogisticRegression(max_iter=1000, class_weight='balanced')\n",
    "LR2clf.fit (X=X_poly, y=y)\n",
    "hr[\"LR2pred\"] = LR2clf.predict(X_poly)\n",
    "pd.crosstab (y, hr.LR2pred)"
   ]
  },
  {
   "cell_type": "code",
   "execution_count": 139,
   "id": "c046f175",
   "metadata": {},
   "outputs": [
    {
     "name": "stdout",
     "output_type": "stream",
     "text": [
      "precision: 0.2902\n",
      "recall:    0.7432\n",
      "F1 score:  0.4175\n"
     ]
    }
   ],
   "source": [
    "from sklearn.metrics import *\n",
    "print (\"precision:\", round (precision_score (y, hr.LR2pred), 4))\n",
    "print (\"recall:   \", round (recall_score (y, hr.LR2pred), 4))\n",
    "print (\"F1 score: \", round (f1_score (y, hr.LR2pred), 4))"
   ]
  },
  {
   "cell_type": "markdown",
   "id": "2134a421",
   "metadata": {},
   "source": [
    "This model is definitely an improvement. The precision score is up about 5% from the previous model with 0.29, the recall is up to around 0.75, and the F1 score is at least closer to 0.5, at 0.41. Given that 2/3 of these numbers are below the 0.5 threshold, we still wouldn't classify it as a \"good\" model, but a recall score of 0.75 better justifies some of the shortcomings in precision and F1, especially since those numbers have also crept up a little. "
   ]
  },
  {
   "cell_type": "markdown",
   "id": "a07be3f6",
   "metadata": {},
   "source": [
    "Now we will run the test data. "
   ]
  },
  {
   "cell_type": "code",
   "execution_count": 134,
   "id": "79a4fedd",
   "metadata": {},
   "outputs": [
    {
     "data": {
      "text/html": [
       "<div>\n",
       "<style scoped>\n",
       "    .dataframe tbody tr th:only-of-type {\n",
       "        vertical-align: middle;\n",
       "    }\n",
       "\n",
       "    .dataframe tbody tr th {\n",
       "        vertical-align: top;\n",
       "    }\n",
       "\n",
       "    .dataframe thead th {\n",
       "        text-align: right;\n",
       "    }\n",
       "</style>\n",
       "<table border=\"1\" class=\"dataframe\">\n",
       "  <thead>\n",
       "    <tr style=\"text-align: right;\">\n",
       "      <th>Attritionpredict</th>\n",
       "      <th>0</th>\n",
       "      <th>1</th>\n",
       "    </tr>\n",
       "    <tr>\n",
       "      <th>Attrition</th>\n",
       "      <th></th>\n",
       "      <th></th>\n",
       "    </tr>\n",
       "  </thead>\n",
       "  <tbody>\n",
       "    <tr>\n",
       "      <th>0</th>\n",
       "      <td>249</td>\n",
       "      <td>162</td>\n",
       "    </tr>\n",
       "    <tr>\n",
       "      <th>1</th>\n",
       "      <td>31</td>\n",
       "      <td>58</td>\n",
       "    </tr>\n",
       "  </tbody>\n",
       "</table>\n",
       "</div>"
      ],
      "text/plain": [
       "Attritionpredict    0    1\n",
       "Attrition                 \n",
       "0                 249  162\n",
       "1                  31   58"
      ]
     },
     "execution_count": 134,
     "metadata": {},
     "output_type": "execute_result"
    }
   ],
   "source": [
    "X = hrtest.iloc [:, 1:14]\n",
    "y2 = hrtest.Attrition\n",
    "X_scaled = pd.DataFrame (scaler.transform(X))\n",
    "poly = PolynomialFeatures (degree = 2)\n",
    "X_poly2 = pd.DataFrame (poly.fit_transform (X_scaled))\n",
    "hrtest[\"Attritionpredict\"] = LR2clf.predict (X_poly2)\n",
    "pd.crosstab (hrtest.Attrition, hrtest.Attritionpredict)"
   ]
  },
  {
   "cell_type": "code",
   "execution_count": 141,
   "id": "ddc9ddbf",
   "metadata": {},
   "outputs": [
    {
     "name": "stdout",
     "output_type": "stream",
     "text": [
      "precision: 0.2636\n",
      "recall:    0.6517\n",
      "F1 score:  0.3754\n"
     ]
    }
   ],
   "source": [
    "from sklearn.metrics import *\n",
    "print (\"precision:\", round (precision_score (y2, hrtest.Attritionpredict), 4))\n",
    "print (\"recall:   \", round (recall_score (y2, hrtest.Attritionpredict), 4))\n",
    "print (\"F1 score: \", round (f1_score (y2, hrtest.Attritionpredict), 4))"
   ]
  },
  {
   "cell_type": "markdown",
   "id": "7c590d02",
   "metadata": {},
   "source": [
    "The test data scores are more comporable to what we saw with the training model without polynomial featurs. At this point, I think we have to accept that with our current variables, we do not have a good model. The precision and F1 score are both below 0.5, and the recall is not all that far from 0.5 at 0.6517. "
   ]
  },
  {
   "cell_type": "code",
   "execution_count": 135,
   "id": "85890235",
   "metadata": {},
   "outputs": [
    {
     "name": "stderr",
     "output_type": "stream",
     "text": [
      "C:\\Users\\ethedens\\anaconda3\\lib\\site-packages\\sklearn\\linear_model\\_logistic.py:763: ConvergenceWarning: lbfgs failed to converge (status=1):\n",
      "STOP: TOTAL NO. of ITERATIONS REACHED LIMIT.\n",
      "\n",
      "Increase the number of iterations (max_iter) or scale the data as shown in:\n",
      "    https://scikit-learn.org/stable/modules/preprocessing.html\n",
      "Please also refer to the documentation for alternative solver options:\n",
      "    https://scikit-learn.org/stable/modules/linear_model.html#logistic-regression\n",
      "  n_iter_i = _check_optimize_result(\n",
      "C:\\Users\\ethedens\\anaconda3\\lib\\site-packages\\sklearn\\linear_model\\_logistic.py:763: ConvergenceWarning: lbfgs failed to converge (status=1):\n",
      "STOP: TOTAL NO. of ITERATIONS REACHED LIMIT.\n",
      "\n",
      "Increase the number of iterations (max_iter) or scale the data as shown in:\n",
      "    https://scikit-learn.org/stable/modules/preprocessing.html\n",
      "Please also refer to the documentation for alternative solver options:\n",
      "    https://scikit-learn.org/stable/modules/linear_model.html#logistic-regression\n",
      "  n_iter_i = _check_optimize_result(\n",
      "C:\\Users\\ethedens\\anaconda3\\lib\\site-packages\\sklearn\\linear_model\\_logistic.py:763: ConvergenceWarning: lbfgs failed to converge (status=1):\n",
      "STOP: TOTAL NO. of ITERATIONS REACHED LIMIT.\n",
      "\n",
      "Increase the number of iterations (max_iter) or scale the data as shown in:\n",
      "    https://scikit-learn.org/stable/modules/preprocessing.html\n",
      "Please also refer to the documentation for alternative solver options:\n",
      "    https://scikit-learn.org/stable/modules/linear_model.html#logistic-regression\n",
      "  n_iter_i = _check_optimize_result(\n",
      "C:\\Users\\ethedens\\anaconda3\\lib\\site-packages\\sklearn\\linear_model\\_logistic.py:763: ConvergenceWarning: lbfgs failed to converge (status=1):\n",
      "STOP: TOTAL NO. of ITERATIONS REACHED LIMIT.\n",
      "\n",
      "Increase the number of iterations (max_iter) or scale the data as shown in:\n",
      "    https://scikit-learn.org/stable/modules/preprocessing.html\n",
      "Please also refer to the documentation for alternative solver options:\n",
      "    https://scikit-learn.org/stable/modules/linear_model.html#logistic-regression\n",
      "  n_iter_i = _check_optimize_result(\n",
      "C:\\Users\\ethedens\\anaconda3\\lib\\site-packages\\sklearn\\linear_model\\_logistic.py:763: ConvergenceWarning: lbfgs failed to converge (status=1):\n",
      "STOP: TOTAL NO. of ITERATIONS REACHED LIMIT.\n",
      "\n",
      "Increase the number of iterations (max_iter) or scale the data as shown in:\n",
      "    https://scikit-learn.org/stable/modules/preprocessing.html\n",
      "Please also refer to the documentation for alternative solver options:\n",
      "    https://scikit-learn.org/stable/modules/linear_model.html#logistic-regression\n",
      "  n_iter_i = _check_optimize_result(\n",
      "C:\\Users\\ethedens\\anaconda3\\lib\\site-packages\\sklearn\\linear_model\\_logistic.py:763: ConvergenceWarning: lbfgs failed to converge (status=1):\n",
      "STOP: TOTAL NO. of ITERATIONS REACHED LIMIT.\n",
      "\n",
      "Increase the number of iterations (max_iter) or scale the data as shown in:\n",
      "    https://scikit-learn.org/stable/modules/preprocessing.html\n",
      "Please also refer to the documentation for alternative solver options:\n",
      "    https://scikit-learn.org/stable/modules/linear_model.html#logistic-regression\n",
      "  n_iter_i = _check_optimize_result(\n",
      "C:\\Users\\ethedens\\anaconda3\\lib\\site-packages\\sklearn\\linear_model\\_logistic.py:763: ConvergenceWarning: lbfgs failed to converge (status=1):\n",
      "STOP: TOTAL NO. of ITERATIONS REACHED LIMIT.\n",
      "\n",
      "Increase the number of iterations (max_iter) or scale the data as shown in:\n",
      "    https://scikit-learn.org/stable/modules/preprocessing.html\n",
      "Please also refer to the documentation for alternative solver options:\n",
      "    https://scikit-learn.org/stable/modules/linear_model.html#logistic-regression\n",
      "  n_iter_i = _check_optimize_result(\n",
      "C:\\Users\\ethedens\\anaconda3\\lib\\site-packages\\sklearn\\linear_model\\_logistic.py:763: ConvergenceWarning: lbfgs failed to converge (status=1):\n",
      "STOP: TOTAL NO. of ITERATIONS REACHED LIMIT.\n",
      "\n",
      "Increase the number of iterations (max_iter) or scale the data as shown in:\n",
      "    https://scikit-learn.org/stable/modules/preprocessing.html\n",
      "Please also refer to the documentation for alternative solver options:\n",
      "    https://scikit-learn.org/stable/modules/linear_model.html#logistic-regression\n",
      "  n_iter_i = _check_optimize_result(\n"
     ]
    },
    {
     "name": "stdout",
     "output_type": "stream",
     "text": [
      "Cross Val Precision: [0.2466 0.241  0.2676 0.2899 0.1591] Mean: 0.2408 StDev: 0.0444\n"
     ]
    },
    {
     "name": "stderr",
     "output_type": "stream",
     "text": [
      "C:\\Users\\ethedens\\anaconda3\\lib\\site-packages\\sklearn\\linear_model\\_logistic.py:763: ConvergenceWarning: lbfgs failed to converge (status=1):\n",
      "STOP: TOTAL NO. of ITERATIONS REACHED LIMIT.\n",
      "\n",
      "Increase the number of iterations (max_iter) or scale the data as shown in:\n",
      "    https://scikit-learn.org/stable/modules/preprocessing.html\n",
      "Please also refer to the documentation for alternative solver options:\n",
      "    https://scikit-learn.org/stable/modules/linear_model.html#logistic-regression\n",
      "  n_iter_i = _check_optimize_result(\n",
      "C:\\Users\\ethedens\\anaconda3\\lib\\site-packages\\sklearn\\linear_model\\_logistic.py:763: ConvergenceWarning: lbfgs failed to converge (status=1):\n",
      "STOP: TOTAL NO. of ITERATIONS REACHED LIMIT.\n",
      "\n",
      "Increase the number of iterations (max_iter) or scale the data as shown in:\n",
      "    https://scikit-learn.org/stable/modules/preprocessing.html\n",
      "Please also refer to the documentation for alternative solver options:\n",
      "    https://scikit-learn.org/stable/modules/linear_model.html#logistic-regression\n",
      "  n_iter_i = _check_optimize_result(\n",
      "C:\\Users\\ethedens\\anaconda3\\lib\\site-packages\\sklearn\\linear_model\\_logistic.py:763: ConvergenceWarning: lbfgs failed to converge (status=1):\n",
      "STOP: TOTAL NO. of ITERATIONS REACHED LIMIT.\n",
      "\n",
      "Increase the number of iterations (max_iter) or scale the data as shown in:\n",
      "    https://scikit-learn.org/stable/modules/preprocessing.html\n",
      "Please also refer to the documentation for alternative solver options:\n",
      "    https://scikit-learn.org/stable/modules/linear_model.html#logistic-regression\n",
      "  n_iter_i = _check_optimize_result(\n",
      "C:\\Users\\ethedens\\anaconda3\\lib\\site-packages\\sklearn\\linear_model\\_logistic.py:763: ConvergenceWarning: lbfgs failed to converge (status=1):\n",
      "STOP: TOTAL NO. of ITERATIONS REACHED LIMIT.\n",
      "\n",
      "Increase the number of iterations (max_iter) or scale the data as shown in:\n",
      "    https://scikit-learn.org/stable/modules/preprocessing.html\n",
      "Please also refer to the documentation for alternative solver options:\n",
      "    https://scikit-learn.org/stable/modules/linear_model.html#logistic-regression\n",
      "  n_iter_i = _check_optimize_result(\n",
      "C:\\Users\\ethedens\\anaconda3\\lib\\site-packages\\sklearn\\linear_model\\_logistic.py:763: ConvergenceWarning: lbfgs failed to converge (status=1):\n",
      "STOP: TOTAL NO. of ITERATIONS REACHED LIMIT.\n",
      "\n",
      "Increase the number of iterations (max_iter) or scale the data as shown in:\n",
      "    https://scikit-learn.org/stable/modules/preprocessing.html\n",
      "Please also refer to the documentation for alternative solver options:\n",
      "    https://scikit-learn.org/stable/modules/linear_model.html#logistic-regression\n",
      "  n_iter_i = _check_optimize_result(\n"
     ]
    },
    {
     "name": "stdout",
     "output_type": "stream",
     "text": [
      "Cross Val Recall:    [0.6207 0.6897 0.6333 0.6667 0.4667] Mean: 0.6154 StDev: 0.0782\n"
     ]
    },
    {
     "name": "stderr",
     "output_type": "stream",
     "text": [
      "C:\\Users\\ethedens\\anaconda3\\lib\\site-packages\\sklearn\\linear_model\\_logistic.py:763: ConvergenceWarning: lbfgs failed to converge (status=1):\n",
      "STOP: TOTAL NO. of ITERATIONS REACHED LIMIT.\n",
      "\n",
      "Increase the number of iterations (max_iter) or scale the data as shown in:\n",
      "    https://scikit-learn.org/stable/modules/preprocessing.html\n",
      "Please also refer to the documentation for alternative solver options:\n",
      "    https://scikit-learn.org/stable/modules/linear_model.html#logistic-regression\n",
      "  n_iter_i = _check_optimize_result(\n",
      "C:\\Users\\ethedens\\anaconda3\\lib\\site-packages\\sklearn\\linear_model\\_logistic.py:763: ConvergenceWarning: lbfgs failed to converge (status=1):\n",
      "STOP: TOTAL NO. of ITERATIONS REACHED LIMIT.\n",
      "\n",
      "Increase the number of iterations (max_iter) or scale the data as shown in:\n",
      "    https://scikit-learn.org/stable/modules/preprocessing.html\n",
      "Please also refer to the documentation for alternative solver options:\n",
      "    https://scikit-learn.org/stable/modules/linear_model.html#logistic-regression\n",
      "  n_iter_i = _check_optimize_result(\n",
      "C:\\Users\\ethedens\\anaconda3\\lib\\site-packages\\sklearn\\linear_model\\_logistic.py:763: ConvergenceWarning: lbfgs failed to converge (status=1):\n",
      "STOP: TOTAL NO. of ITERATIONS REACHED LIMIT.\n",
      "\n",
      "Increase the number of iterations (max_iter) or scale the data as shown in:\n",
      "    https://scikit-learn.org/stable/modules/preprocessing.html\n",
      "Please also refer to the documentation for alternative solver options:\n",
      "    https://scikit-learn.org/stable/modules/linear_model.html#logistic-regression\n",
      "  n_iter_i = _check_optimize_result(\n",
      "C:\\Users\\ethedens\\anaconda3\\lib\\site-packages\\sklearn\\linear_model\\_logistic.py:763: ConvergenceWarning: lbfgs failed to converge (status=1):\n",
      "STOP: TOTAL NO. of ITERATIONS REACHED LIMIT.\n",
      "\n",
      "Increase the number of iterations (max_iter) or scale the data as shown in:\n",
      "    https://scikit-learn.org/stable/modules/preprocessing.html\n",
      "Please also refer to the documentation for alternative solver options:\n",
      "    https://scikit-learn.org/stable/modules/linear_model.html#logistic-regression\n",
      "  n_iter_i = _check_optimize_result(\n",
      "C:\\Users\\ethedens\\anaconda3\\lib\\site-packages\\sklearn\\linear_model\\_logistic.py:763: ConvergenceWarning: lbfgs failed to converge (status=1):\n",
      "STOP: TOTAL NO. of ITERATIONS REACHED LIMIT.\n",
      "\n",
      "Increase the number of iterations (max_iter) or scale the data as shown in:\n",
      "    https://scikit-learn.org/stable/modules/preprocessing.html\n",
      "Please also refer to the documentation for alternative solver options:\n",
      "    https://scikit-learn.org/stable/modules/linear_model.html#logistic-regression\n",
      "  n_iter_i = _check_optimize_result(\n"
     ]
    },
    {
     "name": "stdout",
     "output_type": "stream",
     "text": [
      "Cross Val F1-Score:  [0.3529 0.3571 0.3762 0.404  0.2373] Mean: 0.3455 StDev: 0.057\n",
      "\n",
      "Overall CV Precision 0.237\n",
      "Overall CV Recall    0.6149\n",
      "Overall CV f1_macro  0.3421\n",
      "Cross Validated Confusion Matrix:\n"
     ]
    },
    {
     "name": "stderr",
     "output_type": "stream",
     "text": [
      "C:\\Users\\ethedens\\anaconda3\\lib\\site-packages\\sklearn\\linear_model\\_logistic.py:763: ConvergenceWarning: lbfgs failed to converge (status=1):\n",
      "STOP: TOTAL NO. of ITERATIONS REACHED LIMIT.\n",
      "\n",
      "Increase the number of iterations (max_iter) or scale the data as shown in:\n",
      "    https://scikit-learn.org/stable/modules/preprocessing.html\n",
      "Please also refer to the documentation for alternative solver options:\n",
      "    https://scikit-learn.org/stable/modules/linear_model.html#logistic-regression\n",
      "  n_iter_i = _check_optimize_result(\n",
      "C:\\Users\\ethedens\\anaconda3\\lib\\site-packages\\sklearn\\linear_model\\_logistic.py:763: ConvergenceWarning: lbfgs failed to converge (status=1):\n",
      "STOP: TOTAL NO. of ITERATIONS REACHED LIMIT.\n",
      "\n",
      "Increase the number of iterations (max_iter) or scale the data as shown in:\n",
      "    https://scikit-learn.org/stable/modules/preprocessing.html\n",
      "Please also refer to the documentation for alternative solver options:\n",
      "    https://scikit-learn.org/stable/modules/linear_model.html#logistic-regression\n",
      "  n_iter_i = _check_optimize_result(\n"
     ]
    },
    {
     "data": {
      "text/html": [
       "<div>\n",
       "<style scoped>\n",
       "    .dataframe tbody tr th:only-of-type {\n",
       "        vertical-align: middle;\n",
       "    }\n",
       "\n",
       "    .dataframe tbody tr th {\n",
       "        vertical-align: top;\n",
       "    }\n",
       "\n",
       "    .dataframe thead th {\n",
       "        text-align: right;\n",
       "    }\n",
       "</style>\n",
       "<table border=\"1\" class=\"dataframe\">\n",
       "  <thead>\n",
       "    <tr style=\"text-align: right;\">\n",
       "      <th>col_0</th>\n",
       "      <th>0</th>\n",
       "      <th>1</th>\n",
       "    </tr>\n",
       "    <tr>\n",
       "      <th>Attrition</th>\n",
       "      <th></th>\n",
       "      <th></th>\n",
       "    </tr>\n",
       "  </thead>\n",
       "  <tbody>\n",
       "    <tr>\n",
       "      <th>0</th>\n",
       "      <td>529</td>\n",
       "      <td>293</td>\n",
       "    </tr>\n",
       "    <tr>\n",
       "      <th>1</th>\n",
       "      <td>57</td>\n",
       "      <td>91</td>\n",
       "    </tr>\n",
       "  </tbody>\n",
       "</table>\n",
       "</div>"
      ],
      "text/plain": [
       "col_0        0    1\n",
       "Attrition          \n",
       "0          529  293\n",
       "1           57   91"
      ]
     },
     "execution_count": 135,
     "metadata": {},
     "output_type": "execute_result"
    }
   ],
   "source": [
    "from sklearn.model_selection import cross_val_score, cross_val_predict\n",
    "precision_scores = cross_val_score (clf, X_poly, y, scoring='precision')\n",
    "print (\"Cross Val Precision:\", np.round (precision_scores, 4),\n",
    "       \"Mean:\", np.round (np.mean (precision_scores), 4),\n",
    "       \"StDev:\", np.round (np.std (precision_scores), 4))\n",
    "       \n",
    "recall_scores = cross_val_score (clf, X_poly, y, scoring='recall')\n",
    "print (\"Cross Val Recall:   \", np.round (recall_scores, 4),\n",
    "       \"Mean:\", np.round (np.mean (recall_scores), 4),\n",
    "       \"StDev:\", np.round (np.std (recall_scores), 4))\n",
    "       \n",
    "f1_scores = cross_val_score (clf, X_poly, y, scoring='f1')\n",
    "print (\"Cross Val F1-Score: \",  np.round (f1_scores, 4),\n",
    "       \"Mean:\", np.round (np.mean (f1_scores), 4),\n",
    "       \"StDev:\", np.round (np.std (f1_scores), 4))\n",
    "       \n",
    "cv_pred = cross_val_predict (clf, X_poly, y)\n",
    "print (\"\\nOverall CV Precision\", np.round (precision_score (y, cv_pred), 4))\n",
    "print (\"Overall CV Recall   \", np.round (recall_score (y, cv_pred), 4))\n",
    "print (\"Overall CV f1_macro \", np.round (f1_score (y, cv_pred), 4))\n",
    "print (\"Cross Validated Confusion Matrix:\")\n",
    "pd.crosstab (y, cv_pred)"
   ]
  },
  {
   "cell_type": "markdown",
   "id": "1fa125c1",
   "metadata": {},
   "source": [
    "These scores are similar enough to what we've seen with the previous scores that we feel we do not need to discuss them again. The weighted logistic regression is not a quality model. "
   ]
  },
  {
   "cell_type": "code",
   "execution_count": null,
   "id": "a004f997",
   "metadata": {
    "id": "a004f997"
   },
   "outputs": [],
   "source": []
  },
  {
   "cell_type": "markdown",
   "id": "0d7deb67",
   "metadata": {},
   "source": [
    "## Conclusion "
   ]
  },
  {
   "cell_type": "markdown",
   "id": "54347269",
   "metadata": {},
   "source": [
    "Due to time constraints (and our lack of prior knowledge about the ability to weight a decision tree) we ended up with two different approaches; the weighted logistic regression and the unweighted decision tree. The decision tree reported a high level of precision, but very low recall and F1. The weighted logistic regression demonstrated a decent level of recall, but low precision and F1. We do not think we were able to model attrition well with either approach. The unweighted decision tree was unable to find cases of attrition, and the weighted logistic regression often falsly classified cases as attrition. \n",
    "\n",
    "Age, Monthly Rate, Job Level are at the top of Fisher's importance. They were also at the top of our coefficients. These importances are set, however, by an inaccurate model. \n",
    "\n",
    "We are unable to answer our questions conclusively due to out poor model. But it is possible that the addition of the varibles which we cut from the larger set would improve the logistic regression. With our current variables, however, we were unable to produce an accurate enough model for more thorough analysis. \n"
   ]
  },
  {
   "cell_type": "code",
   "execution_count": null,
   "id": "cd316733",
   "metadata": {},
   "outputs": [],
   "source": []
  }
 ],
 "metadata": {
  "colab": {
   "name": "Project 1 Latest.ipynb",
   "provenance": []
  },
  "kernelspec": {
   "display_name": "Python 3",
   "language": "python",
   "name": "python3"
  },
  "language_info": {
   "codemirror_mode": {
    "name": "ipython",
    "version": 3
   },
   "file_extension": ".py",
   "mimetype": "text/x-python",
   "name": "python",
   "nbconvert_exporter": "python",
   "pygments_lexer": "ipython3",
   "version": "3.7.11"
  }
 },
 "nbformat": 4,
 "nbformat_minor": 5
}
