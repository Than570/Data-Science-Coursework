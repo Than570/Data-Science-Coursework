{
 "cells": [
  {
   "cell_type": "markdown",
   "id": "b889836f-1f09-4463-b3db-f4aa2c16186f",
   "metadata": {},
   "source": [
    "## CONTENT BASED FILTERING RECOMMENDATION SYSTEM "
   ]
  },
  {
   "cell_type": "markdown",
   "id": "76d4616e-0b3c-4bc7-91da-763bccb679c2",
   "metadata": {},
   "source": [
    "### EUCLIDEAN DISTANCE GENERATOR "
   ]
  },
  {
   "cell_type": "raw",
   "id": "1f9b4732-7f60-4bcb-ac74-8e3c5d1738c2",
   "metadata": {},
   "source": [
    "The goal for this notebook is to create a Euclidean generator for the Candidate generator to be used in the recommendation system. It is building an effective function that achieves the target"
   ]
  },
  {
   "cell_type": "markdown",
   "id": "f7e2cb9a-215d-49d3-9a2d-c48780c07e2b",
   "metadata": {},
   "source": [
    "#### LOAD THE LIBRARIES FOR MODEL"
   ]
  },
  {
   "cell_type": "code",
   "execution_count": 15,
   "id": "10f04775-5c67-4b7d-b3ec-c2ded1e34d12",
   "metadata": {},
   "outputs": [],
   "source": [
    "from __future__ import print_function\n",
    "import pandas as pd\n",
    "import re\n",
    "import os\n",
    "import time\n",
    "import matplotlib.pyplot as plt\n",
    "import numpy as np\n",
    "import collections\n",
    "from mpl_toolkits.mplot3d import Axes3D\n",
    "from IPython import display\n",
    "from matplotlib import pyplot as plt\n",
    "import sklearn\n",
    "import sklearn.manifold\n",
    "import tensorflow.compat.v1 as tf\n",
    "tf.disable_v2_behavior()\n",
    "tf.logging.set_verbosity(tf.logging.ERROR)\n",
    "pd.options.display.max_columns = 80"
   ]
  },
  {
   "cell_type": "markdown",
   "id": "47ba9e53-ba6f-4807-9417-7f8f16d496e4",
   "metadata": {},
   "source": [
    "#### LOADING THE DATA AND DATA PRELIMINARY CLEANING "
   ]
  },
  {
   "cell_type": "code",
   "execution_count": 16,
   "id": "6109b6cb-721f-4245-9452-eb583963e9ec",
   "metadata": {},
   "outputs": [
    {
     "data": {
      "text/html": [
       "<div>\n",
       "<style scoped>\n",
       "    .dataframe tbody tr th:only-of-type {\n",
       "        vertical-align: middle;\n",
       "    }\n",
       "\n",
       "    .dataframe tbody tr th {\n",
       "        vertical-align: top;\n",
       "    }\n",
       "\n",
       "    .dataframe thead th {\n",
       "        text-align: right;\n",
       "    }\n",
       "</style>\n",
       "<table border=\"1\" class=\"dataframe\">\n",
       "  <thead>\n",
       "    <tr style=\"text-align: right;\">\n",
       "      <th></th>\n",
       "      <th>Name</th>\n",
       "      <th>Year</th>\n",
       "      <th>kind</th>\n",
       "      <th>genre</th>\n",
       "      <th>imdb_rating</th>\n",
       "      <th>vote</th>\n",
       "      <th>country</th>\n",
       "      <th>language</th>\n",
       "      <th>cast</th>\n",
       "      <th>director</th>\n",
       "      <th>composer</th>\n",
       "      <th>writer</th>\n",
       "      <th>runtime</th>\n",
       "    </tr>\n",
       "  </thead>\n",
       "  <tbody>\n",
       "    <tr>\n",
       "      <th>0</th>\n",
       "      <td>Dinosaur Planet</td>\n",
       "      <td>2003</td>\n",
       "      <td>tv mini series</td>\n",
       "      <td>['Documentary', 'Animation', 'Family']</td>\n",
       "      <td>7.7</td>\n",
       "      <td>474.0</td>\n",
       "      <td>['United States']</td>\n",
       "      <td>['English']</td>\n",
       "      <td>['Christian Slater', 'Scott Sampson']</td>\n",
       "      <td>NaN</td>\n",
       "      <td>NaN</td>\n",
       "      <td>['Mike Carrol', 'Mike Carroll', 'Georgann Kane']</td>\n",
       "      <td>50.0</td>\n",
       "    </tr>\n",
       "    <tr>\n",
       "      <th>1</th>\n",
       "      <td>Get Up and Dance!</td>\n",
       "      <td>1994</td>\n",
       "      <td>video movie</td>\n",
       "      <td>['Family']</td>\n",
       "      <td>8.1</td>\n",
       "      <td>18.0</td>\n",
       "      <td>['United States']</td>\n",
       "      <td>['English']</td>\n",
       "      <td>['Paula Abdul', 'Aurorah Allain', 'Bill Bohl',...</td>\n",
       "      <td>['Steve Purcell']</td>\n",
       "      <td>NaN</td>\n",
       "      <td>NaN</td>\n",
       "      <td>83.0</td>\n",
       "    </tr>\n",
       "    <tr>\n",
       "      <th>2</th>\n",
       "      <td>8 Man</td>\n",
       "      <td>1992</td>\n",
       "      <td>movie</td>\n",
       "      <td>['Action', 'Sci-Fi']</td>\n",
       "      <td>5.5</td>\n",
       "      <td>93.0</td>\n",
       "      <td>['Japan']</td>\n",
       "      <td>['Japanese']</td>\n",
       "      <td>['Kai Shishido', 'Etsushi Takahashi', 'Sachiko...</td>\n",
       "      <td>['Yasuhiro Horiuchi']</td>\n",
       "      <td>['Carole King']</td>\n",
       "      <td>['Kazumasa Hirai', 'Jirô Kuwata', 'Junko Suzuki']</td>\n",
       "      <td>NaN</td>\n",
       "    </tr>\n",
       "    <tr>\n",
       "      <th>3</th>\n",
       "      <td>What the #$*! Do We (K)now!?</td>\n",
       "      <td>2004</td>\n",
       "      <td>movie</td>\n",
       "      <td>['Documentary', 'Comedy', 'Drama', 'Fantasy', ...</td>\n",
       "      <td>5.3</td>\n",
       "      <td>13432.0</td>\n",
       "      <td>['United States']</td>\n",
       "      <td>['English', 'German', 'Spanish']</td>\n",
       "      <td>['Marlee Matlin', 'Elaine Hendrix', 'John Ross...</td>\n",
       "      <td>['William Arntz', 'Betsy Chasse', 'Mark Vicente']</td>\n",
       "      <td>['Christopher Franke']</td>\n",
       "      <td>['William Arntz', 'Betsy Chasse', 'Matthew Hof...</td>\n",
       "      <td>60.0</td>\n",
       "    </tr>\n",
       "    <tr>\n",
       "      <th>4</th>\n",
       "      <td>Class of Nuke 'Em High Part II: Subhumanoid Me...</td>\n",
       "      <td>1991</td>\n",
       "      <td>movie</td>\n",
       "      <td>['Comedy', 'Horror', 'Sci-Fi']</td>\n",
       "      <td>4.5</td>\n",
       "      <td>2177.0</td>\n",
       "      <td>['United States']</td>\n",
       "      <td>['English']</td>\n",
       "      <td>['Brick Bronsky', 'Lisa Gaye', 'Leesa Rowland'...</td>\n",
       "      <td>['Eric Louzil']</td>\n",
       "      <td>['Bob Mithoff']</td>\n",
       "      <td>['Lloyd Kaufman', 'Carl Morano', 'Matt Unger']</td>\n",
       "      <td>96.0</td>\n",
       "    </tr>\n",
       "  </tbody>\n",
       "</table>\n",
       "</div>"
      ],
      "text/plain": [
       "                                                Name  Year            kind  \\\n",
       "0                                    Dinosaur Planet  2003  tv mini series   \n",
       "1                                  Get Up and Dance!  1994     video movie   \n",
       "2                                              8 Man  1992           movie   \n",
       "3                       What the #$*! Do We (K)now!?  2004           movie   \n",
       "4  Class of Nuke 'Em High Part II: Subhumanoid Me...  1991           movie   \n",
       "\n",
       "                                               genre  imdb_rating     vote  \\\n",
       "0             ['Documentary', 'Animation', 'Family']          7.7    474.0   \n",
       "1                                         ['Family']          8.1     18.0   \n",
       "2                               ['Action', 'Sci-Fi']          5.5     93.0   \n",
       "3  ['Documentary', 'Comedy', 'Drama', 'Fantasy', ...          5.3  13432.0   \n",
       "4                     ['Comedy', 'Horror', 'Sci-Fi']          4.5   2177.0   \n",
       "\n",
       "             country                          language  \\\n",
       "0  ['United States']                       ['English']   \n",
       "1  ['United States']                       ['English']   \n",
       "2          ['Japan']                      ['Japanese']   \n",
       "3  ['United States']  ['English', 'German', 'Spanish']   \n",
       "4  ['United States']                       ['English']   \n",
       "\n",
       "                                                cast  \\\n",
       "0              ['Christian Slater', 'Scott Sampson']   \n",
       "1  ['Paula Abdul', 'Aurorah Allain', 'Bill Bohl',...   \n",
       "2  ['Kai Shishido', 'Etsushi Takahashi', 'Sachiko...   \n",
       "3  ['Marlee Matlin', 'Elaine Hendrix', 'John Ross...   \n",
       "4  ['Brick Bronsky', 'Lisa Gaye', 'Leesa Rowland'...   \n",
       "\n",
       "                                            director                composer  \\\n",
       "0                                                NaN                     NaN   \n",
       "1                                  ['Steve Purcell']                     NaN   \n",
       "2                              ['Yasuhiro Horiuchi']         ['Carole King']   \n",
       "3  ['William Arntz', 'Betsy Chasse', 'Mark Vicente']  ['Christopher Franke']   \n",
       "4                                    ['Eric Louzil']         ['Bob Mithoff']   \n",
       "\n",
       "                                              writer  runtime  \n",
       "0   ['Mike Carrol', 'Mike Carroll', 'Georgann Kane']     50.0  \n",
       "1                                                NaN     83.0  \n",
       "2  ['Kazumasa Hirai', 'Jirô Kuwata', 'Junko Suzuki']      NaN  \n",
       "3  ['William Arntz', 'Betsy Chasse', 'Matthew Hof...     60.0  \n",
       "4     ['Lloyd Kaufman', 'Carl Morano', 'Matt Unger']     96.0  "
      ]
     },
     "execution_count": 16,
     "metadata": {},
     "output_type": "execute_result"
    }
   ],
   "source": [
    "Moviesdf = pd.read_csv (\"imdb_processed.csv\")\n",
    "Moviesdf.head()"
   ]
  },
  {
   "cell_type": "code",
   "execution_count": 17,
   "id": "9c2b2120-2aef-41ef-a92c-1326df01c11a",
   "metadata": {},
   "outputs": [
    {
     "data": {
      "text/plain": [
       "(8451, 13)"
      ]
     },
     "execution_count": 17,
     "metadata": {},
     "output_type": "execute_result"
    }
   ],
   "source": [
    "## Output of the number of rows and columns respectively.\n",
    "Moviesdf.shape"
   ]
  },
  {
   "cell_type": "code",
   "execution_count": 18,
   "id": "612864cc-125b-4974-86c2-35a9080f5989",
   "metadata": {},
   "outputs": [
    {
     "name": "stdout",
     "output_type": "stream",
     "text": [
      "<class 'pandas.core.frame.DataFrame'>\n",
      "RangeIndex: 8451 entries, 0 to 8450\n",
      "Data columns (total 13 columns):\n",
      " #   Column       Non-Null Count  Dtype  \n",
      "---  ------       --------------  -----  \n",
      " 0   Name         8451 non-null   object \n",
      " 1   Year         8451 non-null   int64  \n",
      " 2   kind         8451 non-null   object \n",
      " 3   genre        8384 non-null   object \n",
      " 4   imdb_rating  8135 non-null   float64\n",
      " 5   vote         8135 non-null   float64\n",
      " 6   country      8152 non-null   object \n",
      " 7   language     8052 non-null   object \n",
      " 8   cast         8280 non-null   object \n",
      " 9   director     7140 non-null   object \n",
      " 10  composer     5722 non-null   object \n",
      " 11  writer       7204 non-null   object \n",
      " 12  runtime      6798 non-null   float64\n",
      "dtypes: float64(3), int64(1), object(9)\n",
      "memory usage: 858.4+ KB\n"
     ]
    }
   ],
   "source": [
    "## The information on the dataset\n",
    "Moviesdf.info()"
   ]
  },
  {
   "cell_type": "code",
   "execution_count": 19,
   "id": "63f3b191-8884-40a8-8855-3c9350af21ad",
   "metadata": {},
   "outputs": [
    {
     "data": {
      "text/plain": [
       "Name              0\n",
       "Year              0\n",
       "kind              0\n",
       "genre            67\n",
       "imdb_rating     316\n",
       "vote            316\n",
       "country         299\n",
       "language        399\n",
       "cast            171\n",
       "director       1311\n",
       "composer       2729\n",
       "writer         1247\n",
       "runtime        1653\n",
       "dtype: int64"
      ]
     },
     "execution_count": 19,
     "metadata": {},
     "output_type": "execute_result"
    }
   ],
   "source": [
    "## Missing information within the dataframe\n",
    "Moviesdf.isnull().sum()"
   ]
  },
  {
   "cell_type": "code",
   "execution_count": 20,
   "id": "85b7e4f7-67a9-471a-b598-51bc979f6b83",
   "metadata": {},
   "outputs": [
    {
     "data": {
      "text/plain": [
       "Name           0\n",
       "Year           0\n",
       "kind           0\n",
       "genre          0\n",
       "imdb_rating    0\n",
       "vote           0\n",
       "country        0\n",
       "language       0\n",
       "cast           0\n",
       "director       0\n",
       "composer       0\n",
       "writer         0\n",
       "runtime        0\n",
       "dtype: int64"
      ]
     },
     "execution_count": 20,
     "metadata": {},
     "output_type": "execute_result"
    }
   ],
   "source": [
    "# Drop rows with missing values\n",
    "Moviesdf = Moviesdf.dropna()\n",
    "Moviesdf.isnull().sum()"
   ]
  },
  {
   "cell_type": "code",
   "execution_count": 21,
   "id": "4e6a4fef-af9a-4899-9db1-1f0405923f4e",
   "metadata": {},
   "outputs": [
    {
     "data": {
      "text/plain": [
       "(4133, 13)"
      ]
     },
     "execution_count": 21,
     "metadata": {},
     "output_type": "execute_result"
    }
   ],
   "source": [
    "Moviesdf.shape"
   ]
  },
  {
   "cell_type": "markdown",
   "id": "4f5fc9da-f390-404a-b419-c37eca85713f",
   "metadata": {},
   "source": [
    "## CANDIDATE GENERATION "
   ]
  },
  {
   "cell_type": "code",
   "execution_count": 22,
   "id": "5d96a141-dd9d-4cf3-9246-3e9c0610fb52",
   "metadata": {},
   "outputs": [],
   "source": [
    "## Libaries necessary for the function \n",
    "from scipy.spatial.distance import euclidean\n",
    "from sklearn.preprocessing import StandardScaler\n",
    "from sklearn.feature_extraction.text import TfidfVectorizer\n",
    "from sklearn.preprocessing import StandardScaler"
   ]
  },
  {
   "cell_type": "code",
   "execution_count": 23,
   "id": "1e876142-9d11-4371-8618-537855e4a7d2",
   "metadata": {},
   "outputs": [],
   "source": [
    "### Helping functions for model \n",
    "## Splits a DataFrame into training and test sets\n",
    "def split_dataframe(df, holdout_fraction=0.2):\n",
    "    total_size = len(df)\n",
    "    test_size = int(total_size * holdout_fraction)\n",
    "    \n",
    "    # Generate a random boolean array to select rows for the test set\n",
    "    test_indices = np.random.choice(total_size, size=test_size, replace=False)\n",
    "    \n",
    "    # Split the DataFrame into training and test sets based on the selected indices\n",
    "    test = df.iloc[test_indices]\n",
    "    train = df.drop(df.index[test_indices])\n",
    "    \n",
    "    return train, test"
   ]
  },
  {
   "cell_type": "code",
   "execution_count": 24,
   "id": "f8769a7a-545e-4963-ae05-e8005456caa3",
   "metadata": {},
   "outputs": [],
   "source": [
    "## the libraries necessary for the euclidean distance calculation \n",
    "# Select relevant columns for similarity calculation (e.g., movie features)\n",
    "selected_columns = ['kind', 'genre', 'country','language']  # Replace with actual feature names\n",
    "features = Moviesdf[selected_columns]"
   ]
  },
  {
   "cell_type": "code",
   "execution_count": 25,
   "id": "5f11f2ea-5d18-4bb9-a53f-7b0541a14845",
   "metadata": {},
   "outputs": [],
   "source": [
    "# Split the data into training and test sets\n",
    "training_data, test_data = split_dataframe(Moviesdf, holdout_fraction=0.2)"
   ]
  },
  {
   "cell_type": "code",
   "execution_count": 26,
   "id": "b0fd9d1c-bc7b-4d4a-a419-2cc494931f86",
   "metadata": {},
   "outputs": [],
   "source": [
    "def euclidean_similarity_generator(training_data, features, test_data, k=5):\n",
    "    # Select features for similarity calculation\n",
    "    training_features = training_data[features]\n",
    "    test_features = test_data[features]\n",
    "    print(test_features.shape)\n",
    "    # Combine categorical features into a single text column\n",
    "    training_data['combined_features'] = training_features.apply(lambda x: ' '.join(x), axis=1)\n",
    "    test_data['combined_features'] = test_features.apply(lambda x: ' '.join(x), axis=1)\n",
    "    \n",
    "    # TF-IDF encoding\n",
    "    vectorizer = TfidfVectorizer()\n",
    "    training_matrix = vectorizer.fit_transform(training_data['combined_features'])\n",
    "    test_matrix = vectorizer.transform(test_data['combined_features'])\n",
    "    \n",
    "    # Standardize the encoded features\n",
    "    scaler = StandardScaler(with_mean=False)\n",
    "    training_features = scaler.fit_transform(training_matrix)\n",
    "    test_features = scaler.transform(test_matrix)\n",
    "    print(training_features.shape)\n",
    "    print(test_features.shape)\n",
    "  \n",
    "    # Calculate pairwise distances between training and test features\n",
    "    distances = []\n",
    "    for i in range(test_features.shape[0]):\n",
    "        test_movie = test_features[i]\n",
    "        print(test_movie)\n",
    "        movie_distances = []\n",
    "        for j in range(training_features.shape[0]):\n",
    "            training_movie = training_features[j]\n",
    "            print(training_movie)\n",
    "            break\n",
    "            distance = euclidean(test_movie, training_movie)\n",
    "            movie_distances.append((distance, j))\n",
    "        break\n",
    "        distances.append(movie_distances)\n",
    "    \n",
    "    # Sort distances and retrieve indices of most similar movies\n",
    "    similar_movies_indices = []\n",
    "    for movie_distances in distances:\n",
    "        movie_distances.sort()\n",
    "        indices = [index for _, index in movie_distances[:k]]\n",
    "        similar_movies_indices.append(indices)\n",
    "    \n",
    "    # Get similar movies' information from training data\n",
    "    similar_movies = [training_data.iloc[indices] for indices in similar_movies_indices]\n",
    "    \n",
    "    return similar_movies"
   ]
  },
  {
   "cell_type": "code",
   "execution_count": 27,
   "id": "6bdf177c-ec6e-4433-bb5c-58843f558406",
   "metadata": {},
   "outputs": [
    {
     "name": "stdout",
     "output_type": "stream",
     "text": [
      "(826, 4)\n"
     ]
    },
    {
     "name": "stderr",
     "output_type": "stream",
     "text": [
      "/tmp/ipykernel_2771071/2192058331.py:8: SettingWithCopyWarning: \n",
      "A value is trying to be set on a copy of a slice from a DataFrame.\n",
      "Try using .loc[row_indexer,col_indexer] = value instead\n",
      "\n",
      "See the caveats in the documentation: https://pandas.pydata.org/pandas-docs/stable/user_guide/indexing.html#returning-a-view-versus-a-copy\n",
      "  test_data['combined_features'] = test_features.apply(lambda x: ' '.join(x), axis=1)\n"
     ]
    },
    {
     "name": "stdout",
     "output_type": "stream",
     "text": [
      "(3307, 249)\n",
      "(826, 249)\n",
      "  (0, 147)\t2.088466750180824\n",
      "  (0, 134)\t6.888511502947089\n",
      "  (0, 119)\t4.764799512537483\n",
      "  (0, 93)\t4.764799512537483\n",
      "  (0, 55)\t1.396605824170687\n",
      "  (0, 34)\t5.010390106668558\n",
      "  (0, 2)\t2.0275745684814726\n",
      "  (0, 62)\t1.0870544352684415\n",
      "  (0, 211)\t0.9623720398494304\n",
      "  (0, 215)\t11.833890552459028\n",
      "  (0, 184)\t16.287064205774314\n",
      "  (0, 116)\t1.5992993752425746\n",
      "  (0, 234)\t1.8702167396476626\n",
      "  (0, 224)\t1.4249701651632234\n",
      "  (0, 44)\t1.6677090291488188\n",
      "  (0, 41)\t1.1515963616699496\n",
      "  (0, 2)\t1.5464573024290815\n",
      "  (0, 147)\t1.5929005556211582\n",
      "  (0, 237)\t2.0614969967069974\n"
     ]
    }
   ],
   "source": [
    "# Generate similar movies for test data\n",
    "# Print the similar movies for each test sample\n",
    "similar_movies = euclidean_similarity_generator(training_data, selected_columns, test_data, k=5)\n",
    "#for i, similar_movie_set in enumerate(similar_movies):\n",
    "    #print(f\"Similar movies for test sample {i + 1}:\")\n",
    "    #print(similar_movie_set)\n",
    "    #print()"
   ]
  },
  {
   "cell_type": "code",
   "execution_count": null,
   "id": "33a74b9f-4bdc-4268-9e71-e8b65ac469e1",
   "metadata": {},
   "outputs": [],
   "source": []
  },
  {
   "cell_type": "code",
   "execution_count": null,
   "id": "cc52611d-58b4-4744-9ae3-b5fbac47b5bb",
   "metadata": {},
   "outputs": [],
   "source": []
  }
 ],
 "metadata": {
  "kernelspec": {
   "display_name": "DS320 (Python3.10)",
   "language": "python",
   "name": "ds320"
  },
  "language_info": {
   "codemirror_mode": {
    "name": "ipython",
    "version": 3
   },
   "file_extension": ".py",
   "mimetype": "text/x-python",
   "name": "python",
   "nbconvert_exporter": "python",
   "pygments_lexer": "ipython3",
   "version": "3.10.8"
  }
 },
 "nbformat": 4,
 "nbformat_minor": 5
}
