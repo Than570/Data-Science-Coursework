{
 "cells": [
  {
   "cell_type": "markdown",
   "id": "1600d7f5-6c21-48d1-904b-6342d743d0cf",
   "metadata": {},
   "source": [
    "# Project Report "
   ]
  },
  {
   "cell_type": "markdown",
   "id": "50423087-0eed-44dd-bcff-c237d5c604d1",
   "metadata": {},
   "source": [
    "## Explanatory Data Analysis of Netflix TV shows"
   ]
  },
  {
   "cell_type": "code",
   "execution_count": 143,
   "id": "1ac9c9cf-4932-4638-a255-70f3ffd15b84",
   "metadata": {},
   "outputs": [],
   "source": [
    "import pandas as pd\n",
    "import re\n",
    "import os\n",
    "import time\n",
    "import matplotlib.pyplot as plt\n",
    "import numpy as np\n",
    "pd.options.display.max_columns = 80"
   ]
  },
  {
   "cell_type": "code",
   "execution_count": 144,
   "id": "b28e5d1f-9757-4ddb-a4cc-b57787c00127",
   "metadata": {},
   "outputs": [
    {
     "name": "stdout",
     "output_type": "stream",
     "text": [
      "(17770, 3)\n"
     ]
    },
    {
     "data": {
      "text/html": [
       "<div>\n",
       "<style scoped>\n",
       "    .dataframe tbody tr th:only-of-type {\n",
       "        vertical-align: middle;\n",
       "    }\n",
       "\n",
       "    .dataframe tbody tr th {\n",
       "        vertical-align: top;\n",
       "    }\n",
       "\n",
       "    .dataframe thead th {\n",
       "        text-align: right;\n",
       "    }\n",
       "</style>\n",
       "<table border=\"1\" class=\"dataframe\">\n",
       "  <thead>\n",
       "    <tr style=\"text-align: right;\">\n",
       "      <th></th>\n",
       "      <th>Movie_ID</th>\n",
       "      <th>Year</th>\n",
       "      <th>Name</th>\n",
       "    </tr>\n",
       "  </thead>\n",
       "  <tbody>\n",
       "    <tr>\n",
       "      <th>0</th>\n",
       "      <td>1</td>\n",
       "      <td>2003</td>\n",
       "      <td>Dinosaur Planet</td>\n",
       "    </tr>\n",
       "    <tr>\n",
       "      <th>1</th>\n",
       "      <td>2</td>\n",
       "      <td>2004</td>\n",
       "      <td>Isle of Man TT 2004 Review</td>\n",
       "    </tr>\n",
       "    <tr>\n",
       "      <th>2</th>\n",
       "      <td>3</td>\n",
       "      <td>1997</td>\n",
       "      <td>Character</td>\n",
       "    </tr>\n",
       "    <tr>\n",
       "      <th>3</th>\n",
       "      <td>4</td>\n",
       "      <td>1994</td>\n",
       "      <td>Paula Abdul's Get Up &amp; Dance</td>\n",
       "    </tr>\n",
       "    <tr>\n",
       "      <th>4</th>\n",
       "      <td>5</td>\n",
       "      <td>2004</td>\n",
       "      <td>The Rise and Fall of ECW</td>\n",
       "    </tr>\n",
       "  </tbody>\n",
       "</table>\n",
       "</div>"
      ],
      "text/plain": [
       "   Movie_ID  Year                          Name\n",
       "0         1  2003               Dinosaur Planet\n",
       "1         2  2004    Isle of Man TT 2004 Review\n",
       "2         3  1997                     Character\n",
       "3         4  1994  Paula Abdul's Get Up & Dance\n",
       "4         5  2004      The Rise and Fall of ECW"
      ]
     },
     "execution_count": 144,
     "metadata": {},
     "output_type": "execute_result"
    }
   ],
   "source": [
    "netflix_shows = pd.read_csv (\"Netflix_Dataset_Movie.csv\")\n",
    "print (netflix_shows.shape)  # Shows number of rows and columns\n",
    "pd.DataFrame.head (netflix_shows)"
   ]
  },
  {
   "cell_type": "code",
   "execution_count": 150,
   "id": "4329a6ee-caaa-4e26-93db-0602a44535c1",
   "metadata": {},
   "outputs": [
    {
     "data": {
      "text/plain": [
       "(17770, 3)"
      ]
     },
     "execution_count": 150,
     "metadata": {},
     "output_type": "execute_result"
    }
   ],
   "source": [
    "netflix_shows .shape"
   ]
  },
  {
   "cell_type": "code",
   "execution_count": 145,
   "id": "338250ce-e12e-4d81-8cbd-3445d99d0acd",
   "metadata": {},
   "outputs": [
    {
     "name": "stdout",
     "output_type": "stream",
     "text": [
      "(17337458, 3)\n"
     ]
    },
    {
     "data": {
      "text/html": [
       "<div>\n",
       "<style scoped>\n",
       "    .dataframe tbody tr th:only-of-type {\n",
       "        vertical-align: middle;\n",
       "    }\n",
       "\n",
       "    .dataframe tbody tr th {\n",
       "        vertical-align: top;\n",
       "    }\n",
       "\n",
       "    .dataframe thead th {\n",
       "        text-align: right;\n",
       "    }\n",
       "</style>\n",
       "<table border=\"1\" class=\"dataframe\">\n",
       "  <thead>\n",
       "    <tr style=\"text-align: right;\">\n",
       "      <th></th>\n",
       "      <th>User_ID</th>\n",
       "      <th>Rating</th>\n",
       "      <th>Movie_ID</th>\n",
       "    </tr>\n",
       "  </thead>\n",
       "  <tbody>\n",
       "    <tr>\n",
       "      <th>0</th>\n",
       "      <td>712664</td>\n",
       "      <td>5</td>\n",
       "      <td>3</td>\n",
       "    </tr>\n",
       "    <tr>\n",
       "      <th>1</th>\n",
       "      <td>1331154</td>\n",
       "      <td>4</td>\n",
       "      <td>3</td>\n",
       "    </tr>\n",
       "    <tr>\n",
       "      <th>2</th>\n",
       "      <td>2632461</td>\n",
       "      <td>3</td>\n",
       "      <td>3</td>\n",
       "    </tr>\n",
       "    <tr>\n",
       "      <th>3</th>\n",
       "      <td>44937</td>\n",
       "      <td>5</td>\n",
       "      <td>3</td>\n",
       "    </tr>\n",
       "    <tr>\n",
       "      <th>4</th>\n",
       "      <td>656399</td>\n",
       "      <td>4</td>\n",
       "      <td>3</td>\n",
       "    </tr>\n",
       "  </tbody>\n",
       "</table>\n",
       "</div>"
      ],
      "text/plain": [
       "   User_ID  Rating  Movie_ID\n",
       "0   712664       5         3\n",
       "1  1331154       4         3\n",
       "2  2632461       3         3\n",
       "3    44937       5         3\n",
       "4   656399       4         3"
      ]
     },
     "execution_count": 145,
     "metadata": {},
     "output_type": "execute_result"
    }
   ],
   "source": [
    "Ratings = pd.read_csv (\"Netflix_Dataset_Rating.csv\")\n",
    "print (Ratings.shape)  # Shows number of rows and columns\n",
    "Ratings.head()"
   ]
  },
  {
   "cell_type": "code",
   "execution_count": 146,
   "id": "ea43f83e-7f2b-472a-a482-85ec8dec2a7d",
   "metadata": {},
   "outputs": [
    {
     "data": {
      "text/html": [
       "<div>\n",
       "<style scoped>\n",
       "    .dataframe tbody tr th:only-of-type {\n",
       "        vertical-align: middle;\n",
       "    }\n",
       "\n",
       "    .dataframe tbody tr th {\n",
       "        vertical-align: top;\n",
       "    }\n",
       "\n",
       "    .dataframe thead th {\n",
       "        text-align: right;\n",
       "    }\n",
       "</style>\n",
       "<table border=\"1\" class=\"dataframe\">\n",
       "  <thead>\n",
       "    <tr style=\"text-align: right;\">\n",
       "      <th></th>\n",
       "      <th>Movie_ID</th>\n",
       "      <th>Year</th>\n",
       "      <th>Name</th>\n",
       "      <th>User_ID</th>\n",
       "      <th>Rating</th>\n",
       "    </tr>\n",
       "  </thead>\n",
       "  <tbody>\n",
       "    <tr>\n",
       "      <th>0</th>\n",
       "      <td>3</td>\n",
       "      <td>1997</td>\n",
       "      <td>Character</td>\n",
       "      <td>712664</td>\n",
       "      <td>5</td>\n",
       "    </tr>\n",
       "    <tr>\n",
       "      <th>1</th>\n",
       "      <td>3</td>\n",
       "      <td>1997</td>\n",
       "      <td>Character</td>\n",
       "      <td>1331154</td>\n",
       "      <td>4</td>\n",
       "    </tr>\n",
       "    <tr>\n",
       "      <th>2</th>\n",
       "      <td>3</td>\n",
       "      <td>1997</td>\n",
       "      <td>Character</td>\n",
       "      <td>2632461</td>\n",
       "      <td>3</td>\n",
       "    </tr>\n",
       "    <tr>\n",
       "      <th>3</th>\n",
       "      <td>3</td>\n",
       "      <td>1997</td>\n",
       "      <td>Character</td>\n",
       "      <td>44937</td>\n",
       "      <td>5</td>\n",
       "    </tr>\n",
       "    <tr>\n",
       "      <th>4</th>\n",
       "      <td>3</td>\n",
       "      <td>1997</td>\n",
       "      <td>Character</td>\n",
       "      <td>656399</td>\n",
       "      <td>4</td>\n",
       "    </tr>\n",
       "  </tbody>\n",
       "</table>\n",
       "</div>"
      ],
      "text/plain": [
       "   Movie_ID  Year       Name  User_ID  Rating\n",
       "0         3  1997  Character   712664       5\n",
       "1         3  1997  Character  1331154       4\n",
       "2         3  1997  Character  2632461       3\n",
       "3         3  1997  Character    44937       5\n",
       "4         3  1997  Character   656399       4"
      ]
     },
     "execution_count": 146,
     "metadata": {},
     "output_type": "execute_result"
    }
   ],
   "source": [
    "Netflix_Shows_Ratings= netflix_shows.merge(Ratings,on='Movie_ID')\n",
    "Netflix_Shows_Ratings.head()"
   ]
  },
  {
   "cell_type": "code",
   "execution_count": 147,
   "id": "aa719d61-b106-4c51-87c6-72c5e43428e0",
   "metadata": {},
   "outputs": [
    {
     "name": "stdout",
     "output_type": "stream",
     "text": [
      "(1998, 8)\n"
     ]
    },
    {
     "data": {
      "text/html": [
       "<div>\n",
       "<style scoped>\n",
       "    .dataframe tbody tr th:only-of-type {\n",
       "        vertical-align: middle;\n",
       "    }\n",
       "\n",
       "    .dataframe tbody tr th {\n",
       "        vertical-align: top;\n",
       "    }\n",
       "\n",
       "    .dataframe thead th {\n",
       "        text-align: right;\n",
       "    }\n",
       "</style>\n",
       "<table border=\"1\" class=\"dataframe\">\n",
       "  <thead>\n",
       "    <tr style=\"text-align: right;\">\n",
       "      <th></th>\n",
       "      <th>User_ID</th>\n",
       "      <th>movie_desrciption</th>\n",
       "      <th>Rating</th>\n",
       "      <th>genres</th>\n",
       "      <th>production_companies</th>\n",
       "      <th>production_countries</th>\n",
       "      <th>release_year</th>\n",
       "      <th>overview</th>\n",
       "    </tr>\n",
       "  </thead>\n",
       "  <tbody>\n",
       "    <tr>\n",
       "      <th>0</th>\n",
       "      <td>93787</td>\n",
       "      <td>gods+and+monsters+1998</td>\n",
       "      <td>4</td>\n",
       "      <td>Drama</td>\n",
       "      <td>Lions Gate Films Flashpoint (I) Showtime Networks</td>\n",
       "      <td>United Kingdom United States of America</td>\n",
       "      <td>1998</td>\n",
       "      <td>It's 1957, and Whale's heyday as the director ...</td>\n",
       "    </tr>\n",
       "    <tr>\n",
       "      <th>1</th>\n",
       "      <td>197858</td>\n",
       "      <td>stargate+1994</td>\n",
       "      <td>3</td>\n",
       "      <td>Action Adventure Science Fiction</td>\n",
       "      <td>Centropolis Entertainment StudioCanal Carolco ...</td>\n",
       "      <td>France United States of America</td>\n",
       "      <td>1994</td>\n",
       "      <td>An interstellar teleportation device, found in...</td>\n",
       "    </tr>\n",
       "    <tr>\n",
       "      <th>2</th>\n",
       "      <td>76204</td>\n",
       "      <td>toy+story+1995</td>\n",
       "      <td>3</td>\n",
       "      <td>Animation Comedy Family</td>\n",
       "      <td>Pixar Animation Studios</td>\n",
       "      <td>United States of America</td>\n",
       "      <td>1995</td>\n",
       "      <td>Led by Woody, Andy's toys live happily in his ...</td>\n",
       "    </tr>\n",
       "    <tr>\n",
       "      <th>3</th>\n",
       "      <td>667201</td>\n",
       "      <td>friends+with+benefits+2011</td>\n",
       "      <td>4</td>\n",
       "      <td>Romance Comedy</td>\n",
       "      <td>Castle Rock Entertainment Screen Gems Olive Br...</td>\n",
       "      <td>United States of America</td>\n",
       "      <td>2011</td>\n",
       "      <td>Jamie is a New York-based executive recruiter ...</td>\n",
       "    </tr>\n",
       "    <tr>\n",
       "      <th>4</th>\n",
       "      <td>336750</td>\n",
       "      <td>sleeper+1973</td>\n",
       "      <td>4</td>\n",
       "      <td>Comedy Romance Science Fiction</td>\n",
       "      <td>Rollins-Joffe Productions</td>\n",
       "      <td>United States of America</td>\n",
       "      <td>1973</td>\n",
       "      <td>Miles Monroe, a clarinet-playing health food s...</td>\n",
       "    </tr>\n",
       "  </tbody>\n",
       "</table>\n",
       "</div>"
      ],
      "text/plain": [
       "   User_ID           movie_desrciption  Rating  \\\n",
       "0    93787      gods+and+monsters+1998       4   \n",
       "1   197858               stargate+1994       3   \n",
       "2    76204              toy+story+1995       3   \n",
       "3   667201  friends+with+benefits+2011       4   \n",
       "4   336750                sleeper+1973       4   \n",
       "\n",
       "                             genres  \\\n",
       "0                             Drama   \n",
       "1  Action Adventure Science Fiction   \n",
       "2           Animation Comedy Family   \n",
       "3                    Romance Comedy   \n",
       "4    Comedy Romance Science Fiction   \n",
       "\n",
       "                                production_companies  \\\n",
       "0  Lions Gate Films Flashpoint (I) Showtime Networks   \n",
       "1  Centropolis Entertainment StudioCanal Carolco ...   \n",
       "2                            Pixar Animation Studios   \n",
       "3  Castle Rock Entertainment Screen Gems Olive Br...   \n",
       "4                          Rollins-Joffe Productions   \n",
       "\n",
       "                      production_countries  release_year  \\\n",
       "0  United Kingdom United States of America          1998   \n",
       "1          France United States of America          1994   \n",
       "2                 United States of America          1995   \n",
       "3                 United States of America          2011   \n",
       "4                 United States of America          1973   \n",
       "\n",
       "                                            overview  \n",
       "0  It's 1957, and Whale's heyday as the director ...  \n",
       "1  An interstellar teleportation device, found in...  \n",
       "2  Led by Woody, Andy's toys live happily in his ...  \n",
       "3  Jamie is a New York-based executive recruiter ...  \n",
       "4  Miles Monroe, a clarinet-playing health food s...  "
      ]
     },
     "execution_count": 147,
     "metadata": {},
     "output_type": "execute_result"
    }
   ],
   "source": [
    "User_Ratings =  pd.read_csv (\"ratings_sample.csv\")\n",
    "print (User_Ratings.shape)  # Shows number of rows and columns\n",
    "User_Ratings.head()"
   ]
  },
  {
   "cell_type": "code",
   "execution_count": 148,
   "id": "9ad740e2-c6aa-48b6-978f-4d79838df1c6",
   "metadata": {},
   "outputs": [
    {
     "data": {
      "text/html": [
       "<div>\n",
       "<style scoped>\n",
       "    .dataframe tbody tr th:only-of-type {\n",
       "        vertical-align: middle;\n",
       "    }\n",
       "\n",
       "    .dataframe tbody tr th {\n",
       "        vertical-align: top;\n",
       "    }\n",
       "\n",
       "    .dataframe thead th {\n",
       "        text-align: right;\n",
       "    }\n",
       "</style>\n",
       "<table border=\"1\" class=\"dataframe\">\n",
       "  <thead>\n",
       "    <tr style=\"text-align: right;\">\n",
       "      <th></th>\n",
       "      <th>Movie_ID</th>\n",
       "      <th>Year</th>\n",
       "      <th>Name</th>\n",
       "      <th>User_ID</th>\n",
       "      <th>Rating</th>\n",
       "      <th>movie_desrciption</th>\n",
       "      <th>genres</th>\n",
       "      <th>production_companies</th>\n",
       "      <th>production_countries</th>\n",
       "      <th>release_year</th>\n",
       "      <th>overview</th>\n",
       "    </tr>\n",
       "  </thead>\n",
       "  <tbody>\n",
       "    <tr>\n",
       "      <th>0</th>\n",
       "      <td>3</td>\n",
       "      <td>1997</td>\n",
       "      <td>Character</td>\n",
       "      <td>154368</td>\n",
       "      <td>3</td>\n",
       "      <td>the+island+of+dr.+moreau+1996</td>\n",
       "      <td>Fantasy Horror Science Fiction</td>\n",
       "      <td>New Line Cinema</td>\n",
       "      <td>United States of America</td>\n",
       "      <td>1996</td>\n",
       "      <td>A shipwrecked sailor stumbles upon a mysteriou...</td>\n",
       "    </tr>\n",
       "    <tr>\n",
       "      <th>1</th>\n",
       "      <td>108</td>\n",
       "      <td>2004</td>\n",
       "      <td>Spartan</td>\n",
       "      <td>154368</td>\n",
       "      <td>3</td>\n",
       "      <td>the+island+of+dr.+moreau+1996</td>\n",
       "      <td>Fantasy Horror Science Fiction</td>\n",
       "      <td>New Line Cinema</td>\n",
       "      <td>United States of America</td>\n",
       "      <td>1996</td>\n",
       "      <td>A shipwrecked sailor stumbles upon a mysteriou...</td>\n",
       "    </tr>\n",
       "    <tr>\n",
       "      <th>2</th>\n",
       "      <td>406</td>\n",
       "      <td>2005</td>\n",
       "      <td>Hostage</td>\n",
       "      <td>154368</td>\n",
       "      <td>3</td>\n",
       "      <td>the+island+of+dr.+moreau+1996</td>\n",
       "      <td>Fantasy Horror Science Fiction</td>\n",
       "      <td>New Line Cinema</td>\n",
       "      <td>United States of America</td>\n",
       "      <td>1996</td>\n",
       "      <td>A shipwrecked sailor stumbles upon a mysteriou...</td>\n",
       "    </tr>\n",
       "    <tr>\n",
       "      <th>3</th>\n",
       "      <td>424</td>\n",
       "      <td>1998</td>\n",
       "      <td>Happiness</td>\n",
       "      <td>154368</td>\n",
       "      <td>3</td>\n",
       "      <td>the+island+of+dr.+moreau+1996</td>\n",
       "      <td>Fantasy Horror Science Fiction</td>\n",
       "      <td>New Line Cinema</td>\n",
       "      <td>United States of America</td>\n",
       "      <td>1996</td>\n",
       "      <td>A shipwrecked sailor stumbles upon a mysteriou...</td>\n",
       "    </tr>\n",
       "    <tr>\n",
       "      <th>4</th>\n",
       "      <td>645</td>\n",
       "      <td>2004</td>\n",
       "      <td>Dear Frankie</td>\n",
       "      <td>154368</td>\n",
       "      <td>3</td>\n",
       "      <td>the+island+of+dr.+moreau+1996</td>\n",
       "      <td>Fantasy Horror Science Fiction</td>\n",
       "      <td>New Line Cinema</td>\n",
       "      <td>United States of America</td>\n",
       "      <td>1996</td>\n",
       "      <td>A shipwrecked sailor stumbles upon a mysteriou...</td>\n",
       "    </tr>\n",
       "    <tr>\n",
       "      <th>...</th>\n",
       "      <td>...</td>\n",
       "      <td>...</td>\n",
       "      <td>...</td>\n",
       "      <td>...</td>\n",
       "      <td>...</td>\n",
       "      <td>...</td>\n",
       "      <td>...</td>\n",
       "      <td>...</td>\n",
       "      <td>...</td>\n",
       "      <td>...</td>\n",
       "      <td>...</td>\n",
       "    </tr>\n",
       "    <tr>\n",
       "      <th>3380</th>\n",
       "      <td>3079</td>\n",
       "      <td>1994</td>\n",
       "      <td>The Lion King: Special Edition</td>\n",
       "      <td>363550</td>\n",
       "      <td>4</td>\n",
       "      <td>g.i.+jane+1997</td>\n",
       "      <td>Action Drama</td>\n",
       "      <td>Caravan Pictures Hollywood Pictures First Inde...</td>\n",
       "      <td>United States of America</td>\n",
       "      <td>1997</td>\n",
       "      <td>A female Senator succeeds in enrolling a woman...</td>\n",
       "    </tr>\n",
       "    <tr>\n",
       "      <th>3381</th>\n",
       "      <td>2254</td>\n",
       "      <td>2003</td>\n",
       "      <td>A Guy Thing</td>\n",
       "      <td>735956</td>\n",
       "      <td>1</td>\n",
       "      <td>doctor+dolittle+1998</td>\n",
       "      <td>Comedy Family Fantasy</td>\n",
       "      <td>Twentieth Century Fox Film Corporation Joseph ...</td>\n",
       "      <td>United States of America</td>\n",
       "      <td>1998</td>\n",
       "      <td>A successful physician and devoted family man,...</td>\n",
       "    </tr>\n",
       "    <tr>\n",
       "      <th>3382</th>\n",
       "      <td>2578</td>\n",
       "      <td>2001</td>\n",
       "      <td>Y Tu Mama Tambien</td>\n",
       "      <td>735956</td>\n",
       "      <td>1</td>\n",
       "      <td>doctor+dolittle+1998</td>\n",
       "      <td>Comedy Family Fantasy</td>\n",
       "      <td>Twentieth Century Fox Film Corporation Joseph ...</td>\n",
       "      <td>United States of America</td>\n",
       "      <td>1998</td>\n",
       "      <td>A successful physician and devoted family man,...</td>\n",
       "    </tr>\n",
       "    <tr>\n",
       "      <th>3383</th>\n",
       "      <td>3347</td>\n",
       "      <td>2003</td>\n",
       "      <td>Honey</td>\n",
       "      <td>735956</td>\n",
       "      <td>1</td>\n",
       "      <td>doctor+dolittle+1998</td>\n",
       "      <td>Comedy Family Fantasy</td>\n",
       "      <td>Twentieth Century Fox Film Corporation Joseph ...</td>\n",
       "      <td>United States of America</td>\n",
       "      <td>1998</td>\n",
       "      <td>A successful physician and devoted family man,...</td>\n",
       "    </tr>\n",
       "    <tr>\n",
       "      <th>3384</th>\n",
       "      <td>3900</td>\n",
       "      <td>2000</td>\n",
       "      <td>Amores Perros</td>\n",
       "      <td>735956</td>\n",
       "      <td>1</td>\n",
       "      <td>doctor+dolittle+1998</td>\n",
       "      <td>Comedy Family Fantasy</td>\n",
       "      <td>Twentieth Century Fox Film Corporation Joseph ...</td>\n",
       "      <td>United States of America</td>\n",
       "      <td>1998</td>\n",
       "      <td>A successful physician and devoted family man,...</td>\n",
       "    </tr>\n",
       "  </tbody>\n",
       "</table>\n",
       "<p>3385 rows × 11 columns</p>\n",
       "</div>"
      ],
      "text/plain": [
       "      Movie_ID  Year                            Name  User_ID  Rating  \\\n",
       "0            3  1997                       Character   154368       3   \n",
       "1          108  2004                         Spartan   154368       3   \n",
       "2          406  2005                         Hostage   154368       3   \n",
       "3          424  1998                       Happiness   154368       3   \n",
       "4          645  2004                    Dear Frankie   154368       3   \n",
       "...        ...   ...                             ...      ...     ...   \n",
       "3380      3079  1994  The Lion King: Special Edition   363550       4   \n",
       "3381      2254  2003                     A Guy Thing   735956       1   \n",
       "3382      2578  2001               Y Tu Mama Tambien   735956       1   \n",
       "3383      3347  2003                           Honey   735956       1   \n",
       "3384      3900  2000                   Amores Perros   735956       1   \n",
       "\n",
       "                  movie_desrciption                          genres  \\\n",
       "0     the+island+of+dr.+moreau+1996  Fantasy Horror Science Fiction   \n",
       "1     the+island+of+dr.+moreau+1996  Fantasy Horror Science Fiction   \n",
       "2     the+island+of+dr.+moreau+1996  Fantasy Horror Science Fiction   \n",
       "3     the+island+of+dr.+moreau+1996  Fantasy Horror Science Fiction   \n",
       "4     the+island+of+dr.+moreau+1996  Fantasy Horror Science Fiction   \n",
       "...                             ...                             ...   \n",
       "3380                 g.i.+jane+1997                    Action Drama   \n",
       "3381           doctor+dolittle+1998           Comedy Family Fantasy   \n",
       "3382           doctor+dolittle+1998           Comedy Family Fantasy   \n",
       "3383           doctor+dolittle+1998           Comedy Family Fantasy   \n",
       "3384           doctor+dolittle+1998           Comedy Family Fantasy   \n",
       "\n",
       "                                   production_companies  \\\n",
       "0                                       New Line Cinema   \n",
       "1                                       New Line Cinema   \n",
       "2                                       New Line Cinema   \n",
       "3                                       New Line Cinema   \n",
       "4                                       New Line Cinema   \n",
       "...                                                 ...   \n",
       "3380  Caravan Pictures Hollywood Pictures First Inde...   \n",
       "3381  Twentieth Century Fox Film Corporation Joseph ...   \n",
       "3382  Twentieth Century Fox Film Corporation Joseph ...   \n",
       "3383  Twentieth Century Fox Film Corporation Joseph ...   \n",
       "3384  Twentieth Century Fox Film Corporation Joseph ...   \n",
       "\n",
       "          production_countries  release_year  \\\n",
       "0     United States of America          1996   \n",
       "1     United States of America          1996   \n",
       "2     United States of America          1996   \n",
       "3     United States of America          1996   \n",
       "4     United States of America          1996   \n",
       "...                        ...           ...   \n",
       "3380  United States of America          1997   \n",
       "3381  United States of America          1998   \n",
       "3382  United States of America          1998   \n",
       "3383  United States of America          1998   \n",
       "3384  United States of America          1998   \n",
       "\n",
       "                                               overview  \n",
       "0     A shipwrecked sailor stumbles upon a mysteriou...  \n",
       "1     A shipwrecked sailor stumbles upon a mysteriou...  \n",
       "2     A shipwrecked sailor stumbles upon a mysteriou...  \n",
       "3     A shipwrecked sailor stumbles upon a mysteriou...  \n",
       "4     A shipwrecked sailor stumbles upon a mysteriou...  \n",
       "...                                                 ...  \n",
       "3380  A female Senator succeeds in enrolling a woman...  \n",
       "3381  A successful physician and devoted family man,...  \n",
       "3382  A successful physician and devoted family man,...  \n",
       "3383  A successful physician and devoted family man,...  \n",
       "3384  A successful physician and devoted family man,...  \n",
       "\n",
       "[3385 rows x 11 columns]"
      ]
     },
     "execution_count": 148,
     "metadata": {},
     "output_type": "execute_result"
    }
   ],
   "source": [
    "Netflix_Shows_Ratings.merge(User_Ratings, left_on =['User_ID','Rating'], right_on =['User_ID','Rating'])"
   ]
  },
  {
   "cell_type": "code",
   "execution_count": 108,
   "id": "3d3b7d3d-d04d-41ff-aa50-73db54566443",
   "metadata": {},
   "outputs": [
    {
     "data": {
      "text/html": [
       "<div>\n",
       "<style scoped>\n",
       "    .dataframe tbody tr th:only-of-type {\n",
       "        vertical-align: middle;\n",
       "    }\n",
       "\n",
       "    .dataframe tbody tr th {\n",
       "        vertical-align: top;\n",
       "    }\n",
       "\n",
       "    .dataframe thead th {\n",
       "        text-align: right;\n",
       "    }\n",
       "</style>\n",
       "<table border=\"1\" class=\"dataframe\">\n",
       "  <thead>\n",
       "    <tr style=\"text-align: right;\">\n",
       "      <th></th>\n",
       "      <th>User_ID</th>\n",
       "      <th>movie_desrciption</th>\n",
       "      <th>Rating</th>\n",
       "      <th>genres</th>\n",
       "      <th>production_companies</th>\n",
       "      <th>production_countries</th>\n",
       "      <th>release_year</th>\n",
       "      <th>overview</th>\n",
       "      <th>Movie_ID</th>\n",
       "      <th>Year</th>\n",
       "      <th>Name</th>\n",
       "    </tr>\n",
       "  </thead>\n",
       "  <tbody>\n",
       "    <tr>\n",
       "      <th>0</th>\n",
       "      <td>363550</td>\n",
       "      <td>g.i.+jane+1997</td>\n",
       "      <td>4</td>\n",
       "      <td>Action Drama</td>\n",
       "      <td>Caravan Pictures Hollywood Pictures First Inde...</td>\n",
       "      <td>United States of America</td>\n",
       "      <td>1997</td>\n",
       "      <td>A female Senator succeeds in enrolling a woman...</td>\n",
       "      <td>2171</td>\n",
       "      <td>2003</td>\n",
       "      <td>Brother Bear (Theatrical Widescreen Version)</td>\n",
       "    </tr>\n",
       "    <tr>\n",
       "      <th>1</th>\n",
       "      <td>363550</td>\n",
       "      <td>g.i.+jane+1997</td>\n",
       "      <td>4</td>\n",
       "      <td>Action Drama</td>\n",
       "      <td>Caravan Pictures Hollywood Pictures First Inde...</td>\n",
       "      <td>United States of America</td>\n",
       "      <td>1997</td>\n",
       "      <td>A female Senator succeeds in enrolling a woman...</td>\n",
       "      <td>3079</td>\n",
       "      <td>1994</td>\n",
       "      <td>The Lion King: Special Edition</td>\n",
       "    </tr>\n",
       "    <tr>\n",
       "      <th>2</th>\n",
       "      <td>128021</td>\n",
       "      <td>judge+dredd+1995</td>\n",
       "      <td>4</td>\n",
       "      <td>Science Fiction</td>\n",
       "      <td>Hollywood Pictures Cinergi Pictures Entertainment</td>\n",
       "      <td>United States of America</td>\n",
       "      <td>1995</td>\n",
       "      <td>In a dystopian future, Dredd, the most famous ...</td>\n",
       "      <td>241</td>\n",
       "      <td>1959</td>\n",
       "      <td>North by Northwest</td>\n",
       "    </tr>\n",
       "    <tr>\n",
       "      <th>3</th>\n",
       "      <td>128021</td>\n",
       "      <td>judge+dredd+1995</td>\n",
       "      <td>4</td>\n",
       "      <td>Science Fiction</td>\n",
       "      <td>Hollywood Pictures Cinergi Pictures Entertainment</td>\n",
       "      <td>United States of America</td>\n",
       "      <td>1995</td>\n",
       "      <td>In a dystopian future, Dredd, the most famous ...</td>\n",
       "      <td>313</td>\n",
       "      <td>2000</td>\n",
       "      <td>Pay It Forward</td>\n",
       "    </tr>\n",
       "    <tr>\n",
       "      <th>4</th>\n",
       "      <td>128021</td>\n",
       "      <td>judge+dredd+1995</td>\n",
       "      <td>4</td>\n",
       "      <td>Science Fiction</td>\n",
       "      <td>Hollywood Pictures Cinergi Pictures Entertainment</td>\n",
       "      <td>United States of America</td>\n",
       "      <td>1995</td>\n",
       "      <td>In a dystopian future, Dredd, the most famous ...</td>\n",
       "      <td>329</td>\n",
       "      <td>1999</td>\n",
       "      <td>Dogma</td>\n",
       "    </tr>\n",
       "  </tbody>\n",
       "</table>\n",
       "</div>"
      ],
      "text/plain": [
       "   User_ID movie_desrciption  Rating           genres  \\\n",
       "0   363550    g.i.+jane+1997       4     Action Drama   \n",
       "1   363550    g.i.+jane+1997       4     Action Drama   \n",
       "2   128021  judge+dredd+1995       4  Science Fiction   \n",
       "3   128021  judge+dredd+1995       4  Science Fiction   \n",
       "4   128021  judge+dredd+1995       4  Science Fiction   \n",
       "\n",
       "                                production_companies  \\\n",
       "0  Caravan Pictures Hollywood Pictures First Inde...   \n",
       "1  Caravan Pictures Hollywood Pictures First Inde...   \n",
       "2  Hollywood Pictures Cinergi Pictures Entertainment   \n",
       "3  Hollywood Pictures Cinergi Pictures Entertainment   \n",
       "4  Hollywood Pictures Cinergi Pictures Entertainment   \n",
       "\n",
       "       production_countries  release_year  \\\n",
       "0  United States of America          1997   \n",
       "1  United States of America          1997   \n",
       "2  United States of America          1995   \n",
       "3  United States of America          1995   \n",
       "4  United States of America          1995   \n",
       "\n",
       "                                            overview  Movie_ID  Year  \\\n",
       "0  A female Senator succeeds in enrolling a woman...      2171  2003   \n",
       "1  A female Senator succeeds in enrolling a woman...      3079  1994   \n",
       "2  In a dystopian future, Dredd, the most famous ...       241  1959   \n",
       "3  In a dystopian future, Dredd, the most famous ...       313  2000   \n",
       "4  In a dystopian future, Dredd, the most famous ...       329  1999   \n",
       "\n",
       "                                           Name  \n",
       "0  Brother Bear (Theatrical Widescreen Version)  \n",
       "1                The Lion King: Special Edition  \n",
       "2                            North by Northwest  \n",
       "3                                Pay It Forward  \n",
       "4                                         Dogma  "
      ]
     },
     "execution_count": 108,
     "metadata": {},
     "output_type": "execute_result"
    }
   ],
   "source": [
    "Final_Netflix_UserRatings= User_Ratings.merge(Netflix_Shows_Ratings,on=['Rating','User_ID'])\n",
    "Final_Netflix_UserRatings.head()"
   ]
  },
  {
   "cell_type": "code",
   "execution_count": 139,
   "id": "92ccb35d-8bb5-4712-a8c2-43c74d593dd7",
   "metadata": {},
   "outputs": [
    {
     "data": {
      "text/html": [
       "<div>\n",
       "<style scoped>\n",
       "    .dataframe tbody tr th:only-of-type {\n",
       "        vertical-align: middle;\n",
       "    }\n",
       "\n",
       "    .dataframe tbody tr th {\n",
       "        vertical-align: top;\n",
       "    }\n",
       "\n",
       "    .dataframe thead th {\n",
       "        text-align: right;\n",
       "    }\n",
       "</style>\n",
       "<table border=\"1\" class=\"dataframe\">\n",
       "  <thead>\n",
       "    <tr style=\"text-align: right;\">\n",
       "      <th></th>\n",
       "      <th>User_ID</th>\n",
       "      <th>movie_desrciption</th>\n",
       "      <th>Rating</th>\n",
       "      <th>genres</th>\n",
       "      <th>production_companies</th>\n",
       "      <th>production_countries</th>\n",
       "      <th>release_year</th>\n",
       "      <th>overview</th>\n",
       "      <th>Movie_ID</th>\n",
       "      <th>Year</th>\n",
       "      <th>Name</th>\n",
       "    </tr>\n",
       "  </thead>\n",
       "  <tbody>\n",
       "  </tbody>\n",
       "</table>\n",
       "</div>"
      ],
      "text/plain": [
       "Empty DataFrame\n",
       "Columns: [User_ID, movie_desrciption, Rating, genres, production_companies, production_countries, release_year, overview, Movie_ID, Year, Name]\n",
       "Index: []"
      ]
     },
     "execution_count": 139,
     "metadata": {},
     "output_type": "execute_result"
    }
   ],
   "source": [
    "User_363550 = Final_Netflix_UserRatings[Final_Netflix_UserRatings['User_ID'] == 93787]\n",
    "User_363550.head()"
   ]
  },
  {
   "cell_type": "code",
   "execution_count": 109,
   "id": "376e2f21-db8d-4bc0-8fb8-17916c99600d",
   "metadata": {},
   "outputs": [
    {
     "data": {
      "text/html": [
       "<div>\n",
       "<style scoped>\n",
       "    .dataframe tbody tr th:only-of-type {\n",
       "        vertical-align: middle;\n",
       "    }\n",
       "\n",
       "    .dataframe tbody tr th {\n",
       "        vertical-align: top;\n",
       "    }\n",
       "\n",
       "    .dataframe thead th {\n",
       "        text-align: right;\n",
       "    }\n",
       "</style>\n",
       "<table border=\"1\" class=\"dataframe\">\n",
       "  <thead>\n",
       "    <tr style=\"text-align: right;\">\n",
       "      <th></th>\n",
       "      <th>User_ID</th>\n",
       "      <th>Rating</th>\n",
       "      <th>release_year</th>\n",
       "      <th>Movie_ID</th>\n",
       "      <th>Year</th>\n",
       "    </tr>\n",
       "  </thead>\n",
       "  <tbody>\n",
       "    <tr>\n",
       "      <th>count</th>\n",
       "      <td>3385.000000</td>\n",
       "      <td>3385.000000</td>\n",
       "      <td>3385.000000</td>\n",
       "      <td>3385.000000</td>\n",
       "      <td>3385.000000</td>\n",
       "    </tr>\n",
       "    <tr>\n",
       "      <th>mean</th>\n",
       "      <td>510156.091285</td>\n",
       "      <td>3.770458</td>\n",
       "      <td>1992.967504</td>\n",
       "      <td>2308.034860</td>\n",
       "      <td>1993.818316</td>\n",
       "    </tr>\n",
       "    <tr>\n",
       "      <th>std</th>\n",
       "      <td>285554.840802</td>\n",
       "      <td>0.801639</td>\n",
       "      <td>11.595457</td>\n",
       "      <td>1303.842336</td>\n",
       "      <td>12.492968</td>\n",
       "    </tr>\n",
       "    <tr>\n",
       "      <th>min</th>\n",
       "      <td>3742.000000</td>\n",
       "      <td>1.000000</td>\n",
       "      <td>1937.000000</td>\n",
       "      <td>3.000000</td>\n",
       "      <td>1929.000000</td>\n",
       "    </tr>\n",
       "    <tr>\n",
       "      <th>25%</th>\n",
       "      <td>241634.000000</td>\n",
       "      <td>3.000000</td>\n",
       "      <td>1992.000000</td>\n",
       "      <td>1180.000000</td>\n",
       "      <td>1990.000000</td>\n",
       "    </tr>\n",
       "    <tr>\n",
       "      <th>50%</th>\n",
       "      <td>498281.000000</td>\n",
       "      <td>4.000000</td>\n",
       "      <td>1995.000000</td>\n",
       "      <td>2360.000000</td>\n",
       "      <td>1999.000000</td>\n",
       "    </tr>\n",
       "    <tr>\n",
       "      <th>75%</th>\n",
       "      <td>756446.000000</td>\n",
       "      <td>4.000000</td>\n",
       "      <td>1999.000000</td>\n",
       "      <td>3433.000000</td>\n",
       "      <td>2002.000000</td>\n",
       "    </tr>\n",
       "    <tr>\n",
       "      <th>max</th>\n",
       "      <td>993775.000000</td>\n",
       "      <td>5.000000</td>\n",
       "      <td>2010.000000</td>\n",
       "      <td>4493.000000</td>\n",
       "      <td>2005.000000</td>\n",
       "    </tr>\n",
       "  </tbody>\n",
       "</table>\n",
       "</div>"
      ],
      "text/plain": [
       "             User_ID       Rating  release_year     Movie_ID         Year\n",
       "count    3385.000000  3385.000000   3385.000000  3385.000000  3385.000000\n",
       "mean   510156.091285     3.770458   1992.967504  2308.034860  1993.818316\n",
       "std    285554.840802     0.801639     11.595457  1303.842336    12.492968\n",
       "min      3742.000000     1.000000   1937.000000     3.000000  1929.000000\n",
       "25%    241634.000000     3.000000   1992.000000  1180.000000  1990.000000\n",
       "50%    498281.000000     4.000000   1995.000000  2360.000000  1999.000000\n",
       "75%    756446.000000     4.000000   1999.000000  3433.000000  2002.000000\n",
       "max    993775.000000     5.000000   2010.000000  4493.000000  2005.000000"
      ]
     },
     "execution_count": 109,
     "metadata": {},
     "output_type": "execute_result"
    }
   ],
   "source": [
    "Final_Netflix_UserRatings.describe()"
   ]
  },
  {
   "cell_type": "code",
   "execution_count": 110,
   "id": "e6dcf2ef-cc19-4ac7-9b46-d3c4db1d347e",
   "metadata": {},
   "outputs": [
    {
     "data": {
      "text/plain": [
       "(3385, 11)"
      ]
     },
     "execution_count": 110,
     "metadata": {},
     "output_type": "execute_result"
    }
   ],
   "source": [
    "Final_Netflix_UserRatings.shape"
   ]
  },
  {
   "cell_type": "code",
   "execution_count": 111,
   "id": "098757db-8a5f-48ed-a6a4-ff86cdcf8040",
   "metadata": {},
   "outputs": [
    {
     "name": "stdout",
     "output_type": "stream",
     "text": [
      "<class 'pandas.core.frame.DataFrame'>\n",
      "Int64Index: 3385 entries, 0 to 3384\n",
      "Data columns (total 11 columns):\n",
      " #   Column                Non-Null Count  Dtype \n",
      "---  ------                --------------  ----- \n",
      " 0   User_ID               3385 non-null   int64 \n",
      " 1   movie_desrciption     3385 non-null   object\n",
      " 2   Rating                3385 non-null   int64 \n",
      " 3   genres                3385 non-null   object\n",
      " 4   production_companies  3329 non-null   object\n",
      " 5   production_countries  3385 non-null   object\n",
      " 6   release_year          3385 non-null   int64 \n",
      " 7   overview              3385 non-null   object\n",
      " 8   Movie_ID              3385 non-null   int64 \n",
      " 9   Year                  3385 non-null   int64 \n",
      " 10  Name                  3385 non-null   object\n",
      "dtypes: int64(5), object(6)\n",
      "memory usage: 317.3+ KB\n"
     ]
    }
   ],
   "source": [
    "Final_Netflix_UserRatings.info()"
   ]
  },
  {
   "cell_type": "code",
   "execution_count": 112,
   "id": "a8b95313-5902-4cf3-8d75-85fc3fbed692",
   "metadata": {},
   "outputs": [
    {
     "data": {
      "text/plain": [
       "User_ID                  0\n",
       "movie_desrciption        0\n",
       "Rating                   0\n",
       "genres                   0\n",
       "production_companies    56\n",
       "production_countries     0\n",
       "release_year             0\n",
       "overview                 0\n",
       "Movie_ID                 0\n",
       "Year                     0\n",
       "Name                     0\n",
       "dtype: int64"
      ]
     },
     "execution_count": 112,
     "metadata": {},
     "output_type": "execute_result"
    }
   ],
   "source": [
    "Final_Netflix_UserRatings.isnull().sum()"
   ]
  },
  {
   "cell_type": "code",
   "execution_count": 113,
   "id": "6e60734e-8e6f-42a4-ae57-fc89bb223869",
   "metadata": {},
   "outputs": [
    {
     "data": {
      "text/plain": [
       "User_ID                 0\n",
       "movie_desrciption       0\n",
       "Rating                  0\n",
       "genres                  0\n",
       "production_companies    0\n",
       "production_countries    0\n",
       "release_year            0\n",
       "overview                0\n",
       "Movie_ID                0\n",
       "Year                    0\n",
       "Name                    0\n",
       "dtype: int64"
      ]
     },
     "execution_count": 113,
     "metadata": {},
     "output_type": "execute_result"
    }
   ],
   "source": [
    "Final_Netflix_UserRatings= Final_Netflix_UserRatings.dropna(subset = ['production_companies'])\n",
    "Final_Netflix_UserRatings.isnull().sum()"
   ]
  },
  {
   "cell_type": "code",
   "execution_count": 114,
   "id": "058b41ac-6d6e-4de4-ad22-b1a6f161fa6e",
   "metadata": {},
   "outputs": [
    {
     "data": {
      "text/plain": [
       "0"
      ]
     },
     "execution_count": 114,
     "metadata": {},
     "output_type": "execute_result"
    }
   ],
   "source": [
    "Final_Netflix_UserRatings.duplicated().sum()"
   ]
  },
  {
   "cell_type": "code",
   "execution_count": 115,
   "id": "24a59f30-15a7-4378-b0c2-8029706cf60f",
   "metadata": {},
   "outputs": [
    {
     "data": {
      "text/plain": [
       "Comedy Romance                             285\n",
       "Comedy                                     213\n",
       "Drama Crime                                169\n",
       "Comedy Family                              164\n",
       "Action Drama Thriller Crime Mystery        140\n",
       "Drama                                      127\n",
       "Adventure Action                           124\n",
       "Adventure Action Thriller Crime Mystery    121\n",
       "Comedy Drama Romance                       111\n",
       "Drama Romance                               97\n",
       "Adventure Comedy Family Science Fiction     73\n",
       "Adventure Comedy Crime                      72\n",
       "Romance Drama                               66\n",
       "Adventure Fantasy Family                    64\n",
       "Drama Comedy                                62\n",
       "Romance Comedy                              60\n",
       "Adventure Science Fiction                   60\n",
       "Mystery Thriller Drama                      59\n",
       "Crime Drama Thriller                        58\n",
       "Action Thriller Science Fiction             50\n",
       "Name: genres, dtype: int64"
      ]
     },
     "execution_count": 115,
     "metadata": {},
     "output_type": "execute_result"
    }
   ],
   "source": [
    "genre = Final_Netflix_UserRatings[\"genres\"].value_counts().nlargest(20)\n",
    "genre"
   ]
  },
  {
   "cell_type": "code",
   "execution_count": 20,
   "id": "2a0dfc54-dc53-4264-966e-aae0184d2ce1",
   "metadata": {},
   "outputs": [],
   "source": [
    "#Final_Netflix_UserRatings[\"genres\"].value_counts().plot(kind=\"pie\",autopct=\"%.2f\")\n"
   ]
  },
  {
   "cell_type": "code",
   "execution_count": 116,
   "id": "114a08bb-bc9a-4ea4-bed5-7f97c44541df",
   "metadata": {},
   "outputs": [
    {
     "data": {
      "text/plain": [
       "movie_desrciption        94\n",
       "genres                   71\n",
       "production_companies     89\n",
       "production_countries     16\n",
       "overview                 94\n",
       "Name                    851\n",
       "dtype: int64"
      ]
     },
     "execution_count": 116,
     "metadata": {},
     "output_type": "execute_result"
    }
   ],
   "source": [
    "Final_Netflix_UserRatings.select_dtypes(include='object').nunique()"
   ]
  },
  {
   "cell_type": "code",
   "execution_count": 117,
   "id": "2ad35f3c-30aa-4df1-b7c2-008cc103776a",
   "metadata": {},
   "outputs": [
    {
     "data": {
      "text/plain": [
       "<AxesSubplot:>"
      ]
     },
     "execution_count": 117,
     "metadata": {},
     "output_type": "execute_result"
    },
    {
     "data": {
      "image/png": "[encoded data removed]",
      "text/plain": [
       "<Figure size 1000x500 with 1 Axes>"
      ]
     },
     "metadata": {},
     "output_type": "display_data"
    }
   ],
   "source": [
    "plt.figure(figsize=(10,5))\n",
    "Final_Netflix_UserRatings[\"production_countries\"].value_counts().plot(kind='bar')"
   ]
  },
  {
   "cell_type": "code",
   "execution_count": 118,
   "id": "70629a77-52d0-429d-a04a-e96ec003eb6a",
   "metadata": {},
   "outputs": [
    {
     "data": {
      "text/plain": [
       "<AxesSubplot:>"
      ]
     },
     "execution_count": 118,
     "metadata": {},
     "output_type": "execute_result"
    },
    {
     "data": {
      "image/png": "[encoded data removed]",
      "text/plain": [
       "<Figure size 1000x500 with 1 Axes>"
      ]
     },
     "metadata": {},
     "output_type": "display_data"
    }
   ],
   "source": [
    "plt.figure(figsize=(10,5))\n",
    "Final_Netflix_UserRatings[\"genres\"].value_counts().plot(kind='bar')"
   ]
  },
  {
   "cell_type": "code",
   "execution_count": 119,
   "id": "7d03cb9d-d017-4738-aa99-a33c3f15579a",
   "metadata": {},
   "outputs": [
    {
     "data": {
      "image/png": "[encoded data removed]",
      "text/plain": [
       "<Figure size 1000x1000 with 6 Axes>"
      ]
     },
     "metadata": {},
     "output_type": "display_data"
    }
   ],
   "source": [
    "%matplotlib inline\n",
    "import matplotlib.pyplot as plt\n",
    "import pandas as pd\n",
    "\n",
    "Final_Netflix_UserRatings.hist(bins=50, figsize=(10,10))\n",
    "#save_fig(\"attribute_histogram_plots\")\n",
    "plt.show()"
   ]
  },
  {
   "cell_type": "markdown",
   "id": "86a8c608-43b3-4e9a-8918-d74239ca9cd3",
   "metadata": {},
   "source": [
    "### First Model"
   ]
  },
  {
   "cell_type": "code",
   "execution_count": 121,
   "id": "94564908-d685-40bc-b074-3e02cbc4a993",
   "metadata": {},
   "outputs": [
    {
     "data": {
      "text/html": [
       "<div>\n",
       "<style scoped>\n",
       "    .dataframe tbody tr th:only-of-type {\n",
       "        vertical-align: middle;\n",
       "    }\n",
       "\n",
       "    .dataframe tbody tr th {\n",
       "        vertical-align: top;\n",
       "    }\n",
       "\n",
       "    .dataframe thead th {\n",
       "        text-align: right;\n",
       "    }\n",
       "</style>\n",
       "<table border=\"1\" class=\"dataframe\">\n",
       "  <thead>\n",
       "    <tr style=\"text-align: right;\">\n",
       "      <th></th>\n",
       "      <th>User_ID</th>\n",
       "      <th>Rating</th>\n",
       "      <th>genres</th>\n",
       "      <th>release_year</th>\n",
       "      <th>overview</th>\n",
       "      <th>Movie_ID</th>\n",
       "      <th>Name</th>\n",
       "    </tr>\n",
       "  </thead>\n",
       "  <tbody>\n",
       "    <tr>\n",
       "      <th>0</th>\n",
       "      <td>363550</td>\n",
       "      <td>4</td>\n",
       "      <td>Action Drama</td>\n",
       "      <td>1997</td>\n",
       "      <td>A female Senator succeeds in enrolling a woman...</td>\n",
       "      <td>2171</td>\n",
       "      <td>Brother Bear (Theatrical Widescreen Version)</td>\n",
       "    </tr>\n",
       "    <tr>\n",
       "      <th>1</th>\n",
       "      <td>363550</td>\n",
       "      <td>4</td>\n",
       "      <td>Action Drama</td>\n",
       "      <td>1997</td>\n",
       "      <td>A female Senator succeeds in enrolling a woman...</td>\n",
       "      <td>3079</td>\n",
       "      <td>The Lion King: Special Edition</td>\n",
       "    </tr>\n",
       "    <tr>\n",
       "      <th>2</th>\n",
       "      <td>128021</td>\n",
       "      <td>4</td>\n",
       "      <td>Science Fiction</td>\n",
       "      <td>1995</td>\n",
       "      <td>In a dystopian future, Dredd, the most famous ...</td>\n",
       "      <td>241</td>\n",
       "      <td>North by Northwest</td>\n",
       "    </tr>\n",
       "    <tr>\n",
       "      <th>3</th>\n",
       "      <td>128021</td>\n",
       "      <td>4</td>\n",
       "      <td>Science Fiction</td>\n",
       "      <td>1995</td>\n",
       "      <td>In a dystopian future, Dredd, the most famous ...</td>\n",
       "      <td>313</td>\n",
       "      <td>Pay It Forward</td>\n",
       "    </tr>\n",
       "    <tr>\n",
       "      <th>4</th>\n",
       "      <td>128021</td>\n",
       "      <td>4</td>\n",
       "      <td>Science Fiction</td>\n",
       "      <td>1995</td>\n",
       "      <td>In a dystopian future, Dredd, the most famous ...</td>\n",
       "      <td>329</td>\n",
       "      <td>Dogma</td>\n",
       "    </tr>\n",
       "  </tbody>\n",
       "</table>\n",
       "</div>"
      ],
      "text/plain": [
       "   User_ID  Rating           genres  release_year  \\\n",
       "0   363550       4     Action Drama          1997   \n",
       "1   363550       4     Action Drama          1997   \n",
       "2   128021       4  Science Fiction          1995   \n",
       "3   128021       4  Science Fiction          1995   \n",
       "4   128021       4  Science Fiction          1995   \n",
       "\n",
       "                                            overview  Movie_ID  \\\n",
       "0  A female Senator succeeds in enrolling a woman...      2171   \n",
       "1  A female Senator succeeds in enrolling a woman...      3079   \n",
       "2  In a dystopian future, Dredd, the most famous ...       241   \n",
       "3  In a dystopian future, Dredd, the most famous ...       313   \n",
       "4  In a dystopian future, Dredd, the most famous ...       329   \n",
       "\n",
       "                                           Name  \n",
       "0  Brother Bear (Theatrical Widescreen Version)  \n",
       "1                The Lion King: Special Edition  \n",
       "2                            North by Northwest  \n",
       "3                                Pay It Forward  \n",
       "4                                         Dogma  "
      ]
     },
     "execution_count": 121,
     "metadata": {},
     "output_type": "execute_result"
    }
   ],
   "source": [
    "# drop all the unncesary columsn from the dataframe \n",
    "new_dataframe = Final_Netflix_UserRatings.drop(columns=['movie_desrciption','production_companies','production_countries','Year'])\n",
    "new_dataframe.head()"
   ]
  },
  {
   "cell_type": "code",
   "execution_count": 122,
   "id": "aecef8f6-f579-4bb8-b982-0b65897202e9",
   "metadata": {},
   "outputs": [
    {
     "data": {
      "text/plain": [
       "Comedy Romance                          285\n",
       "Comedy                                  213\n",
       "Drama Crime                             169\n",
       "Comedy Family                           164\n",
       "Action Drama Thriller Crime Mystery     140\n",
       "                                       ... \n",
       "Romance Crime Drama Thriller              4\n",
       "Drama Horror Thriller                     3\n",
       "Science Fiction Action Adventure          3\n",
       "Action Drama                              2\n",
       "Drama Thriller Mystery Music Romance      1\n",
       "Name: genres, Length: 71, dtype: int64"
      ]
     },
     "execution_count": 122,
     "metadata": {},
     "output_type": "execute_result"
    }
   ],
   "source": [
    "new_dataframe['genres'].value_counts()"
   ]
  },
  {
   "cell_type": "code",
   "execution_count": 123,
   "id": "d8a5acd3-bb51-4810-a3c7-bfc261558ebc",
   "metadata": {},
   "outputs": [],
   "source": [
    "def recommend_genre(x):\n",
    "    y = new_dataframe[['genres','Name','Rating']][new_dataframe['genres'] == x]\n",
    "    y = y.sort_values(by = 'Rating', ascending = False)\n",
    "    return y"
   ]
  },
  {
   "cell_type": "code",
   "execution_count": 124,
   "id": "2e8ade59-d51a-4271-98a9-2a13bc508745",
   "metadata": {},
   "outputs": [
    {
     "data": {
      "text/html": [
       "<div>\n",
       "<style scoped>\n",
       "    .dataframe tbody tr th:only-of-type {\n",
       "        vertical-align: middle;\n",
       "    }\n",
       "\n",
       "    .dataframe tbody tr th {\n",
       "        vertical-align: top;\n",
       "    }\n",
       "\n",
       "    .dataframe thead th {\n",
       "        text-align: right;\n",
       "    }\n",
       "</style>\n",
       "<table border=\"1\" class=\"dataframe\">\n",
       "  <thead>\n",
       "    <tr style=\"text-align: right;\">\n",
       "      <th></th>\n",
       "      <th>genres</th>\n",
       "      <th>Name</th>\n",
       "      <th>Rating</th>\n",
       "    </tr>\n",
       "  </thead>\n",
       "  <tbody>\n",
       "    <tr>\n",
       "      <th>2943</th>\n",
       "      <td>Comedy</td>\n",
       "      <td>Against the Ropes</td>\n",
       "      <td>4</td>\n",
       "    </tr>\n",
       "    <tr>\n",
       "      <th>2885</th>\n",
       "      <td>Comedy</td>\n",
       "      <td>Airplane II: The Sequel</td>\n",
       "      <td>4</td>\n",
       "    </tr>\n",
       "    <tr>\n",
       "      <th>2470</th>\n",
       "      <td>Comedy</td>\n",
       "      <td>Strange Days</td>\n",
       "      <td>4</td>\n",
       "    </tr>\n",
       "    <tr>\n",
       "      <th>2471</th>\n",
       "      <td>Comedy</td>\n",
       "      <td>Men in Black II</td>\n",
       "      <td>4</td>\n",
       "    </tr>\n",
       "    <tr>\n",
       "      <th>2472</th>\n",
       "      <td>Comedy</td>\n",
       "      <td>Bad Boys II</td>\n",
       "      <td>4</td>\n",
       "    </tr>\n",
       "    <tr>\n",
       "      <th>...</th>\n",
       "      <td>...</td>\n",
       "      <td>...</td>\n",
       "      <td>...</td>\n",
       "    </tr>\n",
       "    <tr>\n",
       "      <th>841</th>\n",
       "      <td>Comedy</td>\n",
       "      <td>Inspector Gadget 2</td>\n",
       "      <td>1</td>\n",
       "    </tr>\n",
       "    <tr>\n",
       "      <th>842</th>\n",
       "      <td>Comedy</td>\n",
       "      <td>The Matrix: Reloaded</td>\n",
       "      <td>1</td>\n",
       "    </tr>\n",
       "    <tr>\n",
       "      <th>843</th>\n",
       "      <td>Comedy</td>\n",
       "      <td>Police Academy: Special Edition</td>\n",
       "      <td>1</td>\n",
       "    </tr>\n",
       "    <tr>\n",
       "      <th>844</th>\n",
       "      <td>Comedy</td>\n",
       "      <td>The Passion of the Christ</td>\n",
       "      <td>1</td>\n",
       "    </tr>\n",
       "    <tr>\n",
       "      <th>835</th>\n",
       "      <td>Comedy</td>\n",
       "      <td>American Wedding</td>\n",
       "      <td>1</td>\n",
       "    </tr>\n",
       "  </tbody>\n",
       "</table>\n",
       "<p>213 rows × 3 columns</p>\n",
       "</div>"
      ],
      "text/plain": [
       "      genres                             Name  Rating\n",
       "2943  Comedy                Against the Ropes       4\n",
       "2885  Comedy          Airplane II: The Sequel       4\n",
       "2470  Comedy                     Strange Days       4\n",
       "2471  Comedy                  Men in Black II       4\n",
       "2472  Comedy                      Bad Boys II       4\n",
       "...      ...                              ...     ...\n",
       "841   Comedy               Inspector Gadget 2       1\n",
       "842   Comedy             The Matrix: Reloaded       1\n",
       "843   Comedy  Police Academy: Special Edition       1\n",
       "844   Comedy        The Passion of the Christ       1\n",
       "835   Comedy                 American Wedding       1\n",
       "\n",
       "[213 rows x 3 columns]"
      ]
     },
     "execution_count": 124,
     "metadata": {},
     "output_type": "execute_result"
    }
   ],
   "source": [
    "recommend_genre('Comedy')"
   ]
  },
  {
   "cell_type": "markdown",
   "id": "edbe0680-b96e-45e9-82f4-6f7981c3aadf",
   "metadata": {},
   "source": [
    "### Implimenting the Cosine-Similarity for the recommendation"
   ]
  },
  {
   "cell_type": "code",
   "execution_count": 125,
   "id": "c3b86c70-1862-4aac-a185-a48efed6f7d9",
   "metadata": {},
   "outputs": [],
   "source": [
    "from sklearn.feature_extraction.text import CountVectorizer\n",
    "from sklearn.metrics.pairwise import cosine_similarity"
   ]
  },
  {
   "cell_type": "code",
   "execution_count": 126,
   "id": "2266a823-d51d-499d-a16d-9bde5001eeb1",
   "metadata": {},
   "outputs": [],
   "source": [
    "def combined_features(row):\n",
    "    try:\n",
    "        return row['genres']+\" \"+ row['overview']\n",
    "    except:\n",
    "        return \"Error:\", row"
   ]
  },
  {
   "cell_type": "raw",
   "id": "dbb09992-52a0-4cfb-9350-8ff4871b535c",
   "metadata": {},
   "source": []
  },
  {
   "cell_type": "code",
   "execution_count": 127,
   "id": "5d07b492-b573-494f-8344-48e5d9598c05",
   "metadata": {},
   "outputs": [
    {
     "name": "stdout",
     "output_type": "stream",
     "text": [
      "combined_features:\n"
     ]
    },
    {
     "data": {
      "text/plain": [
       "(None,\n",
       " 0    Action Drama A female Senator succeeds in enro...\n",
       " 1    Action Drama A female Senator succeeds in enro...\n",
       " 2    Science Fiction In a dystopian future, Dredd, ...\n",
       " 3    Science Fiction In a dystopian future, Dredd, ...\n",
       " 4    Science Fiction In a dystopian future, Dredd, ...\n",
       " Name: combined_features, dtype: object)"
      ]
     },
     "execution_count": 127,
     "metadata": {},
     "output_type": "execute_result"
    }
   ],
   "source": [
    "features=['genres','overview']\n",
    "new_dataframe['combined_features']=new_dataframe.apply(combined_features, axis=1)\n",
    "print (\"combined_features:\"), new_dataframe[\"combined_features\"].head()"
   ]
  },
  {
   "cell_type": "code",
   "execution_count": 149,
   "id": "7001568b-3c0d-4a0d-a18a-6fe6e79a315b",
   "metadata": {},
   "outputs": [
    {
     "ename": "AttributeError",
     "evalue": "'list' object has no attribute 'shape'",
     "output_type": "error",
     "traceback": [
      "\u001b[0;31m---------------------------------------------------------------------------\u001b[0m",
      "\u001b[0;31mAttributeError\u001b[0m                            Traceback (most recent call last)",
      "\u001b[0;32m/tmp/ipykernel_457339/3339896256.py\u001b[0m in \u001b[0;36m<module>\u001b[0;34m\u001b[0m\n\u001b[0;32m----> 1\u001b[0;31m \u001b[0mfeatures\u001b[0m\u001b[0;34m.\u001b[0m\u001b[0mshape\u001b[0m\u001b[0;34m\u001b[0m\u001b[0;34m\u001b[0m\u001b[0m\n\u001b[0m",
      "\u001b[0;31mAttributeError\u001b[0m: 'list' object has no attribute 'shape'"
     ]
    }
   ],
   "source": []
  },
  {
   "cell_type": "code",
   "execution_count": 128,
   "id": "498057f0-502b-4553-bfe2-6e3b7df52a4c",
   "metadata": {},
   "outputs": [],
   "source": [
    "cv=CountVectorizer()\n",
    "count_matrix=cv.fit_transform(new_dataframe[\"combined_features\"])\n",
    "cosine_sim=cosine_similarity(count_matrix)"
   ]
  },
  {
   "cell_type": "code",
   "execution_count": 129,
   "id": "bc37957f-fea5-4abe-8536-18f8b24697ab",
   "metadata": {},
   "outputs": [],
   "source": [
    "def get_title_from_index(index):\n",
    "    return new_dataframe[new_dataframe.index == index][\"Name\"].values[0]\n",
    "\n",
    "def get_index_from_title(title):\n",
    "    return new_dataframe[new_dataframe.Name == title][\"index\"].values[0]"
   ]
  },
  {
   "cell_type": "code",
   "execution_count": 130,
   "id": "37786a24-2066-4964-9dbc-890f32f6e859",
   "metadata": {},
   "outputs": [
    {
     "data": {
      "text/plain": [
       "array([[0, 0, 0, ..., 0, 0, 0],\n",
       "       [0, 0, 0, ..., 0, 0, 0],\n",
       "       [0, 0, 0, ..., 0, 0, 0],\n",
       "       ...,\n",
       "       [0, 0, 0, ..., 0, 0, 0],\n",
       "       [0, 0, 0, ..., 0, 0, 0],\n",
       "       [0, 0, 0, ..., 0, 0, 0]])"
      ]
     },
     "execution_count": 130,
     "metadata": {},
     "output_type": "execute_result"
    }
   ],
   "source": [
    "vectors=cv.fit_transform(new_dataframe['combined_features']).toarray()\n",
    "vectors"
   ]
  },
  {
   "cell_type": "code",
   "execution_count": 131,
   "id": "82d9f02d-4c6b-4c64-b333-04b3e2ee7a6b",
   "metadata": {},
   "outputs": [
    {
     "data": {
      "text/plain": [
       "array([[1.        , 1.        , 0.04260143, ..., 0.09832103, 0.09832103,\n",
       "        0.09832103],\n",
       "       [1.        , 1.        , 0.04260143, ..., 0.09832103, 0.09832103,\n",
       "        0.09832103],\n",
       "       [0.04260143, 0.04260143, 1.        , ..., 0.15916743, 0.15916743,\n",
       "        0.15916743],\n",
       "       ...,\n",
       "       [0.09832103, 0.09832103, 0.15916743, ..., 1.        , 1.        ,\n",
       "        1.        ],\n",
       "       [0.09832103, 0.09832103, 0.15916743, ..., 1.        , 1.        ,\n",
       "        1.        ],\n",
       "       [0.09832103, 0.09832103, 0.15916743, ..., 1.        , 1.        ,\n",
       "        1.        ]])"
      ]
     },
     "execution_count": 131,
     "metadata": {},
     "output_type": "execute_result"
    }
   ],
   "source": [
    "# We will calculate cosine distance between vectors.(similarity is inversely proportional to distance)\n",
    "from sklearn.metrics.pairwise import cosine_similarity\n",
    "similarity=cosine_similarity(vectors)\n",
    "similarity"
   ]
  },
  {
   "cell_type": "code",
   "execution_count": 132,
   "id": "f4a650d3-f067-446f-b960-f22789e92d1d",
   "metadata": {},
   "outputs": [
    {
     "data": {
      "text/plain": [
       "1129"
      ]
     },
     "execution_count": 132,
     "metadata": {},
     "output_type": "execute_result"
    }
   ],
   "source": [
    "new_dataframe[new_dataframe['Name']=='Jingle All the Way'].index[0]"
   ]
  },
  {
   "cell_type": "code",
   "execution_count": 133,
   "id": "5c4a7df5-9ab9-46a1-ae8a-6fa6cd88849f",
   "metadata": {},
   "outputs": [
    {
     "data": {
      "text/plain": [
       "[(1, 0.9999999999999998),\n",
       " (2004, 0.21328085194060734),\n",
       " (2005, 0.21328085194060734),\n",
       " (2006, 0.21328085194060734),\n",
       " (2007, 0.21328085194060734)]"
      ]
     },
     "execution_count": 133,
     "metadata": {},
     "output_type": "execute_result"
    }
   ],
   "source": [
    "sorted(list(enumerate(similarity[0])),reverse=True,key=lambda x:x[1])[1:6]"
   ]
  },
  {
   "cell_type": "code",
   "execution_count": 134,
   "id": "eaecf2f4-8bed-4a74-b05a-c6ffcdf8acf8",
   "metadata": {},
   "outputs": [
    {
     "data": {
      "text/plain": [
       "'The Lion King: Special Edition'"
      ]
     },
     "execution_count": 134,
     "metadata": {},
     "output_type": "execute_result"
    }
   ],
   "source": [
    "new_dataframe.iloc[1].Name"
   ]
  },
  {
   "cell_type": "code",
   "execution_count": 135,
   "id": "a9aee5e9-f2e7-4c8b-9857-c42318b46f51",
   "metadata": {},
   "outputs": [],
   "source": [
    "def recommend(movie):\n",
    "    movie_index=new_dataframe[new_dataframe['Name']==movie].index[0]\n",
    "    distances=similarity[movie_index]\n",
    "    movie_list=sorted(list(enumerate(distances)),reverse=True,key=lambda x:x[1])[1:6]\n",
    "    \n",
    "    for i in movie_list:\n",
    "        print(new_dataframe.iloc[i[0]].Name)"
   ]
  },
  {
   "cell_type": "code",
   "execution_count": 136,
   "id": "df0872d9-a2ac-4ff5-9c16-21b83be7a99c",
   "metadata": {},
   "outputs": [
    {
     "name": "stdout",
     "output_type": "stream",
     "text": [
      "Taking Lives\n",
      "The Final Countdown\n",
      "Harold and Kumar Go to White Castle\n",
      "The Pacifier\n",
      "Hostage\n"
     ]
    }
   ],
   "source": [
    "recommend(\"Jingle All the Way\")"
   ]
  },
  {
   "cell_type": "markdown",
   "id": "0ce030b0-2892-4a67-987b-4218e12f2ab8",
   "metadata": {},
   "source": [
    "### Second Model "
   ]
  },
  {
   "cell_type": "markdown",
   "id": "b5c8df64-307b-4fb2-b19a-9a204d072396",
   "metadata": {},
   "source": [
    "### Content Based Recommendation based on a user profile"
   ]
  },
  {
   "cell_type": "code",
   "execution_count": 49,
   "id": "8419ea16-7325-431e-9388-afc9f4cad197",
   "metadata": {},
   "outputs": [
    {
     "data": {
      "text/html": [
       "<div>\n",
       "<style scoped>\n",
       "    .dataframe tbody tr th:only-of-type {\n",
       "        vertical-align: middle;\n",
       "    }\n",
       "\n",
       "    .dataframe tbody tr th {\n",
       "        vertical-align: top;\n",
       "    }\n",
       "\n",
       "    .dataframe thead th {\n",
       "        text-align: right;\n",
       "    }\n",
       "</style>\n",
       "<table border=\"1\" class=\"dataframe\">\n",
       "  <thead>\n",
       "    <tr style=\"text-align: right;\">\n",
       "      <th></th>\n",
       "      <th>User_ID</th>\n",
       "      <th>genres</th>\n",
       "      <th>release_year</th>\n",
       "      <th>overview</th>\n",
       "      <th>Movie_ID</th>\n",
       "      <th>Name</th>\n",
       "      <th>Rating</th>\n",
       "      <th>combined_features</th>\n",
       "    </tr>\n",
       "  </thead>\n",
       "  <tbody>\n",
       "    <tr>\n",
       "      <th>0</th>\n",
       "      <td>363550</td>\n",
       "      <td>Action Drama</td>\n",
       "      <td>1997</td>\n",
       "      <td>A female Senator succeeds in enrolling a woman...</td>\n",
       "      <td>28</td>\n",
       "      <td>Lilo and Stitch</td>\n",
       "      <td>5</td>\n",
       "      <td>Action Drama A female Senator succeeds in enro...</td>\n",
       "    </tr>\n",
       "    <tr>\n",
       "      <th>1</th>\n",
       "      <td>363550</td>\n",
       "      <td>Action Drama</td>\n",
       "      <td>1997</td>\n",
       "      <td>A female Senator succeeds in enrolling a woman...</td>\n",
       "      <td>252</td>\n",
       "      <td>Stuart Little 2</td>\n",
       "      <td>5</td>\n",
       "      <td>Action Drama A female Senator succeeds in enro...</td>\n",
       "    </tr>\n",
       "    <tr>\n",
       "      <th>2</th>\n",
       "      <td>363550</td>\n",
       "      <td>Action Drama</td>\n",
       "      <td>1997</td>\n",
       "      <td>A female Senator succeeds in enrolling a woman...</td>\n",
       "      <td>253</td>\n",
       "      <td>A Night at the Opera</td>\n",
       "      <td>1</td>\n",
       "      <td>Action Drama A female Senator succeeds in enro...</td>\n",
       "    </tr>\n",
       "    <tr>\n",
       "      <th>3</th>\n",
       "      <td>363550</td>\n",
       "      <td>Action Drama</td>\n",
       "      <td>1997</td>\n",
       "      <td>A female Senator succeeds in enrolling a woman...</td>\n",
       "      <td>311</td>\n",
       "      <td>Ed Wood</td>\n",
       "      <td>1</td>\n",
       "      <td>Action Drama A female Senator succeeds in enro...</td>\n",
       "    </tr>\n",
       "    <tr>\n",
       "      <th>4</th>\n",
       "      <td>363550</td>\n",
       "      <td>Action Drama</td>\n",
       "      <td>1997</td>\n",
       "      <td>A female Senator succeeds in enrolling a woman...</td>\n",
       "      <td>312</td>\n",
       "      <td>High Fidelity</td>\n",
       "      <td>1</td>\n",
       "      <td>Action Drama A female Senator succeeds in enro...</td>\n",
       "    </tr>\n",
       "  </tbody>\n",
       "</table>\n",
       "</div>"
      ],
      "text/plain": [
       "   User_ID        genres  release_year  \\\n",
       "0   363550  Action Drama          1997   \n",
       "1   363550  Action Drama          1997   \n",
       "2   363550  Action Drama          1997   \n",
       "3   363550  Action Drama          1997   \n",
       "4   363550  Action Drama          1997   \n",
       "\n",
       "                                            overview  Movie_ID  \\\n",
       "0  A female Senator succeeds in enrolling a woman...        28   \n",
       "1  A female Senator succeeds in enrolling a woman...       252   \n",
       "2  A female Senator succeeds in enrolling a woman...       253   \n",
       "3  A female Senator succeeds in enrolling a woman...       311   \n",
       "4  A female Senator succeeds in enrolling a woman...       312   \n",
       "\n",
       "                   Name  Rating  \\\n",
       "0       Lilo and Stitch       5   \n",
       "1       Stuart Little 2       5   \n",
       "2  A Night at the Opera       1   \n",
       "3               Ed Wood       1   \n",
       "4         High Fidelity       1   \n",
       "\n",
       "                                   combined_features  \n",
       "0  Action Drama A female Senator succeeds in enro...  \n",
       "1  Action Drama A female Senator succeeds in enro...  \n",
       "2  Action Drama A female Senator succeeds in enro...  \n",
       "3  Action Drama A female Senator succeeds in enro...  \n",
       "4  Action Drama A female Senator succeeds in enro...  "
      ]
     },
     "execution_count": 49,
     "metadata": {},
     "output_type": "execute_result"
    }
   ],
   "source": [
    "Theresa_profile = new_dataframe[new_dataframe['User_ID'] == 363550]\n",
    "Theresa_profile.head()"
   ]
  },
  {
   "cell_type": "code",
   "execution_count": 51,
   "id": "b0602fa2-379b-4b91-a4de-65e25ab42b1c",
   "metadata": {},
   "outputs": [
    {
     "data": {
      "text/html": [
       "<div>\n",
       "<style scoped>\n",
       "    .dataframe tbody tr th:only-of-type {\n",
       "        vertical-align: middle;\n",
       "    }\n",
       "\n",
       "    .dataframe tbody tr th {\n",
       "        vertical-align: top;\n",
       "    }\n",
       "\n",
       "    .dataframe thead th {\n",
       "        text-align: right;\n",
       "    }\n",
       "</style>\n",
       "<table border=\"1\" class=\"dataframe\">\n",
       "  <thead>\n",
       "    <tr style=\"text-align: right;\">\n",
       "      <th></th>\n",
       "      <th>User_ID</th>\n",
       "      <th>genres</th>\n",
       "      <th>release_year</th>\n",
       "      <th>overview</th>\n",
       "      <th>Movie_ID</th>\n",
       "      <th>Name</th>\n",
       "      <th>Rating</th>\n",
       "      <th>combined_features</th>\n",
       "    </tr>\n",
       "  </thead>\n",
       "  <tbody>\n",
       "    <tr>\n",
       "      <th>0</th>\n",
       "      <td>363550</td>\n",
       "      <td>Action Drama</td>\n",
       "      <td>1997</td>\n",
       "      <td>A female Senator succeeds in enrolling a woman...</td>\n",
       "      <td>28</td>\n",
       "      <td>Lilo and Stitch</td>\n",
       "      <td>5</td>\n",
       "      <td>Action Drama A female Senator succeeds in enro...</td>\n",
       "    </tr>\n",
       "    <tr>\n",
       "      <th>71</th>\n",
       "      <td>363550</td>\n",
       "      <td>Action Drama</td>\n",
       "      <td>1997</td>\n",
       "      <td>A female Senator succeeds in enrolling a woman...</td>\n",
       "      <td>2580</td>\n",
       "      <td>Freaky Friday</td>\n",
       "      <td>5</td>\n",
       "      <td>Action Drama A female Senator succeeds in enro...</td>\n",
       "    </tr>\n",
       "    <tr>\n",
       "      <th>38</th>\n",
       "      <td>363550</td>\n",
       "      <td>Action Drama</td>\n",
       "      <td>1997</td>\n",
       "      <td>A female Senator succeeds in enrolling a woman...</td>\n",
       "      <td>1704</td>\n",
       "      <td>The Three Musketeers</td>\n",
       "      <td>5</td>\n",
       "      <td>Action Drama A female Senator succeeds in enro...</td>\n",
       "    </tr>\n",
       "    <tr>\n",
       "      <th>50</th>\n",
       "      <td>363550</td>\n",
       "      <td>Action Drama</td>\n",
       "      <td>1997</td>\n",
       "      <td>A female Senator succeeds in enrolling a woman...</td>\n",
       "      <td>2113</td>\n",
       "      <td>Air Bud: World Pup</td>\n",
       "      <td>5</td>\n",
       "      <td>Action Drama A female Senator succeeds in enro...</td>\n",
       "    </tr>\n",
       "    <tr>\n",
       "      <th>54</th>\n",
       "      <td>363550</td>\n",
       "      <td>Action Drama</td>\n",
       "      <td>1997</td>\n",
       "      <td>A female Senator succeeds in enrolling a woman...</td>\n",
       "      <td>2176</td>\n",
       "      <td>VeggieTales: Esther</td>\n",
       "      <td>5</td>\n",
       "      <td>Action Drama A female Senator succeeds in enro...</td>\n",
       "    </tr>\n",
       "  </tbody>\n",
       "</table>\n",
       "</div>"
      ],
      "text/plain": [
       "    User_ID        genres  release_year  \\\n",
       "0    363550  Action Drama          1997   \n",
       "71   363550  Action Drama          1997   \n",
       "38   363550  Action Drama          1997   \n",
       "50   363550  Action Drama          1997   \n",
       "54   363550  Action Drama          1997   \n",
       "\n",
       "                                             overview  Movie_ID  \\\n",
       "0   A female Senator succeeds in enrolling a woman...        28   \n",
       "71  A female Senator succeeds in enrolling a woman...      2580   \n",
       "38  A female Senator succeeds in enrolling a woman...      1704   \n",
       "50  A female Senator succeeds in enrolling a woman...      2113   \n",
       "54  A female Senator succeeds in enrolling a woman...      2176   \n",
       "\n",
       "                    Name  Rating  \\\n",
       "0        Lilo and Stitch       5   \n",
       "71         Freaky Friday       5   \n",
       "38  The Three Musketeers       5   \n",
       "50    Air Bud: World Pup       5   \n",
       "54   VeggieTales: Esther       5   \n",
       "\n",
       "                                    combined_features  \n",
       "0   Action Drama A female Senator succeeds in enro...  \n",
       "71  Action Drama A female Senator succeeds in enro...  \n",
       "38  Action Drama A female Senator succeeds in enro...  \n",
       "50  Action Drama A female Senator succeeds in enro...  \n",
       "54  Action Drama A female Senator succeeds in enro...  "
      ]
     },
     "execution_count": 51,
     "metadata": {},
     "output_type": "execute_result"
    }
   ],
   "source": [
    "# Sort movie data based on rating and take first 50 movies\n",
    "movie_library = Theresa_profile.sort_values(by=['Rating'], ascending=False).head(50)\n",
    "movie_library.head()     "
   ]
  },
  {
   "cell_type": "code",
   "execution_count": 52,
   "id": "ad1246f5-8331-4d4e-81a2-eb2ff8118a85",
   "metadata": {},
   "outputs": [
    {
     "data": {
      "text/html": [
       "<div>\n",
       "<style scoped>\n",
       "    .dataframe tbody tr th:only-of-type {\n",
       "        vertical-align: middle;\n",
       "    }\n",
       "\n",
       "    .dataframe tbody tr th {\n",
       "        vertical-align: top;\n",
       "    }\n",
       "\n",
       "    .dataframe thead th {\n",
       "        text-align: right;\n",
       "    }\n",
       "</style>\n",
       "<table border=\"1\" class=\"dataframe\">\n",
       "  <thead>\n",
       "    <tr style=\"text-align: right;\">\n",
       "      <th></th>\n",
       "      <th>User_ID</th>\n",
       "      <th>genres</th>\n",
       "      <th>release_year</th>\n",
       "      <th>overview</th>\n",
       "      <th>Movie_ID</th>\n",
       "      <th>Name</th>\n",
       "      <th>Rating</th>\n",
       "      <th>combined_features</th>\n",
       "    </tr>\n",
       "  </thead>\n",
       "  <tbody>\n",
       "    <tr>\n",
       "      <th>0</th>\n",
       "      <td>363550</td>\n",
       "      <td>Action Drama</td>\n",
       "      <td>1997</td>\n",
       "      <td>A female Senator succeeds in enrolling a woman...</td>\n",
       "      <td>28</td>\n",
       "      <td>Lilo and Stitch</td>\n",
       "      <td>5</td>\n",
       "      <td>Action Drama A female Senator succeeds in enro...</td>\n",
       "    </tr>\n",
       "    <tr>\n",
       "      <th>1</th>\n",
       "      <td>363550</td>\n",
       "      <td>Action Drama</td>\n",
       "      <td>1997</td>\n",
       "      <td>A female Senator succeeds in enrolling a woman...</td>\n",
       "      <td>252</td>\n",
       "      <td>Stuart Little 2</td>\n",
       "      <td>5</td>\n",
       "      <td>Action Drama A female Senator succeeds in enro...</td>\n",
       "    </tr>\n",
       "    <tr>\n",
       "      <th>5</th>\n",
       "      <td>363550</td>\n",
       "      <td>Action Drama</td>\n",
       "      <td>1997</td>\n",
       "      <td>A female Senator succeeds in enrolling a woman...</td>\n",
       "      <td>334</td>\n",
       "      <td>The Pacifier</td>\n",
       "      <td>5</td>\n",
       "      <td>Action Drama A female Senator succeeds in enro...</td>\n",
       "    </tr>\n",
       "    <tr>\n",
       "      <th>11</th>\n",
       "      <td>363550</td>\n",
       "      <td>Action Drama</td>\n",
       "      <td>1997</td>\n",
       "      <td>A female Senator succeeds in enrolling a woman...</td>\n",
       "      <td>476</td>\n",
       "      <td>VeggieTales Classics: Where's God When I'm Sca...</td>\n",
       "      <td>5</td>\n",
       "      <td>Action Drama A female Senator succeeds in enro...</td>\n",
       "    </tr>\n",
       "    <tr>\n",
       "      <th>12</th>\n",
       "      <td>363550</td>\n",
       "      <td>Action Drama</td>\n",
       "      <td>1997</td>\n",
       "      <td>A female Senator succeeds in enrolling a woman...</td>\n",
       "      <td>563</td>\n",
       "      <td>Jimmy Neutron: Boy Genius</td>\n",
       "      <td>5</td>\n",
       "      <td>Action Drama A female Senator succeeds in enro...</td>\n",
       "    </tr>\n",
       "  </tbody>\n",
       "</table>\n",
       "</div>"
      ],
      "text/plain": [
       "    User_ID        genres  release_year  \\\n",
       "0    363550  Action Drama          1997   \n",
       "1    363550  Action Drama          1997   \n",
       "5    363550  Action Drama          1997   \n",
       "11   363550  Action Drama          1997   \n",
       "12   363550  Action Drama          1997   \n",
       "\n",
       "                                             overview  Movie_ID  \\\n",
       "0   A female Senator succeeds in enrolling a woman...        28   \n",
       "1   A female Senator succeeds in enrolling a woman...       252   \n",
       "5   A female Senator succeeds in enrolling a woman...       334   \n",
       "11  A female Senator succeeds in enrolling a woman...       476   \n",
       "12  A female Senator succeeds in enrolling a woman...       563   \n",
       "\n",
       "                                                 Name  Rating  \\\n",
       "0                                     Lilo and Stitch       5   \n",
       "1                                     Stuart Little 2       5   \n",
       "5                                        The Pacifier       5   \n",
       "11  VeggieTales Classics: Where's God When I'm Sca...       5   \n",
       "12                          Jimmy Neutron: Boy Genius       5   \n",
       "\n",
       "                                    combined_features  \n",
       "0   Action Drama A female Senator succeeds in enro...  \n",
       "1   Action Drama A female Senator succeeds in enro...  \n",
       "5   Action Drama A female Senator succeeds in enro...  \n",
       "11  Action Drama A female Senator succeeds in enro...  \n",
       "12  Action Drama A female Senator succeeds in enro...  "
      ]
     },
     "execution_count": 52,
     "metadata": {},
     "output_type": "execute_result"
    }
   ],
   "source": [
    "mask = (\n",
    "    (new_dataframe[\"Rating\"] == 5) &\n",
    "    (new_dataframe[\"User_ID\"] == 363550)\n",
    ")\n",
    "Favourite_Movies = new_dataframe[mask]\n",
    "Favourite_Movies.head()"
   ]
  },
  {
   "cell_type": "code",
   "execution_count": 53,
   "id": "f1f7a132-290e-4e8d-b2e1-8416bcf28d1a",
   "metadata": {},
   "outputs": [
    {
     "data": {
      "text/html": [
       "<div>\n",
       "<style scoped>\n",
       "    .dataframe tbody tr th:only-of-type {\n",
       "        vertical-align: middle;\n",
       "    }\n",
       "\n",
       "    .dataframe tbody tr th {\n",
       "        vertical-align: top;\n",
       "    }\n",
       "\n",
       "    .dataframe thead th {\n",
       "        text-align: right;\n",
       "    }\n",
       "</style>\n",
       "<table border=\"1\" class=\"dataframe\">\n",
       "  <thead>\n",
       "    <tr style=\"text-align: right;\">\n",
       "      <th></th>\n",
       "      <th>User_ID</th>\n",
       "      <th>genres</th>\n",
       "      <th>release_year</th>\n",
       "      <th>overview</th>\n",
       "      <th>Movie_ID</th>\n",
       "      <th>Name</th>\n",
       "      <th>Rating</th>\n",
       "      <th>combined_features</th>\n",
       "    </tr>\n",
       "  </thead>\n",
       "  <tbody>\n",
       "    <tr>\n",
       "      <th>772</th>\n",
       "      <td>342103</td>\n",
       "      <td>Comedy Horror</td>\n",
       "      <td>1990</td>\n",
       "      <td>A large spider from the jungles of South Ameri...</td>\n",
       "      <td>57</td>\n",
       "      <td>Richard III</td>\n",
       "      <td>4</td>\n",
       "      <td>Comedy Horror A large spider from the jungles ...</td>\n",
       "    </tr>\n",
       "    <tr>\n",
       "      <th>1618</th>\n",
       "      <td>673832</td>\n",
       "      <td>Drama History</td>\n",
       "      <td>1960</td>\n",
       "      <td>This gripping adaptation of the Jerome Lawrenc...</td>\n",
       "      <td>97</td>\n",
       "      <td>Mostly Martha</td>\n",
       "      <td>4</td>\n",
       "      <td>Drama History This gripping adaptation of the ...</td>\n",
       "    </tr>\n",
       "    <tr>\n",
       "      <th>2230</th>\n",
       "      <td>993775</td>\n",
       "      <td>Drama</td>\n",
       "      <td>1988</td>\n",
       "      <td>A rude, contemptuous talk show host becomes ov...</td>\n",
       "      <td>97</td>\n",
       "      <td>Mostly Martha</td>\n",
       "      <td>4</td>\n",
       "      <td>Drama A rude, contemptuous talk show host beco...</td>\n",
       "    </tr>\n",
       "    <tr>\n",
       "      <th>2581</th>\n",
       "      <td>676384</td>\n",
       "      <td>Comedy Drama Romance</td>\n",
       "      <td>1995</td>\n",
       "      <td>A love story built on a misunderstanding. A tr...</td>\n",
       "      <td>97</td>\n",
       "      <td>Mostly Martha</td>\n",
       "      <td>4</td>\n",
       "      <td>Comedy Drama Romance A love story built on a m...</td>\n",
       "    </tr>\n",
       "    <tr>\n",
       "      <th>5484</th>\n",
       "      <td>154368</td>\n",
       "      <td>Fantasy Horror Science Fiction</td>\n",
       "      <td>1996</td>\n",
       "      <td>A shipwrecked sailor stumbles upon a mysteriou...</td>\n",
       "      <td>97</td>\n",
       "      <td>Mostly Martha</td>\n",
       "      <td>4</td>\n",
       "      <td>Fantasy Horror Science Fiction A shipwrecked s...</td>\n",
       "    </tr>\n",
       "  </tbody>\n",
       "</table>\n",
       "</div>"
      ],
      "text/plain": [
       "      User_ID                          genres  release_year  \\\n",
       "772    342103                   Comedy Horror          1990   \n",
       "1618   673832                   Drama History          1960   \n",
       "2230   993775                           Drama          1988   \n",
       "2581   676384            Comedy Drama Romance          1995   \n",
       "5484   154368  Fantasy Horror Science Fiction          1996   \n",
       "\n",
       "                                               overview  Movie_ID  \\\n",
       "772   A large spider from the jungles of South Ameri...        57   \n",
       "1618  This gripping adaptation of the Jerome Lawrenc...        97   \n",
       "2230  A rude, contemptuous talk show host becomes ov...        97   \n",
       "2581  A love story built on a misunderstanding. A tr...        97   \n",
       "5484  A shipwrecked sailor stumbles upon a mysteriou...        97   \n",
       "\n",
       "               Name  Rating                                  combined_features  \n",
       "772     Richard III       4  Comedy Horror A large spider from the jungles ...  \n",
       "1618  Mostly Martha       4  Drama History This gripping adaptation of the ...  \n",
       "2230  Mostly Martha       4  Drama A rude, contemptuous talk show host beco...  \n",
       "2581  Mostly Martha       4  Comedy Drama Romance A love story built on a m...  \n",
       "5484  Mostly Martha       4  Fantasy Horror Science Fiction A shipwrecked s...  "
      ]
     },
     "execution_count": 53,
     "metadata": {},
     "output_type": "execute_result"
    }
   ],
   "source": [
    "# Set aside top-rated movies for testing\n",
    "testing_df = new_dataframe[new_dataframe['Movie_ID'].isin(Favourite_Movies.index)] \n",
    "testing_df.head()"
   ]
  },
  {
   "cell_type": "code",
   "execution_count": 54,
   "id": "88314c4a-6d9f-4d1c-a9a0-04826e697009",
   "metadata": {},
   "outputs": [],
   "source": [
    "# Remove top-rated movies from the main dataframe\n",
    "filtered_df = new_dataframe[~new_dataframe['Movie_ID'].isin(Favourite_Movies.index)]"
   ]
  },
  {
   "cell_type": "code",
   "execution_count": 56,
   "id": "2ece79e2-95ab-4df3-abdb-ace6ef9dfb25",
   "metadata": {},
   "outputs": [],
   "source": [
    "from sklearn.feature_extraction.text import TfidfVectorizer\n",
    "# Create a TF-IDF vectorizer object\n",
    "vectorizer = TfidfVectorizer(stop_words='english')\n",
    "# Apply TF-IDF vectorization on movie genres\n",
    "tfidf_matrix = vectorizer.fit_transform(filtered_df['combined_features'].values.astype('U'))"
   ]
  },
  {
   "cell_type": "code",
   "execution_count": 57,
   "id": "ce3136a6-7df0-4d6d-af57-f4ce0f975f41",
   "metadata": {},
   "outputs": [],
   "source": [
    "# Compute the cosine similarity matrix\n",
    "from sklearn.metrics.pairwise import linear_kernel, cosine_similarity\n",
    "cosine_sim = linear_kernel(tfidf_matrix, tfidf_matrix)"
   ]
  },
  {
   "cell_type": "code",
   "execution_count": 58,
   "id": "067267b8-1342-4161-b4d5-40d6c45870bd",
   "metadata": {},
   "outputs": [],
   "source": [
    "# Get movie titles and indices\n",
    "Name = filtered_df['Name']\n",
    "indices = pd.Series(filtered_df.index, index=filtered_df['Name'])"
   ]
  },
  {
   "cell_type": "code",
   "execution_count": 59,
   "id": "c7945b1a-5bc9-486c-ab1e-34df003b1a9e",
   "metadata": {},
   "outputs": [],
   "source": [
    "# Theresa's preferred movie\n",
    "preferred_movie = 'The Pacifier'\n",
    "# Get the index of the preferred movie\n",
    "preferred_movie_index = indices[preferred_movie].values[0]"
   ]
  },
  {
   "cell_type": "code",
   "execution_count": 60,
   "id": "b3ffd9c9-2ff6-4fd4-a243-5033fa6ce8aa",
   "metadata": {},
   "outputs": [],
   "source": [
    "# Get the similarity scores with other movies\n",
    "similarity_scores = list(enumerate(cosine_sim[preferred_movie_index]))\n",
    "# Sort the movies based on similarity scores\n",
    "sorted_scores = sorted(similarity_scores, key=lambda x: x[1], reverse=True)"
   ]
  },
  {
   "cell_type": "code",
   "execution_count": 61,
   "id": "dbca11c9-d9f1-4749-9f13-5136243a8899",
   "metadata": {},
   "outputs": [],
   "source": [
    "# Get the top 10 recommended movies\n",
    "top_10_recommendations = [Name[idx] for idx, _ in sorted_scores[1:11]]"
   ]
  },
  {
   "cell_type": "code",
   "execution_count": 62,
   "id": "e30bc0d1-f1a1-4704-b9c9-c5accf6048b9",
   "metadata": {},
   "outputs": [
    {
     "name": "stdout",
     "output_type": "stream",
     "text": [
      "Top 10 recommended movies based on user's preference:\n",
      "Stuart Little 2\n",
      "A Night at the Opera\n",
      "Ed Wood\n",
      "High Fidelity\n",
      "The Pacifier\n",
      "House of Sand and Fog\n",
      "The Phantom of the Opera: Special Edition\n",
      "Hostage\n",
      "Rabbit-Proof Fence\n",
      "Kill Bill: Vol. 2\n"
     ]
    }
   ],
   "source": [
    "# Print the top 10 recommended movies\n",
    "print(\"Top 10 recommended movies based on user's preference:\")\n",
    "for movie_title in top_10_recommendations:\n",
    "    print(movie_title)"
   ]
  },
  {
   "cell_type": "markdown",
   "id": "f9f64b97-2be4-40f6-9eb6-48decb2903f1",
   "metadata": {},
   "source": [
    "### Third Model "
   ]
  },
  {
   "cell_type": "markdown",
   "id": "aaca45e3-3948-4956-935b-e21d933126a7",
   "metadata": {},
   "source": [
    "## Generalized Content recommendation"
   ]
  },
  {
   "cell_type": "code",
   "execution_count": 63,
   "id": "d998ecfc-032f-4d3d-b9da-dad5a71d0f75",
   "metadata": {},
   "outputs": [],
   "source": [
    "# Split the dataset into two groups: A and B\n",
    "group_A = new_dataframe.sample(frac=0.5, random_state=42)\n",
    "group_B = new_dataframe.drop(group_A.index)"
   ]
  },
  {
   "cell_type": "code",
   "execution_count": 64,
   "id": "02e86b0e-5808-4329-bf4d-c72c9df4d081",
   "metadata": {},
   "outputs": [],
   "source": [
    "# Create a TF-IDF vectorizer object\n",
    "vectorizer = TfidfVectorizer(stop_words='english')"
   ]
  },
  {
   "cell_type": "code",
   "execution_count": 65,
   "id": "b0b5a011-2bb6-4e12-bf10-92a4fe210caf",
   "metadata": {},
   "outputs": [],
   "source": [
    "# Apply TF-IDF vectorization on movie genres for group A\n",
    "tfidf_matrix_A = vectorizer.fit_transform(group_A['combined_features'].values.astype('U'))\n",
    "# Apply TF-IDF vectorization on movie genres for group B\n",
    "tfidf_matrix_B = vectorizer.transform(group_B['combined_features'].values.astype('U'))"
   ]
  },
  {
   "cell_type": "code",
   "execution_count": 66,
   "id": "bd9da3f0-3f8d-42be-98c5-1fa063f48a2c",
   "metadata": {},
   "outputs": [],
   "source": [
    "# Compute the cosine similarity matrix for group A\n",
    "cosine_sim_A = linear_kernel(tfidf_matrix_A, tfidf_matrix_A)"
   ]
  },
  {
   "cell_type": "code",
   "execution_count": 67,
   "id": "50ec4589-495c-4de2-883e-44758ac9aa83",
   "metadata": {},
   "outputs": [],
   "source": [
    "# Compute the cosine similarity matrix for group B\n",
    "cosine_sim_B = linear_kernel(tfidf_matrix_B, tfidf_matrix_B)"
   ]
  },
  {
   "cell_type": "code",
   "execution_count": 68,
   "id": "1e13e8aa-3571-40c1-9eea-7a45be189eda",
   "metadata": {},
   "outputs": [
    {
     "data": {
      "text/html": [
       "<div>\n",
       "<style scoped>\n",
       "    .dataframe tbody tr th:only-of-type {\n",
       "        vertical-align: middle;\n",
       "    }\n",
       "\n",
       "    .dataframe tbody tr th {\n",
       "        vertical-align: top;\n",
       "    }\n",
       "\n",
       "    .dataframe thead th {\n",
       "        text-align: right;\n",
       "    }\n",
       "</style>\n",
       "<table border=\"1\" class=\"dataframe\">\n",
       "  <thead>\n",
       "    <tr style=\"text-align: right;\">\n",
       "      <th></th>\n",
       "      <th>User_ID</th>\n",
       "      <th>genres</th>\n",
       "      <th>release_year</th>\n",
       "      <th>overview</th>\n",
       "      <th>Movie_ID</th>\n",
       "      <th>Name</th>\n",
       "      <th>Rating</th>\n",
       "      <th>combined_features</th>\n",
       "    </tr>\n",
       "  </thead>\n",
       "  <tbody>\n",
       "    <tr>\n",
       "      <th>1</th>\n",
       "      <td>363550</td>\n",
       "      <td>Action Drama</td>\n",
       "      <td>1997</td>\n",
       "      <td>A female Senator succeeds in enrolling a woman...</td>\n",
       "      <td>252</td>\n",
       "      <td>Stuart Little 2</td>\n",
       "      <td>5</td>\n",
       "      <td>Action Drama A female Senator succeeds in enro...</td>\n",
       "    </tr>\n",
       "    <tr>\n",
       "      <th>2</th>\n",
       "      <td>363550</td>\n",
       "      <td>Action Drama</td>\n",
       "      <td>1997</td>\n",
       "      <td>A female Senator succeeds in enrolling a woman...</td>\n",
       "      <td>253</td>\n",
       "      <td>A Night at the Opera</td>\n",
       "      <td>1</td>\n",
       "      <td>Action Drama A female Senator succeeds in enro...</td>\n",
       "    </tr>\n",
       "    <tr>\n",
       "      <th>4</th>\n",
       "      <td>363550</td>\n",
       "      <td>Action Drama</td>\n",
       "      <td>1997</td>\n",
       "      <td>A female Senator succeeds in enrolling a woman...</td>\n",
       "      <td>312</td>\n",
       "      <td>High Fidelity</td>\n",
       "      <td>1</td>\n",
       "      <td>Action Drama A female Senator succeeds in enro...</td>\n",
       "    </tr>\n",
       "    <tr>\n",
       "      <th>5</th>\n",
       "      <td>363550</td>\n",
       "      <td>Action Drama</td>\n",
       "      <td>1997</td>\n",
       "      <td>A female Senator succeeds in enrolling a woman...</td>\n",
       "      <td>334</td>\n",
       "      <td>The Pacifier</td>\n",
       "      <td>5</td>\n",
       "      <td>Action Drama A female Senator succeeds in enro...</td>\n",
       "    </tr>\n",
       "    <tr>\n",
       "      <th>6</th>\n",
       "      <td>363550</td>\n",
       "      <td>Action Drama</td>\n",
       "      <td>1997</td>\n",
       "      <td>A female Senator succeeds in enrolling a woman...</td>\n",
       "      <td>357</td>\n",
       "      <td>House of Sand and Fog</td>\n",
       "      <td>1</td>\n",
       "      <td>Action Drama A female Senator succeeds in enro...</td>\n",
       "    </tr>\n",
       "  </tbody>\n",
       "</table>\n",
       "</div>"
      ],
      "text/plain": [
       "   User_ID        genres  release_year  \\\n",
       "1   363550  Action Drama          1997   \n",
       "2   363550  Action Drama          1997   \n",
       "4   363550  Action Drama          1997   \n",
       "5   363550  Action Drama          1997   \n",
       "6   363550  Action Drama          1997   \n",
       "\n",
       "                                            overview  Movie_ID  \\\n",
       "1  A female Senator succeeds in enrolling a woman...       252   \n",
       "2  A female Senator succeeds in enrolling a woman...       253   \n",
       "4  A female Senator succeeds in enrolling a woman...       312   \n",
       "5  A female Senator succeeds in enrolling a woman...       334   \n",
       "6  A female Senator succeeds in enrolling a woman...       357   \n",
       "\n",
       "                    Name  Rating  \\\n",
       "1        Stuart Little 2       5   \n",
       "2   A Night at the Opera       1   \n",
       "4          High Fidelity       1   \n",
       "5           The Pacifier       5   \n",
       "6  House of Sand and Fog       1   \n",
       "\n",
       "                                   combined_features  \n",
       "1  Action Drama A female Senator succeeds in enro...  \n",
       "2  Action Drama A female Senator succeeds in enro...  \n",
       "4  Action Drama A female Senator succeeds in enro...  \n",
       "5  Action Drama A female Senator succeeds in enro...  \n",
       "6  Action Drama A female Senator succeeds in enro...  "
      ]
     },
     "execution_count": 68,
     "metadata": {},
     "output_type": "execute_result"
    }
   ],
   "source": [
    "group_B.head()"
   ]
  },
  {
   "cell_type": "code",
   "execution_count": 69,
   "id": "7dd1fac0-2649-4807-8d53-fdf097ffa4ea",
   "metadata": {},
   "outputs": [
    {
     "data": {
      "text/html": [
       "<div>\n",
       "<style scoped>\n",
       "    .dataframe tbody tr th:only-of-type {\n",
       "        vertical-align: middle;\n",
       "    }\n",
       "\n",
       "    .dataframe tbody tr th {\n",
       "        vertical-align: top;\n",
       "    }\n",
       "\n",
       "    .dataframe thead th {\n",
       "        text-align: right;\n",
       "    }\n",
       "</style>\n",
       "<table border=\"1\" class=\"dataframe\">\n",
       "  <thead>\n",
       "    <tr style=\"text-align: right;\">\n",
       "      <th></th>\n",
       "      <th>User_ID</th>\n",
       "      <th>genres</th>\n",
       "      <th>release_year</th>\n",
       "      <th>overview</th>\n",
       "      <th>Movie_ID</th>\n",
       "      <th>Name</th>\n",
       "      <th>Rating</th>\n",
       "      <th>combined_features</th>\n",
       "    </tr>\n",
       "  </thead>\n",
       "  <tbody>\n",
       "    <tr>\n",
       "      <th>8295</th>\n",
       "      <td>448460</td>\n",
       "      <td>Adventure Fantasy Action</td>\n",
       "      <td>2002</td>\n",
       "      <td>Frodo and Sam are trekking to Mordor to destro...</td>\n",
       "      <td>1770</td>\n",
       "      <td>Trainspotting</td>\n",
       "      <td>3</td>\n",
       "      <td>Adventure Fantasy Action Frodo and Sam are tre...</td>\n",
       "    </tr>\n",
       "    <tr>\n",
       "      <th>9901</th>\n",
       "      <td>84970</td>\n",
       "      <td>Adventure Comedy Crime</td>\n",
       "      <td>1988</td>\n",
       "      <td>An accountant embezzles $15 million of mob mon...</td>\n",
       "      <td>1877</td>\n",
       "      <td>Friends: Season 2</td>\n",
       "      <td>5</td>\n",
       "      <td>Adventure Comedy Crime An accountant embezzles...</td>\n",
       "    </tr>\n",
       "    <tr>\n",
       "      <th>2236</th>\n",
       "      <td>993775</td>\n",
       "      <td>Drama</td>\n",
       "      <td>1988</td>\n",
       "      <td>A rude, contemptuous talk show host becomes ov...</td>\n",
       "      <td>191</td>\n",
       "      <td>X2: X-Men United</td>\n",
       "      <td>3</td>\n",
       "      <td>Drama A rude, contemptuous talk show host beco...</td>\n",
       "    </tr>\n",
       "    <tr>\n",
       "      <th>11193</th>\n",
       "      <td>282391</td>\n",
       "      <td>Adventure Fantasy Family</td>\n",
       "      <td>2009</td>\n",
       "      <td>As Harry begins his sixth year at Hogwarts, he...</td>\n",
       "      <td>3626</td>\n",
       "      <td>25th Hour</td>\n",
       "      <td>4</td>\n",
       "      <td>Adventure Fantasy Family As Harry begins his s...</td>\n",
       "    </tr>\n",
       "    <tr>\n",
       "      <th>6414</th>\n",
       "      <td>241634</td>\n",
       "      <td>Comedy Family</td>\n",
       "      <td>2000</td>\n",
       "      <td>Get ready for a howling good time as an all ne...</td>\n",
       "      <td>329</td>\n",
       "      <td>Dogma</td>\n",
       "      <td>5</td>\n",
       "      <td>Comedy Family Get ready for a howling good tim...</td>\n",
       "    </tr>\n",
       "  </tbody>\n",
       "</table>\n",
       "</div>"
      ],
      "text/plain": [
       "       User_ID                    genres  release_year  \\\n",
       "8295    448460  Adventure Fantasy Action          2002   \n",
       "9901     84970    Adventure Comedy Crime          1988   \n",
       "2236    993775                     Drama          1988   \n",
       "11193   282391  Adventure Fantasy Family          2009   \n",
       "6414    241634             Comedy Family          2000   \n",
       "\n",
       "                                                overview  Movie_ID  \\\n",
       "8295   Frodo and Sam are trekking to Mordor to destro...      1770   \n",
       "9901   An accountant embezzles $15 million of mob mon...      1877   \n",
       "2236   A rude, contemptuous talk show host becomes ov...       191   \n",
       "11193  As Harry begins his sixth year at Hogwarts, he...      3626   \n",
       "6414   Get ready for a howling good time as an all ne...       329   \n",
       "\n",
       "                    Name  Rating  \\\n",
       "8295       Trainspotting       3   \n",
       "9901   Friends: Season 2       5   \n",
       "2236    X2: X-Men United       3   \n",
       "11193          25th Hour       4   \n",
       "6414               Dogma       5   \n",
       "\n",
       "                                       combined_features  \n",
       "8295   Adventure Fantasy Action Frodo and Sam are tre...  \n",
       "9901   Adventure Comedy Crime An accountant embezzles...  \n",
       "2236   Drama A rude, contemptuous talk show host beco...  \n",
       "11193  Adventure Fantasy Family As Harry begins his s...  \n",
       "6414   Comedy Family Get ready for a howling good tim...  "
      ]
     },
     "execution_count": 69,
     "metadata": {},
     "output_type": "execute_result"
    }
   ],
   "source": [
    "group_A.head()"
   ]
  },
  {
   "cell_type": "code",
   "execution_count": 70,
   "id": "f6c6784e-bff1-40fd-a8b0-2468a3a2b098",
   "metadata": {},
   "outputs": [],
   "source": [
    "# using one of the movies from group B\n",
    "groupb_movie = 'Stuart Little 2'\n",
    "# Get the index of the preferred movie\n",
    "groupb_movie = indices[groupb_movie].values[0]"
   ]
  },
  {
   "cell_type": "code",
   "execution_count": 71,
   "id": "a4afa06b-c803-4e77-b678-6bcf4b71f31f",
   "metadata": {},
   "outputs": [],
   "source": [
    "# Get the similarity scores with movies in group A\n",
    "similarity_scores = list(enumerate(cosine_sim_A[groupb_movie]))"
   ]
  },
  {
   "cell_type": "code",
   "execution_count": 72,
   "id": "932abb60-3c6e-4ba7-b042-44818c2d299c",
   "metadata": {},
   "outputs": [],
   "source": [
    "# Sort the movies based on similarity scores\n",
    "sorted_scores = sorted(similarity_scores, key=lambda x: x[1], reverse=True)"
   ]
  },
  {
   "cell_type": "code",
   "execution_count": 73,
   "id": "70a2ac09-33c3-4251-8050-2cdf6efe5629",
   "metadata": {},
   "outputs": [],
   "source": [
    "# Get the top 10 recommended movies\n",
    "top_10_recommendations = [Name[idx] for idx, _ in sorted_scores[1:11]]"
   ]
  },
  {
   "cell_type": "code",
   "execution_count": 75,
   "id": "42140ce9-f2cf-40bb-91d6-32116eddfa6d",
   "metadata": {},
   "outputs": [
    {
     "name": "stdout",
     "output_type": "stream",
     "text": [
      "Top 10 recommended movies:\n",
      "The Village\n",
      "Bend It Like Beckham\n",
      "Braveheart\n",
      "Below\n",
      "Cujo\n",
      "The Deer Hunter\n",
      "Forever Young\n",
      "Ghost Dog: The Way of the Samurai\n",
      "Casino: 10th Anniversary Edition\n",
      "The Importance of Being Earnest\n"
     ]
    }
   ],
   "source": [
    "# Print the top 10 recommended movies\n",
    "print(\"Top 10 recommended movies:\")\n",
    "for movie_title in top_10_recommendations:\n",
    "    print(movie_title)"
   ]
  },
  {
   "cell_type": "markdown",
   "id": "2272cd1f-de8d-4ec5-b208-dacbe474e9bd",
   "metadata": {},
   "source": [
    "### Measuring the Correlation of the different movies recommended "
   ]
  },
  {
   "cell_type": "code",
   "execution_count": 76,
   "id": "4bd53b0a-1302-4bea-b2b1-b605e47992ac",
   "metadata": {},
   "outputs": [],
   "source": [
    "ratings_matrix = new_dataframe.pivot_table(index='User_ID',columns='Name',values='Rating')\n",
    "\n",
    "user_ratings_01 = ratings_matrix['Lilo and Stitch']\n",
    "\n",
    "user_ratings_02 = ratings_matrix['Stuart Little 2']"
   ]
  },
  {
   "cell_type": "code",
   "execution_count": 77,
   "id": "9bf7c30e-260c-41a8-b67d-e02487368e30",
   "metadata": {},
   "outputs": [
    {
     "name": "stderr",
     "output_type": "stream",
     "text": [
      "/opt/anaconda3/envs/ds420/lib/python3.8/site-packages/numpy/lib/function_base.py:2551: RuntimeWarning: Degrees of freedom <= 0 for slice\n",
      "  c = cov(x, y, rowvar)\n",
      "/opt/anaconda3/envs/ds420/lib/python3.8/site-packages/numpy/lib/function_base.py:2480: RuntimeWarning: divide by zero encountered in true_divide\n",
      "  c *= np.true_divide(1, fact)\n"
     ]
    },
    {
     "data": {
      "text/plain": [
       "0.9999999999999999"
      ]
     },
     "execution_count": 77,
     "metadata": {},
     "output_type": "execute_result"
    }
   ],
   "source": [
    "ratings_matrix.corrwith(user_ratings_02 )['Stuart Little 2']"
   ]
  },
  {
   "cell_type": "code",
   "execution_count": 78,
   "id": "a70ccfc1-ce54-4756-9d3d-c993683d6d0b",
   "metadata": {},
   "outputs": [
    {
     "data": {
      "text/html": [
       "<div>\n",
       "<style scoped>\n",
       "    .dataframe tbody tr th:only-of-type {\n",
       "        vertical-align: middle;\n",
       "    }\n",
       "\n",
       "    .dataframe tbody tr th {\n",
       "        vertical-align: top;\n",
       "    }\n",
       "\n",
       "    .dataframe thead th {\n",
       "        text-align: right;\n",
       "    }\n",
       "</style>\n",
       "<table border=\"1\" class=\"dataframe\">\n",
       "  <thead>\n",
       "    <tr style=\"text-align: right;\">\n",
       "      <th></th>\n",
       "      <th>0</th>\n",
       "    </tr>\n",
       "    <tr>\n",
       "      <th>Name</th>\n",
       "      <th></th>\n",
       "    </tr>\n",
       "  </thead>\n",
       "  <tbody>\n",
       "    <tr>\n",
       "      <th>No Way Out</th>\n",
       "      <td>1.0</td>\n",
       "    </tr>\n",
       "    <tr>\n",
       "      <th>Music of the Heart</th>\n",
       "      <td>1.0</td>\n",
       "    </tr>\n",
       "    <tr>\n",
       "      <th>The Rocky Horror Picture Show</th>\n",
       "      <td>1.0</td>\n",
       "    </tr>\n",
       "    <tr>\n",
       "      <th>The Scorpion King</th>\n",
       "      <td>1.0</td>\n",
       "    </tr>\n",
       "    <tr>\n",
       "      <th>Firestarter</th>\n",
       "      <td>1.0</td>\n",
       "    </tr>\n",
       "    <tr>\n",
       "      <th>Boyz N the Hood</th>\n",
       "      <td>1.0</td>\n",
       "    </tr>\n",
       "    <tr>\n",
       "      <th>Back to the Future Part III</th>\n",
       "      <td>1.0</td>\n",
       "    </tr>\n",
       "    <tr>\n",
       "      <th>Stephen King's It!</th>\n",
       "      <td>1.0</td>\n",
       "    </tr>\n",
       "    <tr>\n",
       "      <th>Fifteen Minutes</th>\n",
       "      <td>1.0</td>\n",
       "    </tr>\n",
       "    <tr>\n",
       "      <th>Fallen</th>\n",
       "      <td>1.0</td>\n",
       "    </tr>\n",
       "    <tr>\n",
       "      <th>Evil Dead 2: Dead by Dawn</th>\n",
       "      <td>1.0</td>\n",
       "    </tr>\n",
       "    <tr>\n",
       "      <th>Chain Reaction</th>\n",
       "      <td>1.0</td>\n",
       "    </tr>\n",
       "    <tr>\n",
       "      <th>Scream</th>\n",
       "      <td>1.0</td>\n",
       "    </tr>\n",
       "    <tr>\n",
       "      <th>Dragonheart</th>\n",
       "      <td>1.0</td>\n",
       "    </tr>\n",
       "    <tr>\n",
       "      <th>Saving Grace</th>\n",
       "      <td>1.0</td>\n",
       "    </tr>\n",
       "  </tbody>\n",
       "</table>\n",
       "</div>"
      ],
      "text/plain": [
       "                                 0\n",
       "Name                              \n",
       "No Way Out                     1.0\n",
       "Music of the Heart             1.0\n",
       "The Rocky Horror Picture Show  1.0\n",
       "The Scorpion King              1.0\n",
       "Firestarter                    1.0\n",
       "Boyz N the Hood                1.0\n",
       "Back to the Future Part III    1.0\n",
       "Stephen King's It!             1.0\n",
       "Fifteen Minutes                1.0\n",
       "Fallen                         1.0\n",
       "Evil Dead 2: Dead by Dawn      1.0\n",
       "Chain Reaction                 1.0\n",
       "Scream                         1.0\n",
       "Dragonheart                    1.0\n",
       "Saving Grace                   1.0"
      ]
     },
     "execution_count": 78,
     "metadata": {},
     "output_type": "execute_result"
    }
   ],
   "source": [
    "correlation_user_ratings_01 = pd.DataFrame(ratings_matrix.corrwith(user_ratings_02))\n",
    "correlation_user_ratings_01.dropna().sort_values(0, ascending = False).head(15)"
   ]
  },
  {
   "cell_type": "code",
   "execution_count": 80,
   "id": "342dccca-65da-4c7d-a737-4caebb73678d",
   "metadata": {},
   "outputs": [],
   "source": [
    "from sklearn.feature_extraction.text import TfidfVectorizer\n",
    "tf=TfidfVectorizer(max_features=30000)\n",
    "vectors=tf.fit_transform(new_dataframe['overview']).toarray()\n",
    "from sklearn.metrics.pairwise import cosine_similarity\n",
    "similarity=cosine_similarity(vectors)"
   ]
  },
  {
   "cell_type": "code",
   "execution_count": 81,
   "id": "ecb7076f-a2d2-4dfa-bfb5-dfd1335b49bc",
   "metadata": {},
   "outputs": [
    {
     "data": {
      "text/plain": [
       "array([1.       , 1.       , 1.       , ..., 0.0051394, 0.0051394,\n",
       "       0.0051394])"
      ]
     },
     "execution_count": 81,
     "metadata": {},
     "output_type": "execute_result"
    }
   ],
   "source": [
    "vectors[0]\n",
    "similarity[0]"
   ]
  },
  {
   "cell_type": "code",
   "execution_count": 82,
   "id": "0790c583-ae83-4759-a29f-d00875f10bf0",
   "metadata": {},
   "outputs": [],
   "source": [
    "def recommend(movie_name):\n",
    "    idx=new_dataframe[new_dataframe['Name']==movie_name]['Movie_ID'].values[0]\n",
    "    similar_movies=sorted(list(enumerate(similarity[idx])),key=lambda x:x[1],reverse=True)\n",
    "\n",
    "    for movies in similar_movies[0:10]:\n",
    "        print(new_dataframe.iloc[movies[0]]['Name'])"
   ]
  },
  {
   "cell_type": "code",
   "execution_count": 83,
   "id": "b1af58e2-fc41-4e8d-aac2-ca2d63db993b",
   "metadata": {},
   "outputs": [
    {
     "name": "stdout",
     "output_type": "stream",
     "text": [
      "Reservoir Dogs\n",
      "X2: X-Men United\n",
      "The Deer Hunter\n",
      "Gross Anatomy\n",
      "North by Northwest\n",
      "The Final Countdown\n",
      "Dogma\n",
      "The Twilight Zone: Vol. 27\n",
      "He Said\n",
      "The Hand that Rocks the Cradle\n"
     ]
    }
   ],
   "source": [
    "recommend(\"Stuart Little 2\")"
   ]
  },
  {
   "cell_type": "code",
   "execution_count": 85,
   "id": "4ae12d8a-acb4-4a5d-b414-2dfcd07c722a",
   "metadata": {},
   "outputs": [
    {
     "name": "stdout",
     "output_type": "stream",
     "text": [
      "True\n"
     ]
    },
    {
     "data": {
      "text/html": [
       "<div>\n",
       "<style scoped>\n",
       "    .dataframe tbody tr th:only-of-type {\n",
       "        vertical-align: middle;\n",
       "    }\n",
       "\n",
       "    .dataframe tbody tr th {\n",
       "        vertical-align: top;\n",
       "    }\n",
       "\n",
       "    .dataframe thead th {\n",
       "        text-align: right;\n",
       "    }\n",
       "</style>\n",
       "<table border=\"1\" class=\"dataframe\">\n",
       "  <thead>\n",
       "    <tr style=\"text-align: right;\">\n",
       "      <th></th>\n",
       "      <th>User_ID</th>\n",
       "      <th>genres</th>\n",
       "      <th>release_year</th>\n",
       "      <th>overview</th>\n",
       "      <th>Movie_ID</th>\n",
       "      <th>Name</th>\n",
       "      <th>Rating</th>\n",
       "      <th>combined_features</th>\n",
       "      <th>A</th>\n",
       "      <th>c</th>\n",
       "      <th>t</th>\n",
       "      <th>i</th>\n",
       "      <th>o</th>\n",
       "      <th>n</th>\n",
       "      <th></th>\n",
       "      <th>D</th>\n",
       "      <th>r</th>\n",
       "      <th>a</th>\n",
       "      <th>m</th>\n",
       "      <th>S</th>\n",
       "      <th>e</th>\n",
       "      <th>F</th>\n",
       "      <th>M</th>\n",
       "      <th>y</th>\n",
       "      <th>s</th>\n",
       "      <th>T</th>\n",
       "      <th>h</th>\n",
       "      <th>l</th>\n",
       "      <th>R</th>\n",
       "      <th>d</th>\n",
       "      <th>v</th>\n",
       "      <th>u</th>\n",
       "      <th>C</th>\n",
       "      <th>H</th>\n",
       "      <th>W</th>\n",
       "    </tr>\n",
       "  </thead>\n",
       "  <tbody>\n",
       "    <tr>\n",
       "      <th>0</th>\n",
       "      <td>363550</td>\n",
       "      <td>Action Drama</td>\n",
       "      <td>1997</td>\n",
       "      <td>A female Senator succeeds in enrolling a woman...</td>\n",
       "      <td>28</td>\n",
       "      <td>Lilo and Stitch</td>\n",
       "      <td>5</td>\n",
       "      <td>Action Drama A female Senator succeeds in enro...</td>\n",
       "      <td>1.0</td>\n",
       "      <td>1.0</td>\n",
       "      <td>1.0</td>\n",
       "      <td>1.0</td>\n",
       "      <td>1.0</td>\n",
       "      <td>1.0</td>\n",
       "      <td>1.0</td>\n",
       "      <td>1.0</td>\n",
       "      <td>1.0</td>\n",
       "      <td>1.0</td>\n",
       "      <td>1.0</td>\n",
       "      <td>NaN</td>\n",
       "      <td>NaN</td>\n",
       "      <td>NaN</td>\n",
       "      <td>NaN</td>\n",
       "      <td>NaN</td>\n",
       "      <td>NaN</td>\n",
       "      <td>NaN</td>\n",
       "      <td>NaN</td>\n",
       "      <td>NaN</td>\n",
       "      <td>NaN</td>\n",
       "      <td>NaN</td>\n",
       "      <td>NaN</td>\n",
       "      <td>NaN</td>\n",
       "      <td>NaN</td>\n",
       "      <td>NaN</td>\n",
       "      <td>NaN</td>\n",
       "    </tr>\n",
       "    <tr>\n",
       "      <th>1</th>\n",
       "      <td>363550</td>\n",
       "      <td>Action Drama</td>\n",
       "      <td>1997</td>\n",
       "      <td>A female Senator succeeds in enrolling a woman...</td>\n",
       "      <td>252</td>\n",
       "      <td>Stuart Little 2</td>\n",
       "      <td>5</td>\n",
       "      <td>Action Drama A female Senator succeeds in enro...</td>\n",
       "      <td>1.0</td>\n",
       "      <td>1.0</td>\n",
       "      <td>1.0</td>\n",
       "      <td>1.0</td>\n",
       "      <td>1.0</td>\n",
       "      <td>1.0</td>\n",
       "      <td>1.0</td>\n",
       "      <td>1.0</td>\n",
       "      <td>1.0</td>\n",
       "      <td>1.0</td>\n",
       "      <td>1.0</td>\n",
       "      <td>NaN</td>\n",
       "      <td>NaN</td>\n",
       "      <td>NaN</td>\n",
       "      <td>NaN</td>\n",
       "      <td>NaN</td>\n",
       "      <td>NaN</td>\n",
       "      <td>NaN</td>\n",
       "      <td>NaN</td>\n",
       "      <td>NaN</td>\n",
       "      <td>NaN</td>\n",
       "      <td>NaN</td>\n",
       "      <td>NaN</td>\n",
       "      <td>NaN</td>\n",
       "      <td>NaN</td>\n",
       "      <td>NaN</td>\n",
       "      <td>NaN</td>\n",
       "    </tr>\n",
       "    <tr>\n",
       "      <th>2</th>\n",
       "      <td>363550</td>\n",
       "      <td>Action Drama</td>\n",
       "      <td>1997</td>\n",
       "      <td>A female Senator succeeds in enrolling a woman...</td>\n",
       "      <td>253</td>\n",
       "      <td>A Night at the Opera</td>\n",
       "      <td>1</td>\n",
       "      <td>Action Drama A female Senator succeeds in enro...</td>\n",
       "      <td>1.0</td>\n",
       "      <td>1.0</td>\n",
       "      <td>1.0</td>\n",
       "      <td>1.0</td>\n",
       "      <td>1.0</td>\n",
       "      <td>1.0</td>\n",
       "      <td>1.0</td>\n",
       "      <td>1.0</td>\n",
       "      <td>1.0</td>\n",
       "      <td>1.0</td>\n",
       "      <td>1.0</td>\n",
       "      <td>NaN</td>\n",
       "      <td>NaN</td>\n",
       "      <td>NaN</td>\n",
       "      <td>NaN</td>\n",
       "      <td>NaN</td>\n",
       "      <td>NaN</td>\n",
       "      <td>NaN</td>\n",
       "      <td>NaN</td>\n",
       "      <td>NaN</td>\n",
       "      <td>NaN</td>\n",
       "      <td>NaN</td>\n",
       "      <td>NaN</td>\n",
       "      <td>NaN</td>\n",
       "      <td>NaN</td>\n",
       "      <td>NaN</td>\n",
       "      <td>NaN</td>\n",
       "    </tr>\n",
       "  </tbody>\n",
       "</table>\n",
       "</div>"
      ],
      "text/plain": [
       "   User_ID        genres  release_year  \\\n",
       "0   363550  Action Drama          1997   \n",
       "1   363550  Action Drama          1997   \n",
       "2   363550  Action Drama          1997   \n",
       "\n",
       "                                            overview  Movie_ID  \\\n",
       "0  A female Senator succeeds in enrolling a woman...        28   \n",
       "1  A female Senator succeeds in enrolling a woman...       252   \n",
       "2  A female Senator succeeds in enrolling a woman...       253   \n",
       "\n",
       "                   Name  Rating  \\\n",
       "0       Lilo and Stitch       5   \n",
       "1       Stuart Little 2       5   \n",
       "2  A Night at the Opera       1   \n",
       "\n",
       "                                   combined_features    A    c    t    i    o  \\\n",
       "0  Action Drama A female Senator succeeds in enro...  1.0  1.0  1.0  1.0  1.0   \n",
       "1  Action Drama A female Senator succeeds in enro...  1.0  1.0  1.0  1.0  1.0   \n",
       "2  Action Drama A female Senator succeeds in enro...  1.0  1.0  1.0  1.0  1.0   \n",
       "\n",
       "     n         D    r    a    m   S   e   F   M   y   s   T   h   l   R   d  \\\n",
       "0  1.0  1.0  1.0  1.0  1.0  1.0 NaN NaN NaN NaN NaN NaN NaN NaN NaN NaN NaN   \n",
       "1  1.0  1.0  1.0  1.0  1.0  1.0 NaN NaN NaN NaN NaN NaN NaN NaN NaN NaN NaN   \n",
       "2  1.0  1.0  1.0  1.0  1.0  1.0 NaN NaN NaN NaN NaN NaN NaN NaN NaN NaN NaN   \n",
       "\n",
       "    v   u   C   H   W  \n",
       "0 NaN NaN NaN NaN NaN  \n",
       "1 NaN NaN NaN NaN NaN  \n",
       "2 NaN NaN NaN NaN NaN  "
      ]
     },
     "execution_count": 85,
     "metadata": {},
     "output_type": "execute_result"
    }
   ],
   "source": [
    "# First let's make a copy of the movies_df\n",
    "movies_with_genres = new_dataframe.copy(deep=True)\n",
    "\n",
    "# Let's iterate through Final_Netflix_UserRatings, then append the movie genres as columns of 1s or 0s.\n",
    "# 1 if that column contains movies in the genre at the present index and 0 if not.\n",
    "\n",
    "x = []\n",
    "for index, row in new_dataframe.iterrows():\n",
    "    x.append(index)\n",
    "    for genre in row['genres']:\n",
    "        movies_with_genres.at[index, genre] = 1\n",
    "\n",
    "# Confirm that every row has been iterated and acted upon\n",
    "print(len(x) == len(new_dataframe))\n",
    "\n",
    "movies_with_genres.head(3)"
   ]
  },
  {
   "cell_type": "code",
   "execution_count": 86,
   "id": "19ec9fe0-c32b-4f89-a69a-b4915a52824a",
   "metadata": {},
   "outputs": [],
   "source": [
    "def check_genre(genre_list,string):\n",
    "    if any(x in string for x in genre_list):\n",
    "        return True\n",
    "    else:\n",
    "        return False\n",
    "    \n",
    "def get_recommendation(name):\n",
    "    #generating list of movies with the same genre with target\n",
    "    movie_genre = genre_dict.loc[Name].values[0].split(', ')\n",
    "    cols = new_dataframe[new_dataframe['genres'].apply(\n",
    "        lambda x: check_genre(movie_genre,str(x)))]['Name'].tolist()\n",
    "    \n",
    "    #create matrix based on generated list\n",
    "    moviematrix = new_dataframe[new_dataframe['Name'].isin(cols)].pivot_table(\n",
    "        index='user_id',columns='Name',values='rating')"
   ]
  },
  {
   "cell_type": "code",
   "execution_count": 88,
   "id": "e9505604-6e13-4f9d-bc5c-063619c71a5a",
   "metadata": {},
   "outputs": [],
   "source": [
    "new_dataframe.groupby('Name')['Rating'].mean().sort_values(ascending=False).head(10)\n",
    "new_dataframe.groupby('Name')['Rating'].count().sort_values(ascending=False).head(10)\n",
    "ratings = pd.DataFrame(Final_Netflix_UserRatings.groupby('Name')['rating'].mean())\n",
    "ratings['num of ratings'] = pd.DataFrame(Final_Netflix_UserRatings.groupby('Name')['rating'].count())\n",
    "\n",
    "genre_dict = pd.DataFrame(Final_Netflix_UserRatings[['Name','genres']])\n",
    "genre_dict.set_index('Name',inplace=True)"
   ]
  },
  {
   "cell_type": "code",
   "execution_count": 89,
   "id": "de58fec3-9d72-4705-822e-534653c6d310",
   "metadata": {},
   "outputs": [
    {
     "data": {
      "text/html": [
       "<div>\n",
       "<style scoped>\n",
       "    .dataframe tbody tr th:only-of-type {\n",
       "        vertical-align: middle;\n",
       "    }\n",
       "\n",
       "    .dataframe tbody tr th {\n",
       "        vertical-align: top;\n",
       "    }\n",
       "\n",
       "    .dataframe thead th {\n",
       "        text-align: right;\n",
       "    }\n",
       "</style>\n",
       "<table border=\"1\" class=\"dataframe\">\n",
       "  <thead>\n",
       "    <tr style=\"text-align: right;\">\n",
       "      <th></th>\n",
       "      <th>rating</th>\n",
       "      <th>num of ratings</th>\n",
       "    </tr>\n",
       "    <tr>\n",
       "      <th>Name</th>\n",
       "      <th></th>\n",
       "      <th></th>\n",
       "    </tr>\n",
       "  </thead>\n",
       "  <tbody>\n",
       "    <tr>\n",
       "      <th>10</th>\n",
       "      <td>3.0</td>\n",
       "      <td>1</td>\n",
       "    </tr>\n",
       "    <tr>\n",
       "      <th>10 Things I Hate About You</th>\n",
       "      <td>3.5</td>\n",
       "      <td>24</td>\n",
       "    </tr>\n",
       "    <tr>\n",
       "      <th>101 Dalmatians II: Patch's London Adventure</th>\n",
       "      <td>4.5</td>\n",
       "      <td>4</td>\n",
       "    </tr>\n",
       "    <tr>\n",
       "      <th>11:14</th>\n",
       "      <td>3.0</td>\n",
       "      <td>1</td>\n",
       "    </tr>\n",
       "    <tr>\n",
       "      <th>13 Ghosts</th>\n",
       "      <td>5.0</td>\n",
       "      <td>2</td>\n",
       "    </tr>\n",
       "  </tbody>\n",
       "</table>\n",
       "</div>"
      ],
      "text/plain": [
       "                                             rating  num of ratings\n",
       "Name                                                               \n",
       "10                                              3.0               1\n",
       "10 Things I Hate About You                      3.5              24\n",
       "101 Dalmatians II: Patch's London Adventure     4.5               4\n",
       "11:14                                           3.0               1\n",
       "13 Ghosts                                       5.0               2"
      ]
     },
     "execution_count": 89,
     "metadata": {},
     "output_type": "execute_result"
    }
   ],
   "source": [
    "ratings.head()"
   ]
  },
  {
   "cell_type": "code",
   "execution_count": 90,
   "id": "f9e0520d-f539-41df-a163-f11bbe29d21f",
   "metadata": {},
   "outputs": [
    {
     "data": {
      "text/plain": [
       "(0.0, 100.0)"
      ]
     },
     "execution_count": 90,
     "metadata": {},
     "output_type": "execute_result"
    },
    {
     "data": {
      "image/png": "[encoded data removed]",
      "text/plain": [
       "<Figure size 1500x500 with 1 Axes>"
      ]
     },
     "metadata": {},
     "output_type": "display_data"
    }
   ],
   "source": [
    "plt.figure(figsize=(15,5))\n",
    "ratings['num of ratings'].hist(bins=300)\n",
    "plt.xlim(0,100)"
   ]
  },
  {
   "cell_type": "code",
   "execution_count": 96,
   "id": "75065e2e-f546-4af5-9c68-79c5826ead2f",
   "metadata": {},
   "outputs": [],
   "source": [
    "#create correlation table\n",
    "#movie_user_rating =  new_dataframe[new_dataframe['Name']\n",
    "#correlation = new_dataframe['Name'].corr(movie_user_rating)\n",
    "#similar_movie = new_dataframe[new_dataframe['Name'].corr() == correlation]                                  \n",
    "#similiar_movie =  new_dataframe[new_dataframe['Name'].corrwith(movie_user_rating)\n",
    "#corr_movie = pd.DataFrame(similiar_movie,columns=['correlation'])\n",
    "#corr_movie = corr_movie.join(ratings['num of ratings'])\n",
    "#corr_movie.dropna(inplace=True)\n",
    "#corr_movie = corr_movie[corr_movie['num of ratings']>5000].sort_values(\n",
    "    #'correlation',ascending=False)\n",
    "    \n",
    "#return corr_movie.head(10)"
   ]
  },
  {
   "cell_type": "code",
   "execution_count": 95,
   "id": "1ef7383a-3dbb-417c-86ac-4d841b65ec34",
   "metadata": {},
   "outputs": [],
   "source": [
    "#from scipy.stats import pearsonr\n",
    "\n",
    "#correlation_values = new_dataframe['Name'].apply(lambda x: pearsonr(x, movie_user_rating)[0])\n",
    "#similar_movie = new_dataframe[correlation_values == correlation_values.max()]"
   ]
  },
  {
   "cell_type": "code",
   "execution_count": null,
   "id": "a8f4727b-e790-4544-ae5f-0b46ae8009b0",
   "metadata": {},
   "outputs": [],
   "source": []
  }
 ],
 "metadata": {
  "kernelspec": {
   "display_name": "DS420 (Python3.8)",
   "language": "python",
   "name": "ds420"
  },
  "language_info": {
   "codemirror_mode": {
    "name": "ipython",
    "version": 3
   },
   "file_extension": ".py",
   "mimetype": "text/x-python",
   "name": "python",
   "nbconvert_exporter": "python",
   "pygments_lexer": "ipython3",
   "version": "3.8.13"
  }
 },
 "nbformat": 4,
 "nbformat_minor": 5
}
