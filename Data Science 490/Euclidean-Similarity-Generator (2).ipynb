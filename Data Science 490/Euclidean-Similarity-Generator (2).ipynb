{
 "cells": [
  {
   "cell_type": "markdown",
   "id": "b889836f-1f09-4463-b3db-f4aa2c16186f",
   "metadata": {},
   "source": [
    "## CONTENT BASED FILTERING RECOMMENDATION SYSTEM "
   ]
  },
  {
   "cell_type": "markdown",
   "id": "76d4616e-0b3c-4bc7-91da-763bccb679c2",
   "metadata": {},
   "source": [
    "### EUCLIDEAN DISTANCE GENERATOR "
   ]
  },
  {
   "cell_type": "raw",
   "id": "1f9b4732-7f60-4bcb-ac74-8e3c5d1738c2",
   "metadata": {},
   "source": [
    "The goal for this notebook is to create a Euclidean generator for the Candidate generator to be used in the recommendation system. It is building an effective function that achieves the target"
   ]
  },
  {
   "cell_type": "markdown",
   "id": "f7e2cb9a-215d-49d3-9a2d-c48780c07e2b",
   "metadata": {},
   "source": [
    "#### LOAD THE LIBRARIES FOR MODEL"
   ]
  },
  {
   "cell_type": "code",
   "execution_count": 81,
   "id": "10f04775-5c67-4b7d-b3ec-c2ded1e34d12",
   "metadata": {},
   "outputs": [],
   "source": [
    "from __future__ import print_function\n",
    "import pandas as pd\n",
    "import re\n",
    "import os\n",
    "import time\n",
    "import matplotlib.pyplot as plt\n",
    "import numpy as np\n",
    "import collections\n",
    "from mpl_toolkits.mplot3d import Axes3D\n",
    "from IPython import display\n",
    "from matplotlib import pyplot as plt\n",
    "import sklearn\n",
    "import sklearn.manifold\n",
    "import tensorflow.compat.v1 as tf\n",
    "tf.disable_v2_behavior()\n",
    "tf.logging.set_verbosity(tf.logging.ERROR)\n",
    "pd.options.display.max_columns = 80"
   ]
  },
  {
   "cell_type": "markdown",
   "id": "47ba9e53-ba6f-4807-9417-7f8f16d496e4",
   "metadata": {},
   "source": [
    "#### LOADING THE DATA AND DATA PRELIMINARY CLEANING "
   ]
  },
  {
   "cell_type": "code",
   "execution_count": 82,
   "id": "6109b6cb-721f-4245-9452-eb583963e9ec",
   "metadata": {},
   "outputs": [
    {
     "data": {
      "text/html": [
       "<div>\n",
       "<style scoped>\n",
       "    .dataframe tbody tr th:only-of-type {\n",
       "        vertical-align: middle;\n",
       "    }\n",
       "\n",
       "    .dataframe tbody tr th {\n",
       "        vertical-align: top;\n",
       "    }\n",
       "\n",
       "    .dataframe thead th {\n",
       "        text-align: right;\n",
       "    }\n",
       "</style>\n",
       "<table border=\"1\" class=\"dataframe\">\n",
       "  <thead>\n",
       "    <tr style=\"text-align: right;\">\n",
       "      <th></th>\n",
       "      <th>Name</th>\n",
       "      <th>Year</th>\n",
       "      <th>kind</th>\n",
       "      <th>genre</th>\n",
       "      <th>imdb_rating</th>\n",
       "      <th>vote</th>\n",
       "      <th>country</th>\n",
       "      <th>language</th>\n",
       "      <th>cast</th>\n",
       "      <th>director</th>\n",
       "      <th>composer</th>\n",
       "      <th>writer</th>\n",
       "      <th>runtime</th>\n",
       "    </tr>\n",
       "  </thead>\n",
       "  <tbody>\n",
       "    <tr>\n",
       "      <th>0</th>\n",
       "      <td>Dinosaur Planet</td>\n",
       "      <td>2003</td>\n",
       "      <td>tv mini series</td>\n",
       "      <td>['Documentary', 'Animation', 'Family']</td>\n",
       "      <td>7.7</td>\n",
       "      <td>474.0</td>\n",
       "      <td>['United States']</td>\n",
       "      <td>['English']</td>\n",
       "      <td>['Christian Slater', 'Scott Sampson']</td>\n",
       "      <td>NaN</td>\n",
       "      <td>NaN</td>\n",
       "      <td>['Mike Carrol', 'Mike Carroll', 'Georgann Kane']</td>\n",
       "      <td>50.0</td>\n",
       "    </tr>\n",
       "    <tr>\n",
       "      <th>1</th>\n",
       "      <td>Get Up and Dance!</td>\n",
       "      <td>1994</td>\n",
       "      <td>video movie</td>\n",
       "      <td>['Family']</td>\n",
       "      <td>8.1</td>\n",
       "      <td>18.0</td>\n",
       "      <td>['United States']</td>\n",
       "      <td>['English']</td>\n",
       "      <td>['Paula Abdul', 'Aurorah Allain', 'Bill Bohl',...</td>\n",
       "      <td>['Steve Purcell']</td>\n",
       "      <td>NaN</td>\n",
       "      <td>NaN</td>\n",
       "      <td>83.0</td>\n",
       "    </tr>\n",
       "    <tr>\n",
       "      <th>2</th>\n",
       "      <td>8 Man</td>\n",
       "      <td>1992</td>\n",
       "      <td>movie</td>\n",
       "      <td>['Action', 'Sci-Fi']</td>\n",
       "      <td>5.5</td>\n",
       "      <td>93.0</td>\n",
       "      <td>['Japan']</td>\n",
       "      <td>['Japanese']</td>\n",
       "      <td>['Kai Shishido', 'Etsushi Takahashi', 'Sachiko...</td>\n",
       "      <td>['Yasuhiro Horiuchi']</td>\n",
       "      <td>['Carole King']</td>\n",
       "      <td>['Kazumasa Hirai', 'Jirô Kuwata', 'Junko Suzuki']</td>\n",
       "      <td>NaN</td>\n",
       "    </tr>\n",
       "    <tr>\n",
       "      <th>3</th>\n",
       "      <td>What the #$*! Do We (K)now!?</td>\n",
       "      <td>2004</td>\n",
       "      <td>movie</td>\n",
       "      <td>['Documentary', 'Comedy', 'Drama', 'Fantasy', ...</td>\n",
       "      <td>5.3</td>\n",
       "      <td>13432.0</td>\n",
       "      <td>['United States']</td>\n",
       "      <td>['English', 'German', 'Spanish']</td>\n",
       "      <td>['Marlee Matlin', 'Elaine Hendrix', 'John Ross...</td>\n",
       "      <td>['William Arntz', 'Betsy Chasse', 'Mark Vicente']</td>\n",
       "      <td>['Christopher Franke']</td>\n",
       "      <td>['William Arntz', 'Betsy Chasse', 'Matthew Hof...</td>\n",
       "      <td>60.0</td>\n",
       "    </tr>\n",
       "    <tr>\n",
       "      <th>4</th>\n",
       "      <td>Class of Nuke 'Em High Part II: Subhumanoid Me...</td>\n",
       "      <td>1991</td>\n",
       "      <td>movie</td>\n",
       "      <td>['Comedy', 'Horror', 'Sci-Fi']</td>\n",
       "      <td>4.5</td>\n",
       "      <td>2177.0</td>\n",
       "      <td>['United States']</td>\n",
       "      <td>['English']</td>\n",
       "      <td>['Brick Bronsky', 'Lisa Gaye', 'Leesa Rowland'...</td>\n",
       "      <td>['Eric Louzil']</td>\n",
       "      <td>['Bob Mithoff']</td>\n",
       "      <td>['Lloyd Kaufman', 'Carl Morano', 'Matt Unger']</td>\n",
       "      <td>96.0</td>\n",
       "    </tr>\n",
       "  </tbody>\n",
       "</table>\n",
       "</div>"
      ],
      "text/plain": [
       "                                                Name  Year            kind  \\\n",
       "0                                    Dinosaur Planet  2003  tv mini series   \n",
       "1                                  Get Up and Dance!  1994     video movie   \n",
       "2                                              8 Man  1992           movie   \n",
       "3                       What the #$*! Do We (K)now!?  2004           movie   \n",
       "4  Class of Nuke 'Em High Part II: Subhumanoid Me...  1991           movie   \n",
       "\n",
       "                                               genre  imdb_rating     vote  \\\n",
       "0             ['Documentary', 'Animation', 'Family']          7.7    474.0   \n",
       "1                                         ['Family']          8.1     18.0   \n",
       "2                               ['Action', 'Sci-Fi']          5.5     93.0   \n",
       "3  ['Documentary', 'Comedy', 'Drama', 'Fantasy', ...          5.3  13432.0   \n",
       "4                     ['Comedy', 'Horror', 'Sci-Fi']          4.5   2177.0   \n",
       "\n",
       "             country                          language  \\\n",
       "0  ['United States']                       ['English']   \n",
       "1  ['United States']                       ['English']   \n",
       "2          ['Japan']                      ['Japanese']   \n",
       "3  ['United States']  ['English', 'German', 'Spanish']   \n",
       "4  ['United States']                       ['English']   \n",
       "\n",
       "                                                cast  \\\n",
       "0              ['Christian Slater', 'Scott Sampson']   \n",
       "1  ['Paula Abdul', 'Aurorah Allain', 'Bill Bohl',...   \n",
       "2  ['Kai Shishido', 'Etsushi Takahashi', 'Sachiko...   \n",
       "3  ['Marlee Matlin', 'Elaine Hendrix', 'John Ross...   \n",
       "4  ['Brick Bronsky', 'Lisa Gaye', 'Leesa Rowland'...   \n",
       "\n",
       "                                            director                composer  \\\n",
       "0                                                NaN                     NaN   \n",
       "1                                  ['Steve Purcell']                     NaN   \n",
       "2                              ['Yasuhiro Horiuchi']         ['Carole King']   \n",
       "3  ['William Arntz', 'Betsy Chasse', 'Mark Vicente']  ['Christopher Franke']   \n",
       "4                                    ['Eric Louzil']         ['Bob Mithoff']   \n",
       "\n",
       "                                              writer  runtime  \n",
       "0   ['Mike Carrol', 'Mike Carroll', 'Georgann Kane']     50.0  \n",
       "1                                                NaN     83.0  \n",
       "2  ['Kazumasa Hirai', 'Jirô Kuwata', 'Junko Suzuki']      NaN  \n",
       "3  ['William Arntz', 'Betsy Chasse', 'Matthew Hof...     60.0  \n",
       "4     ['Lloyd Kaufman', 'Carl Morano', 'Matt Unger']     96.0  "
      ]
     },
     "execution_count": 82,
     "metadata": {},
     "output_type": "execute_result"
    }
   ],
   "source": [
    "Moviesdf = pd.read_csv (\"imdb_processed.csv\")\n",
    "Moviesdf.head()"
   ]
  },
  {
   "cell_type": "code",
   "execution_count": 83,
   "id": "9c2b2120-2aef-41ef-a92c-1326df01c11a",
   "metadata": {},
   "outputs": [
    {
     "data": {
      "text/plain": [
       "(8451, 13)"
      ]
     },
     "execution_count": 83,
     "metadata": {},
     "output_type": "execute_result"
    }
   ],
   "source": [
    "## Output of the number of rows and columns respectively.\n",
    "Moviesdf.shape"
   ]
  },
  {
   "cell_type": "code",
   "execution_count": 84,
   "id": "612864cc-125b-4974-86c2-35a9080f5989",
   "metadata": {},
   "outputs": [
    {
     "name": "stdout",
     "output_type": "stream",
     "text": [
      "<class 'pandas.core.frame.DataFrame'>\n",
      "RangeIndex: 8451 entries, 0 to 8450\n",
      "Data columns (total 13 columns):\n",
      " #   Column       Non-Null Count  Dtype  \n",
      "---  ------       --------------  -----  \n",
      " 0   Name         8451 non-null   object \n",
      " 1   Year         8451 non-null   int64  \n",
      " 2   kind         8451 non-null   object \n",
      " 3   genre        8384 non-null   object \n",
      " 4   imdb_rating  8135 non-null   float64\n",
      " 5   vote         8135 non-null   float64\n",
      " 6   country      8152 non-null   object \n",
      " 7   language     8052 non-null   object \n",
      " 8   cast         8280 non-null   object \n",
      " 9   director     7140 non-null   object \n",
      " 10  composer     5722 non-null   object \n",
      " 11  writer       7204 non-null   object \n",
      " 12  runtime      6798 non-null   float64\n",
      "dtypes: float64(3), int64(1), object(9)\n",
      "memory usage: 858.4+ KB\n"
     ]
    }
   ],
   "source": [
    "## The information on the dataset\n",
    "Moviesdf.info()"
   ]
  },
  {
   "cell_type": "code",
   "execution_count": 85,
   "id": "63f3b191-8884-40a8-8855-3c9350af21ad",
   "metadata": {},
   "outputs": [
    {
     "data": {
      "text/plain": [
       "Name              0\n",
       "Year              0\n",
       "kind              0\n",
       "genre            67\n",
       "imdb_rating     316\n",
       "vote            316\n",
       "country         299\n",
       "language        399\n",
       "cast            171\n",
       "director       1311\n",
       "composer       2729\n",
       "writer         1247\n",
       "runtime        1653\n",
       "dtype: int64"
      ]
     },
     "execution_count": 85,
     "metadata": {},
     "output_type": "execute_result"
    }
   ],
   "source": [
    "## Missing information within the dataframe\n",
    "Moviesdf.isnull().sum()"
   ]
  },
  {
   "cell_type": "code",
   "execution_count": 86,
   "id": "85b7e4f7-67a9-471a-b598-51bc979f6b83",
   "metadata": {},
   "outputs": [],
   "source": [
    "# Drop rows with missing values\n",
    "#Moviesdf = Moviesdf.dropna()\n",
    "#Moviesdf.isnull().sum()"
   ]
  },
  {
   "cell_type": "code",
   "execution_count": 87,
   "id": "4e6a4fef-af9a-4899-9db1-1f0405923f4e",
   "metadata": {},
   "outputs": [
    {
     "data": {
      "text/plain": [
       "(8451, 13)"
      ]
     },
     "execution_count": 87,
     "metadata": {},
     "output_type": "execute_result"
    }
   ],
   "source": [
    "Moviesdf.shape"
   ]
  },
  {
   "cell_type": "markdown",
   "id": "4f5fc9da-f390-404a-b419-c37eca85713f",
   "metadata": {},
   "source": [
    "## CANDIDATE GENERATION "
   ]
  },
  {
   "cell_type": "code",
   "execution_count": 88,
   "id": "5d96a141-dd9d-4cf3-9246-3e9c0610fb52",
   "metadata": {},
   "outputs": [],
   "source": [
    "## Libaries necessary for the function \n",
    "from scipy.spatial.distance import euclidean\n",
    "from sklearn.preprocessing import StandardScaler\n",
    "from sklearn.feature_extraction.text import TfidfVectorizer\n",
    "from sklearn.preprocessing import StandardScaler"
   ]
  },
  {
   "cell_type": "code",
   "execution_count": 89,
   "id": "1e876142-9d11-4371-8618-537855e4a7d2",
   "metadata": {},
   "outputs": [],
   "source": [
    "### Helping functions for model \n",
    "## Splits a DataFrame into training and test sets\n",
    "def split_dataframe(df, holdout_fraction=0.2):\n",
    "    total_size = len(df)\n",
    "    test_size = int(total_size * holdout_fraction)\n",
    "    \n",
    "    # Generate a random boolean array to select rows for the test set\n",
    "    test_indices = np.random.choice(total_size, size=test_size, replace=False)\n",
    "    \n",
    "    # Split the DataFrame into training and test sets based on the selected indices\n",
    "    test = df.iloc[test_indices]\n",
    "    train = df.drop(df.index[test_indices])\n",
    "    \n",
    "    return train, test"
   ]
  },
  {
   "cell_type": "code",
   "execution_count": 90,
   "id": "f8769a7a-545e-4963-ae05-e8005456caa3",
   "metadata": {},
   "outputs": [],
   "source": [
    "## the libraries necessary for the euclidean distance calculation \n",
    "# Select relevant columns for similarity calculation (e.g., movie features)\n",
    "selected_columns = ['kind', 'genre', 'country','language']  # Replace with actual feature names\n",
    "features = Moviesdf[selected_columns]"
   ]
  },
  {
   "cell_type": "code",
   "execution_count": 91,
   "id": "5f11f2ea-5d18-4bb9-a53f-7b0541a14845",
   "metadata": {},
   "outputs": [],
   "source": [
    "# Split the data into training and test sets\n",
    "training_data, test_data = split_dataframe(Moviesdf, holdout_fraction=0.2)"
   ]
  },
  {
   "cell_type": "code",
   "execution_count": 92,
   "id": "adb7c083-1fd0-4493-ac05-9d39616a6059",
   "metadata": {},
   "outputs": [],
   "source": [
    "\n",
    "def euclidean_similarity_generator(training_data, features, k=5):\n",
    "    # Perform one-hot encoding on categorical features\n",
    "    training_features = pd.get_dummies(training_data[features])\n",
    "    \n",
    "    # Standardize the features\n",
    "    scaler = StandardScaler()\n",
    "    training_features = scaler.fit_transform(training_features)\n",
    "    \n",
    "    # Calculate pairwise distances between training features\n",
    "    distances = []\n",
    "    for i in range(training_features.shape[0]):\n",
    "        test_movie = training_features[i]\n",
    "        movie_distances = []\n",
    "        for j in range(training_features.shape[0]):\n",
    "            if i != j:  # Exclude the same movie from distance calculation\n",
    "                training_movie = training_features[j]\n",
    "                distance = euclidean(test_movie, training_movie)\n",
    "                movie_distances.append((distance, j))\n",
    "        distances.append(movie_distances)\n",
    "    \n",
    "    # Sort distances and retrieve indices of most similar movies\n",
    "    similar_movies_indices = []\n",
    "    for movie_distances in distances:\n",
    "        movie_distances.sort()\n",
    "        indices = [index for _, index in movie_distances[:k]]\n",
    "        similar_movies_indices.append(indices)\n",
    "        \n",
    "      # Transform indices to matching movie names\n",
    "    similar_movies = []\n",
    "    for indices in similar_movies_indices:\n",
    "        movie_names = training_data.iloc[indices]['Names'].tolist()\n",
    "        similar_movies.append(movie_names)   \n",
    "    \n",
    "    # Get similar movies' information from training data\n",
    "    #similar_movies = [training_data.iloc[indices] for indices in similar_movies_indices]\n",
    "    \n",
    "    return similar_movies"
   ]
  },
  {
   "cell_type": "code",
   "execution_count": 99,
   "id": "f28790cb-f8da-437f-9bc6-8cb18e4d3758",
   "metadata": {},
   "outputs": [
    {
     "name": "stdout",
     "output_type": "stream",
     "text": [
      "Similar movies for test sample 'The Man Without a Past':\n"
     ]
    },
    {
     "data": {
      "text/html": [
       "<div>\n",
       "<style scoped>\n",
       "    .dataframe tbody tr th:only-of-type {\n",
       "        vertical-align: middle;\n",
       "    }\n",
       "\n",
       "    .dataframe tbody tr th {\n",
       "        vertical-align: top;\n",
       "    }\n",
       "\n",
       "    .dataframe thead th {\n",
       "        text-align: right;\n",
       "    }\n",
       "</style>\n",
       "<table border=\"1\" class=\"dataframe\">\n",
       "  <thead>\n",
       "    <tr style=\"text-align: right;\">\n",
       "      <th></th>\n",
       "      <th>Name</th>\n",
       "      <th>Year</th>\n",
       "      <th>kind</th>\n",
       "      <th>genre</th>\n",
       "      <th>imdb_rating</th>\n",
       "      <th>vote</th>\n",
       "      <th>country</th>\n",
       "      <th>language</th>\n",
       "      <th>cast</th>\n",
       "      <th>director</th>\n",
       "      <th>composer</th>\n",
       "      <th>writer</th>\n",
       "      <th>runtime</th>\n",
       "    </tr>\n",
       "  </thead>\n",
       "  <tbody>\n",
       "    <tr>\n",
       "      <th>899</th>\n",
       "      <td>National Geographic: Inside 9/11</td>\n",
       "      <td>2004</td>\n",
       "      <td>tv mini series</td>\n",
       "      <td>['Documentary']</td>\n",
       "      <td>8.0</td>\n",
       "      <td>489.0</td>\n",
       "      <td>['United States']</td>\n",
       "      <td>['English']</td>\n",
       "      <td>['Rohan Gunaratna', 'Terry McDermott', 'Patric...</td>\n",
       "      <td>NaN</td>\n",
       "      <td>NaN</td>\n",
       "      <td>['Michael Bronner', 'Kristen Akers Gozdecki', ...</td>\n",
       "      <td>104.0</td>\n",
       "    </tr>\n",
       "    <tr>\n",
       "      <th>1467</th>\n",
       "      <td>The Secret Life of the Brain</td>\n",
       "      <td>2002</td>\n",
       "      <td>tv mini series</td>\n",
       "      <td>['Documentary']</td>\n",
       "      <td>7.5</td>\n",
       "      <td>73.0</td>\n",
       "      <td>['United States']</td>\n",
       "      <td>['English']</td>\n",
       "      <td>['Blair Brown', 'Heidelise Als', 'Frank Duffy'...</td>\n",
       "      <td>NaN</td>\n",
       "      <td>NaN</td>\n",
       "      <td>['Edward Gray', 'David Grubin', 'Tom Jennings']</td>\n",
       "      <td>68.0</td>\n",
       "    </tr>\n",
       "    <tr>\n",
       "      <th>1743</th>\n",
       "      <td>Joseph Campbell and the Power of Myth</td>\n",
       "      <td>1988</td>\n",
       "      <td>tv mini series</td>\n",
       "      <td>['Documentary']</td>\n",
       "      <td>8.9</td>\n",
       "      <td>1029.0</td>\n",
       "      <td>['United States']</td>\n",
       "      <td>['English']</td>\n",
       "      <td>['Joseph Campbell', 'Bill Moyers', 'George Luc...</td>\n",
       "      <td>NaN</td>\n",
       "      <td>NaN</td>\n",
       "      <td>NaN</td>\n",
       "      <td>31.0</td>\n",
       "    </tr>\n",
       "    <tr>\n",
       "      <th>2035</th>\n",
       "      <td>Navy SEALs: BUDS Class 234</td>\n",
       "      <td>2000</td>\n",
       "      <td>tv mini series</td>\n",
       "      <td>['Documentary']</td>\n",
       "      <td>8.5</td>\n",
       "      <td>466.0</td>\n",
       "      <td>['United States']</td>\n",
       "      <td>['English']</td>\n",
       "      <td>NaN</td>\n",
       "      <td>NaN</td>\n",
       "      <td>NaN</td>\n",
       "      <td>['Gordon Forbes III']</td>\n",
       "      <td>101.0</td>\n",
       "    </tr>\n",
       "    <tr>\n",
       "      <th>2640</th>\n",
       "      <td>Pregnancy for Dummies</td>\n",
       "      <td>2001</td>\n",
       "      <td>tv mini series</td>\n",
       "      <td>['Documentary']</td>\n",
       "      <td>7.7</td>\n",
       "      <td>11.0</td>\n",
       "      <td>['United States']</td>\n",
       "      <td>['English']</td>\n",
       "      <td>['Leora Randall']</td>\n",
       "      <td>NaN</td>\n",
       "      <td>NaN</td>\n",
       "      <td>['J.M. Stifle']</td>\n",
       "      <td>3.0</td>\n",
       "    </tr>\n",
       "  </tbody>\n",
       "</table>\n",
       "</div>"
      ],
      "text/plain": [
       "                                       Name  Year            kind  \\\n",
       "899        National Geographic: Inside 9/11  2004  tv mini series   \n",
       "1467           The Secret Life of the Brain  2002  tv mini series   \n",
       "1743  Joseph Campbell and the Power of Myth  1988  tv mini series   \n",
       "2035             Navy SEALs: BUDS Class 234  2000  tv mini series   \n",
       "2640                  Pregnancy for Dummies  2001  tv mini series   \n",
       "\n",
       "                genre  imdb_rating    vote            country     language  \\\n",
       "899   ['Documentary']          8.0   489.0  ['United States']  ['English']   \n",
       "1467  ['Documentary']          7.5    73.0  ['United States']  ['English']   \n",
       "1743  ['Documentary']          8.9  1029.0  ['United States']  ['English']   \n",
       "2035  ['Documentary']          8.5   466.0  ['United States']  ['English']   \n",
       "2640  ['Documentary']          7.7    11.0  ['United States']  ['English']   \n",
       "\n",
       "                                                   cast director composer  \\\n",
       "899   ['Rohan Gunaratna', 'Terry McDermott', 'Patric...      NaN      NaN   \n",
       "1467  ['Blair Brown', 'Heidelise Als', 'Frank Duffy'...      NaN      NaN   \n",
       "1743  ['Joseph Campbell', 'Bill Moyers', 'George Luc...      NaN      NaN   \n",
       "2035                                                NaN      NaN      NaN   \n",
       "2640                                  ['Leora Randall']      NaN      NaN   \n",
       "\n",
       "                                                 writer  runtime  \n",
       "899   ['Michael Bronner', 'Kristen Akers Gozdecki', ...    104.0  \n",
       "1467    ['Edward Gray', 'David Grubin', 'Tom Jennings']     68.0  \n",
       "1743                                                NaN     31.0  \n",
       "2035                              ['Gordon Forbes III']    101.0  \n",
       "2640                                    ['J.M. Stifle']      3.0  "
      ]
     },
     "execution_count": 99,
     "metadata": {},
     "output_type": "execute_result"
    }
   ],
   "source": [
    "# Print the similar movies for the first test sample\n",
    "test_sample_index = 0  # Index of the first test sample\n",
    "test_sample_name = test_data.iloc[test_sample_index]['Name']  # Name of the first test sample\n",
    "print(f\"Similar movies for test sample '{test_sample_name}':\")\n",
    "similar_movie_set.head()\n"
   ]
  },
  {
   "cell_type": "code",
   "execution_count": null,
   "id": "cc52611d-58b4-4744-9ae3-b5fbac47b5bb",
   "metadata": {},
   "outputs": [],
   "source": []
  }
 ],
 "metadata": {
  "kernelspec": {
   "display_name": "DS320 (Python3.10)",
   "language": "python",
   "name": "ds320"
  },
  "language_info": {
   "codemirror_mode": {
    "name": "ipython",
    "version": 3
   },
   "file_extension": ".py",
   "mimetype": "text/x-python",
   "name": "python",
   "nbconvert_exporter": "python",
   "pygments_lexer": "ipython3",
   "version": "3.10.8"
  }
 },
 "nbformat": 4,
 "nbformat_minor": 5
}
